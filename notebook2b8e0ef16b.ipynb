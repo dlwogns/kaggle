{
 "cells": [
  {
   "cell_type": "code",
   "execution_count": 1,
   "id": "f7d66265",
   "metadata": {
    "_cell_guid": "b1076dfc-b9ad-4769-8c92-a6c4dae69d19",
    "_uuid": "8f2839f25d086af736a60e9eeb907d3b93b6e0e5",
    "execution": {
     "iopub.execute_input": "2021-10-23T07:18:47.058234Z",
     "iopub.status.busy": "2021-10-23T07:18:47.056891Z",
     "iopub.status.idle": "2021-10-23T07:18:47.070114Z",
     "shell.execute_reply": "2021-10-23T07:18:47.070714Z",
     "shell.execute_reply.started": "2021-10-23T07:16:17.442704Z"
    },
    "papermill": {
     "duration": 0.043028,
     "end_time": "2021-10-23T07:18:47.070978",
     "exception": false,
     "start_time": "2021-10-23T07:18:47.027950",
     "status": "completed"
    },
    "tags": []
   },
   "outputs": [
    {
     "name": "stdout",
     "output_type": "stream",
     "text": [
      "/kaggle/input/titanic/train.csv\n",
      "/kaggle/input/titanic/test.csv\n",
      "/kaggle/input/titanic/gender_submission.csv\n"
     ]
    }
   ],
   "source": [
    "# This Python 3 environment comes with many helpful analytics libraries installed\n",
    "# It is defined by the kaggle/python Docker image: https://github.com/kaggle/docker-python\n",
    "# For example, here's several helpful packages to load\n",
    "\n",
    "import numpy as np # linear algebra\n",
    "import pandas as pd # data processing, CSV file I/O (e.g. pd.read_csv)\n",
    "\n",
    "# Input data files are available in the read-only \"../input/\" directory\n",
    "# For example, running this (by clicking run or pressing Shift+Enter) will list all files under the input directory\n",
    "\n",
    "import os\n",
    "for dirname, _, filenames in os.walk('/kaggle/input'):\n",
    "    for filename in filenames:\n",
    "        print(os.path.join(dirname, filename))\n",
    "\n",
    "# You can write up to 20GB to the current directory (/kaggle/working/) that gets preserved as output when you create a version using \"Save & Run All\" \n",
    "# You can also write temporary files to /kaggle/temp/, but they won't be saved outside of the current session"
   ]
  },
  {
   "cell_type": "code",
   "execution_count": 2,
   "id": "d8cd0a94",
   "metadata": {
    "execution": {
     "iopub.execute_input": "2021-10-23T07:18:47.121455Z",
     "iopub.status.busy": "2021-10-23T07:18:47.120774Z",
     "iopub.status.idle": "2021-10-23T07:18:47.123644Z",
     "shell.execute_reply": "2021-10-23T07:18:47.124180Z",
     "shell.execute_reply.started": "2021-10-23T07:16:17.456776Z"
    },
    "papermill": {
     "duration": 0.028927,
     "end_time": "2021-10-23T07:18:47.124366",
     "exception": false,
     "start_time": "2021-10-23T07:18:47.095439",
     "status": "completed"
    },
    "tags": []
   },
   "outputs": [],
   "source": [
    "import numpy as np\n",
    "import pandas as pd"
   ]
  },
  {
   "cell_type": "code",
   "execution_count": 3,
   "id": "c7666f91",
   "metadata": {
    "execution": {
     "iopub.execute_input": "2021-10-23T07:18:47.174074Z",
     "iopub.status.busy": "2021-10-23T07:18:47.173399Z",
     "iopub.status.idle": "2021-10-23T07:18:47.944808Z",
     "shell.execute_reply": "2021-10-23T07:18:47.945336Z",
     "shell.execute_reply.started": "2021-10-23T07:16:17.464896Z"
    },
    "papermill": {
     "duration": 0.797884,
     "end_time": "2021-10-23T07:18:47.945524",
     "exception": false,
     "start_time": "2021-10-23T07:18:47.147640",
     "status": "completed"
    },
    "tags": []
   },
   "outputs": [
    {
     "name": "stdout",
     "output_type": "stream",
     "text": [
      "gender_submission.csv  test.csv  train.csv\r\n"
     ]
    }
   ],
   "source": [
    "!ls ../input/titanic"
   ]
  },
  {
   "cell_type": "code",
   "execution_count": 4,
   "id": "485a3b2f",
   "metadata": {
    "execution": {
     "iopub.execute_input": "2021-10-23T07:18:47.994660Z",
     "iopub.status.busy": "2021-10-23T07:18:47.994036Z",
     "iopub.status.idle": "2021-10-23T07:18:48.029403Z",
     "shell.execute_reply": "2021-10-23T07:18:48.029921Z",
     "shell.execute_reply.started": "2021-10-23T07:16:18.272056Z"
    },
    "papermill": {
     "duration": 0.061089,
     "end_time": "2021-10-23T07:18:48.030098",
     "exception": false,
     "start_time": "2021-10-23T07:18:47.969009",
     "status": "completed"
    },
    "tags": []
   },
   "outputs": [],
   "source": [
    "train = pd.read_csv('../input/titanic/train.csv')\n",
    "test = pd.read_csv('../input/titanic/test.csv')\n",
    "gender_submission = pd.read_csv('../input/titanic/gender_submission.csv')"
   ]
  },
  {
   "cell_type": "code",
   "execution_count": 5,
   "id": "74f9df8d",
   "metadata": {
    "execution": {
     "iopub.execute_input": "2021-10-23T07:18:48.078764Z",
     "iopub.status.busy": "2021-10-23T07:18:48.078064Z",
     "iopub.status.idle": "2021-10-23T07:18:48.096052Z",
     "shell.execute_reply": "2021-10-23T07:18:48.096560Z",
     "shell.execute_reply.started": "2021-10-23T07:16:18.300425Z"
    },
    "papermill": {
     "duration": 0.044119,
     "end_time": "2021-10-23T07:18:48.096724",
     "exception": false,
     "start_time": "2021-10-23T07:18:48.052605",
     "status": "completed"
    },
    "tags": []
   },
   "outputs": [
    {
     "data": {
      "text/html": [
       "<div>\n",
       "<style scoped>\n",
       "    .dataframe tbody tr th:only-of-type {\n",
       "        vertical-align: middle;\n",
       "    }\n",
       "\n",
       "    .dataframe tbody tr th {\n",
       "        vertical-align: top;\n",
       "    }\n",
       "\n",
       "    .dataframe thead th {\n",
       "        text-align: right;\n",
       "    }\n",
       "</style>\n",
       "<table border=\"1\" class=\"dataframe\">\n",
       "  <thead>\n",
       "    <tr style=\"text-align: right;\">\n",
       "      <th></th>\n",
       "      <th>PassengerId</th>\n",
       "      <th>Survived</th>\n",
       "    </tr>\n",
       "  </thead>\n",
       "  <tbody>\n",
       "    <tr>\n",
       "      <th>0</th>\n",
       "      <td>892</td>\n",
       "      <td>0</td>\n",
       "    </tr>\n",
       "    <tr>\n",
       "      <th>1</th>\n",
       "      <td>893</td>\n",
       "      <td>1</td>\n",
       "    </tr>\n",
       "    <tr>\n",
       "      <th>2</th>\n",
       "      <td>894</td>\n",
       "      <td>0</td>\n",
       "    </tr>\n",
       "    <tr>\n",
       "      <th>3</th>\n",
       "      <td>895</td>\n",
       "      <td>0</td>\n",
       "    </tr>\n",
       "    <tr>\n",
       "      <th>4</th>\n",
       "      <td>896</td>\n",
       "      <td>1</td>\n",
       "    </tr>\n",
       "  </tbody>\n",
       "</table>\n",
       "</div>"
      ],
      "text/plain": [
       "   PassengerId  Survived\n",
       "0          892         0\n",
       "1          893         1\n",
       "2          894         0\n",
       "3          895         0\n",
       "4          896         1"
      ]
     },
     "execution_count": 5,
     "metadata": {},
     "output_type": "execute_result"
    }
   ],
   "source": [
    "gender_submission.head()"
   ]
  },
  {
   "cell_type": "code",
   "execution_count": 6,
   "id": "db0a25d0",
   "metadata": {
    "execution": {
     "iopub.execute_input": "2021-10-23T07:18:48.145446Z",
     "iopub.status.busy": "2021-10-23T07:18:48.144788Z",
     "iopub.status.idle": "2021-10-23T07:18:48.161202Z",
     "shell.execute_reply": "2021-10-23T07:18:48.161674Z",
     "shell.execute_reply.started": "2021-10-23T07:16:18.313611Z"
    },
    "papermill": {
     "duration": 0.04216,
     "end_time": "2021-10-23T07:18:48.161857",
     "exception": false,
     "start_time": "2021-10-23T07:18:48.119697",
     "status": "completed"
    },
    "tags": []
   },
   "outputs": [
    {
     "data": {
      "text/html": [
       "<div>\n",
       "<style scoped>\n",
       "    .dataframe tbody tr th:only-of-type {\n",
       "        vertical-align: middle;\n",
       "    }\n",
       "\n",
       "    .dataframe tbody tr th {\n",
       "        vertical-align: top;\n",
       "    }\n",
       "\n",
       "    .dataframe thead th {\n",
       "        text-align: right;\n",
       "    }\n",
       "</style>\n",
       "<table border=\"1\" class=\"dataframe\">\n",
       "  <thead>\n",
       "    <tr style=\"text-align: right;\">\n",
       "      <th></th>\n",
       "      <th>PassengerId</th>\n",
       "      <th>Survived</th>\n",
       "      <th>Pclass</th>\n",
       "      <th>Name</th>\n",
       "      <th>Sex</th>\n",
       "      <th>Age</th>\n",
       "      <th>SibSp</th>\n",
       "      <th>Parch</th>\n",
       "      <th>Ticket</th>\n",
       "      <th>Fare</th>\n",
       "      <th>Cabin</th>\n",
       "      <th>Embarked</th>\n",
       "    </tr>\n",
       "  </thead>\n",
       "  <tbody>\n",
       "    <tr>\n",
       "      <th>0</th>\n",
       "      <td>1</td>\n",
       "      <td>0</td>\n",
       "      <td>3</td>\n",
       "      <td>Braund, Mr. Owen Harris</td>\n",
       "      <td>male</td>\n",
       "      <td>22.0</td>\n",
       "      <td>1</td>\n",
       "      <td>0</td>\n",
       "      <td>A/5 21171</td>\n",
       "      <td>7.2500</td>\n",
       "      <td>NaN</td>\n",
       "      <td>S</td>\n",
       "    </tr>\n",
       "    <tr>\n",
       "      <th>1</th>\n",
       "      <td>2</td>\n",
       "      <td>1</td>\n",
       "      <td>1</td>\n",
       "      <td>Cumings, Mrs. John Bradley (Florence Briggs Th...</td>\n",
       "      <td>female</td>\n",
       "      <td>38.0</td>\n",
       "      <td>1</td>\n",
       "      <td>0</td>\n",
       "      <td>PC 17599</td>\n",
       "      <td>71.2833</td>\n",
       "      <td>C85</td>\n",
       "      <td>C</td>\n",
       "    </tr>\n",
       "    <tr>\n",
       "      <th>2</th>\n",
       "      <td>3</td>\n",
       "      <td>1</td>\n",
       "      <td>3</td>\n",
       "      <td>Heikkinen, Miss. Laina</td>\n",
       "      <td>female</td>\n",
       "      <td>26.0</td>\n",
       "      <td>0</td>\n",
       "      <td>0</td>\n",
       "      <td>STON/O2. 3101282</td>\n",
       "      <td>7.9250</td>\n",
       "      <td>NaN</td>\n",
       "      <td>S</td>\n",
       "    </tr>\n",
       "    <tr>\n",
       "      <th>3</th>\n",
       "      <td>4</td>\n",
       "      <td>1</td>\n",
       "      <td>1</td>\n",
       "      <td>Futrelle, Mrs. Jacques Heath (Lily May Peel)</td>\n",
       "      <td>female</td>\n",
       "      <td>35.0</td>\n",
       "      <td>1</td>\n",
       "      <td>0</td>\n",
       "      <td>113803</td>\n",
       "      <td>53.1000</td>\n",
       "      <td>C123</td>\n",
       "      <td>S</td>\n",
       "    </tr>\n",
       "    <tr>\n",
       "      <th>4</th>\n",
       "      <td>5</td>\n",
       "      <td>0</td>\n",
       "      <td>3</td>\n",
       "      <td>Allen, Mr. William Henry</td>\n",
       "      <td>male</td>\n",
       "      <td>35.0</td>\n",
       "      <td>0</td>\n",
       "      <td>0</td>\n",
       "      <td>373450</td>\n",
       "      <td>8.0500</td>\n",
       "      <td>NaN</td>\n",
       "      <td>S</td>\n",
       "    </tr>\n",
       "  </tbody>\n",
       "</table>\n",
       "</div>"
      ],
      "text/plain": [
       "   PassengerId  Survived  Pclass  \\\n",
       "0            1         0       3   \n",
       "1            2         1       1   \n",
       "2            3         1       3   \n",
       "3            4         1       1   \n",
       "4            5         0       3   \n",
       "\n",
       "                                                Name     Sex   Age  SibSp  \\\n",
       "0                            Braund, Mr. Owen Harris    male  22.0      1   \n",
       "1  Cumings, Mrs. John Bradley (Florence Briggs Th...  female  38.0      1   \n",
       "2                             Heikkinen, Miss. Laina  female  26.0      0   \n",
       "3       Futrelle, Mrs. Jacques Heath (Lily May Peel)  female  35.0      1   \n",
       "4                           Allen, Mr. William Henry    male  35.0      0   \n",
       "\n",
       "   Parch            Ticket     Fare Cabin Embarked  \n",
       "0      0         A/5 21171   7.2500   NaN        S  \n",
       "1      0          PC 17599  71.2833   C85        C  \n",
       "2      0  STON/O2. 3101282   7.9250   NaN        S  \n",
       "3      0            113803  53.1000  C123        S  \n",
       "4      0            373450   8.0500   NaN        S  "
      ]
     },
     "execution_count": 6,
     "metadata": {},
     "output_type": "execute_result"
    }
   ],
   "source": [
    "train.head()"
   ]
  },
  {
   "cell_type": "code",
   "execution_count": 7,
   "id": "bc973a7f",
   "metadata": {
    "execution": {
     "iopub.execute_input": "2021-10-23T07:18:48.228265Z",
     "iopub.status.busy": "2021-10-23T07:18:48.227214Z",
     "iopub.status.idle": "2021-10-23T07:18:48.231269Z",
     "shell.execute_reply": "2021-10-23T07:18:48.231933Z",
     "shell.execute_reply.started": "2021-10-23T07:16:18.331392Z"
    },
    "papermill": {
     "duration": 0.04697,
     "end_time": "2021-10-23T07:18:48.232134",
     "exception": false,
     "start_time": "2021-10-23T07:18:48.185164",
     "status": "completed"
    },
    "tags": []
   },
   "outputs": [
    {
     "data": {
      "text/html": [
       "<div>\n",
       "<style scoped>\n",
       "    .dataframe tbody tr th:only-of-type {\n",
       "        vertical-align: middle;\n",
       "    }\n",
       "\n",
       "    .dataframe tbody tr th {\n",
       "        vertical-align: top;\n",
       "    }\n",
       "\n",
       "    .dataframe thead th {\n",
       "        text-align: right;\n",
       "    }\n",
       "</style>\n",
       "<table border=\"1\" class=\"dataframe\">\n",
       "  <thead>\n",
       "    <tr style=\"text-align: right;\">\n",
       "      <th></th>\n",
       "      <th>PassengerId</th>\n",
       "      <th>Pclass</th>\n",
       "      <th>Name</th>\n",
       "      <th>Sex</th>\n",
       "      <th>Age</th>\n",
       "      <th>SibSp</th>\n",
       "      <th>Parch</th>\n",
       "      <th>Ticket</th>\n",
       "      <th>Fare</th>\n",
       "      <th>Cabin</th>\n",
       "      <th>Embarked</th>\n",
       "    </tr>\n",
       "  </thead>\n",
       "  <tbody>\n",
       "    <tr>\n",
       "      <th>0</th>\n",
       "      <td>892</td>\n",
       "      <td>3</td>\n",
       "      <td>Kelly, Mr. James</td>\n",
       "      <td>male</td>\n",
       "      <td>34.5</td>\n",
       "      <td>0</td>\n",
       "      <td>0</td>\n",
       "      <td>330911</td>\n",
       "      <td>7.8292</td>\n",
       "      <td>NaN</td>\n",
       "      <td>Q</td>\n",
       "    </tr>\n",
       "    <tr>\n",
       "      <th>1</th>\n",
       "      <td>893</td>\n",
       "      <td>3</td>\n",
       "      <td>Wilkes, Mrs. James (Ellen Needs)</td>\n",
       "      <td>female</td>\n",
       "      <td>47.0</td>\n",
       "      <td>1</td>\n",
       "      <td>0</td>\n",
       "      <td>363272</td>\n",
       "      <td>7.0000</td>\n",
       "      <td>NaN</td>\n",
       "      <td>S</td>\n",
       "    </tr>\n",
       "    <tr>\n",
       "      <th>2</th>\n",
       "      <td>894</td>\n",
       "      <td>2</td>\n",
       "      <td>Myles, Mr. Thomas Francis</td>\n",
       "      <td>male</td>\n",
       "      <td>62.0</td>\n",
       "      <td>0</td>\n",
       "      <td>0</td>\n",
       "      <td>240276</td>\n",
       "      <td>9.6875</td>\n",
       "      <td>NaN</td>\n",
       "      <td>Q</td>\n",
       "    </tr>\n",
       "    <tr>\n",
       "      <th>3</th>\n",
       "      <td>895</td>\n",
       "      <td>3</td>\n",
       "      <td>Wirz, Mr. Albert</td>\n",
       "      <td>male</td>\n",
       "      <td>27.0</td>\n",
       "      <td>0</td>\n",
       "      <td>0</td>\n",
       "      <td>315154</td>\n",
       "      <td>8.6625</td>\n",
       "      <td>NaN</td>\n",
       "      <td>S</td>\n",
       "    </tr>\n",
       "    <tr>\n",
       "      <th>4</th>\n",
       "      <td>896</td>\n",
       "      <td>3</td>\n",
       "      <td>Hirvonen, Mrs. Alexander (Helga E Lindqvist)</td>\n",
       "      <td>female</td>\n",
       "      <td>22.0</td>\n",
       "      <td>1</td>\n",
       "      <td>1</td>\n",
       "      <td>3101298</td>\n",
       "      <td>12.2875</td>\n",
       "      <td>NaN</td>\n",
       "      <td>S</td>\n",
       "    </tr>\n",
       "  </tbody>\n",
       "</table>\n",
       "</div>"
      ],
      "text/plain": [
       "   PassengerId  Pclass                                          Name     Sex  \\\n",
       "0          892       3                              Kelly, Mr. James    male   \n",
       "1          893       3              Wilkes, Mrs. James (Ellen Needs)  female   \n",
       "2          894       2                     Myles, Mr. Thomas Francis    male   \n",
       "3          895       3                              Wirz, Mr. Albert    male   \n",
       "4          896       3  Hirvonen, Mrs. Alexander (Helga E Lindqvist)  female   \n",
       "\n",
       "    Age  SibSp  Parch   Ticket     Fare Cabin Embarked  \n",
       "0  34.5      0      0   330911   7.8292   NaN        Q  \n",
       "1  47.0      1      0   363272   7.0000   NaN        S  \n",
       "2  62.0      0      0   240276   9.6875   NaN        Q  \n",
       "3  27.0      0      0   315154   8.6625   NaN        S  \n",
       "4  22.0      1      1  3101298  12.2875   NaN        S  "
      ]
     },
     "execution_count": 7,
     "metadata": {},
     "output_type": "execute_result"
    }
   ],
   "source": [
    "test.head()"
   ]
  },
  {
   "cell_type": "code",
   "execution_count": 8,
   "id": "efedf2f2",
   "metadata": {
    "execution": {
     "iopub.execute_input": "2021-10-23T07:18:48.303734Z",
     "iopub.status.busy": "2021-10-23T07:18:48.299330Z",
     "iopub.status.idle": "2021-10-23T07:18:48.312074Z",
     "shell.execute_reply": "2021-10-23T07:18:48.312969Z",
     "shell.execute_reply.started": "2021-10-23T07:16:18.352752Z"
    },
    "papermill": {
     "duration": 0.050203,
     "end_time": "2021-10-23T07:18:48.313237",
     "exception": false,
     "start_time": "2021-10-23T07:18:48.263034",
     "status": "completed"
    },
    "tags": []
   },
   "outputs": [],
   "source": [
    "data = pd.concat([train, test], sort=False)"
   ]
  },
  {
   "cell_type": "code",
   "execution_count": 9,
   "id": "6a8c08f8",
   "metadata": {
    "execution": {
     "iopub.execute_input": "2021-10-23T07:18:48.366404Z",
     "iopub.status.busy": "2021-10-23T07:18:48.365736Z",
     "iopub.status.idle": "2021-10-23T07:18:48.382933Z",
     "shell.execute_reply": "2021-10-23T07:18:48.383556Z",
     "shell.execute_reply.started": "2021-10-23T07:16:18.364058Z"
    },
    "papermill": {
     "duration": 0.044835,
     "end_time": "2021-10-23T07:18:48.383759",
     "exception": false,
     "start_time": "2021-10-23T07:18:48.338924",
     "status": "completed"
    },
    "tags": []
   },
   "outputs": [
    {
     "data": {
      "text/html": [
       "<div>\n",
       "<style scoped>\n",
       "    .dataframe tbody tr th:only-of-type {\n",
       "        vertical-align: middle;\n",
       "    }\n",
       "\n",
       "    .dataframe tbody tr th {\n",
       "        vertical-align: top;\n",
       "    }\n",
       "\n",
       "    .dataframe thead th {\n",
       "        text-align: right;\n",
       "    }\n",
       "</style>\n",
       "<table border=\"1\" class=\"dataframe\">\n",
       "  <thead>\n",
       "    <tr style=\"text-align: right;\">\n",
       "      <th></th>\n",
       "      <th>PassengerId</th>\n",
       "      <th>Survived</th>\n",
       "      <th>Pclass</th>\n",
       "      <th>Name</th>\n",
       "      <th>Sex</th>\n",
       "      <th>Age</th>\n",
       "      <th>SibSp</th>\n",
       "      <th>Parch</th>\n",
       "      <th>Ticket</th>\n",
       "      <th>Fare</th>\n",
       "      <th>Cabin</th>\n",
       "      <th>Embarked</th>\n",
       "    </tr>\n",
       "  </thead>\n",
       "  <tbody>\n",
       "    <tr>\n",
       "      <th>0</th>\n",
       "      <td>1</td>\n",
       "      <td>0.0</td>\n",
       "      <td>3</td>\n",
       "      <td>Braund, Mr. Owen Harris</td>\n",
       "      <td>male</td>\n",
       "      <td>22.0</td>\n",
       "      <td>1</td>\n",
       "      <td>0</td>\n",
       "      <td>A/5 21171</td>\n",
       "      <td>7.2500</td>\n",
       "      <td>NaN</td>\n",
       "      <td>S</td>\n",
       "    </tr>\n",
       "    <tr>\n",
       "      <th>1</th>\n",
       "      <td>2</td>\n",
       "      <td>1.0</td>\n",
       "      <td>1</td>\n",
       "      <td>Cumings, Mrs. John Bradley (Florence Briggs Th...</td>\n",
       "      <td>female</td>\n",
       "      <td>38.0</td>\n",
       "      <td>1</td>\n",
       "      <td>0</td>\n",
       "      <td>PC 17599</td>\n",
       "      <td>71.2833</td>\n",
       "      <td>C85</td>\n",
       "      <td>C</td>\n",
       "    </tr>\n",
       "    <tr>\n",
       "      <th>2</th>\n",
       "      <td>3</td>\n",
       "      <td>1.0</td>\n",
       "      <td>3</td>\n",
       "      <td>Heikkinen, Miss. Laina</td>\n",
       "      <td>female</td>\n",
       "      <td>26.0</td>\n",
       "      <td>0</td>\n",
       "      <td>0</td>\n",
       "      <td>STON/O2. 3101282</td>\n",
       "      <td>7.9250</td>\n",
       "      <td>NaN</td>\n",
       "      <td>S</td>\n",
       "    </tr>\n",
       "    <tr>\n",
       "      <th>3</th>\n",
       "      <td>4</td>\n",
       "      <td>1.0</td>\n",
       "      <td>1</td>\n",
       "      <td>Futrelle, Mrs. Jacques Heath (Lily May Peel)</td>\n",
       "      <td>female</td>\n",
       "      <td>35.0</td>\n",
       "      <td>1</td>\n",
       "      <td>0</td>\n",
       "      <td>113803</td>\n",
       "      <td>53.1000</td>\n",
       "      <td>C123</td>\n",
       "      <td>S</td>\n",
       "    </tr>\n",
       "    <tr>\n",
       "      <th>4</th>\n",
       "      <td>5</td>\n",
       "      <td>0.0</td>\n",
       "      <td>3</td>\n",
       "      <td>Allen, Mr. William Henry</td>\n",
       "      <td>male</td>\n",
       "      <td>35.0</td>\n",
       "      <td>0</td>\n",
       "      <td>0</td>\n",
       "      <td>373450</td>\n",
       "      <td>8.0500</td>\n",
       "      <td>NaN</td>\n",
       "      <td>S</td>\n",
       "    </tr>\n",
       "  </tbody>\n",
       "</table>\n",
       "</div>"
      ],
      "text/plain": [
       "   PassengerId  Survived  Pclass  \\\n",
       "0            1       0.0       3   \n",
       "1            2       1.0       1   \n",
       "2            3       1.0       3   \n",
       "3            4       1.0       1   \n",
       "4            5       0.0       3   \n",
       "\n",
       "                                                Name     Sex   Age  SibSp  \\\n",
       "0                            Braund, Mr. Owen Harris    male  22.0      1   \n",
       "1  Cumings, Mrs. John Bradley (Florence Briggs Th...  female  38.0      1   \n",
       "2                             Heikkinen, Miss. Laina  female  26.0      0   \n",
       "3       Futrelle, Mrs. Jacques Heath (Lily May Peel)  female  35.0      1   \n",
       "4                           Allen, Mr. William Henry    male  35.0      0   \n",
       "\n",
       "   Parch            Ticket     Fare Cabin Embarked  \n",
       "0      0         A/5 21171   7.2500   NaN        S  \n",
       "1      0          PC 17599  71.2833   C85        C  \n",
       "2      0  STON/O2. 3101282   7.9250   NaN        S  \n",
       "3      0            113803  53.1000  C123        S  \n",
       "4      0            373450   8.0500   NaN        S  "
      ]
     },
     "execution_count": 9,
     "metadata": {},
     "output_type": "execute_result"
    }
   ],
   "source": [
    "data.head()"
   ]
  },
  {
   "cell_type": "code",
   "execution_count": 10,
   "id": "7ab8f475",
   "metadata": {
    "execution": {
     "iopub.execute_input": "2021-10-23T07:18:48.441965Z",
     "iopub.status.busy": "2021-10-23T07:18:48.441211Z",
     "iopub.status.idle": "2021-10-23T07:18:48.444346Z",
     "shell.execute_reply": "2021-10-23T07:18:48.443786Z",
     "shell.execute_reply.started": "2021-10-23T07:16:18.385141Z"
    },
    "papermill": {
     "duration": 0.034394,
     "end_time": "2021-10-23T07:18:48.444483",
     "exception": false,
     "start_time": "2021-10-23T07:18:48.410089",
     "status": "completed"
    },
    "tags": []
   },
   "outputs": [
    {
     "name": "stdout",
     "output_type": "stream",
     "text": [
      "891 418 1309\n"
     ]
    }
   ],
   "source": [
    "print(len(train), len(test), len(data))"
   ]
  },
  {
   "cell_type": "code",
   "execution_count": 11,
   "id": "d77e38fe",
   "metadata": {
    "execution": {
     "iopub.execute_input": "2021-10-23T07:18:48.499864Z",
     "iopub.status.busy": "2021-10-23T07:18:48.499194Z",
     "iopub.status.idle": "2021-10-23T07:18:48.507468Z",
     "shell.execute_reply": "2021-10-23T07:18:48.506935Z",
     "shell.execute_reply.started": "2021-10-23T07:16:18.391657Z"
    },
    "papermill": {
     "duration": 0.037347,
     "end_time": "2021-10-23T07:18:48.507614",
     "exception": false,
     "start_time": "2021-10-23T07:18:48.470267",
     "status": "completed"
    },
    "tags": []
   },
   "outputs": [
    {
     "data": {
      "text/plain": [
       "PassengerId       0\n",
       "Survived        418\n",
       "Pclass            0\n",
       "Name              0\n",
       "Sex               0\n",
       "Age             263\n",
       "SibSp             0\n",
       "Parch             0\n",
       "Ticket            0\n",
       "Fare              1\n",
       "Cabin          1014\n",
       "Embarked          2\n",
       "dtype: int64"
      ]
     },
     "execution_count": 11,
     "metadata": {},
     "output_type": "execute_result"
    }
   ],
   "source": [
    "data.isnull().sum()"
   ]
  },
  {
   "cell_type": "code",
   "execution_count": 12,
   "id": "fb4fe673",
   "metadata": {
    "execution": {
     "iopub.execute_input": "2021-10-23T07:18:48.563772Z",
     "iopub.status.busy": "2021-10-23T07:18:48.562902Z",
     "iopub.status.idle": "2021-10-23T07:18:48.570761Z",
     "shell.execute_reply": "2021-10-23T07:18:48.571386Z",
     "shell.execute_reply.started": "2021-10-23T07:17:00.197582Z"
    },
    "papermill": {
     "duration": 0.037711,
     "end_time": "2021-10-23T07:18:48.571563",
     "exception": false,
     "start_time": "2021-10-23T07:18:48.533852",
     "status": "completed"
    },
    "tags": []
   },
   "outputs": [],
   "source": [
    "data['Sex'].replace(['male', 'female'], [0, 1], inplace=True)"
   ]
  },
  {
   "cell_type": "code",
   "execution_count": 13,
   "id": "1d7d2a84",
   "metadata": {
    "execution": {
     "iopub.execute_input": "2021-10-23T07:18:48.626599Z",
     "iopub.status.busy": "2021-10-23T07:18:48.625951Z",
     "iopub.status.idle": "2021-10-23T07:18:48.634151Z",
     "shell.execute_reply": "2021-10-23T07:18:48.634736Z",
     "shell.execute_reply.started": "2021-10-23T07:17:05.282513Z"
    },
    "papermill": {
     "duration": 0.03623,
     "end_time": "2021-10-23T07:18:48.634886",
     "exception": false,
     "start_time": "2021-10-23T07:18:48.598656",
     "status": "completed"
    },
    "tags": []
   },
   "outputs": [],
   "source": [
    "data['Embarked'].fillna(('S'), inplace=True)\n",
    "data['Embarked'] = data['Embarked'].map({'S': 0, 'C': 1, 'Q': 2}).astype(int)"
   ]
  },
  {
   "cell_type": "code",
   "execution_count": 14,
   "id": "8e99bf31",
   "metadata": {
    "execution": {
     "iopub.execute_input": "2021-10-23T07:18:48.688028Z",
     "iopub.status.busy": "2021-10-23T07:18:48.687443Z",
     "iopub.status.idle": "2021-10-23T07:18:48.691618Z",
     "shell.execute_reply": "2021-10-23T07:18:48.692240Z",
     "shell.execute_reply.started": "2021-10-23T07:17:10.156864Z"
    },
    "papermill": {
     "duration": 0.032173,
     "end_time": "2021-10-23T07:18:48.692393",
     "exception": false,
     "start_time": "2021-10-23T07:18:48.660220",
     "status": "completed"
    },
    "tags": []
   },
   "outputs": [],
   "source": [
    "data['Fare'].fillna(np.mean(data['Fare']), inplace=True)"
   ]
  },
  {
   "cell_type": "code",
   "execution_count": 15,
   "id": "f88c4d76",
   "metadata": {
    "execution": {
     "iopub.execute_input": "2021-10-23T07:18:48.746864Z",
     "iopub.status.busy": "2021-10-23T07:18:48.746227Z",
     "iopub.status.idle": "2021-10-23T07:18:48.751239Z",
     "shell.execute_reply": "2021-10-23T07:18:48.751803Z",
     "shell.execute_reply.started": "2021-10-23T07:17:17.978835Z"
    },
    "papermill": {
     "duration": 0.03419,
     "end_time": "2021-10-23T07:18:48.751960",
     "exception": false,
     "start_time": "2021-10-23T07:18:48.717770",
     "status": "completed"
    },
    "tags": []
   },
   "outputs": [],
   "source": [
    "age_avg = data['Age'].mean()\n",
    "age_std = data['Age'].std()\n",
    "\n",
    "data['Age'].fillna(np.random.randint(age_avg - age_std, age_avg + age_std), inplace=True)"
   ]
  },
  {
   "cell_type": "code",
   "execution_count": 16,
   "id": "7589f30f",
   "metadata": {
    "execution": {
     "iopub.execute_input": "2021-10-23T07:18:48.809373Z",
     "iopub.status.busy": "2021-10-23T07:18:48.808652Z",
     "iopub.status.idle": "2021-10-23T07:18:48.811699Z",
     "shell.execute_reply": "2021-10-23T07:18:48.812337Z",
     "shell.execute_reply.started": "2021-10-23T07:17:28.745638Z"
    },
    "papermill": {
     "duration": 0.034751,
     "end_time": "2021-10-23T07:18:48.812519",
     "exception": false,
     "start_time": "2021-10-23T07:18:48.777768",
     "status": "completed"
    },
    "tags": []
   },
   "outputs": [],
   "source": [
    "delete_columns = ['Name', 'PassengerId', 'SibSp', 'Parch', 'Ticket', 'Cabin']\n",
    "data.drop(delete_columns, axis=1, inplace=True)"
   ]
  },
  {
   "cell_type": "code",
   "execution_count": 17,
   "id": "e8a760e5",
   "metadata": {
    "execution": {
     "iopub.execute_input": "2021-10-23T07:18:48.868469Z",
     "iopub.status.busy": "2021-10-23T07:18:48.867818Z",
     "iopub.status.idle": "2021-10-23T07:18:48.871730Z",
     "shell.execute_reply": "2021-10-23T07:18:48.872409Z",
     "shell.execute_reply.started": "2021-10-23T07:17:34.840023Z"
    },
    "papermill": {
     "duration": 0.033151,
     "end_time": "2021-10-23T07:18:48.872590",
     "exception": false,
     "start_time": "2021-10-23T07:18:48.839439",
     "status": "completed"
    },
    "tags": []
   },
   "outputs": [],
   "source": [
    "train = data[:len(train)]\n",
    "test = data[len(train):]"
   ]
  },
  {
   "cell_type": "code",
   "execution_count": 18,
   "id": "498bdd44",
   "metadata": {
    "execution": {
     "iopub.execute_input": "2021-10-23T07:18:48.930169Z",
     "iopub.status.busy": "2021-10-23T07:18:48.929528Z",
     "iopub.status.idle": "2021-10-23T07:18:48.934955Z",
     "shell.execute_reply": "2021-10-23T07:18:48.935470Z",
     "shell.execute_reply.started": "2021-10-23T07:17:40.495838Z"
    },
    "papermill": {
     "duration": 0.036239,
     "end_time": "2021-10-23T07:18:48.935649",
     "exception": false,
     "start_time": "2021-10-23T07:18:48.899410",
     "status": "completed"
    },
    "tags": []
   },
   "outputs": [],
   "source": [
    "y_train = train['Survived']\n",
    "X_train = train.drop('Survived', axis=1)\n",
    "X_test = test.drop('Survived', axis=1)"
   ]
  },
  {
   "cell_type": "code",
   "execution_count": 19,
   "id": "b6321ad0",
   "metadata": {
    "execution": {
     "iopub.execute_input": "2021-10-23T07:18:48.988000Z",
     "iopub.status.busy": "2021-10-23T07:18:48.987416Z",
     "iopub.status.idle": "2021-10-23T07:18:48.996604Z",
     "shell.execute_reply": "2021-10-23T07:18:48.997111Z",
     "shell.execute_reply.started": "2021-10-23T07:17:45.483908Z"
    },
    "papermill": {
     "duration": 0.036672,
     "end_time": "2021-10-23T07:18:48.997269",
     "exception": false,
     "start_time": "2021-10-23T07:18:48.960597",
     "status": "completed"
    },
    "tags": []
   },
   "outputs": [
    {
     "data": {
      "text/html": [
       "<div>\n",
       "<style scoped>\n",
       "    .dataframe tbody tr th:only-of-type {\n",
       "        vertical-align: middle;\n",
       "    }\n",
       "\n",
       "    .dataframe tbody tr th {\n",
       "        vertical-align: top;\n",
       "    }\n",
       "\n",
       "    .dataframe thead th {\n",
       "        text-align: right;\n",
       "    }\n",
       "</style>\n",
       "<table border=\"1\" class=\"dataframe\">\n",
       "  <thead>\n",
       "    <tr style=\"text-align: right;\">\n",
       "      <th></th>\n",
       "      <th>Pclass</th>\n",
       "      <th>Sex</th>\n",
       "      <th>Age</th>\n",
       "      <th>Fare</th>\n",
       "      <th>Embarked</th>\n",
       "    </tr>\n",
       "  </thead>\n",
       "  <tbody>\n",
       "    <tr>\n",
       "      <th>0</th>\n",
       "      <td>3</td>\n",
       "      <td>0</td>\n",
       "      <td>22.0</td>\n",
       "      <td>7.2500</td>\n",
       "      <td>0</td>\n",
       "    </tr>\n",
       "    <tr>\n",
       "      <th>1</th>\n",
       "      <td>1</td>\n",
       "      <td>1</td>\n",
       "      <td>38.0</td>\n",
       "      <td>71.2833</td>\n",
       "      <td>1</td>\n",
       "    </tr>\n",
       "    <tr>\n",
       "      <th>2</th>\n",
       "      <td>3</td>\n",
       "      <td>1</td>\n",
       "      <td>26.0</td>\n",
       "      <td>7.9250</td>\n",
       "      <td>0</td>\n",
       "    </tr>\n",
       "    <tr>\n",
       "      <th>3</th>\n",
       "      <td>1</td>\n",
       "      <td>1</td>\n",
       "      <td>35.0</td>\n",
       "      <td>53.1000</td>\n",
       "      <td>0</td>\n",
       "    </tr>\n",
       "    <tr>\n",
       "      <th>4</th>\n",
       "      <td>3</td>\n",
       "      <td>0</td>\n",
       "      <td>35.0</td>\n",
       "      <td>8.0500</td>\n",
       "      <td>0</td>\n",
       "    </tr>\n",
       "  </tbody>\n",
       "</table>\n",
       "</div>"
      ],
      "text/plain": [
       "   Pclass  Sex   Age     Fare  Embarked\n",
       "0       3    0  22.0   7.2500         0\n",
       "1       1    1  38.0  71.2833         1\n",
       "2       3    1  26.0   7.9250         0\n",
       "3       1    1  35.0  53.1000         0\n",
       "4       3    0  35.0   8.0500         0"
      ]
     },
     "execution_count": 19,
     "metadata": {},
     "output_type": "execute_result"
    }
   ],
   "source": [
    "X_train.head()"
   ]
  },
  {
   "cell_type": "code",
   "execution_count": 20,
   "id": "c182d6ff",
   "metadata": {
    "execution": {
     "iopub.execute_input": "2021-10-23T07:18:49.049843Z",
     "iopub.status.busy": "2021-10-23T07:18:49.049209Z",
     "iopub.status.idle": "2021-10-23T07:18:49.054439Z",
     "shell.execute_reply": "2021-10-23T07:18:49.054977Z",
     "shell.execute_reply.started": "2021-10-23T07:17:52.068035Z"
    },
    "papermill": {
     "duration": 0.032816,
     "end_time": "2021-10-23T07:18:49.055149",
     "exception": false,
     "start_time": "2021-10-23T07:18:49.022333",
     "status": "completed"
    },
    "tags": []
   },
   "outputs": [
    {
     "data": {
      "text/plain": [
       "0    0.0\n",
       "1    1.0\n",
       "2    1.0\n",
       "3    1.0\n",
       "4    0.0\n",
       "Name: Survived, dtype: float64"
      ]
     },
     "execution_count": 20,
     "metadata": {},
     "output_type": "execute_result"
    }
   ],
   "source": [
    "y_train.head()"
   ]
  },
  {
   "cell_type": "code",
   "execution_count": 21,
   "id": "fc591c46",
   "metadata": {
    "execution": {
     "iopub.execute_input": "2021-10-23T07:18:49.109797Z",
     "iopub.status.busy": "2021-10-23T07:18:49.109174Z",
     "iopub.status.idle": "2021-10-23T07:18:50.033006Z",
     "shell.execute_reply": "2021-10-23T07:18:50.032515Z",
     "shell.execute_reply.started": "2021-10-23T07:17:58.402963Z"
    },
    "papermill": {
     "duration": 0.952787,
     "end_time": "2021-10-23T07:18:50.033208",
     "exception": false,
     "start_time": "2021-10-23T07:18:49.080421",
     "status": "completed"
    },
    "tags": []
   },
   "outputs": [],
   "source": [
    "from sklearn.linear_model import LogisticRegression"
   ]
  },
  {
   "cell_type": "code",
   "execution_count": 22,
   "id": "15be8cb6",
   "metadata": {
    "execution": {
     "iopub.execute_input": "2021-10-23T07:18:50.088377Z",
     "iopub.status.busy": "2021-10-23T07:18:50.087757Z",
     "iopub.status.idle": "2021-10-23T07:18:50.089443Z",
     "shell.execute_reply": "2021-10-23T07:18:50.090007Z",
     "shell.execute_reply.started": "2021-10-23T07:18:03.349870Z"
    },
    "papermill": {
     "duration": 0.031354,
     "end_time": "2021-10-23T07:18:50.090184",
     "exception": false,
     "start_time": "2021-10-23T07:18:50.058830",
     "status": "completed"
    },
    "tags": []
   },
   "outputs": [],
   "source": [
    "clf = LogisticRegression(penalty='l2', solver='sag', random_state=0)"
   ]
  },
  {
   "cell_type": "code",
   "execution_count": 23,
   "id": "6b7cf7fb",
   "metadata": {
    "execution": {
     "iopub.execute_input": "2021-10-23T07:18:50.142142Z",
     "iopub.status.busy": "2021-10-23T07:18:50.141561Z",
     "iopub.status.idle": "2021-10-23T07:18:50.163909Z",
     "shell.execute_reply": "2021-10-23T07:18:50.164661Z",
     "shell.execute_reply.started": "2021-10-23T07:18:09.286079Z"
    },
    "papermill": {
     "duration": 0.050236,
     "end_time": "2021-10-23T07:18:50.164867",
     "exception": false,
     "start_time": "2021-10-23T07:18:50.114631",
     "status": "completed"
    },
    "tags": []
   },
   "outputs": [
    {
     "name": "stderr",
     "output_type": "stream",
     "text": [
      "/opt/conda/lib/python3.7/site-packages/sklearn/linear_model/_sag.py:330: ConvergenceWarning: The max_iter was reached which means the coef_ did not converge\n",
      "  \"the coef_ did not converge\", ConvergenceWarning)\n"
     ]
    },
    {
     "data": {
      "text/plain": [
       "LogisticRegression(random_state=0, solver='sag')"
      ]
     },
     "execution_count": 23,
     "metadata": {},
     "output_type": "execute_result"
    }
   ],
   "source": [
    "clf.fit(X_train, y_train)"
   ]
  },
  {
   "cell_type": "code",
   "execution_count": 24,
   "id": "3322623e",
   "metadata": {
    "execution": {
     "iopub.execute_input": "2021-10-23T07:18:50.225006Z",
     "iopub.status.busy": "2021-10-23T07:18:50.224167Z",
     "iopub.status.idle": "2021-10-23T07:18:50.226263Z",
     "shell.execute_reply": "2021-10-23T07:18:50.226701Z",
     "shell.execute_reply.started": "2021-10-23T07:18:14.784244Z"
    },
    "papermill": {
     "duration": 0.034936,
     "end_time": "2021-10-23T07:18:50.226854",
     "exception": false,
     "start_time": "2021-10-23T07:18:50.191918",
     "status": "completed"
    },
    "tags": []
   },
   "outputs": [],
   "source": [
    "y_pred = clf.predict(X_test)"
   ]
  },
  {
   "cell_type": "code",
   "execution_count": 25,
   "id": "b55deec4",
   "metadata": {
    "execution": {
     "iopub.execute_input": "2021-10-23T07:18:50.286810Z",
     "iopub.status.busy": "2021-10-23T07:18:50.285768Z",
     "iopub.status.idle": "2021-10-23T07:18:50.289903Z",
     "shell.execute_reply": "2021-10-23T07:18:50.290751Z",
     "shell.execute_reply.started": "2021-10-23T07:18:20.265959Z"
    },
    "papermill": {
     "duration": 0.038499,
     "end_time": "2021-10-23T07:18:50.290933",
     "exception": false,
     "start_time": "2021-10-23T07:18:50.252434",
     "status": "completed"
    },
    "tags": []
   },
   "outputs": [
    {
     "data": {
      "text/plain": [
       "array([0., 0., 0., 0., 0., 0., 0., 0., 0., 0., 0., 0., 1., 0., 0., 0., 0.,\n",
       "       0., 0., 0.])"
      ]
     },
     "execution_count": 25,
     "metadata": {},
     "output_type": "execute_result"
    }
   ],
   "source": [
    "y_pred[:20]"
   ]
  },
  {
   "cell_type": "code",
   "execution_count": 26,
   "id": "693f1674",
   "metadata": {
    "execution": {
     "iopub.execute_input": "2021-10-23T07:18:50.346407Z",
     "iopub.status.busy": "2021-10-23T07:18:50.345815Z",
     "iopub.status.idle": "2021-10-23T07:18:50.356091Z",
     "shell.execute_reply": "2021-10-23T07:18:50.356677Z",
     "shell.execute_reply.started": "2021-10-23T07:18:26.715353Z"
    },
    "papermill": {
     "duration": 0.039833,
     "end_time": "2021-10-23T07:18:50.356836",
     "exception": false,
     "start_time": "2021-10-23T07:18:50.317003",
     "status": "completed"
    },
    "tags": []
   },
   "outputs": [],
   "source": [
    "\n",
    "sub = pd.read_csv('../input/titanic/gender_submission.csv')\n",
    "sub['Survived'] = list(map(int, y_pred))\n",
    "sub.to_csv('submission.csv', index=False)"
   ]
  },
  {
   "cell_type": "code",
   "execution_count": null,
   "id": "fcd661d2",
   "metadata": {
    "papermill": {
     "duration": 0.026267,
     "end_time": "2021-10-23T07:18:50.410064",
     "exception": false,
     "start_time": "2021-10-23T07:18:50.383797",
     "status": "completed"
    },
    "tags": []
   },
   "outputs": [],
   "source": []
  }
 ],
 "metadata": {
  "kernelspec": {
   "display_name": "Python 3",
   "language": "python",
   "name": "python3"
  },
  "language_info": {
   "codemirror_mode": {
    "name": "ipython",
    "version": 3
   },
   "file_extension": ".py",
   "mimetype": "text/x-python",
   "name": "python",
   "nbconvert_exporter": "python",
   "pygments_lexer": "ipython3",
   "version": "3.7.10"
  },
  "papermill": {
   "default_parameters": {},
   "duration": 12.590406,
   "end_time": "2021-10-23T07:18:51.046072",
   "environment_variables": {},
   "exception": null,
   "input_path": "__notebook__.ipynb",
   "output_path": "__notebook__.ipynb",
   "parameters": {},
   "start_time": "2021-10-23T07:18:38.455666",
   "version": "2.3.3"
  }
 },
 "nbformat": 4,
 "nbformat_minor": 5
}
