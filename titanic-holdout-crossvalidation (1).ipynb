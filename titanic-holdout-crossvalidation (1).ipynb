{
 "cells": [
  {
   "cell_type": "code",
   "execution_count": 1,
   "id": "a2cd2a2b",
   "metadata": {
    "_cell_guid": "b1076dfc-b9ad-4769-8c92-a6c4dae69d19",
    "_uuid": "8f2839f25d086af736a60e9eeb907d3b93b6e0e5",
    "execution": {
     "iopub.execute_input": "2021-10-29T13:37:03.061561Z",
     "iopub.status.busy": "2021-10-29T13:37:03.060165Z",
     "iopub.status.idle": "2021-10-29T13:37:03.079174Z",
     "shell.execute_reply": "2021-10-29T13:37:03.079754Z",
     "shell.execute_reply.started": "2021-10-29T12:57:39.020037Z"
    },
    "papermill": {
     "duration": 0.046179,
     "end_time": "2021-10-29T13:37:03.080118",
     "exception": false,
     "start_time": "2021-10-29T13:37:03.033939",
     "status": "completed"
    },
    "tags": []
   },
   "outputs": [
    {
     "name": "stdout",
     "output_type": "stream",
     "text": [
      "/kaggle/input/titanic/train.csv\n",
      "/kaggle/input/titanic/test.csv\n",
      "/kaggle/input/titanic/gender_submission.csv\n"
     ]
    }
   ],
   "source": [
    "# This Python 3 environment comes with many helpful analytics libraries installed\n",
    "# It is defined by the kaggle/python Docker image: https://github.com/kaggle/docker-python\n",
    "# For example, here's several helpful packages to load\n",
    "\n",
    "import numpy as np # linear algebra\n",
    "import pandas as pd # data processing, CSV file I/O (e.g. pd.read_csv)\n",
    "\n",
    "# Input data files are available in the read-only \"../input/\" directory\n",
    "# For example, running this (by clicking run or pressing Shift+Enter) will list all files under the input directory\n",
    "\n",
    "import os\n",
    "for dirname, _, filenames in os.walk('/kaggle/input'):\n",
    "    for filename in filenames:\n",
    "        print(os.path.join(dirname, filename))\n",
    "\n",
    "# You can write up to 20GB to the current directory (/kaggle/working/) that gets preserved as output when you create a version using \"Save & Run All\" \n",
    "# You can also write temporary files to /kaggle/temp/, but they won't be saved outside of the current session"
   ]
  },
  {
   "cell_type": "code",
   "execution_count": 2,
   "id": "cfc17132",
   "metadata": {
    "execution": {
     "iopub.execute_input": "2021-10-29T13:37:03.116483Z",
     "iopub.status.busy": "2021-10-29T13:37:03.115420Z",
     "iopub.status.idle": "2021-10-29T13:37:03.192093Z",
     "shell.execute_reply": "2021-10-29T13:37:03.191478Z",
     "shell.execute_reply.started": "2021-10-26T10:34:19.772327Z"
    },
    "papermill": {
     "duration": 0.095913,
     "end_time": "2021-10-29T13:37:03.192282",
     "exception": false,
     "start_time": "2021-10-29T13:37:03.096369",
     "status": "completed"
    },
    "tags": []
   },
   "outputs": [],
   "source": [
    "import numpy as np\n",
    "import pandas as pd\n",
    "\n",
    "\n",
    "train = pd.read_csv('../input/titanic/train.csv')\n",
    "test = pd.read_csv('../input/titanic/test.csv')\n",
    "gender_submission = pd.read_csv('../input/titanic/gender_submission.csv')\n",
    "\n",
    "data = pd.concat([train, test], sort=False)\n",
    "\n",
    "data['Sex'].replace(['male', 'female'], [0, 1], inplace=True)\n",
    "data['Embarked'].fillna(('S'), inplace=True)\n",
    "data['Embarked'] = data['Embarked'].map({'S': 0, 'C': 1, 'Q': 2}).astype(int)\n",
    "data['Fare'].fillna(np.mean(data['Fare']), inplace=True)\n",
    "data['Age'].fillna(data['Age'].median(), inplace=True)\n",
    "data['FamilySize'] = data['Parch'] + data['SibSp'] + 1\n",
    "data['IsAlone'] = 0\n",
    "data.loc[data['FamilySize'] == 1, 'IsAlone'] = 1"
   ]
  },
  {
   "cell_type": "code",
   "execution_count": 3,
   "id": "2ca7d11a",
   "metadata": {
    "execution": {
     "iopub.execute_input": "2021-10-29T13:37:03.235341Z",
     "iopub.status.busy": "2021-10-29T13:37:03.234084Z",
     "iopub.status.idle": "2021-10-29T13:37:03.241494Z",
     "shell.execute_reply": "2021-10-29T13:37:03.242128Z",
     "shell.execute_reply.started": "2021-10-26T10:34:28.662681Z"
    },
    "papermill": {
     "duration": 0.033208,
     "end_time": "2021-10-29T13:37:03.242349",
     "exception": false,
     "start_time": "2021-10-29T13:37:03.209141",
     "status": "completed"
    },
    "tags": []
   },
   "outputs": [],
   "source": [
    "delete_columns = ['Name', 'PassengerId', 'Ticket', 'Cabin']\n",
    "data.drop(delete_columns, axis=1, inplace=True)\n",
    "\n",
    "train = data[:len(train)]\n",
    "test = data[len(train):]\n",
    "\n",
    "y_train = train['Survived']\n",
    "X_train = train.drop('Survived', axis=1)\n",
    "X_test = test.drop('Survived', axis=1)"
   ]
  },
  {
   "cell_type": "markdown",
   "id": "2746d4c6",
   "metadata": {
    "papermill": {
     "duration": 0.014818,
     "end_time": "2021-10-29T13:37:03.272322",
     "exception": false,
     "start_time": "2021-10-29T13:37:03.257504",
     "status": "completed"
    },
    "tags": []
   },
   "source": [
    "Holdout"
   ]
  },
  {
   "cell_type": "code",
   "execution_count": 4,
   "id": "8ba7e369",
   "metadata": {
    "execution": {
     "iopub.execute_input": "2021-10-29T13:37:03.308659Z",
     "iopub.status.busy": "2021-10-29T13:37:03.307597Z",
     "iopub.status.idle": "2021-10-29T13:37:04.389054Z",
     "shell.execute_reply": "2021-10-29T13:37:04.388304Z",
     "shell.execute_reply.started": "2021-10-26T10:35:59.279228Z"
    },
    "papermill": {
     "duration": 1.101224,
     "end_time": "2021-10-29T13:37:04.389225",
     "exception": false,
     "start_time": "2021-10-29T13:37:03.288001",
     "status": "completed"
    },
    "tags": []
   },
   "outputs": [],
   "source": [
    "from sklearn.model_selection import train_test_split\n",
    "\n",
    "X_train, X_valid, y_train, y_valid = train_test_split(X_train, y_train, test_size=0.3, random_state=0, stratify=y_train)"
   ]
  },
  {
   "cell_type": "code",
   "execution_count": 5,
   "id": "fa4e125a",
   "metadata": {
    "execution": {
     "iopub.execute_input": "2021-10-29T13:37:04.429687Z",
     "iopub.status.busy": "2021-10-29T13:37:04.428869Z",
     "iopub.status.idle": "2021-10-29T13:37:04.431798Z",
     "shell.execute_reply": "2021-10-29T13:37:04.431225Z",
     "shell.execute_reply.started": "2021-10-26T10:36:20.299616Z"
    },
    "papermill": {
     "duration": 0.025627,
     "end_time": "2021-10-29T13:37:04.431961",
     "exception": false,
     "start_time": "2021-10-29T13:37:04.406334",
     "status": "completed"
    },
    "tags": []
   },
   "outputs": [],
   "source": [
    "categorical_features = ['Embarked', 'Pclass','Sex']"
   ]
  },
  {
   "cell_type": "code",
   "execution_count": 6,
   "id": "d9318142",
   "metadata": {
    "execution": {
     "iopub.execute_input": "2021-10-29T13:37:04.472144Z",
     "iopub.status.busy": "2021-10-29T13:37:04.471330Z",
     "iopub.status.idle": "2021-10-29T13:37:04.472811Z",
     "shell.execute_reply": "2021-10-29T13:37:04.473512Z",
     "shell.execute_reply.started": "2021-10-26T10:37:08.983741Z"
    },
    "papermill": {
     "duration": 0.024891,
     "end_time": "2021-10-29T13:37:04.473738",
     "exception": false,
     "start_time": "2021-10-29T13:37:04.448847",
     "status": "completed"
    },
    "tags": []
   },
   "outputs": [],
   "source": [
    "params={\n",
    "    'objective' : 'binary',\n",
    "    'max_bin' : 300,\n",
    "    'learning_rate' : 0.05,\n",
    "    'num_leaves':40\n",
    "}"
   ]
  },
  {
   "cell_type": "code",
   "execution_count": 7,
   "id": "b296fa54",
   "metadata": {
    "execution": {
     "iopub.execute_input": "2021-10-29T13:37:04.510769Z",
     "iopub.status.busy": "2021-10-29T13:37:04.509906Z",
     "iopub.status.idle": "2021-10-29T13:37:05.774898Z",
     "shell.execute_reply": "2021-10-29T13:37:05.775576Z",
     "shell.execute_reply.started": "2021-10-26T10:40:16.583873Z"
    },
    "papermill": {
     "duration": 1.285731,
     "end_time": "2021-10-29T13:37:05.775805",
     "exception": false,
     "start_time": "2021-10-29T13:37:04.490074",
     "status": "completed"
    },
    "tags": []
   },
   "outputs": [
    {
     "data": {
      "text/html": [
       "<style type='text/css'>\n",
       ".datatable table.frame { margin-bottom: 0; }\n",
       ".datatable table.frame thead { border-bottom: none; }\n",
       ".datatable table.frame tr.coltypes td {  color: #FFFFFF;  line-height: 6px;  padding: 0 0.5em;}\n",
       ".datatable .bool    { background: #DDDD99; }\n",
       ".datatable .object  { background: #565656; }\n",
       ".datatable .int     { background: #5D9E5D; }\n",
       ".datatable .float   { background: #4040CC; }\n",
       ".datatable .str     { background: #CC4040; }\n",
       ".datatable .time    { background: #40CC40; }\n",
       ".datatable .row_index {  background: var(--jp-border-color3);  border-right: 1px solid var(--jp-border-color0);  color: var(--jp-ui-font-color3);  font-size: 9px;}\n",
       ".datatable .frame tbody td { text-align: left; }\n",
       ".datatable .frame tr.coltypes .row_index {  background: var(--jp-border-color0);}\n",
       ".datatable th:nth-child(2) { padding-left: 12px; }\n",
       ".datatable .hellipsis {  color: var(--jp-cell-editor-border-color);}\n",
       ".datatable .vellipsis {  background: var(--jp-layout-color0);  color: var(--jp-cell-editor-border-color);}\n",
       ".datatable .na {  color: var(--jp-cell-editor-border-color);  font-size: 80%;}\n",
       ".datatable .sp {  opacity: 0.25;}\n",
       ".datatable .footer { font-size: 9px; }\n",
       ".datatable .frame_dimensions {  background: var(--jp-border-color3);  border-top: 1px solid var(--jp-border-color0);  color: var(--jp-ui-font-color3);  display: inline-block;  opacity: 0.6;  padding: 1px 10px 1px 5px;}\n",
       "</style>\n"
      ],
      "text/plain": [
       "<IPython.core.display.HTML object>"
      ]
     },
     "metadata": {},
     "output_type": "display_data"
    },
    {
     "name": "stdout",
     "output_type": "stream",
     "text": [
      "[LightGBM] [Info] Number of positive: 239, number of negative: 384\n",
      "[LightGBM] [Warning] Auto-choosing row-wise multi-threading, the overhead of testing was 0.001289 seconds.\n",
      "You can set `force_row_wise=true` to remove the overhead.\n",
      "And if memory is not enough, you can set `force_col_wise=true`.\n",
      "[LightGBM] [Info] Total Bins 205\n",
      "[LightGBM] [Info] Number of data points in the train set: 623, number of used features: 9\n",
      "[LightGBM] [Info] [binary:BoostFromScore]: pavg=0.383628 -> initscore=-0.474179\n",
      "[LightGBM] [Info] Start training from score -0.474179\n",
      "[LightGBM] [Warning] No further splits with positive gain, best gain: -inf\n",
      "Training until validation scores don't improve for 10 rounds\n",
      "[LightGBM] [Warning] No further splits with positive gain, best gain: -inf\n",
      "[LightGBM] [Warning] No further splits with positive gain, best gain: -inf\n",
      "[LightGBM] [Warning] No further splits with positive gain, best gain: -inf\n",
      "[LightGBM] [Warning] No further splits with positive gain, best gain: -inf\n",
      "[LightGBM] [Warning] No further splits with positive gain, best gain: -inf\n",
      "[LightGBM] [Warning] No further splits with positive gain, best gain: -inf\n",
      "[LightGBM] [Warning] No further splits with positive gain, best gain: -inf\n",
      "[LightGBM] [Warning] No further splits with positive gain, best gain: -inf\n",
      "[LightGBM] [Warning] No further splits with positive gain, best gain: -inf\n",
      "[10]\ttraining's binary_logloss: 0.505696\tvalid_1's binary_logloss: 0.532008\n",
      "[LightGBM] [Warning] No further splits with positive gain, best gain: -inf\n",
      "[LightGBM] [Warning] No further splits with positive gain, best gain: -inf\n",
      "[LightGBM] [Warning] No further splits with positive gain, best gain: -inf\n",
      "[LightGBM] [Warning] No further splits with positive gain, best gain: -inf\n",
      "[LightGBM] [Warning] No further splits with positive gain, best gain: -inf\n",
      "[LightGBM] [Warning] No further splits with positive gain, best gain: -inf\n",
      "[LightGBM] [Warning] No further splits with positive gain, best gain: -inf\n",
      "[LightGBM] [Warning] No further splits with positive gain, best gain: -inf\n",
      "[LightGBM] [Warning] No further splits with positive gain, best gain: -inf\n",
      "[LightGBM] [Warning] No further splits with positive gain, best gain: -inf\n",
      "[20]\ttraining's binary_logloss: 0.422967\tvalid_1's binary_logloss: 0.478904\n",
      "[LightGBM] [Warning] No further splits with positive gain, best gain: -inf\n",
      "[LightGBM] [Warning] No further splits with positive gain, best gain: -inf\n",
      "[LightGBM] [Warning] No further splits with positive gain, best gain: -inf\n",
      "[LightGBM] [Warning] No further splits with positive gain, best gain: -inf\n",
      "[LightGBM] [Warning] No further splits with positive gain, best gain: -inf\n",
      "[LightGBM] [Warning] No further splits with positive gain, best gain: -inf\n",
      "[LightGBM] [Warning] No further splits with positive gain, best gain: -inf\n",
      "[LightGBM] [Warning] No further splits with positive gain, best gain: -inf\n",
      "[LightGBM] [Warning] No further splits with positive gain, best gain: -inf\n",
      "[LightGBM] [Warning] No further splits with positive gain, best gain: -inf\n",
      "[30]\ttraining's binary_logloss: 0.373496\tvalid_1's binary_logloss: 0.448045\n",
      "[LightGBM] [Warning] No further splits with positive gain, best gain: -inf\n",
      "[LightGBM] [Warning] No further splits with positive gain, best gain: -inf\n",
      "[LightGBM] [Warning] No further splits with positive gain, best gain: -inf\n",
      "[LightGBM] [Warning] No further splits with positive gain, best gain: -inf\n",
      "[LightGBM] [Warning] No further splits with positive gain, best gain: -inf\n",
      "[LightGBM] [Warning] No further splits with positive gain, best gain: -inf\n",
      "[LightGBM] [Warning] No further splits with positive gain, best gain: -inf\n",
      "[LightGBM] [Warning] No further splits with positive gain, best gain: -inf\n",
      "[LightGBM] [Warning] No further splits with positive gain, best gain: -inf\n",
      "[LightGBM] [Warning] No further splits with positive gain, best gain: -inf\n",
      "[40]\ttraining's binary_logloss: 0.342723\tvalid_1's binary_logloss: 0.439465\n",
      "[LightGBM] [Warning] No further splits with positive gain, best gain: -inf\n",
      "[LightGBM] [Warning] No further splits with positive gain, best gain: -inf\n",
      "[LightGBM] [Warning] No further splits with positive gain, best gain: -inf\n",
      "[LightGBM] [Warning] No further splits with positive gain, best gain: -inf\n",
      "[LightGBM] [Warning] No further splits with positive gain, best gain: -inf\n",
      "[LightGBM] [Warning] No further splits with positive gain, best gain: -inf\n",
      "[LightGBM] [Warning] No further splits with positive gain, best gain: -inf\n",
      "[LightGBM] [Warning] No further splits with positive gain, best gain: -inf\n",
      "[LightGBM] [Warning] No further splits with positive gain, best gain: -inf\n",
      "[LightGBM] [Warning] No further splits with positive gain, best gain: -inf\n",
      "[50]\ttraining's binary_logloss: 0.318708\tvalid_1's binary_logloss: 0.438633\n",
      "[LightGBM] [Warning] No further splits with positive gain, best gain: -inf\n",
      "[LightGBM] [Warning] No further splits with positive gain, best gain: -inf\n",
      "[LightGBM] [Warning] No further splits with positive gain, best gain: -inf\n",
      "[LightGBM] [Warning] No further splits with positive gain, best gain: -inf\n",
      "[LightGBM] [Warning] No further splits with positive gain, best gain: -inf\n",
      "[LightGBM] [Warning] No further splits with positive gain, best gain: -inf\n",
      "[LightGBM] [Warning] No further splits with positive gain, best gain: -inf\n",
      "[LightGBM] [Warning] No further splits with positive gain, best gain: -inf\n",
      "[LightGBM] [Warning] No further splits with positive gain, best gain: -inf\n",
      "[LightGBM] [Warning] No further splits with positive gain, best gain: -inf\n",
      "[60]\ttraining's binary_logloss: 0.299108\tvalid_1's binary_logloss: 0.436609\n",
      "[LightGBM] [Warning] No further splits with positive gain, best gain: -inf\n",
      "[LightGBM] [Warning] No further splits with positive gain, best gain: -inf\n",
      "[LightGBM] [Warning] No further splits with positive gain, best gain: -inf\n",
      "[LightGBM] [Warning] No further splits with positive gain, best gain: -inf\n",
      "[LightGBM] [Warning] No further splits with positive gain, best gain: -inf\n",
      "[LightGBM] [Warning] No further splits with positive gain, best gain: -inf\n",
      "[LightGBM] [Warning] No further splits with positive gain, best gain: -inf\n",
      "[LightGBM] [Warning] No further splits with positive gain, best gain: -inf\n",
      "[LightGBM] [Warning] No further splits with positive gain, best gain: -inf\n",
      "[LightGBM] [Warning] No further splits with positive gain, best gain: -inf\n",
      "[70]\ttraining's binary_logloss: 0.282689\tvalid_1's binary_logloss: 0.437435\n",
      "[LightGBM] [Warning] No further splits with positive gain, best gain: -inf\n",
      "Early stopping, best iteration is:\n",
      "[61]\ttraining's binary_logloss: 0.2972\tvalid_1's binary_logloss: 0.435949\n"
     ]
    },
    {
     "name": "stderr",
     "output_type": "stream",
     "text": [
      "/opt/conda/lib/python3.7/site-packages/lightgbm/basic.py:1702: UserWarning: Using categorical_feature in Dataset.\n",
      "  _log_warning('Using categorical_feature in Dataset.')\n",
      "/opt/conda/lib/python3.7/site-packages/lightgbm/basic.py:1433: UserWarning: Overriding the parameters from Reference Dataset.\n",
      "  _log_warning('Overriding the parameters from Reference Dataset.')\n",
      "/opt/conda/lib/python3.7/site-packages/lightgbm/basic.py:1245: UserWarning: categorical_column in param dict is overridden.\n",
      "  _log_warning('{} in param dict is overridden.'.format(cat_alias))\n"
     ]
    }
   ],
   "source": [
    "import lightgbm as lgb\n",
    "\n",
    "lgb_train = lgb.Dataset(X_train, y_train, categorical_feature=categorical_features)\n",
    "lgb_eval = lgb.Dataset(X_valid, y_valid, reference=lgb_train, categorical_feature=categorical_features)\n",
    "model = lgb.train(params, lgb_train, valid_sets=[lgb_train, lgb_eval],\n",
    "                 verbose_eval=10,\n",
    "                 num_boost_round=1000,\n",
    "                 early_stopping_rounds=10)\n",
    "\n",
    "y_pred = model.predict(X_test, num_iteration=model.best_iteration)"
   ]
  },
  {
   "cell_type": "code",
   "execution_count": 8,
   "id": "28fe67a4",
   "metadata": {
    "execution": {
     "iopub.execute_input": "2021-10-29T13:37:05.816371Z",
     "iopub.status.busy": "2021-10-29T13:37:05.815437Z",
     "iopub.status.idle": "2021-10-29T13:37:05.818220Z",
     "shell.execute_reply": "2021-10-29T13:37:05.818834Z",
     "shell.execute_reply.started": "2021-10-26T10:40:54.196076Z"
    },
    "papermill": {
     "duration": 0.026193,
     "end_time": "2021-10-29T13:37:05.819009",
     "exception": false,
     "start_time": "2021-10-29T13:37:05.792816",
     "status": "completed"
    },
    "tags": []
   },
   "outputs": [
    {
     "data": {
      "text/plain": [
       "array([0.03935242, 0.52380086, 0.11487096, 0.07538967, 0.39761111,\n",
       "       0.41886672, 0.7023978 , 0.13190461, 0.74563405, 0.0485806 ])"
      ]
     },
     "execution_count": 8,
     "metadata": {},
     "output_type": "execute_result"
    }
   ],
   "source": [
    "y_pred[:10]"
   ]
  },
  {
   "cell_type": "code",
   "execution_count": 9,
   "id": "16d4422f",
   "metadata": {
    "execution": {
     "iopub.execute_input": "2021-10-29T13:37:05.858219Z",
     "iopub.status.busy": "2021-10-29T13:37:05.857545Z",
     "iopub.status.idle": "2021-10-29T13:37:05.861023Z",
     "shell.execute_reply": "2021-10-29T13:37:05.861506Z",
     "shell.execute_reply.started": "2021-10-26T10:41:17.873293Z"
    },
    "papermill": {
     "duration": 0.026023,
     "end_time": "2021-10-29T13:37:05.861677",
     "exception": false,
     "start_time": "2021-10-29T13:37:05.835654",
     "status": "completed"
    },
    "tags": []
   },
   "outputs": [
    {
     "data": {
      "text/plain": [
       "array([0, 1, 0, 0, 0, 0, 1, 0, 1, 0])"
      ]
     },
     "execution_count": 9,
     "metadata": {},
     "output_type": "execute_result"
    }
   ],
   "source": [
    "y_pred=(y_pred>0.5).astype(int)\n",
    "y_pred[:10]"
   ]
  },
  {
   "cell_type": "code",
   "execution_count": 10,
   "id": "bb829f55",
   "metadata": {
    "execution": {
     "iopub.execute_input": "2021-10-29T13:37:05.907355Z",
     "iopub.status.busy": "2021-10-29T13:37:05.906625Z",
     "iopub.status.idle": "2021-10-29T13:37:05.948252Z",
     "shell.execute_reply": "2021-10-29T13:37:05.948728Z",
     "shell.execute_reply.started": "2021-10-29T12:57:43.654820Z"
    },
    "papermill": {
     "duration": 0.070065,
     "end_time": "2021-10-29T13:37:05.948897",
     "exception": false,
     "start_time": "2021-10-29T13:37:05.878832",
     "status": "completed"
    },
    "tags": []
   },
   "outputs": [
    {
     "data": {
      "text/html": [
       "<div>\n",
       "<style scoped>\n",
       "    .dataframe tbody tr th:only-of-type {\n",
       "        vertical-align: middle;\n",
       "    }\n",
       "\n",
       "    .dataframe tbody tr th {\n",
       "        vertical-align: top;\n",
       "    }\n",
       "\n",
       "    .dataframe thead th {\n",
       "        text-align: right;\n",
       "    }\n",
       "</style>\n",
       "<table border=\"1\" class=\"dataframe\">\n",
       "  <thead>\n",
       "    <tr style=\"text-align: right;\">\n",
       "      <th></th>\n",
       "      <th>Pclass</th>\n",
       "      <th>Sex</th>\n",
       "      <th>Age</th>\n",
       "      <th>SibSp</th>\n",
       "      <th>Parch</th>\n",
       "      <th>Fare</th>\n",
       "      <th>Embarked</th>\n",
       "      <th>FamilySize</th>\n",
       "      <th>IsAlone</th>\n",
       "    </tr>\n",
       "  </thead>\n",
       "  <tbody>\n",
       "    <tr>\n",
       "      <th>0</th>\n",
       "      <td>3</td>\n",
       "      <td>0</td>\n",
       "      <td>22.0</td>\n",
       "      <td>1</td>\n",
       "      <td>0</td>\n",
       "      <td>7.2500</td>\n",
       "      <td>0</td>\n",
       "      <td>2</td>\n",
       "      <td>0</td>\n",
       "    </tr>\n",
       "    <tr>\n",
       "      <th>1</th>\n",
       "      <td>1</td>\n",
       "      <td>1</td>\n",
       "      <td>38.0</td>\n",
       "      <td>1</td>\n",
       "      <td>0</td>\n",
       "      <td>71.2833</td>\n",
       "      <td>1</td>\n",
       "      <td>2</td>\n",
       "      <td>0</td>\n",
       "    </tr>\n",
       "    <tr>\n",
       "      <th>2</th>\n",
       "      <td>3</td>\n",
       "      <td>1</td>\n",
       "      <td>26.0</td>\n",
       "      <td>0</td>\n",
       "      <td>0</td>\n",
       "      <td>7.9250</td>\n",
       "      <td>0</td>\n",
       "      <td>1</td>\n",
       "      <td>1</td>\n",
       "    </tr>\n",
       "    <tr>\n",
       "      <th>3</th>\n",
       "      <td>1</td>\n",
       "      <td>1</td>\n",
       "      <td>35.0</td>\n",
       "      <td>1</td>\n",
       "      <td>0</td>\n",
       "      <td>53.1000</td>\n",
       "      <td>0</td>\n",
       "      <td>2</td>\n",
       "      <td>0</td>\n",
       "    </tr>\n",
       "    <tr>\n",
       "      <th>4</th>\n",
       "      <td>3</td>\n",
       "      <td>0</td>\n",
       "      <td>35.0</td>\n",
       "      <td>0</td>\n",
       "      <td>0</td>\n",
       "      <td>8.0500</td>\n",
       "      <td>0</td>\n",
       "      <td>1</td>\n",
       "      <td>1</td>\n",
       "    </tr>\n",
       "  </tbody>\n",
       "</table>\n",
       "</div>"
      ],
      "text/plain": [
       "   Pclass  Sex   Age  SibSp  Parch     Fare  Embarked  FamilySize  IsAlone\n",
       "0       3    0  22.0      1      0   7.2500         0           2        0\n",
       "1       1    1  38.0      1      0  71.2833         1           2        0\n",
       "2       3    1  26.0      0      0   7.9250         0           1        1\n",
       "3       1    1  35.0      1      0  53.1000         0           2        0\n",
       "4       3    0  35.0      0      0   8.0500         0           1        1"
      ]
     },
     "execution_count": 10,
     "metadata": {},
     "output_type": "execute_result"
    }
   ],
   "source": [
    "train = pd.read_csv('../input/titanic/train.csv')\n",
    "test = pd.read_csv('../input/titanic/test.csv')\n",
    "gender_submission = pd.read_csv('../input/titanic/gender_submission.csv')\n",
    "\n",
    "data = pd.concat([train, test], sort=False)\n",
    "\n",
    "data['Sex'].replace(['male', 'female'], [0, 1], inplace=True)\n",
    "data['Embarked'].fillna(('S'), inplace=True)\n",
    "data['Embarked'] = data['Embarked'].map({'S': 0, 'C': 1, 'Q': 2}).astype(int)\n",
    "data['Fare'].fillna(np.mean(data['Fare']), inplace=True)\n",
    "data['Age'].fillna(data['Age'].median(), inplace=True)\n",
    "data['FamilySize'] = data['Parch'] + data['SibSp'] + 1\n",
    "data['IsAlone'] = 0\n",
    "data.loc[data['FamilySize'] == 1, 'IsAlone'] = 1\n",
    "\n",
    "delete_columns = ['Name', 'PassengerId', 'Ticket', 'Cabin']\n",
    "data.drop(delete_columns, axis=1, inplace=True)\n",
    "\n",
    "train = data[:len(train)]\n",
    "test = data[len(train):]\n",
    "\n",
    "y_train = train['Survived']\n",
    "X_train = train.drop('Survived', axis=1)\n",
    "X_test = test.drop('Survived', axis=1)\n",
    "\n",
    "X_train.head()"
   ]
  },
  {
   "cell_type": "code",
   "execution_count": 11,
   "id": "6b95eb30",
   "metadata": {
    "execution": {
     "iopub.execute_input": "2021-10-29T13:37:05.988882Z",
     "iopub.status.busy": "2021-10-29T13:37:05.987864Z",
     "iopub.status.idle": "2021-10-29T13:37:05.990065Z",
     "shell.execute_reply": "2021-10-29T13:37:05.990572Z",
     "shell.execute_reply.started": "2021-10-29T12:57:45.878121Z"
    },
    "papermill": {
     "duration": 0.024571,
     "end_time": "2021-10-29T13:37:05.990756",
     "exception": false,
     "start_time": "2021-10-29T13:37:05.966185",
     "status": "completed"
    },
    "tags": []
   },
   "outputs": [],
   "source": [
    "from sklearn.model_selection import KFold"
   ]
  },
  {
   "cell_type": "code",
   "execution_count": 12,
   "id": "a032020c",
   "metadata": {
    "execution": {
     "iopub.execute_input": "2021-10-29T13:37:06.029524Z",
     "iopub.status.busy": "2021-10-29T13:37:06.028178Z",
     "iopub.status.idle": "2021-10-29T13:37:06.167172Z",
     "shell.execute_reply": "2021-10-29T13:37:06.166030Z"
    },
    "papermill": {
     "duration": 0.159598,
     "end_time": "2021-10-29T13:37:06.167507",
     "exception": true,
     "start_time": "2021-10-29T13:37:06.007909",
     "status": "failed"
    },
    "tags": []
   },
   "outputs": [
    {
     "ename": "AttributeError",
     "evalue": "module 'lightgbm' has no attribute 'Dateset'",
     "output_type": "error",
     "traceback": [
      "\u001b[0;31m---------------------------------------------------------------------------\u001b[0m",
      "\u001b[0;31mAttributeError\u001b[0m                            Traceback (most recent call last)",
      "\u001b[0;32m/tmp/ipykernel_19/1990873249.py\u001b[0m in \u001b[0;36m<module>\u001b[0;34m\u001b[0m\n\u001b[1;32m     21\u001b[0m     lgb_train = lgb.Dataset(X_tr, y_tr,\n\u001b[1;32m     22\u001b[0m                            categorical_feature = categorical_features)\n\u001b[0;32m---> 23\u001b[0;31m     lgb_eval = lgb.Dateset(X_val, y_val, reference = lgb_train,\n\u001b[0m\u001b[1;32m     24\u001b[0m                           categorical_feature = categorical_features)\n\u001b[1;32m     25\u001b[0m \u001b[0;34m\u001b[0m\u001b[0m\n",
      "\u001b[0;31mAttributeError\u001b[0m: module 'lightgbm' has no attribute 'Dateset'"
     ]
    }
   ],
   "source": [
    "y_pred = []\n",
    "models = []\n",
    "oof_train = np.zeros((len(X_train),))\n",
    "cv = KFold(n_splits=5, shuffle=True, random_state=0)\n",
    "\n",
    "categorical_features = ['Embarked', 'Pclass', 'Sex']\n",
    "\n",
    "params={\n",
    "    'objective' : 'binary',\n",
    "    'max_bin' : 300,\n",
    "    'learning_rate' : 0.05,\n",
    "    'num_leaves' : 40\n",
    "}\n",
    "\n",
    "for fold_id, (train_index, valid_index) in enumerate(cv.split(X_train)):\n",
    "    X_tr = X_train.loc[train_index, :]\n",
    "    X_val = X_train.loc[valid_index, :]\n",
    "    y_tr = y_train[train_index]\n",
    "    y_val = y_train[valid_index]\n",
    "    \n",
    "    lgb_train = lgb.Dataset(X_tr, y_tr,\n",
    "                           categorical_feature = categorical_features)\n",
    "    lgb_eval = lgb.Dateset(X_val, y_val, reference = lgb_train,\n",
    "                          categorical_feature = categorical_features)\n",
    "    \n",
    "    model = lgb.train(params, lgb_train, \n",
    "                     valid_sets=[lgb_train, lgb_eval],\n",
    "                     verbose_eval = 10,\n",
    "                     num_boost_round=1000,\n",
    "                     early_stopping_rounds=10)\n",
    "    \n",
    "    \n",
    "    oof_train[valid_index] = model.predict(X_val, num_iteration=model.best_iteration)\n",
    "    y_pred = model.predict(X_test, num_iteration=model.best_iteration)\n",
    "\n",
    "    y_preds.append(y_pred)\n",
    "    models.append(model)\n"
   ]
  },
  {
   "cell_type": "markdown",
   "id": "072448c2",
   "metadata": {
    "papermill": {
     "duration": null,
     "end_time": null,
     "exception": null,
     "start_time": null,
     "status": "pending"
    },
    "tags": []
   },
   "source": [
    "oof_train = np.zeros((len(X_train),)) -> 테스트 전용 데이터에 대한 예측값을 지정할 numpy.ndarray<br>\n",
    " enumerate -> 요소와 동시에 인덱스 추출<br>"
   ]
  },
  {
   "cell_type": "code",
   "execution_count": null,
   "id": "ccf2b19c",
   "metadata": {
    "papermill": {
     "duration": null,
     "end_time": null,
     "exception": null,
     "start_time": null,
     "status": "pending"
    },
    "tags": []
   },
   "outputs": [],
   "source": []
  },
  {
   "cell_type": "code",
   "execution_count": null,
   "id": "b3eb0518",
   "metadata": {
    "papermill": {
     "duration": null,
     "end_time": null,
     "exception": null,
     "start_time": null,
     "status": "pending"
    },
    "tags": []
   },
   "outputs": [],
   "source": []
  },
  {
   "cell_type": "code",
   "execution_count": null,
   "id": "5cde2758",
   "metadata": {
    "papermill": {
     "duration": null,
     "end_time": null,
     "exception": null,
     "start_time": null,
     "status": "pending"
    },
    "tags": []
   },
   "outputs": [],
   "source": []
  },
  {
   "cell_type": "code",
   "execution_count": null,
   "id": "d02898e7",
   "metadata": {
    "papermill": {
     "duration": null,
     "end_time": null,
     "exception": null,
     "start_time": null,
     "status": "pending"
    },
    "tags": []
   },
   "outputs": [],
   "source": []
  }
 ],
 "metadata": {
  "kernelspec": {
   "display_name": "Python 3",
   "language": "python",
   "name": "python3"
  },
  "language_info": {
   "codemirror_mode": {
    "name": "ipython",
    "version": 3
   },
   "file_extension": ".py",
   "mimetype": "text/x-python",
   "name": "python",
   "nbconvert_exporter": "python",
   "pygments_lexer": "ipython3",
   "version": "3.7.10"
  },
  "papermill": {
   "default_parameters": {},
   "duration": 13.955924,
   "end_time": "2021-10-29T13:37:06.896516",
   "environment_variables": {},
   "exception": true,
   "input_path": "__notebook__.ipynb",
   "output_path": "__notebook__.ipynb",
   "parameters": {},
   "start_time": "2021-10-29T13:36:52.940592",
   "version": "2.3.3"
  }
 },
 "nbformat": 4,
 "nbformat_minor": 5
}
