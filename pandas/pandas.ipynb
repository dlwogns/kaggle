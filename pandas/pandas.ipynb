{
 "cells": [
  {
   "cell_type": "code",
   "execution_count": 1,
   "id": "f3b7c4d6",
   "metadata": {
    "_cell_guid": "b1076dfc-b9ad-4769-8c92-a6c4dae69d19",
    "_uuid": "8f2839f25d086af736a60e9eeb907d3b93b6e0e5",
    "execution": {
     "iopub.execute_input": "2021-10-24T06:01:27.555699Z",
     "iopub.status.busy": "2021-10-24T06:01:27.553905Z",
     "iopub.status.idle": "2021-10-24T06:01:27.564910Z",
     "shell.execute_reply": "2021-10-24T06:01:27.565432Z",
     "shell.execute_reply.started": "2021-10-24T04:08:12.955142Z"
    },
    "papermill": {
     "duration": 0.064426,
     "end_time": "2021-10-24T06:01:27.565766",
     "exception": false,
     "start_time": "2021-10-24T06:01:27.501340",
     "status": "completed"
    },
    "tags": []
   },
   "outputs": [],
   "source": [
    "import numpy as np\n",
    "import pandas as pd"
   ]
  },
  {
   "cell_type": "markdown",
   "id": "0f46840f",
   "metadata": {
    "papermill": {
     "duration": 0.046034,
     "end_time": "2021-10-24T06:01:27.658576",
     "exception": false,
     "start_time": "2021-10-24T06:01:27.612542",
     "status": "completed"
    },
    "tags": []
   },
   "source": [
    "https://datascienceschool.net/01%20python/04.01%20%ED%8C%90%EB%8B%A4%EC%8A%A4%20%ED%8C%A8%ED%82%A4%EC%A7%80%EC%9D%98%20%EC%86%8C%EA%B0%9C.html"
   ]
  },
  {
   "cell_type": "markdown",
   "id": "15937a17",
   "metadata": {
    "papermill": {
     "duration": 0.045638,
     "end_time": "2021-10-24T06:01:27.749868",
     "exception": false,
     "start_time": "2021-10-24T06:01:27.704230",
     "status": "completed"
    },
    "tags": []
   },
   "source": [
    "시리즈 = 값(value) + 인덱스(index)(index label)\n",
    "np에서 제공하는 1차원 배열과 비슷하지만, 인덱싱 가능.(hash 라 생각하면 편리)\n",
    "\n",
    "인덱스를 지정하지 않으면 0부터 시작하는 정수값.\n",
    "애초에 1차원 배열처럼 s[0] 이런식으로 접근도 가능.\n"
   ]
  },
  {
   "cell_type": "code",
   "execution_count": 2,
   "id": "d17a8508",
   "metadata": {
    "execution": {
     "iopub.execute_input": "2021-10-24T06:01:27.845807Z",
     "iopub.status.busy": "2021-10-24T06:01:27.845192Z",
     "iopub.status.idle": "2021-10-24T06:01:27.858224Z",
     "shell.execute_reply": "2021-10-24T06:01:27.858799Z",
     "shell.execute_reply.started": "2021-10-24T04:08:18.392274Z"
    },
    "papermill": {
     "duration": 0.062945,
     "end_time": "2021-10-24T06:01:27.858969",
     "exception": false,
     "start_time": "2021-10-24T06:01:27.796024",
     "status": "completed"
    },
    "tags": []
   },
   "outputs": [
    {
     "data": {
      "text/plain": [
       "서울    9904312\n",
       "부산    3448737\n",
       "인천    2890451\n",
       "대구    2466052\n",
       "dtype: int64"
      ]
     },
     "execution_count": 2,
     "metadata": {},
     "output_type": "execute_result"
    }
   ],
   "source": [
    "s = pd.Series([9904312, 3448737, 2890451, 2466052], index=[\"서울\",\"부산\",\"인천\",\"대구\"])\n",
    "s"
   ]
  },
  {
   "cell_type": "markdown",
   "id": "dbf3d18c",
   "metadata": {
    "papermill": {
     "duration": 0.064821,
     "end_time": "2021-10-24T06:01:27.979188",
     "exception": false,
     "start_time": "2021-10-24T06:01:27.914367",
     "status": "completed"
    },
    "tags": []
   },
   "source": [
    "s.index s.values 로 인덱스나 값에 접근 가능."
   ]
  },
  {
   "cell_type": "code",
   "execution_count": 3,
   "id": "0535e75a",
   "metadata": {
    "execution": {
     "iopub.execute_input": "2021-10-24T06:01:28.144160Z",
     "iopub.status.busy": "2021-10-24T06:01:28.143487Z",
     "iopub.status.idle": "2021-10-24T06:01:28.148946Z",
     "shell.execute_reply": "2021-10-24T06:01:28.149601Z",
     "shell.execute_reply.started": "2021-10-24T04:10:49.323830Z"
    },
    "papermill": {
     "duration": 0.056057,
     "end_time": "2021-10-24T06:01:28.149785",
     "exception": false,
     "start_time": "2021-10-24T06:01:28.093728",
     "status": "completed"
    },
    "tags": []
   },
   "outputs": [
    {
     "data": {
      "text/plain": [
       "Index(['서울', '부산', '인천', '대구'], dtype='object')"
      ]
     },
     "execution_count": 3,
     "metadata": {},
     "output_type": "execute_result"
    }
   ],
   "source": [
    "s.index"
   ]
  },
  {
   "cell_type": "code",
   "execution_count": 4,
   "id": "84bf86f7",
   "metadata": {
    "execution": {
     "iopub.execute_input": "2021-10-24T06:01:28.249092Z",
     "iopub.status.busy": "2021-10-24T06:01:28.248371Z",
     "iopub.status.idle": "2021-10-24T06:01:28.254495Z",
     "shell.execute_reply": "2021-10-24T06:01:28.255064Z",
     "shell.execute_reply.started": "2021-10-24T04:10:59.792749Z"
    },
    "papermill": {
     "duration": 0.057321,
     "end_time": "2021-10-24T06:01:28.255257",
     "exception": false,
     "start_time": "2021-10-24T06:01:28.197936",
     "status": "completed"
    },
    "tags": []
   },
   "outputs": [
    {
     "data": {
      "text/plain": [
       "array([9904312, 3448737, 2890451, 2466052])"
      ]
     },
     "execution_count": 4,
     "metadata": {},
     "output_type": "execute_result"
    }
   ],
   "source": [
    "s.values"
   ]
  },
  {
   "cell_type": "markdown",
   "id": "070a2523",
   "metadata": {
    "papermill": {
     "duration": 0.047526,
     "end_time": "2021-10-24T06:01:28.350314",
     "exception": false,
     "start_time": "2021-10-24T06:01:28.302788",
     "status": "completed"
    },
    "tags": []
   },
   "source": [
    "s / 1000000과 같은 형식으로 시리즈에 연산 가능. \n",
    "value값에 전부 다 적용됨."
   ]
  },
  {
   "cell_type": "code",
   "execution_count": 5,
   "id": "ebd88c1b",
   "metadata": {
    "execution": {
     "iopub.execute_input": "2021-10-24T06:01:28.447981Z",
     "iopub.status.busy": "2021-10-24T06:01:28.447345Z",
     "iopub.status.idle": "2021-10-24T06:01:28.453591Z",
     "shell.execute_reply": "2021-10-24T06:01:28.454143Z",
     "shell.execute_reply.started": "2021-10-24T04:12:59.005292Z"
    },
    "papermill": {
     "duration": 0.056862,
     "end_time": "2021-10-24T06:01:28.454310",
     "exception": false,
     "start_time": "2021-10-24T06:01:28.397448",
     "status": "completed"
    },
    "tags": []
   },
   "outputs": [
    {
     "data": {
      "text/plain": [
       "서울    9.904312\n",
       "부산    3.448737\n",
       "인천    2.890451\n",
       "대구    2.466052\n",
       "dtype: float64"
      ]
     },
     "execution_count": 5,
     "metadata": {},
     "output_type": "execute_result"
    }
   ],
   "source": [
    "s / 1000000"
   ]
  },
  {
   "cell_type": "markdown",
   "id": "6e57e85c",
   "metadata": {
    "papermill": {
     "duration": 0.048085,
     "end_time": "2021-10-24T06:01:28.551268",
     "exception": false,
     "start_time": "2021-10-24T06:01:28.503183",
     "status": "completed"
    },
    "tags": []
   },
   "source": [
    "다양한 인덱싱 방법. 한번 보기\n",
    "<br>라벨값이 영문 문자열이면 s.a, s.b식의 접근도 가능."
   ]
  },
  {
   "cell_type": "code",
   "execution_count": 6,
   "id": "15f835ad",
   "metadata": {
    "execution": {
     "iopub.execute_input": "2021-10-24T06:01:28.651684Z",
     "iopub.status.busy": "2021-10-24T06:01:28.650949Z",
     "iopub.status.idle": "2021-10-24T06:01:28.667036Z",
     "shell.execute_reply": "2021-10-24T06:01:28.667670Z",
     "shell.execute_reply.started": "2021-10-24T04:17:16.529909Z"
    },
    "papermill": {
     "duration": 0.067642,
     "end_time": "2021-10-24T06:01:28.667835",
     "exception": false,
     "start_time": "2021-10-24T06:01:28.600193",
     "status": "completed"
    },
    "tags": []
   },
   "outputs": [
    {
     "data": {
      "text/plain": [
       "부산    3448737\n",
       "인천    2890451\n",
       "대구    2466052\n",
       "dtype: int64"
      ]
     },
     "execution_count": 6,
     "metadata": {},
     "output_type": "execute_result"
    }
   ],
   "source": [
    "s[3], s[\"대구\"]\n",
    "s[[0, 3, 1]]\n",
    "s[[\"서울\", \"대구\", \"부산\"]]\n",
    "s[(250e4 < s) & (s < 500e4)]\n",
    "s[1:3]\n",
    "s[\"부산\":\"대구\"]"
   ]
  },
  {
   "cell_type": "markdown",
   "id": "442c3aca",
   "metadata": {
    "papermill": {
     "duration": 0.04781,
     "end_time": "2021-10-24T06:01:28.763806",
     "exception": false,
     "start_time": "2021-10-24T06:01:28.715996",
     "status": "completed"
    },
    "tags": []
   },
   "source": [
    "시리즈도 key, value로 정의가 된다. 그러므로 딕셔너리와 비슷하게 사용할 수 있다.<br>\n",
    "딕셔너리에서 제공하는 in 연산도 가능하고(boolean) items를 이용해 각 원소의 key value에도 접근 가능하다."
   ]
  },
  {
   "cell_type": "code",
   "execution_count": 7,
   "id": "84769039",
   "metadata": {
    "execution": {
     "iopub.execute_input": "2021-10-24T06:01:28.863468Z",
     "iopub.status.busy": "2021-10-24T06:01:28.862865Z",
     "iopub.status.idle": "2021-10-24T06:01:28.867443Z",
     "shell.execute_reply": "2021-10-24T06:01:28.868036Z",
     "shell.execute_reply.started": "2021-10-24T04:26:36.093480Z"
    },
    "papermill": {
     "duration": 0.056314,
     "end_time": "2021-10-24T06:01:28.868221",
     "exception": false,
     "start_time": "2021-10-24T06:01:28.811907",
     "status": "completed"
    },
    "tags": []
   },
   "outputs": [
    {
     "data": {
      "text/plain": [
       "True"
      ]
     },
     "execution_count": 7,
     "metadata": {},
     "output_type": "execute_result"
    }
   ],
   "source": [
    "\"서울\" in s"
   ]
  },
  {
   "cell_type": "code",
   "execution_count": 8,
   "id": "87bd98df",
   "metadata": {
    "execution": {
     "iopub.execute_input": "2021-10-24T06:01:28.969775Z",
     "iopub.status.busy": "2021-10-24T06:01:28.969093Z",
     "iopub.status.idle": "2021-10-24T06:01:28.974904Z",
     "shell.execute_reply": "2021-10-24T06:01:28.975656Z",
     "shell.execute_reply.started": "2021-10-24T04:28:01.390945Z"
    },
    "papermill": {
     "duration": 0.05871,
     "end_time": "2021-10-24T06:01:28.975912",
     "exception": false,
     "start_time": "2021-10-24T06:01:28.917202",
     "status": "completed"
    },
    "tags": []
   },
   "outputs": [
    {
     "name": "stdout",
     "output_type": "stream",
     "text": [
      "서울 = 9904312\n",
      "부산 = 3448737\n",
      "인천 = 2890451\n",
      "대구 = 2466052\n"
     ]
    }
   ],
   "source": [
    "for k, v in s.items():\n",
    "    print(\"%s = %d\" % (k ,v)) #이렇게 쓰는것도 알아두기"
   ]
  },
  {
   "cell_type": "markdown",
   "id": "6604690a",
   "metadata": {
    "papermill": {
     "duration": 0.04873,
     "end_time": "2021-10-24T06:01:29.075469",
     "exception": false,
     "start_time": "2021-10-24T06:01:29.026739",
     "status": "completed"
    },
    "tags": []
   },
   "source": [
    "딕셔너리 객체로 시리즈를 만들 수 도 있지만, 딕셔너리의 원소들은 순서를 보장하지 않는다. 그러므로 순서를 정하고 싶으면 인덱스를 리스트로 지정해야 한다."
   ]
  },
  {
   "cell_type": "code",
   "execution_count": 9,
   "id": "26b46550",
   "metadata": {
    "execution": {
     "iopub.execute_input": "2021-10-24T06:01:29.177177Z",
     "iopub.status.busy": "2021-10-24T06:01:29.176534Z",
     "iopub.status.idle": "2021-10-24T06:01:29.183407Z",
     "shell.execute_reply": "2021-10-24T06:01:29.184009Z",
     "shell.execute_reply.started": "2021-10-24T04:29:46.638753Z"
    },
    "papermill": {
     "duration": 0.05942,
     "end_time": "2021-10-24T06:01:29.184192",
     "exception": false,
     "start_time": "2021-10-24T06:01:29.124772",
     "status": "completed"
    },
    "tags": []
   },
   "outputs": [
    {
     "data": {
      "text/plain": [
       "서울    9631482\n",
       "부산    3393191\n",
       "인천    2632035\n",
       "대전    1490158\n",
       "dtype: int64"
      ]
     },
     "execution_count": 9,
     "metadata": {},
     "output_type": "execute_result"
    }
   ],
   "source": [
    "s2 = pd.Series({\"서울\": 9631482, \"부산\": 3393191, \"인천\": 2632035, \"대전\": 1490158})\n",
    "s2"
   ]
  },
  {
   "cell_type": "code",
   "execution_count": 10,
   "id": "1ffd36a4",
   "metadata": {
    "execution": {
     "iopub.execute_input": "2021-10-24T06:01:29.286929Z",
     "iopub.status.busy": "2021-10-24T06:01:29.286287Z",
     "iopub.status.idle": "2021-10-24T06:01:29.295964Z",
     "shell.execute_reply": "2021-10-24T06:01:29.296514Z",
     "shell.execute_reply.started": "2021-10-24T04:29:52.203528Z"
    },
    "papermill": {
     "duration": 0.062945,
     "end_time": "2021-10-24T06:01:29.296691",
     "exception": false,
     "start_time": "2021-10-24T06:01:29.233746",
     "status": "completed"
    },
    "tags": []
   },
   "outputs": [
    {
     "data": {
      "text/plain": [
       "부산    3393191\n",
       "서울    9631482\n",
       "인천    2632035\n",
       "대전    1490158\n",
       "dtype: int64"
      ]
     },
     "execution_count": 10,
     "metadata": {},
     "output_type": "execute_result"
    }
   ],
   "source": [
    "s2 = pd.Series({\"서울\": 9631482, \"부산\": 3393191, \"인천\": 2632035, \"대전\": 1490158},\n",
    "               index=[\"부산\", \"서울\", \"인천\", \"대전\"])\n",
    "s2"
   ]
  },
  {
   "cell_type": "markdown",
   "id": "4d4de4b7",
   "metadata": {
    "papermill": {
     "duration": 0.049685,
     "end_time": "2021-10-24T06:01:29.396684",
     "exception": false,
     "start_time": "2021-10-24T06:01:29.346999",
     "status": "completed"
    },
    "tags": []
   },
   "source": [
    "두개의 시리즈를 이용해 연산하는 것도 가능. 같은 인덱스에 대한 연산만 가능하고, 다른 인덱스가 있으면 NaN으로 표시된다.(NaN은 float에서만 가능하므로 모든 값이 float로 바뀜.)"
   ]
  },
  {
   "cell_type": "code",
   "execution_count": 11,
   "id": "2abf504a",
   "metadata": {
    "execution": {
     "iopub.execute_input": "2021-10-24T06:01:29.499191Z",
     "iopub.status.busy": "2021-10-24T06:01:29.498544Z",
     "iopub.status.idle": "2021-10-24T06:01:29.508060Z",
     "shell.execute_reply": "2021-10-24T06:01:29.508663Z",
     "shell.execute_reply.started": "2021-10-24T04:31:53.648146Z"
    },
    "papermill": {
     "duration": 0.062511,
     "end_time": "2021-10-24T06:01:29.508827",
     "exception": false,
     "start_time": "2021-10-24T06:01:29.446316",
     "status": "completed"
    },
    "tags": []
   },
   "outputs": [
    {
     "data": {
      "text/plain": [
       "대구         NaN\n",
       "대전         NaN\n",
       "부산     55546.0\n",
       "서울    272830.0\n",
       "인천    258416.0\n",
       "dtype: float64"
      ]
     },
     "execution_count": 11,
     "metadata": {},
     "output_type": "execute_result"
    }
   ],
   "source": [
    "ds = s - s2\n",
    "ds"
   ]
  },
  {
   "cell_type": "markdown",
   "id": "46d27b18",
   "metadata": {
    "papermill": {
     "duration": 0.049913,
     "end_time": "2021-10-24T06:01:29.610050",
     "exception": false,
     "start_time": "2021-10-24T06:01:29.560137",
     "status": "completed"
    },
    "tags": []
   },
   "source": [
    "NaN이 아닌 값에만 접근하고 싶으면 ds.notnull() 사용."
   ]
  },
  {
   "cell_type": "code",
   "execution_count": 12,
   "id": "273009a9",
   "metadata": {
    "execution": {
     "iopub.execute_input": "2021-10-24T06:01:29.713123Z",
     "iopub.status.busy": "2021-10-24T06:01:29.712499Z",
     "iopub.status.idle": "2021-10-24T06:01:29.718557Z",
     "shell.execute_reply": "2021-10-24T06:01:29.719209Z",
     "shell.execute_reply.started": "2021-10-24T04:32:58.933659Z"
    },
    "papermill": {
     "duration": 0.059198,
     "end_time": "2021-10-24T06:01:29.719388",
     "exception": false,
     "start_time": "2021-10-24T06:01:29.660190",
     "status": "completed"
    },
    "tags": []
   },
   "outputs": [
    {
     "data": {
      "text/plain": [
       "대구    False\n",
       "대전    False\n",
       "부산     True\n",
       "서울     True\n",
       "인천     True\n",
       "dtype: bool"
      ]
     },
     "execution_count": 12,
     "metadata": {},
     "output_type": "execute_result"
    }
   ],
   "source": [
    "ds.notnull()"
   ]
  },
  {
   "cell_type": "code",
   "execution_count": 13,
   "id": "5f703daf",
   "metadata": {
    "execution": {
     "iopub.execute_input": "2021-10-24T06:01:29.823097Z",
     "iopub.status.busy": "2021-10-24T06:01:29.822442Z",
     "iopub.status.idle": "2021-10-24T06:01:29.828442Z",
     "shell.execute_reply": "2021-10-24T06:01:29.829026Z",
     "shell.execute_reply.started": "2021-10-24T04:33:04.490964Z"
    },
    "papermill": {
     "duration": 0.059373,
     "end_time": "2021-10-24T06:01:29.829207",
     "exception": false,
     "start_time": "2021-10-24T06:01:29.769834",
     "status": "completed"
    },
    "tags": []
   },
   "outputs": [
    {
     "data": {
      "text/plain": [
       "부산     55546.0\n",
       "서울    272830.0\n",
       "인천    258416.0\n",
       "dtype: float64"
      ]
     },
     "execution_count": 13,
     "metadata": {},
     "output_type": "execute_result"
    }
   ],
   "source": [
    "ds[ds.notnull()]"
   ]
  },
  {
   "cell_type": "markdown",
   "id": "4b76ed06",
   "metadata": {
    "papermill": {
     "duration": 0.049768,
     "end_time": "2021-10-24T06:01:29.929621",
     "exception": false,
     "start_time": "2021-10-24T06:01:29.879853",
     "status": "completed"
    },
    "tags": []
   },
   "source": [
    "데이터를 삭제할떄는 del 명령어를 사용한다."
   ]
  },
  {
   "cell_type": "code",
   "execution_count": 14,
   "id": "b59145ed",
   "metadata": {
    "execution": {
     "iopub.execute_input": "2021-10-24T06:01:30.035308Z",
     "iopub.status.busy": "2021-10-24T06:01:30.034705Z",
     "iopub.status.idle": "2021-10-24T06:01:30.041743Z",
     "shell.execute_reply": "2021-10-24T06:01:30.041237Z",
     "shell.execute_reply.started": "2021-10-24T04:33:57.159382Z"
    },
    "papermill": {
     "duration": 0.061077,
     "end_time": "2021-10-24T06:01:30.041879",
     "exception": false,
     "start_time": "2021-10-24T06:01:29.980802",
     "status": "completed"
    },
    "tags": []
   },
   "outputs": [
    {
     "data": {
      "text/plain": [
       "대구         NaN\n",
       "대전         NaN\n",
       "부산     55546.0\n",
       "인천    258416.0\n",
       "dtype: float64"
      ]
     },
     "execution_count": 14,
     "metadata": {},
     "output_type": "execute_result"
    }
   ],
   "source": [
    "del ds[\"서울\"]\n",
    "ds"
   ]
  },
  {
   "cell_type": "markdown",
   "id": "43983c72",
   "metadata": {
    "papermill": {
     "duration": 0.050489,
     "end_time": "2021-10-24T06:01:30.143292",
     "exception": false,
     "start_time": "2021-10-24T06:01:30.092803",
     "status": "completed"
    },
    "tags": []
   },
   "source": [
    "데이터프레임<br>\n",
    "column은 열, index가 행. data는 딕셔너리 형태로 생성<br>\n",
    "데이터프레임은 2차원 배열 데이터를 기반으로 하는것 처럼 보이지만, 공통 인덱스를 가지는 column Series를 딕셔너리로 묶어놓은 것이 더 정확. 각 column마다 자료형이 다를 수 있기 때문이다.<br>\n",
    "그래도 numpy 2차원 배열이 가지는 대부분의 속성, 메서드를 지원한다. (한번 찾아보기. ex) 전치 df.T)"
   ]
  },
  {
   "cell_type": "code",
   "execution_count": 15,
   "id": "bcae9b16",
   "metadata": {
    "execution": {
     "iopub.execute_input": "2021-10-24T06:01:30.256549Z",
     "iopub.status.busy": "2021-10-24T06:01:30.255677Z",
     "iopub.status.idle": "2021-10-24T06:01:30.266841Z",
     "shell.execute_reply": "2021-10-24T06:01:30.267380Z",
     "shell.execute_reply.started": "2021-10-24T04:37:02.526158Z"
    },
    "papermill": {
     "duration": 0.073658,
     "end_time": "2021-10-24T06:01:30.267550",
     "exception": false,
     "start_time": "2021-10-24T06:01:30.193892",
     "status": "completed"
    },
    "tags": []
   },
   "outputs": [
    {
     "data": {
      "text/html": [
       "<div>\n",
       "<style scoped>\n",
       "    .dataframe tbody tr th:only-of-type {\n",
       "        vertical-align: middle;\n",
       "    }\n",
       "\n",
       "    .dataframe tbody tr th {\n",
       "        vertical-align: top;\n",
       "    }\n",
       "\n",
       "    .dataframe thead th {\n",
       "        text-align: right;\n",
       "    }\n",
       "</style>\n",
       "<table border=\"1\" class=\"dataframe\">\n",
       "  <thead>\n",
       "    <tr style=\"text-align: right;\">\n",
       "      <th></th>\n",
       "      <th>지역</th>\n",
       "      <th>2015</th>\n",
       "      <th>2010</th>\n",
       "      <th>2005</th>\n",
       "      <th>2000</th>\n",
       "      <th>2010-2015 증가율</th>\n",
       "    </tr>\n",
       "  </thead>\n",
       "  <tbody>\n",
       "    <tr>\n",
       "      <th>서울</th>\n",
       "      <td>수도권</td>\n",
       "      <td>9904312</td>\n",
       "      <td>9631482</td>\n",
       "      <td>9762546</td>\n",
       "      <td>9853972</td>\n",
       "      <td>0.0283</td>\n",
       "    </tr>\n",
       "    <tr>\n",
       "      <th>부산</th>\n",
       "      <td>경상권</td>\n",
       "      <td>3448737</td>\n",
       "      <td>3393191</td>\n",
       "      <td>3512547</td>\n",
       "      <td>3655437</td>\n",
       "      <td>0.0163</td>\n",
       "    </tr>\n",
       "    <tr>\n",
       "      <th>인천</th>\n",
       "      <td>수도권</td>\n",
       "      <td>2890451</td>\n",
       "      <td>2632035</td>\n",
       "      <td>2517680</td>\n",
       "      <td>2466338</td>\n",
       "      <td>0.0982</td>\n",
       "    </tr>\n",
       "    <tr>\n",
       "      <th>대구</th>\n",
       "      <td>경상권</td>\n",
       "      <td>2466052</td>\n",
       "      <td>2431774</td>\n",
       "      <td>2456016</td>\n",
       "      <td>2473990</td>\n",
       "      <td>0.0141</td>\n",
       "    </tr>\n",
       "  </tbody>\n",
       "</table>\n",
       "</div>"
      ],
      "text/plain": [
       "     지역     2015     2010     2005     2000  2010-2015 증가율\n",
       "서울  수도권  9904312  9631482  9762546  9853972         0.0283\n",
       "부산  경상권  3448737  3393191  3512547  3655437         0.0163\n",
       "인천  수도권  2890451  2632035  2517680  2466338         0.0982\n",
       "대구  경상권  2466052  2431774  2456016  2473990         0.0141"
      ]
     },
     "execution_count": 15,
     "metadata": {},
     "output_type": "execute_result"
    }
   ],
   "source": [
    "data = {\n",
    "    \"2015\": [9904312, 3448737, 2890451, 2466052],\n",
    "    \"2010\": [9631482, 3393191, 2632035, 2431774],\n",
    "    \"2005\": [9762546, 3512547, 2517680, 2456016],\n",
    "    \"2000\": [9853972, 3655437, 2466338, 2473990],\n",
    "    \"지역\": [\"수도권\", \"경상권\", \"수도권\", \"경상권\"],\n",
    "    \"2010-2015 증가율\": [0.0283, 0.0163, 0.0982, 0.0141]\n",
    "}\n",
    "columns = [\"지역\", \"2015\", \"2010\", \"2005\", \"2000\", \"2010-2015 증가율\"]\n",
    "index = [\"서울\", \"부산\", \"인천\", \"대구\"]\n",
    "df = pd.DataFrame(data, index=index, columns=columns)\n",
    "df"
   ]
  },
  {
   "cell_type": "code",
   "execution_count": 16,
   "id": "5e7f3ab1",
   "metadata": {
    "execution": {
     "iopub.execute_input": "2021-10-24T06:01:30.376440Z",
     "iopub.status.busy": "2021-10-24T06:01:30.375808Z",
     "iopub.status.idle": "2021-10-24T06:01:30.379040Z",
     "shell.execute_reply": "2021-10-24T06:01:30.379629Z",
     "shell.execute_reply.started": "2021-10-24T04:39:02.340617Z"
    },
    "papermill": {
     "duration": 0.060578,
     "end_time": "2021-10-24T06:01:30.379790",
     "exception": false,
     "start_time": "2021-10-24T06:01:30.319212",
     "status": "completed"
    },
    "tags": []
   },
   "outputs": [
    {
     "data": {
      "text/plain": [
       "array([['수도권', 9904312, 9631482, 9762546, 9853972, 0.0283],\n",
       "       ['경상권', 3448737, 3393191, 3512547, 3655437, 0.0163],\n",
       "       ['수도권', 2890451, 2632035, 2517680, 2466338, 0.0982],\n",
       "       ['경상권', 2466052, 2431774, 2456016, 2473990, 0.0141]], dtype=object)"
      ]
     },
     "execution_count": 16,
     "metadata": {},
     "output_type": "execute_result"
    }
   ],
   "source": [
    "df.values"
   ]
  },
  {
   "cell_type": "code",
   "execution_count": 17,
   "id": "ea304e02",
   "metadata": {
    "execution": {
     "iopub.execute_input": "2021-10-24T06:01:30.486715Z",
     "iopub.status.busy": "2021-10-24T06:01:30.485966Z",
     "iopub.status.idle": "2021-10-24T06:01:30.490651Z",
     "shell.execute_reply": "2021-10-24T06:01:30.491187Z",
     "shell.execute_reply.started": "2021-10-24T04:39:08.539845Z"
    },
    "papermill": {
     "duration": 0.059363,
     "end_time": "2021-10-24T06:01:30.491350",
     "exception": false,
     "start_time": "2021-10-24T06:01:30.431987",
     "status": "completed"
    },
    "tags": []
   },
   "outputs": [
    {
     "data": {
      "text/plain": [
       "Index(['지역', '2015', '2010', '2005', '2000', '2010-2015 증가율'], dtype='object')"
      ]
     },
     "execution_count": 17,
     "metadata": {},
     "output_type": "execute_result"
    }
   ],
   "source": [
    "df.columns"
   ]
  },
  {
   "cell_type": "code",
   "execution_count": 18,
   "id": "f8c84e69",
   "metadata": {
    "execution": {
     "iopub.execute_input": "2021-10-24T06:01:30.598819Z",
     "iopub.status.busy": "2021-10-24T06:01:30.598227Z",
     "iopub.status.idle": "2021-10-24T06:01:30.603958Z",
     "shell.execute_reply": "2021-10-24T06:01:30.603471Z",
     "shell.execute_reply.started": "2021-10-24T04:39:16.095259Z"
    },
    "papermill": {
     "duration": 0.06059,
     "end_time": "2021-10-24T06:01:30.604114",
     "exception": false,
     "start_time": "2021-10-24T06:01:30.543524",
     "status": "completed"
    },
    "tags": []
   },
   "outputs": [
    {
     "data": {
      "text/plain": [
       "Index(['서울', '부산', '인천', '대구'], dtype='object')"
      ]
     },
     "execution_count": 18,
     "metadata": {},
     "output_type": "execute_result"
    }
   ],
   "source": [
    "df.index"
   ]
  },
  {
   "cell_type": "code",
   "execution_count": 19,
   "id": "e1b571a0",
   "metadata": {
    "execution": {
     "iopub.execute_input": "2021-10-24T06:01:30.712827Z",
     "iopub.status.busy": "2021-10-24T06:01:30.712204Z",
     "iopub.status.idle": "2021-10-24T06:01:30.723320Z",
     "shell.execute_reply": "2021-10-24T06:01:30.722759Z",
     "shell.execute_reply.started": "2021-10-24T04:39:38.148182Z"
    },
    "papermill": {
     "duration": 0.066769,
     "end_time": "2021-10-24T06:01:30.723454",
     "exception": false,
     "start_time": "2021-10-24T06:01:30.656685",
     "status": "completed"
    },
    "tags": []
   },
   "outputs": [
    {
     "data": {
      "text/html": [
       "<div>\n",
       "<style scoped>\n",
       "    .dataframe tbody tr th:only-of-type {\n",
       "        vertical-align: middle;\n",
       "    }\n",
       "\n",
       "    .dataframe tbody tr th {\n",
       "        vertical-align: top;\n",
       "    }\n",
       "\n",
       "    .dataframe thead th {\n",
       "        text-align: right;\n",
       "    }\n",
       "</style>\n",
       "<table border=\"1\" class=\"dataframe\">\n",
       "  <thead>\n",
       "    <tr style=\"text-align: right;\">\n",
       "      <th>특성</th>\n",
       "      <th>지역</th>\n",
       "      <th>2015</th>\n",
       "      <th>2010</th>\n",
       "      <th>2005</th>\n",
       "      <th>2000</th>\n",
       "      <th>2010-2015 증가율</th>\n",
       "    </tr>\n",
       "    <tr>\n",
       "      <th>도시</th>\n",
       "      <th></th>\n",
       "      <th></th>\n",
       "      <th></th>\n",
       "      <th></th>\n",
       "      <th></th>\n",
       "      <th></th>\n",
       "    </tr>\n",
       "  </thead>\n",
       "  <tbody>\n",
       "    <tr>\n",
       "      <th>서울</th>\n",
       "      <td>수도권</td>\n",
       "      <td>9904312</td>\n",
       "      <td>9631482</td>\n",
       "      <td>9762546</td>\n",
       "      <td>9853972</td>\n",
       "      <td>0.0283</td>\n",
       "    </tr>\n",
       "    <tr>\n",
       "      <th>부산</th>\n",
       "      <td>경상권</td>\n",
       "      <td>3448737</td>\n",
       "      <td>3393191</td>\n",
       "      <td>3512547</td>\n",
       "      <td>3655437</td>\n",
       "      <td>0.0163</td>\n",
       "    </tr>\n",
       "    <tr>\n",
       "      <th>인천</th>\n",
       "      <td>수도권</td>\n",
       "      <td>2890451</td>\n",
       "      <td>2632035</td>\n",
       "      <td>2517680</td>\n",
       "      <td>2466338</td>\n",
       "      <td>0.0982</td>\n",
       "    </tr>\n",
       "    <tr>\n",
       "      <th>대구</th>\n",
       "      <td>경상권</td>\n",
       "      <td>2466052</td>\n",
       "      <td>2431774</td>\n",
       "      <td>2456016</td>\n",
       "      <td>2473990</td>\n",
       "      <td>0.0141</td>\n",
       "    </tr>\n",
       "  </tbody>\n",
       "</table>\n",
       "</div>"
      ],
      "text/plain": [
       "특성   지역     2015     2010     2005     2000  2010-2015 증가율\n",
       "도시                                                        \n",
       "서울  수도권  9904312  9631482  9762546  9853972         0.0283\n",
       "부산  경상권  3448737  3393191  3512547  3655437         0.0163\n",
       "인천  수도권  2890451  2632035  2517680  2466338         0.0982\n",
       "대구  경상권  2466052  2431774  2456016  2473990         0.0141"
      ]
     },
     "execution_count": 19,
     "metadata": {},
     "output_type": "execute_result"
    }
   ],
   "source": [
    "df.index.name = \"도시\"\n",
    "df.columns.name = \"특성\"\n",
    "df"
   ]
  },
  {
   "cell_type": "markdown",
   "id": "71d734f6",
   "metadata": {
    "papermill": {
     "duration": 0.052523,
     "end_time": "2021-10-24T06:01:30.828966",
     "exception": false,
     "start_time": "2021-10-24T06:01:30.776443",
     "status": "completed"
    },
    "tags": []
   },
   "source": [
    "열단위로 데이터 갱신, 추가, 삭제 가능."
   ]
  },
  {
   "cell_type": "code",
   "execution_count": 20,
   "id": "06adf0c4",
   "metadata": {
    "execution": {
     "iopub.execute_input": "2021-10-24T06:01:30.939537Z",
     "iopub.status.busy": "2021-10-24T06:01:30.938868Z",
     "iopub.status.idle": "2021-10-24T06:01:30.950856Z",
     "shell.execute_reply": "2021-10-24T06:01:30.951446Z",
     "shell.execute_reply.started": "2021-10-24T04:43:21.367522Z"
    },
    "papermill": {
     "duration": 0.069232,
     "end_time": "2021-10-24T06:01:30.951623",
     "exception": false,
     "start_time": "2021-10-24T06:01:30.882391",
     "status": "completed"
    },
    "tags": []
   },
   "outputs": [
    {
     "data": {
      "text/html": [
       "<div>\n",
       "<style scoped>\n",
       "    .dataframe tbody tr th:only-of-type {\n",
       "        vertical-align: middle;\n",
       "    }\n",
       "\n",
       "    .dataframe tbody tr th {\n",
       "        vertical-align: top;\n",
       "    }\n",
       "\n",
       "    .dataframe thead th {\n",
       "        text-align: right;\n",
       "    }\n",
       "</style>\n",
       "<table border=\"1\" class=\"dataframe\">\n",
       "  <thead>\n",
       "    <tr style=\"text-align: right;\">\n",
       "      <th>특성</th>\n",
       "      <th>지역</th>\n",
       "      <th>2015</th>\n",
       "      <th>2010</th>\n",
       "      <th>2005</th>\n",
       "      <th>2000</th>\n",
       "      <th>2010-2015 증가율</th>\n",
       "    </tr>\n",
       "    <tr>\n",
       "      <th>도시</th>\n",
       "      <th></th>\n",
       "      <th></th>\n",
       "      <th></th>\n",
       "      <th></th>\n",
       "      <th></th>\n",
       "      <th></th>\n",
       "    </tr>\n",
       "  </thead>\n",
       "  <tbody>\n",
       "    <tr>\n",
       "      <th>서울</th>\n",
       "      <td>수도권</td>\n",
       "      <td>9904312</td>\n",
       "      <td>9631482</td>\n",
       "      <td>9762546</td>\n",
       "      <td>9853972</td>\n",
       "      <td>2.83</td>\n",
       "    </tr>\n",
       "    <tr>\n",
       "      <th>부산</th>\n",
       "      <td>경상권</td>\n",
       "      <td>3448737</td>\n",
       "      <td>3393191</td>\n",
       "      <td>3512547</td>\n",
       "      <td>3655437</td>\n",
       "      <td>1.63</td>\n",
       "    </tr>\n",
       "    <tr>\n",
       "      <th>인천</th>\n",
       "      <td>수도권</td>\n",
       "      <td>2890451</td>\n",
       "      <td>2632035</td>\n",
       "      <td>2517680</td>\n",
       "      <td>2466338</td>\n",
       "      <td>9.82</td>\n",
       "    </tr>\n",
       "    <tr>\n",
       "      <th>대구</th>\n",
       "      <td>경상권</td>\n",
       "      <td>2466052</td>\n",
       "      <td>2431774</td>\n",
       "      <td>2456016</td>\n",
       "      <td>2473990</td>\n",
       "      <td>1.41</td>\n",
       "    </tr>\n",
       "  </tbody>\n",
       "</table>\n",
       "</div>"
      ],
      "text/plain": [
       "특성   지역     2015     2010     2005     2000  2010-2015 증가율\n",
       "도시                                                        \n",
       "서울  수도권  9904312  9631482  9762546  9853972           2.83\n",
       "부산  경상권  3448737  3393191  3512547  3655437           1.63\n",
       "인천  수도권  2890451  2632035  2517680  2466338           9.82\n",
       "대구  경상권  2466052  2431774  2456016  2473990           1.41"
      ]
     },
     "execution_count": 20,
     "metadata": {},
     "output_type": "execute_result"
    }
   ],
   "source": [
    "df[\"2010-2015 증가율\"] = df[\"2010-2015 증가율\"] * 100\n",
    "df"
   ]
  },
  {
   "cell_type": "markdown",
   "id": "e919c203",
   "metadata": {
    "papermill": {
     "duration": 0.053459,
     "end_time": "2021-10-24T06:01:31.061042",
     "exception": false,
     "start_time": "2021-10-24T06:01:31.007583",
     "status": "completed"
    },
    "tags": []
   },
   "source": [
    "추가"
   ]
  },
  {
   "cell_type": "code",
   "execution_count": 21,
   "id": "414ecdcf",
   "metadata": {
    "execution": {
     "iopub.execute_input": "2021-10-24T06:01:31.170993Z",
     "iopub.status.busy": "2021-10-24T06:01:31.170364Z",
     "iopub.status.idle": "2021-10-24T06:01:31.182978Z",
     "shell.execute_reply": "2021-10-24T06:01:31.183512Z",
     "shell.execute_reply.started": "2021-10-24T04:43:28.927141Z"
    },
    "papermill": {
     "duration": 0.069111,
     "end_time": "2021-10-24T06:01:31.183693",
     "exception": false,
     "start_time": "2021-10-24T06:01:31.114582",
     "status": "completed"
    },
    "tags": []
   },
   "outputs": [
    {
     "data": {
      "text/html": [
       "<div>\n",
       "<style scoped>\n",
       "    .dataframe tbody tr th:only-of-type {\n",
       "        vertical-align: middle;\n",
       "    }\n",
       "\n",
       "    .dataframe tbody tr th {\n",
       "        vertical-align: top;\n",
       "    }\n",
       "\n",
       "    .dataframe thead th {\n",
       "        text-align: right;\n",
       "    }\n",
       "</style>\n",
       "<table border=\"1\" class=\"dataframe\">\n",
       "  <thead>\n",
       "    <tr style=\"text-align: right;\">\n",
       "      <th>특성</th>\n",
       "      <th>지역</th>\n",
       "      <th>2015</th>\n",
       "      <th>2010</th>\n",
       "      <th>2005</th>\n",
       "      <th>2000</th>\n",
       "      <th>2010-2015 증가율</th>\n",
       "      <th>2005-2010 증가율</th>\n",
       "    </tr>\n",
       "    <tr>\n",
       "      <th>도시</th>\n",
       "      <th></th>\n",
       "      <th></th>\n",
       "      <th></th>\n",
       "      <th></th>\n",
       "      <th></th>\n",
       "      <th></th>\n",
       "      <th></th>\n",
       "    </tr>\n",
       "  </thead>\n",
       "  <tbody>\n",
       "    <tr>\n",
       "      <th>서울</th>\n",
       "      <td>수도권</td>\n",
       "      <td>9904312</td>\n",
       "      <td>9631482</td>\n",
       "      <td>9762546</td>\n",
       "      <td>9853972</td>\n",
       "      <td>2.83</td>\n",
       "      <td>-1.34</td>\n",
       "    </tr>\n",
       "    <tr>\n",
       "      <th>부산</th>\n",
       "      <td>경상권</td>\n",
       "      <td>3448737</td>\n",
       "      <td>3393191</td>\n",
       "      <td>3512547</td>\n",
       "      <td>3655437</td>\n",
       "      <td>1.63</td>\n",
       "      <td>-3.40</td>\n",
       "    </tr>\n",
       "    <tr>\n",
       "      <th>인천</th>\n",
       "      <td>수도권</td>\n",
       "      <td>2890451</td>\n",
       "      <td>2632035</td>\n",
       "      <td>2517680</td>\n",
       "      <td>2466338</td>\n",
       "      <td>9.82</td>\n",
       "      <td>4.54</td>\n",
       "    </tr>\n",
       "    <tr>\n",
       "      <th>대구</th>\n",
       "      <td>경상권</td>\n",
       "      <td>2466052</td>\n",
       "      <td>2431774</td>\n",
       "      <td>2456016</td>\n",
       "      <td>2473990</td>\n",
       "      <td>1.41</td>\n",
       "      <td>-0.99</td>\n",
       "    </tr>\n",
       "  </tbody>\n",
       "</table>\n",
       "</div>"
      ],
      "text/plain": [
       "특성   지역     2015     2010     2005     2000  2010-2015 증가율  2005-2010 증가율\n",
       "도시                                                                       \n",
       "서울  수도권  9904312  9631482  9762546  9853972           2.83          -1.34\n",
       "부산  경상권  3448737  3393191  3512547  3655437           1.63          -3.40\n",
       "인천  수도권  2890451  2632035  2517680  2466338           9.82           4.54\n",
       "대구  경상권  2466052  2431774  2456016  2473990           1.41          -0.99"
      ]
     },
     "execution_count": 21,
     "metadata": {},
     "output_type": "execute_result"
    }
   ],
   "source": [
    "df[\"2005-2010 증가율\"] = ((df[\"2010\"] - df[\"2005\"]) / df[\"2005\"] * 100).round(2)\n",
    "df"
   ]
  },
  {
   "cell_type": "markdown",
   "id": "6837da61",
   "metadata": {
    "papermill": {
     "duration": 0.053055,
     "end_time": "2021-10-24T06:01:31.290334",
     "exception": false,
     "start_time": "2021-10-24T06:01:31.237279",
     "status": "completed"
    },
    "tags": []
   },
   "source": [
    "삭제"
   ]
  },
  {
   "cell_type": "code",
   "execution_count": 22,
   "id": "406fe201",
   "metadata": {
    "execution": {
     "iopub.execute_input": "2021-10-24T06:01:31.401340Z",
     "iopub.status.busy": "2021-10-24T06:01:31.400723Z",
     "iopub.status.idle": "2021-10-24T06:01:31.410549Z",
     "shell.execute_reply": "2021-10-24T06:01:31.411167Z",
     "shell.execute_reply.started": "2021-10-24T04:43:55.289369Z"
    },
    "papermill": {
     "duration": 0.06684,
     "end_time": "2021-10-24T06:01:31.411331",
     "exception": false,
     "start_time": "2021-10-24T06:01:31.344491",
     "status": "completed"
    },
    "tags": []
   },
   "outputs": [
    {
     "data": {
      "text/html": [
       "<div>\n",
       "<style scoped>\n",
       "    .dataframe tbody tr th:only-of-type {\n",
       "        vertical-align: middle;\n",
       "    }\n",
       "\n",
       "    .dataframe tbody tr th {\n",
       "        vertical-align: top;\n",
       "    }\n",
       "\n",
       "    .dataframe thead th {\n",
       "        text-align: right;\n",
       "    }\n",
       "</style>\n",
       "<table border=\"1\" class=\"dataframe\">\n",
       "  <thead>\n",
       "    <tr style=\"text-align: right;\">\n",
       "      <th>특성</th>\n",
       "      <th>지역</th>\n",
       "      <th>2015</th>\n",
       "      <th>2010</th>\n",
       "      <th>2005</th>\n",
       "      <th>2000</th>\n",
       "      <th>2005-2010 증가율</th>\n",
       "    </tr>\n",
       "    <tr>\n",
       "      <th>도시</th>\n",
       "      <th></th>\n",
       "      <th></th>\n",
       "      <th></th>\n",
       "      <th></th>\n",
       "      <th></th>\n",
       "      <th></th>\n",
       "    </tr>\n",
       "  </thead>\n",
       "  <tbody>\n",
       "    <tr>\n",
       "      <th>서울</th>\n",
       "      <td>수도권</td>\n",
       "      <td>9904312</td>\n",
       "      <td>9631482</td>\n",
       "      <td>9762546</td>\n",
       "      <td>9853972</td>\n",
       "      <td>-1.34</td>\n",
       "    </tr>\n",
       "    <tr>\n",
       "      <th>부산</th>\n",
       "      <td>경상권</td>\n",
       "      <td>3448737</td>\n",
       "      <td>3393191</td>\n",
       "      <td>3512547</td>\n",
       "      <td>3655437</td>\n",
       "      <td>-3.40</td>\n",
       "    </tr>\n",
       "    <tr>\n",
       "      <th>인천</th>\n",
       "      <td>수도권</td>\n",
       "      <td>2890451</td>\n",
       "      <td>2632035</td>\n",
       "      <td>2517680</td>\n",
       "      <td>2466338</td>\n",
       "      <td>4.54</td>\n",
       "    </tr>\n",
       "    <tr>\n",
       "      <th>대구</th>\n",
       "      <td>경상권</td>\n",
       "      <td>2466052</td>\n",
       "      <td>2431774</td>\n",
       "      <td>2456016</td>\n",
       "      <td>2473990</td>\n",
       "      <td>-0.99</td>\n",
       "    </tr>\n",
       "  </tbody>\n",
       "</table>\n",
       "</div>"
      ],
      "text/plain": [
       "특성   지역     2015     2010     2005     2000  2005-2010 증가율\n",
       "도시                                                        \n",
       "서울  수도권  9904312  9631482  9762546  9853972          -1.34\n",
       "부산  경상권  3448737  3393191  3512547  3655437          -3.40\n",
       "인천  수도권  2890451  2632035  2517680  2466338           4.54\n",
       "대구  경상권  2466052  2431774  2456016  2473990          -0.99"
      ]
     },
     "execution_count": 22,
     "metadata": {},
     "output_type": "execute_result"
    }
   ],
   "source": [
    "del df[\"2010-2015 증가율\"]\n",
    "df"
   ]
  },
  {
   "cell_type": "markdown",
   "id": "9e5bbb6d",
   "metadata": {
    "papermill": {
     "duration": 0.053994,
     "end_time": "2021-10-24T06:01:31.519680",
     "exception": false,
     "start_time": "2021-10-24T06:01:31.465686",
     "status": "completed"
    },
    "tags": []
   },
   "source": [
    "열 인덱싱<br>\n",
    "df[0]과 같이 정수를 인덱스로 사용하는 것은 행 인덱싱에서 사용하므로 안된다.<br>\n",
    "하지만 애초에 열 인덱스가 정수형이라면 정수사용 가능."
   ]
  },
  {
   "cell_type": "code",
   "execution_count": 23,
   "id": "cca59947",
   "metadata": {
    "execution": {
     "iopub.execute_input": "2021-10-24T06:01:31.631399Z",
     "iopub.status.busy": "2021-10-24T06:01:31.630787Z",
     "iopub.status.idle": "2021-10-24T06:01:31.636492Z",
     "shell.execute_reply": "2021-10-24T06:01:31.637094Z",
     "shell.execute_reply.started": "2021-10-24T04:45:57.645042Z"
    },
    "papermill": {
     "duration": 0.063214,
     "end_time": "2021-10-24T06:01:31.637254",
     "exception": false,
     "start_time": "2021-10-24T06:01:31.574040",
     "status": "completed"
    },
    "tags": []
   },
   "outputs": [
    {
     "data": {
      "text/plain": [
       "도시\n",
       "서울    수도권\n",
       "부산    경상권\n",
       "인천    수도권\n",
       "대구    경상권\n",
       "Name: 지역, dtype: object"
      ]
     },
     "execution_count": 23,
     "metadata": {},
     "output_type": "execute_result"
    }
   ],
   "source": [
    "# 하나의 열만 인덱싱하면 시리즈가 반환된다.\n",
    "df[\"지역\"]"
   ]
  },
  {
   "cell_type": "code",
   "execution_count": 24,
   "id": "b18db414",
   "metadata": {
    "execution": {
     "iopub.execute_input": "2021-10-24T06:01:31.749684Z",
     "iopub.status.busy": "2021-10-24T06:01:31.749081Z",
     "iopub.status.idle": "2021-10-24T06:01:31.759610Z",
     "shell.execute_reply": "2021-10-24T06:01:31.760211Z",
     "shell.execute_reply.started": "2021-10-24T04:46:03.188010Z"
    },
    "papermill": {
     "duration": 0.068478,
     "end_time": "2021-10-24T06:01:31.760371",
     "exception": false,
     "start_time": "2021-10-24T06:01:31.691893",
     "status": "completed"
    },
    "tags": []
   },
   "outputs": [
    {
     "data": {
      "text/html": [
       "<div>\n",
       "<style scoped>\n",
       "    .dataframe tbody tr th:only-of-type {\n",
       "        vertical-align: middle;\n",
       "    }\n",
       "\n",
       "    .dataframe tbody tr th {\n",
       "        vertical-align: top;\n",
       "    }\n",
       "\n",
       "    .dataframe thead th {\n",
       "        text-align: right;\n",
       "    }\n",
       "</style>\n",
       "<table border=\"1\" class=\"dataframe\">\n",
       "  <thead>\n",
       "    <tr style=\"text-align: right;\">\n",
       "      <th>특성</th>\n",
       "      <th>2010</th>\n",
       "      <th>2015</th>\n",
       "    </tr>\n",
       "    <tr>\n",
       "      <th>도시</th>\n",
       "      <th></th>\n",
       "      <th></th>\n",
       "    </tr>\n",
       "  </thead>\n",
       "  <tbody>\n",
       "    <tr>\n",
       "      <th>서울</th>\n",
       "      <td>9631482</td>\n",
       "      <td>9904312</td>\n",
       "    </tr>\n",
       "    <tr>\n",
       "      <th>부산</th>\n",
       "      <td>3393191</td>\n",
       "      <td>3448737</td>\n",
       "    </tr>\n",
       "    <tr>\n",
       "      <th>인천</th>\n",
       "      <td>2632035</td>\n",
       "      <td>2890451</td>\n",
       "    </tr>\n",
       "    <tr>\n",
       "      <th>대구</th>\n",
       "      <td>2431774</td>\n",
       "      <td>2466052</td>\n",
       "    </tr>\n",
       "  </tbody>\n",
       "</table>\n",
       "</div>"
      ],
      "text/plain": [
       "특성     2010     2015\n",
       "도시                  \n",
       "서울  9631482  9904312\n",
       "부산  3393191  3448737\n",
       "인천  2632035  2890451\n",
       "대구  2431774  2466052"
      ]
     },
     "execution_count": 24,
     "metadata": {},
     "output_type": "execute_result"
    }
   ],
   "source": [
    "# 여러개의 열을 인덱싱하면 부분적인 데이터프레임이 반환된다.\n",
    "df[[\"2010\", \"2015\"]]"
   ]
  },
  {
   "cell_type": "markdown",
   "id": "b1e0f4a5",
   "metadata": {
    "papermill": {
     "duration": 0.054761,
     "end_time": "2021-10-24T06:01:31.870962",
     "exception": false,
     "start_time": "2021-10-24T06:01:31.816201",
     "status": "completed"
    },
    "tags": []
   },
   "source": [
    "하나의 열을 데이터프레임 형태로 유지하고 싶을때."
   ]
  },
  {
   "cell_type": "code",
   "execution_count": 25,
   "id": "3c273a39",
   "metadata": {
    "execution": {
     "iopub.execute_input": "2021-10-24T06:01:31.986056Z",
     "iopub.status.busy": "2021-10-24T06:01:31.985122Z",
     "iopub.status.idle": "2021-10-24T06:01:31.993785Z",
     "shell.execute_reply": "2021-10-24T06:01:31.994356Z",
     "shell.execute_reply.started": "2021-10-24T04:46:10.739785Z"
    },
    "papermill": {
     "duration": 0.067781,
     "end_time": "2021-10-24T06:01:31.994524",
     "exception": false,
     "start_time": "2021-10-24T06:01:31.926743",
     "status": "completed"
    },
    "tags": []
   },
   "outputs": [
    {
     "data": {
      "text/html": [
       "<div>\n",
       "<style scoped>\n",
       "    .dataframe tbody tr th:only-of-type {\n",
       "        vertical-align: middle;\n",
       "    }\n",
       "\n",
       "    .dataframe tbody tr th {\n",
       "        vertical-align: top;\n",
       "    }\n",
       "\n",
       "    .dataframe thead th {\n",
       "        text-align: right;\n",
       "    }\n",
       "</style>\n",
       "<table border=\"1\" class=\"dataframe\">\n",
       "  <thead>\n",
       "    <tr style=\"text-align: right;\">\n",
       "      <th>특성</th>\n",
       "      <th>2010</th>\n",
       "    </tr>\n",
       "    <tr>\n",
       "      <th>도시</th>\n",
       "      <th></th>\n",
       "    </tr>\n",
       "  </thead>\n",
       "  <tbody>\n",
       "    <tr>\n",
       "      <th>서울</th>\n",
       "      <td>9631482</td>\n",
       "    </tr>\n",
       "    <tr>\n",
       "      <th>부산</th>\n",
       "      <td>3393191</td>\n",
       "    </tr>\n",
       "    <tr>\n",
       "      <th>인천</th>\n",
       "      <td>2632035</td>\n",
       "    </tr>\n",
       "    <tr>\n",
       "      <th>대구</th>\n",
       "      <td>2431774</td>\n",
       "    </tr>\n",
       "  </tbody>\n",
       "</table>\n",
       "</div>"
      ],
      "text/plain": [
       "특성     2010\n",
       "도시         \n",
       "서울  9631482\n",
       "부산  3393191\n",
       "인천  2632035\n",
       "대구  2431774"
      ]
     },
     "execution_count": 25,
     "metadata": {},
     "output_type": "execute_result"
    }
   ],
   "source": [
    "# 2010이라는 열을 반환하면서 데이터프레임 자료형을 유지\n",
    "df[[\"2010\"]]"
   ]
  },
  {
   "cell_type": "markdown",
   "id": "728a5ab5",
   "metadata": {
    "papermill": {
     "duration": 0.055482,
     "end_time": "2021-10-24T06:01:32.106749",
     "exception": false,
     "start_time": "2021-10-24T06:01:32.051267",
     "status": "completed"
    },
    "tags": []
   },
   "source": [
    "행 인덱싱<br>\n",
    "행 인덱싱은 항상 슬라이싱을 사용해야 된다. 행 인덱스의 값이 문자 라벨이면 문자 라벨 슬라이싱도 가능하다."
   ]
  },
  {
   "cell_type": "code",
   "execution_count": 26,
   "id": "5d91bf92",
   "metadata": {
    "execution": {
     "iopub.execute_input": "2021-10-24T06:01:32.227279Z",
     "iopub.status.busy": "2021-10-24T06:01:32.226259Z",
     "iopub.status.idle": "2021-10-24T06:01:32.236801Z",
     "shell.execute_reply": "2021-10-24T06:01:32.237391Z",
     "shell.execute_reply.started": "2021-10-24T04:49:08.885338Z"
    },
    "papermill": {
     "duration": 0.07249,
     "end_time": "2021-10-24T06:01:32.237690",
     "exception": false,
     "start_time": "2021-10-24T06:01:32.165200",
     "status": "completed"
    },
    "tags": []
   },
   "outputs": [
    {
     "data": {
      "text/html": [
       "<div>\n",
       "<style scoped>\n",
       "    .dataframe tbody tr th:only-of-type {\n",
       "        vertical-align: middle;\n",
       "    }\n",
       "\n",
       "    .dataframe tbody tr th {\n",
       "        vertical-align: top;\n",
       "    }\n",
       "\n",
       "    .dataframe thead th {\n",
       "        text-align: right;\n",
       "    }\n",
       "</style>\n",
       "<table border=\"1\" class=\"dataframe\">\n",
       "  <thead>\n",
       "    <tr style=\"text-align: right;\">\n",
       "      <th>특성</th>\n",
       "      <th>지역</th>\n",
       "      <th>2015</th>\n",
       "      <th>2010</th>\n",
       "      <th>2005</th>\n",
       "      <th>2000</th>\n",
       "      <th>2005-2010 증가율</th>\n",
       "    </tr>\n",
       "    <tr>\n",
       "      <th>도시</th>\n",
       "      <th></th>\n",
       "      <th></th>\n",
       "      <th></th>\n",
       "      <th></th>\n",
       "      <th></th>\n",
       "      <th></th>\n",
       "    </tr>\n",
       "  </thead>\n",
       "  <tbody>\n",
       "    <tr>\n",
       "      <th>서울</th>\n",
       "      <td>수도권</td>\n",
       "      <td>9904312</td>\n",
       "      <td>9631482</td>\n",
       "      <td>9762546</td>\n",
       "      <td>9853972</td>\n",
       "      <td>-1.34</td>\n",
       "    </tr>\n",
       "  </tbody>\n",
       "</table>\n",
       "</div>"
      ],
      "text/plain": [
       "특성   지역     2015     2010     2005     2000  2005-2010 증가율\n",
       "도시                                                        \n",
       "서울  수도권  9904312  9631482  9762546  9853972          -1.34"
      ]
     },
     "execution_count": 26,
     "metadata": {},
     "output_type": "execute_result"
    }
   ],
   "source": [
    "df[:1]"
   ]
  },
  {
   "cell_type": "code",
   "execution_count": 27,
   "id": "ea665d3f",
   "metadata": {
    "execution": {
     "iopub.execute_input": "2021-10-24T06:01:32.360813Z",
     "iopub.status.busy": "2021-10-24T06:01:32.360140Z",
     "iopub.status.idle": "2021-10-24T06:01:32.362695Z",
     "shell.execute_reply": "2021-10-24T06:01:32.363191Z",
     "shell.execute_reply.started": "2021-10-24T04:49:15.418952Z"
    },
    "papermill": {
     "duration": 0.068867,
     "end_time": "2021-10-24T06:01:32.363354",
     "exception": false,
     "start_time": "2021-10-24T06:01:32.294487",
     "status": "completed"
    },
    "tags": []
   },
   "outputs": [
    {
     "data": {
      "text/html": [
       "<div>\n",
       "<style scoped>\n",
       "    .dataframe tbody tr th:only-of-type {\n",
       "        vertical-align: middle;\n",
       "    }\n",
       "\n",
       "    .dataframe tbody tr th {\n",
       "        vertical-align: top;\n",
       "    }\n",
       "\n",
       "    .dataframe thead th {\n",
       "        text-align: right;\n",
       "    }\n",
       "</style>\n",
       "<table border=\"1\" class=\"dataframe\">\n",
       "  <thead>\n",
       "    <tr style=\"text-align: right;\">\n",
       "      <th>특성</th>\n",
       "      <th>지역</th>\n",
       "      <th>2015</th>\n",
       "      <th>2010</th>\n",
       "      <th>2005</th>\n",
       "      <th>2000</th>\n",
       "      <th>2005-2010 증가율</th>\n",
       "    </tr>\n",
       "    <tr>\n",
       "      <th>도시</th>\n",
       "      <th></th>\n",
       "      <th></th>\n",
       "      <th></th>\n",
       "      <th></th>\n",
       "      <th></th>\n",
       "      <th></th>\n",
       "    </tr>\n",
       "  </thead>\n",
       "  <tbody>\n",
       "    <tr>\n",
       "      <th>부산</th>\n",
       "      <td>경상권</td>\n",
       "      <td>3448737</td>\n",
       "      <td>3393191</td>\n",
       "      <td>3512547</td>\n",
       "      <td>3655437</td>\n",
       "      <td>-3.4</td>\n",
       "    </tr>\n",
       "  </tbody>\n",
       "</table>\n",
       "</div>"
      ],
      "text/plain": [
       "특성   지역     2015     2010     2005     2000  2005-2010 증가율\n",
       "도시                                                        \n",
       "부산  경상권  3448737  3393191  3512547  3655437           -3.4"
      ]
     },
     "execution_count": 27,
     "metadata": {},
     "output_type": "execute_result"
    }
   ],
   "source": [
    "df[1:2]"
   ]
  },
  {
   "cell_type": "code",
   "execution_count": 28,
   "id": "f4bca177",
   "metadata": {
    "execution": {
     "iopub.execute_input": "2021-10-24T06:01:32.480409Z",
     "iopub.status.busy": "2021-10-24T06:01:32.479767Z",
     "iopub.status.idle": "2021-10-24T06:01:32.489864Z",
     "shell.execute_reply": "2021-10-24T06:01:32.490360Z",
     "shell.execute_reply.started": "2021-10-24T04:49:21.351598Z"
    },
    "papermill": {
     "duration": 0.070297,
     "end_time": "2021-10-24T06:01:32.490545",
     "exception": false,
     "start_time": "2021-10-24T06:01:32.420248",
     "status": "completed"
    },
    "tags": []
   },
   "outputs": [
    {
     "data": {
      "text/html": [
       "<div>\n",
       "<style scoped>\n",
       "    .dataframe tbody tr th:only-of-type {\n",
       "        vertical-align: middle;\n",
       "    }\n",
       "\n",
       "    .dataframe tbody tr th {\n",
       "        vertical-align: top;\n",
       "    }\n",
       "\n",
       "    .dataframe thead th {\n",
       "        text-align: right;\n",
       "    }\n",
       "</style>\n",
       "<table border=\"1\" class=\"dataframe\">\n",
       "  <thead>\n",
       "    <tr style=\"text-align: right;\">\n",
       "      <th>특성</th>\n",
       "      <th>지역</th>\n",
       "      <th>2015</th>\n",
       "      <th>2010</th>\n",
       "      <th>2005</th>\n",
       "      <th>2000</th>\n",
       "      <th>2005-2010 증가율</th>\n",
       "    </tr>\n",
       "    <tr>\n",
       "      <th>도시</th>\n",
       "      <th></th>\n",
       "      <th></th>\n",
       "      <th></th>\n",
       "      <th></th>\n",
       "      <th></th>\n",
       "      <th></th>\n",
       "    </tr>\n",
       "  </thead>\n",
       "  <tbody>\n",
       "    <tr>\n",
       "      <th>부산</th>\n",
       "      <td>경상권</td>\n",
       "      <td>3448737</td>\n",
       "      <td>3393191</td>\n",
       "      <td>3512547</td>\n",
       "      <td>3655437</td>\n",
       "      <td>-3.40</td>\n",
       "    </tr>\n",
       "    <tr>\n",
       "      <th>인천</th>\n",
       "      <td>수도권</td>\n",
       "      <td>2890451</td>\n",
       "      <td>2632035</td>\n",
       "      <td>2517680</td>\n",
       "      <td>2466338</td>\n",
       "      <td>4.54</td>\n",
       "    </tr>\n",
       "  </tbody>\n",
       "</table>\n",
       "</div>"
      ],
      "text/plain": [
       "특성   지역     2015     2010     2005     2000  2005-2010 증가율\n",
       "도시                                                        \n",
       "부산  경상권  3448737  3393191  3512547  3655437          -3.40\n",
       "인천  수도권  2890451  2632035  2517680  2466338           4.54"
      ]
     },
     "execution_count": 28,
     "metadata": {},
     "output_type": "execute_result"
    }
   ],
   "source": [
    "df[1:3]"
   ]
  },
  {
   "cell_type": "code",
   "execution_count": 29,
   "id": "d60b2ad1",
   "metadata": {
    "execution": {
     "iopub.execute_input": "2021-10-24T06:01:32.615269Z",
     "iopub.status.busy": "2021-10-24T06:01:32.610763Z",
     "iopub.status.idle": "2021-10-24T06:01:32.621897Z",
     "shell.execute_reply": "2021-10-24T06:01:32.622479Z",
     "shell.execute_reply.started": "2021-10-24T04:49:31.279620Z"
    },
    "papermill": {
     "duration": 0.073905,
     "end_time": "2021-10-24T06:01:32.622651",
     "exception": false,
     "start_time": "2021-10-24T06:01:32.548746",
     "status": "completed"
    },
    "tags": []
   },
   "outputs": [
    {
     "data": {
      "text/html": [
       "<div>\n",
       "<style scoped>\n",
       "    .dataframe tbody tr th:only-of-type {\n",
       "        vertical-align: middle;\n",
       "    }\n",
       "\n",
       "    .dataframe tbody tr th {\n",
       "        vertical-align: top;\n",
       "    }\n",
       "\n",
       "    .dataframe thead th {\n",
       "        text-align: right;\n",
       "    }\n",
       "</style>\n",
       "<table border=\"1\" class=\"dataframe\">\n",
       "  <thead>\n",
       "    <tr style=\"text-align: right;\">\n",
       "      <th>특성</th>\n",
       "      <th>지역</th>\n",
       "      <th>2015</th>\n",
       "      <th>2010</th>\n",
       "      <th>2005</th>\n",
       "      <th>2000</th>\n",
       "      <th>2005-2010 증가율</th>\n",
       "    </tr>\n",
       "    <tr>\n",
       "      <th>도시</th>\n",
       "      <th></th>\n",
       "      <th></th>\n",
       "      <th></th>\n",
       "      <th></th>\n",
       "      <th></th>\n",
       "      <th></th>\n",
       "    </tr>\n",
       "  </thead>\n",
       "  <tbody>\n",
       "    <tr>\n",
       "      <th>서울</th>\n",
       "      <td>수도권</td>\n",
       "      <td>9904312</td>\n",
       "      <td>9631482</td>\n",
       "      <td>9762546</td>\n",
       "      <td>9853972</td>\n",
       "      <td>-1.34</td>\n",
       "    </tr>\n",
       "    <tr>\n",
       "      <th>부산</th>\n",
       "      <td>경상권</td>\n",
       "      <td>3448737</td>\n",
       "      <td>3393191</td>\n",
       "      <td>3512547</td>\n",
       "      <td>3655437</td>\n",
       "      <td>-3.40</td>\n",
       "    </tr>\n",
       "  </tbody>\n",
       "</table>\n",
       "</div>"
      ],
      "text/plain": [
       "특성   지역     2015     2010     2005     2000  2005-2010 증가율\n",
       "도시                                                        \n",
       "서울  수도권  9904312  9631482  9762546  9853972          -1.34\n",
       "부산  경상권  3448737  3393191  3512547  3655437          -3.40"
      ]
     },
     "execution_count": 29,
     "metadata": {},
     "output_type": "execute_result"
    }
   ],
   "source": [
    "df[\"서울\":\"부산\"]"
   ]
  },
  {
   "cell_type": "markdown",
   "id": "d5a32e11",
   "metadata": {
    "papermill": {
     "duration": 0.057614,
     "end_time": "2021-10-24T06:01:32.738258",
     "exception": false,
     "start_time": "2021-10-24T06:01:32.680644",
     "status": "completed"
    },
    "tags": []
   },
   "source": [
    "열단위 인덱싱, 행단위 인덱싱을 한번에 하면 데이터 값 자체가 반환된다."
   ]
  },
  {
   "cell_type": "code",
   "execution_count": 30,
   "id": "361f77aa",
   "metadata": {
    "execution": {
     "iopub.execute_input": "2021-10-24T06:01:32.858968Z",
     "iopub.status.busy": "2021-10-24T06:01:32.858069Z",
     "iopub.status.idle": "2021-10-24T06:01:32.861368Z",
     "shell.execute_reply": "2021-10-24T06:01:32.861831Z",
     "shell.execute_reply.started": "2021-10-24T04:50:22.865169Z"
    },
    "papermill": {
     "duration": 0.066487,
     "end_time": "2021-10-24T06:01:32.861995",
     "exception": false,
     "start_time": "2021-10-24T06:01:32.795508",
     "status": "completed"
    },
    "tags": []
   },
   "outputs": [
    {
     "data": {
      "text/plain": [
       "9904312"
      ]
     },
     "execution_count": 30,
     "metadata": {},
     "output_type": "execute_result"
    }
   ],
   "source": [
    "df[\"2015\"][\"서울\"]"
   ]
  },
  {
   "cell_type": "code",
   "execution_count": 31,
   "id": "3a24aac5",
   "metadata": {
    "execution": {
     "iopub.execute_input": "2021-10-24T06:01:32.980005Z",
     "iopub.status.busy": "2021-10-24T06:01:32.979026Z",
     "iopub.status.idle": "2021-10-24T06:01:32.983934Z",
     "shell.execute_reply": "2021-10-24T06:01:32.984386Z",
     "shell.execute_reply.started": "2021-10-24T04:50:41.346832Z"
    },
    "papermill": {
     "duration": 0.065759,
     "end_time": "2021-10-24T06:01:32.984553",
     "exception": false,
     "start_time": "2021-10-24T06:01:32.918794",
     "status": "completed"
    },
    "tags": []
   },
   "outputs": [
    {
     "data": {
      "text/plain": [
       "numpy.int64"
      ]
     },
     "execution_count": 31,
     "metadata": {},
     "output_type": "execute_result"
    }
   ],
   "source": [
    "type(df[\"2015\"][\"서울\"])"
   ]
  },
  {
   "cell_type": "markdown",
   "id": "774ed6b3",
   "metadata": {
    "papermill": {
     "duration": 0.058277,
     "end_time": "2021-10-24T06:01:33.102493",
     "exception": false,
     "start_time": "2021-10-24T06:01:33.044216",
     "status": "completed"
    },
    "tags": []
   },
   "source": [
    "<h1> CSV 다루기 </h1>\n",
    "csv는 , 로 나누어진 데이터 정보이다."
   ]
  },
  {
   "cell_type": "code",
   "execution_count": 32,
   "id": "8802f564",
   "metadata": {
    "execution": {
     "iopub.execute_input": "2021-10-24T06:01:33.225492Z",
     "iopub.status.busy": "2021-10-24T06:01:33.224572Z",
     "iopub.status.idle": "2021-10-24T06:01:33.227930Z",
     "shell.execute_reply": "2021-10-24T06:01:33.228535Z",
     "shell.execute_reply.started": "2021-10-24T05:10:37.739603Z"
    },
    "papermill": {
     "duration": 0.0678,
     "end_time": "2021-10-24T06:01:33.228708",
     "exception": false,
     "start_time": "2021-10-24T06:01:33.160908",
     "status": "completed"
    },
    "tags": []
   },
   "outputs": [
    {
     "name": "stdout",
     "output_type": "stream",
     "text": [
      "Writing sample1.csv\n"
     ]
    }
   ],
   "source": [
    "\n",
    "%%writefile sample1.csv\n",
    "c1, c2, c3\n",
    "1, 1.11, one\n",
    "2, 2.22, two\n",
    "3, 3.33, three\n"
   ]
  },
  {
   "cell_type": "markdown",
   "id": "4814a6c7",
   "metadata": {
    "papermill": {
     "duration": 0.058079,
     "end_time": "2021-10-24T06:01:33.345859",
     "exception": false,
     "start_time": "2021-10-24T06:01:33.287780",
     "status": "completed"
    },
    "tags": []
   },
   "source": [
    "CSV로부터 데이터를 읽어 데이터프레임 만들기.<br>\n",
    "행 인덱스 정보가 없으므로 행 인덱스에 정수가 자동으로 추가되었다."
   ]
  },
  {
   "cell_type": "code",
   "execution_count": 33,
   "id": "29f4cc9f",
   "metadata": {
    "execution": {
     "iopub.execute_input": "2021-10-24T06:01:33.466535Z",
     "iopub.status.busy": "2021-10-24T06:01:33.465837Z",
     "iopub.status.idle": "2021-10-24T06:01:33.478440Z",
     "shell.execute_reply": "2021-10-24T06:01:33.477792Z",
     "shell.execute_reply.started": "2021-10-24T05:10:39.988976Z"
    },
    "papermill": {
     "duration": 0.074547,
     "end_time": "2021-10-24T06:01:33.478590",
     "exception": false,
     "start_time": "2021-10-24T06:01:33.404043",
     "status": "completed"
    },
    "tags": []
   },
   "outputs": [
    {
     "data": {
      "text/html": [
       "<div>\n",
       "<style scoped>\n",
       "    .dataframe tbody tr th:only-of-type {\n",
       "        vertical-align: middle;\n",
       "    }\n",
       "\n",
       "    .dataframe tbody tr th {\n",
       "        vertical-align: top;\n",
       "    }\n",
       "\n",
       "    .dataframe thead th {\n",
       "        text-align: right;\n",
       "    }\n",
       "</style>\n",
       "<table border=\"1\" class=\"dataframe\">\n",
       "  <thead>\n",
       "    <tr style=\"text-align: right;\">\n",
       "      <th></th>\n",
       "      <th>c1</th>\n",
       "      <th>c2</th>\n",
       "      <th>c3</th>\n",
       "    </tr>\n",
       "  </thead>\n",
       "  <tbody>\n",
       "    <tr>\n",
       "      <th>0</th>\n",
       "      <td>1</td>\n",
       "      <td>1.11</td>\n",
       "      <td>one</td>\n",
       "    </tr>\n",
       "    <tr>\n",
       "      <th>1</th>\n",
       "      <td>2</td>\n",
       "      <td>2.22</td>\n",
       "      <td>two</td>\n",
       "    </tr>\n",
       "    <tr>\n",
       "      <th>2</th>\n",
       "      <td>3</td>\n",
       "      <td>3.33</td>\n",
       "      <td>three</td>\n",
       "    </tr>\n",
       "  </tbody>\n",
       "</table>\n",
       "</div>"
      ],
      "text/plain": [
       "   c1    c2      c3\n",
       "0   1  1.11     one\n",
       "1   2  2.22     two\n",
       "2   3  3.33   three"
      ]
     },
     "execution_count": 33,
     "metadata": {},
     "output_type": "execute_result"
    }
   ],
   "source": [
    "pd.read_csv('sample1.csv')"
   ]
  },
  {
   "cell_type": "markdown",
   "id": "43af8b0d",
   "metadata": {
    "papermill": {
     "duration": 0.058593,
     "end_time": "2021-10-24T06:01:33.596437",
     "exception": false,
     "start_time": "2021-10-24T06:01:33.537844",
     "status": "completed"
    },
    "tags": []
   },
   "source": [
    "열 인덱스 정보가 없을때는 read_csv의 names로 설정할 수 있다."
   ]
  },
  {
   "cell_type": "code",
   "execution_count": 34,
   "id": "bc01a554",
   "metadata": {
    "execution": {
     "iopub.execute_input": "2021-10-24T06:01:33.716334Z",
     "iopub.status.busy": "2021-10-24T06:01:33.715706Z",
     "iopub.status.idle": "2021-10-24T06:01:33.720366Z",
     "shell.execute_reply": "2021-10-24T06:01:33.720895Z",
     "shell.execute_reply.started": "2021-10-24T05:12:46.405810Z"
    },
    "papermill": {
     "duration": 0.066318,
     "end_time": "2021-10-24T06:01:33.721049",
     "exception": false,
     "start_time": "2021-10-24T06:01:33.654731",
     "status": "completed"
    },
    "tags": []
   },
   "outputs": [
    {
     "name": "stdout",
     "output_type": "stream",
     "text": [
      "Writing sample2.csv\n"
     ]
    }
   ],
   "source": [
    "%%writefile sample2.csv\n",
    "1, 1.11, one\n",
    "2, 2.22, two\n",
    "3, 3.33, three"
   ]
  },
  {
   "cell_type": "code",
   "execution_count": 35,
   "id": "76752404",
   "metadata": {
    "execution": {
     "iopub.execute_input": "2021-10-24T06:01:33.841341Z",
     "iopub.status.busy": "2021-10-24T06:01:33.840747Z",
     "iopub.status.idle": "2021-10-24T06:01:33.851669Z",
     "shell.execute_reply": "2021-10-24T06:01:33.852336Z",
     "shell.execute_reply.started": "2021-10-24T05:12:57.981721Z"
    },
    "papermill": {
     "duration": 0.072816,
     "end_time": "2021-10-24T06:01:33.852542",
     "exception": false,
     "start_time": "2021-10-24T06:01:33.779726",
     "status": "completed"
    },
    "tags": []
   },
   "outputs": [
    {
     "data": {
      "text/html": [
       "<div>\n",
       "<style scoped>\n",
       "    .dataframe tbody tr th:only-of-type {\n",
       "        vertical-align: middle;\n",
       "    }\n",
       "\n",
       "    .dataframe tbody tr th {\n",
       "        vertical-align: top;\n",
       "    }\n",
       "\n",
       "    .dataframe thead th {\n",
       "        text-align: right;\n",
       "    }\n",
       "</style>\n",
       "<table border=\"1\" class=\"dataframe\">\n",
       "  <thead>\n",
       "    <tr style=\"text-align: right;\">\n",
       "      <th></th>\n",
       "      <th>c1</th>\n",
       "      <th>c2</th>\n",
       "      <th>c3</th>\n",
       "    </tr>\n",
       "  </thead>\n",
       "  <tbody>\n",
       "    <tr>\n",
       "      <th>0</th>\n",
       "      <td>1</td>\n",
       "      <td>1.11</td>\n",
       "      <td>one</td>\n",
       "    </tr>\n",
       "    <tr>\n",
       "      <th>1</th>\n",
       "      <td>2</td>\n",
       "      <td>2.22</td>\n",
       "      <td>two</td>\n",
       "    </tr>\n",
       "    <tr>\n",
       "      <th>2</th>\n",
       "      <td>3</td>\n",
       "      <td>3.33</td>\n",
       "      <td>three</td>\n",
       "    </tr>\n",
       "  </tbody>\n",
       "</table>\n",
       "</div>"
      ],
      "text/plain": [
       "   c1    c2      c3\n",
       "0   1  1.11     one\n",
       "1   2  2.22     two\n",
       "2   3  3.33   three"
      ]
     },
     "execution_count": 35,
     "metadata": {},
     "output_type": "execute_result"
    }
   ],
   "source": [
    "pd.read_csv('sample2.csv', names=['c1', 'c2', 'c3'])"
   ]
  },
  {
   "cell_type": "markdown",
   "id": "a7505dac",
   "metadata": {
    "papermill": {
     "duration": 0.060324,
     "end_time": "2021-10-24T06:01:33.973152",
     "exception": false,
     "start_time": "2021-10-24T06:01:33.912828",
     "status": "completed"
    },
    "tags": []
   },
   "source": [
    "특정한 열을 행 인덱스로 지정하고 싶으면"
   ]
  },
  {
   "cell_type": "code",
   "execution_count": 36,
   "id": "eb31987b",
   "metadata": {
    "execution": {
     "iopub.execute_input": "2021-10-24T06:01:34.101433Z",
     "iopub.status.busy": "2021-10-24T06:01:34.100786Z",
     "iopub.status.idle": "2021-10-24T06:01:34.113011Z",
     "shell.execute_reply": "2021-10-24T06:01:34.113593Z",
     "shell.execute_reply.started": "2021-10-24T05:13:24.448044Z"
    },
    "papermill": {
     "duration": 0.075553,
     "end_time": "2021-10-24T06:01:34.113755",
     "exception": false,
     "start_time": "2021-10-24T06:01:34.038202",
     "status": "completed"
    },
    "tags": []
   },
   "outputs": [
    {
     "data": {
      "text/html": [
       "<div>\n",
       "<style scoped>\n",
       "    .dataframe tbody tr th:only-of-type {\n",
       "        vertical-align: middle;\n",
       "    }\n",
       "\n",
       "    .dataframe tbody tr th {\n",
       "        vertical-align: top;\n",
       "    }\n",
       "\n",
       "    .dataframe thead th {\n",
       "        text-align: right;\n",
       "    }\n",
       "</style>\n",
       "<table border=\"1\" class=\"dataframe\">\n",
       "  <thead>\n",
       "    <tr style=\"text-align: right;\">\n",
       "      <th></th>\n",
       "      <th>c2</th>\n",
       "      <th>c3</th>\n",
       "    </tr>\n",
       "    <tr>\n",
       "      <th>c1</th>\n",
       "      <th></th>\n",
       "      <th></th>\n",
       "    </tr>\n",
       "  </thead>\n",
       "  <tbody>\n",
       "    <tr>\n",
       "      <th>1</th>\n",
       "      <td>1.11</td>\n",
       "      <td>one</td>\n",
       "    </tr>\n",
       "    <tr>\n",
       "      <th>2</th>\n",
       "      <td>2.22</td>\n",
       "      <td>two</td>\n",
       "    </tr>\n",
       "    <tr>\n",
       "      <th>3</th>\n",
       "      <td>3.33</td>\n",
       "      <td>three</td>\n",
       "    </tr>\n",
       "  </tbody>\n",
       "</table>\n",
       "</div>"
      ],
      "text/plain": [
       "      c2      c3\n",
       "c1              \n",
       "1   1.11     one\n",
       "2   2.22     two\n",
       "3   3.33   three"
      ]
     },
     "execution_count": 36,
     "metadata": {},
     "output_type": "execute_result"
    }
   ],
   "source": [
    "pd.read_csv('sample1.csv', index_col='c1')"
   ]
  },
  {
   "cell_type": "markdown",
   "id": "c03860ea",
   "metadata": {
    "papermill": {
     "duration": 0.059643,
     "end_time": "2021-10-24T06:01:34.233915",
     "exception": false,
     "start_time": "2021-10-24T06:01:34.174272",
     "status": "completed"
    },
    "tags": []
   },
   "source": [
    "CSV가 아닌 파일, 즉 , 로 나누어진 파일이 아니면 sep 인수를 써서 사용자가 지정해준다.<br>\n",
    "만약 길이가 정해지지 않은 공백이 구분자인 경우에는 \\s+ 정규표현식 사용."
   ]
  },
  {
   "cell_type": "code",
   "execution_count": 37,
   "id": "e8ae0fee",
   "metadata": {
    "execution": {
     "iopub.execute_input": "2021-10-24T06:01:34.356931Z",
     "iopub.status.busy": "2021-10-24T06:01:34.356342Z",
     "iopub.status.idle": "2021-10-24T06:01:34.361930Z",
     "shell.execute_reply": "2021-10-24T06:01:34.361434Z",
     "shell.execute_reply.started": "2021-10-24T05:15:50.577382Z"
    },
    "papermill": {
     "duration": 0.068279,
     "end_time": "2021-10-24T06:01:34.362064",
     "exception": false,
     "start_time": "2021-10-24T06:01:34.293785",
     "status": "completed"
    },
    "tags": []
   },
   "outputs": [
    {
     "name": "stdout",
     "output_type": "stream",
     "text": [
      "Writing sample3.txt\n"
     ]
    }
   ],
   "source": [
    "%%writefile sample3.txt\n",
    "c1        c2        c3        c4\n",
    "0.179181 -1.538472  1.347553  0.43381\n",
    "1.024209  0.087307 -1.281997  0.49265\n",
    "0.417899 -2.002308  0.255245 -1.10515"
   ]
  },
  {
   "cell_type": "code",
   "execution_count": 38,
   "id": "d221a2a6",
   "metadata": {
    "execution": {
     "iopub.execute_input": "2021-10-24T06:01:34.487930Z",
     "iopub.status.busy": "2021-10-24T06:01:34.486232Z",
     "iopub.status.idle": "2021-10-24T06:01:34.498623Z",
     "shell.execute_reply": "2021-10-24T06:01:34.498037Z",
     "shell.execute_reply.started": "2021-10-24T05:15:54.896385Z"
    },
    "papermill": {
     "duration": 0.07589,
     "end_time": "2021-10-24T06:01:34.498762",
     "exception": false,
     "start_time": "2021-10-24T06:01:34.422872",
     "status": "completed"
    },
    "tags": []
   },
   "outputs": [
    {
     "data": {
      "text/html": [
       "<div>\n",
       "<style scoped>\n",
       "    .dataframe tbody tr th:only-of-type {\n",
       "        vertical-align: middle;\n",
       "    }\n",
       "\n",
       "    .dataframe tbody tr th {\n",
       "        vertical-align: top;\n",
       "    }\n",
       "\n",
       "    .dataframe thead th {\n",
       "        text-align: right;\n",
       "    }\n",
       "</style>\n",
       "<table border=\"1\" class=\"dataframe\">\n",
       "  <thead>\n",
       "    <tr style=\"text-align: right;\">\n",
       "      <th></th>\n",
       "      <th>c1</th>\n",
       "      <th>c2</th>\n",
       "      <th>c3</th>\n",
       "      <th>c4</th>\n",
       "    </tr>\n",
       "  </thead>\n",
       "  <tbody>\n",
       "    <tr>\n",
       "      <th>0</th>\n",
       "      <td>0.179181</td>\n",
       "      <td>-1.538472</td>\n",
       "      <td>1.347553</td>\n",
       "      <td>0.43381</td>\n",
       "    </tr>\n",
       "    <tr>\n",
       "      <th>1</th>\n",
       "      <td>1.024209</td>\n",
       "      <td>0.087307</td>\n",
       "      <td>-1.281997</td>\n",
       "      <td>0.49265</td>\n",
       "    </tr>\n",
       "    <tr>\n",
       "      <th>2</th>\n",
       "      <td>0.417899</td>\n",
       "      <td>-2.002308</td>\n",
       "      <td>0.255245</td>\n",
       "      <td>-1.10515</td>\n",
       "    </tr>\n",
       "  </tbody>\n",
       "</table>\n",
       "</div>"
      ],
      "text/plain": [
       "         c1        c2        c3       c4\n",
       "0  0.179181 -1.538472  1.347553  0.43381\n",
       "1  1.024209  0.087307 -1.281997  0.49265\n",
       "2  0.417899 -2.002308  0.255245 -1.10515"
      ]
     },
     "execution_count": 38,
     "metadata": {},
     "output_type": "execute_result"
    }
   ],
   "source": [
    "pd.read_table('sample3.txt', sep='\\s+')"
   ]
  },
  {
   "cell_type": "markdown",
   "id": "eaee4b56",
   "metadata": {
    "papermill": {
     "duration": 0.060214,
     "end_time": "2021-10-24T06:01:34.619418",
     "exception": false,
     "start_time": "2021-10-24T06:01:34.559204",
     "status": "completed"
    },
    "tags": []
   },
   "source": [
    "데이터 파일 중 건너뛰어야 할 행이 있으면 skiprows 사용.<br>\n",
    "(아래 파일은 txt파일이지만 , 로 구분되어 있으므로 csv로 사용 가능.)"
   ]
  },
  {
   "cell_type": "code",
   "execution_count": 39,
   "id": "593712cb",
   "metadata": {
    "execution": {
     "iopub.execute_input": "2021-10-24T06:01:34.747229Z",
     "iopub.status.busy": "2021-10-24T06:01:34.746381Z",
     "iopub.status.idle": "2021-10-24T06:01:34.749439Z",
     "shell.execute_reply": "2021-10-24T06:01:34.749964Z",
     "shell.execute_reply.started": "2021-10-24T05:17:15.160971Z"
    },
    "papermill": {
     "duration": 0.069455,
     "end_time": "2021-10-24T06:01:34.750188",
     "exception": false,
     "start_time": "2021-10-24T06:01:34.680733",
     "status": "completed"
    },
    "tags": []
   },
   "outputs": [
    {
     "name": "stdout",
     "output_type": "stream",
     "text": [
      "Writing sample4.txt\n"
     ]
    }
   ],
   "source": [
    "%%writefile sample4.txt\n",
    "파일 제목: sample4.txt\n",
    "데이터 포맷의 설명:\n",
    "c1, c2, c3\n",
    "1, 1.11, one\n",
    "2, 2.22, two\n",
    "3, 3.33, three"
   ]
  },
  {
   "cell_type": "code",
   "execution_count": 40,
   "id": "74d12351",
   "metadata": {
    "execution": {
     "iopub.execute_input": "2021-10-24T06:01:34.878288Z",
     "iopub.status.busy": "2021-10-24T06:01:34.877555Z",
     "iopub.status.idle": "2021-10-24T06:01:34.887782Z",
     "shell.execute_reply": "2021-10-24T06:01:34.887247Z",
     "shell.execute_reply.started": "2021-10-24T05:17:54.573191Z"
    },
    "papermill": {
     "duration": 0.075408,
     "end_time": "2021-10-24T06:01:34.887925",
     "exception": false,
     "start_time": "2021-10-24T06:01:34.812517",
     "status": "completed"
    },
    "tags": []
   },
   "outputs": [
    {
     "data": {
      "text/html": [
       "<div>\n",
       "<style scoped>\n",
       "    .dataframe tbody tr th:only-of-type {\n",
       "        vertical-align: middle;\n",
       "    }\n",
       "\n",
       "    .dataframe tbody tr th {\n",
       "        vertical-align: top;\n",
       "    }\n",
       "\n",
       "    .dataframe thead th {\n",
       "        text-align: right;\n",
       "    }\n",
       "</style>\n",
       "<table border=\"1\" class=\"dataframe\">\n",
       "  <thead>\n",
       "    <tr style=\"text-align: right;\">\n",
       "      <th></th>\n",
       "      <th>c1</th>\n",
       "      <th>c2</th>\n",
       "      <th>c3</th>\n",
       "    </tr>\n",
       "  </thead>\n",
       "  <tbody>\n",
       "    <tr>\n",
       "      <th>0</th>\n",
       "      <td>1</td>\n",
       "      <td>1.11</td>\n",
       "      <td>one</td>\n",
       "    </tr>\n",
       "    <tr>\n",
       "      <th>1</th>\n",
       "      <td>2</td>\n",
       "      <td>2.22</td>\n",
       "      <td>two</td>\n",
       "    </tr>\n",
       "    <tr>\n",
       "      <th>2</th>\n",
       "      <td>3</td>\n",
       "      <td>3.33</td>\n",
       "      <td>three</td>\n",
       "    </tr>\n",
       "  </tbody>\n",
       "</table>\n",
       "</div>"
      ],
      "text/plain": [
       "   c1    c2      c3\n",
       "0   1  1.11     one\n",
       "1   2  2.22     two\n",
       "2   3  3.33   three"
      ]
     },
     "execution_count": 40,
     "metadata": {},
     "output_type": "execute_result"
    }
   ],
   "source": [
    "pd.read_csv('sample4.txt', skiprows=[0, 1])"
   ]
  },
  {
   "cell_type": "markdown",
   "id": "305c06ae",
   "metadata": {
    "papermill": {
     "duration": 0.062036,
     "end_time": "2021-10-24T06:01:35.011914",
     "exception": false,
     "start_time": "2021-10-24T06:01:34.949878",
     "status": "completed"
    },
    "tags": []
   },
   "source": [
    "특정한 값 전체를 NaN으로 취급하고 싶으면 다음과 같이 사용."
   ]
  },
  {
   "cell_type": "code",
   "execution_count": 41,
   "id": "ae730ba3",
   "metadata": {
    "execution": {
     "iopub.execute_input": "2021-10-24T06:01:35.142734Z",
     "iopub.status.busy": "2021-10-24T06:01:35.142016Z",
     "iopub.status.idle": "2021-10-24T06:01:35.145734Z",
     "shell.execute_reply": "2021-10-24T06:01:35.146182Z",
     "shell.execute_reply.started": "2021-10-24T05:18:44.357101Z"
    },
    "papermill": {
     "duration": 0.070521,
     "end_time": "2021-10-24T06:01:35.146372",
     "exception": false,
     "start_time": "2021-10-24T06:01:35.075851",
     "status": "completed"
    },
    "tags": []
   },
   "outputs": [
    {
     "name": "stdout",
     "output_type": "stream",
     "text": [
      "Writing sample5.csv\n"
     ]
    }
   ],
   "source": [
    "%%writefile sample5.csv\n",
    "c1, c2, c3\n",
    "1, 1.11, one\n",
    "2, , two\n",
    "누락, 3.33, three"
   ]
  },
  {
   "cell_type": "code",
   "execution_count": 42,
   "id": "3438c6ce",
   "metadata": {
    "execution": {
     "iopub.execute_input": "2021-10-24T06:01:35.281180Z",
     "iopub.status.busy": "2021-10-24T06:01:35.280501Z",
     "iopub.status.idle": "2021-10-24T06:01:35.284037Z",
     "shell.execute_reply": "2021-10-24T06:01:35.283423Z",
     "shell.execute_reply.started": "2021-10-24T05:18:48.548683Z"
    },
    "papermill": {
     "duration": 0.076572,
     "end_time": "2021-10-24T06:01:35.284184",
     "exception": false,
     "start_time": "2021-10-24T06:01:35.207612",
     "status": "completed"
    },
    "tags": []
   },
   "outputs": [
    {
     "data": {
      "text/html": [
       "<div>\n",
       "<style scoped>\n",
       "    .dataframe tbody tr th:only-of-type {\n",
       "        vertical-align: middle;\n",
       "    }\n",
       "\n",
       "    .dataframe tbody tr th {\n",
       "        vertical-align: top;\n",
       "    }\n",
       "\n",
       "    .dataframe thead th {\n",
       "        text-align: right;\n",
       "    }\n",
       "</style>\n",
       "<table border=\"1\" class=\"dataframe\">\n",
       "  <thead>\n",
       "    <tr style=\"text-align: right;\">\n",
       "      <th></th>\n",
       "      <th>c1</th>\n",
       "      <th>c2</th>\n",
       "      <th>c3</th>\n",
       "    </tr>\n",
       "  </thead>\n",
       "  <tbody>\n",
       "    <tr>\n",
       "      <th>0</th>\n",
       "      <td>1.0</td>\n",
       "      <td>1.11</td>\n",
       "      <td>one</td>\n",
       "    </tr>\n",
       "    <tr>\n",
       "      <th>1</th>\n",
       "      <td>2.0</td>\n",
       "      <td></td>\n",
       "      <td>two</td>\n",
       "    </tr>\n",
       "    <tr>\n",
       "      <th>2</th>\n",
       "      <td>NaN</td>\n",
       "      <td>3.33</td>\n",
       "      <td>three</td>\n",
       "    </tr>\n",
       "  </tbody>\n",
       "</table>\n",
       "</div>"
      ],
      "text/plain": [
       "    c1     c2      c3\n",
       "0  1.0   1.11     one\n",
       "1  2.0            two\n",
       "2  NaN   3.33   three"
      ]
     },
     "execution_count": 42,
     "metadata": {},
     "output_type": "execute_result"
    }
   ],
   "source": [
    "df = pd.read_csv('sample5.csv', na_values=['누락'])\n",
    "df"
   ]
  },
  {
   "cell_type": "markdown",
   "id": "8337815f",
   "metadata": {
    "papermill": {
     "duration": 0.062364,
     "end_time": "2021-10-24T06:01:35.408657",
     "exception": false,
     "start_time": "2021-10-24T06:01:35.346293",
     "status": "completed"
    },
    "tags": []
   },
   "source": [
    "데이터 출력, 인터넷 상에서 데이터 가져오기는 위의 링크에서 다시 보기."
   ]
  },
  {
   "cell_type": "markdown",
   "id": "94dec027",
   "metadata": {
    "papermill": {
     "duration": 0.062521,
     "end_time": "2021-10-24T06:01:35.533404",
     "exception": false,
     "start_time": "2021-10-24T06:01:35.470883",
     "status": "completed"
    },
    "tags": []
   },
   "source": [
    "<h1>loc, iloc</h1>"
   ]
  },
  {
   "cell_type": "code",
   "execution_count": null,
   "id": "f40fd40d",
   "metadata": {
    "execution": {
     "iopub.execute_input": "2021-10-24T05:19:55.124665Z",
     "iopub.status.busy": "2021-10-24T05:19:55.124038Z",
     "iopub.status.idle": "2021-10-24T05:19:55.130920Z",
     "shell.execute_reply": "2021-10-24T05:19:55.129754Z",
     "shell.execute_reply.started": "2021-10-24T05:19:55.124619Z"
    },
    "papermill": {
     "duration": 0.061585,
     "end_time": "2021-10-24T06:01:35.656846",
     "exception": false,
     "start_time": "2021-10-24T06:01:35.595261",
     "status": "completed"
    },
    "tags": []
   },
   "outputs": [],
   "source": []
  },
  {
   "cell_type": "code",
   "execution_count": null,
   "id": "03807773",
   "metadata": {
    "papermill": {
     "duration": 0.06137,
     "end_time": "2021-10-24T06:01:35.779895",
     "exception": false,
     "start_time": "2021-10-24T06:01:35.718525",
     "status": "completed"
    },
    "tags": []
   },
   "outputs": [],
   "source": []
  }
 ],
 "metadata": {
  "kernelspec": {
   "display_name": "Python 3",
   "language": "python",
   "name": "python3"
  },
  "language_info": {
   "codemirror_mode": {
    "name": "ipython",
    "version": 3
   },
   "file_extension": ".py",
   "mimetype": "text/x-python",
   "name": "python",
   "nbconvert_exporter": "python",
   "pygments_lexer": "ipython3",
   "version": "3.7.10"
  },
  "papermill": {
   "default_parameters": {},
   "duration": 17.973648,
   "end_time": "2021-10-24T06:01:36.350979",
   "environment_variables": {},
   "exception": null,
   "input_path": "__notebook__.ipynb",
   "output_path": "__notebook__.ipynb",
   "parameters": {},
   "start_time": "2021-10-24T06:01:18.377331",
   "version": "2.3.3"
  }
 },
 "nbformat": 4,
 "nbformat_minor": 5
}
