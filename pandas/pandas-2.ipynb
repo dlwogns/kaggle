{
 "cells": [
  {
   "cell_type": "code",
   "execution_count": 1,
   "id": "7dd7eb67",
   "metadata": {
    "execution": {
     "iopub.execute_input": "2021-10-24T07:27:19.910272Z",
     "iopub.status.busy": "2021-10-24T07:27:19.903119Z",
     "iopub.status.idle": "2021-10-24T07:27:19.914131Z",
     "shell.execute_reply": "2021-10-24T07:27:19.913513Z",
     "shell.execute_reply.started": "2021-10-24T06:26:05.766390Z"
    },
    "papermill": {
     "duration": 0.056212,
     "end_time": "2021-10-24T07:27:19.914330",
     "exception": false,
     "start_time": "2021-10-24T07:27:19.858118",
     "status": "completed"
    },
    "tags": []
   },
   "outputs": [],
   "source": [
    "import pandas as pd\n",
    "import numpy as np"
   ]
  },
  {
   "cell_type": "markdown",
   "id": "44632568",
   "metadata": {
    "papermill": {
     "duration": 0.040016,
     "end_time": "2021-10-24T07:27:19.994565",
     "exception": false,
     "start_time": "2021-10-24T07:27:19.954549",
     "status": "completed"
    },
    "tags": []
   },
   "source": [
    "데이터 개수 세기<br>\n",
    "count 사용, NaN은 세지 않는다."
   ]
  },
  {
   "cell_type": "code",
   "execution_count": 2,
   "id": "076b5a48",
   "metadata": {
    "execution": {
     "iopub.execute_input": "2021-10-24T07:27:20.077348Z",
     "iopub.status.busy": "2021-10-24T07:27:20.076643Z",
     "iopub.status.idle": "2021-10-24T07:27:20.091011Z",
     "shell.execute_reply": "2021-10-24T07:27:20.091517Z",
     "shell.execute_reply.started": "2021-10-24T06:26:49.780317Z"
    },
    "papermill": {
     "duration": 0.05698,
     "end_time": "2021-10-24T07:27:20.091684",
     "exception": false,
     "start_time": "2021-10-24T07:27:20.034704",
     "status": "completed"
    },
    "tags": []
   },
   "outputs": [
    {
     "data": {
      "text/plain": [
       "0    0.0\n",
       "1    1.0\n",
       "2    2.0\n",
       "3    NaN\n",
       "4    4.0\n",
       "5    5.0\n",
       "6    6.0\n",
       "7    7.0\n",
       "8    8.0\n",
       "9    9.0\n",
       "dtype: float64"
      ]
     },
     "execution_count": 2,
     "metadata": {},
     "output_type": "execute_result"
    }
   ],
   "source": [
    "s = pd.Series(range(10))\n",
    "s[3] = np.nan\n",
    "s"
   ]
  },
  {
   "cell_type": "code",
   "execution_count": 3,
   "id": "70defbf4",
   "metadata": {
    "execution": {
     "iopub.execute_input": "2021-10-24T07:27:20.176435Z",
     "iopub.status.busy": "2021-10-24T07:27:20.175792Z",
     "iopub.status.idle": "2021-10-24T07:27:20.182400Z",
     "shell.execute_reply": "2021-10-24T07:27:20.183000Z",
     "shell.execute_reply.started": "2021-10-24T06:26:56.425579Z"
    },
    "papermill": {
     "duration": 0.050183,
     "end_time": "2021-10-24T07:27:20.183183",
     "exception": false,
     "start_time": "2021-10-24T07:27:20.133000",
     "status": "completed"
    },
    "tags": []
   },
   "outputs": [
    {
     "data": {
      "text/plain": [
       "9"
      ]
     },
     "execution_count": 3,
     "metadata": {},
     "output_type": "execute_result"
    }
   ],
   "source": [
    "s.count()"
   ]
  },
  {
   "cell_type": "markdown",
   "id": "00c07990",
   "metadata": {
    "papermill": {
     "duration": 0.039845,
     "end_time": "2021-10-24T07:27:20.263474",
     "exception": false,
     "start_time": "2021-10-24T07:27:20.223629",
     "status": "completed"
    },
    "tags": []
   },
   "source": [
    "데이터프레임에서는 각 열마다 별도로 데이터 개수를 세어준다. 데이터 누락 찾기 편리하다."
   ]
  },
  {
   "cell_type": "code",
   "execution_count": 4,
   "id": "211dc0ef",
   "metadata": {
    "execution": {
     "iopub.execute_input": "2021-10-24T07:27:20.347985Z",
     "iopub.status.busy": "2021-10-24T07:27:20.347375Z",
     "iopub.status.idle": "2021-10-24T07:27:20.363781Z",
     "shell.execute_reply": "2021-10-24T07:27:20.364342Z",
     "shell.execute_reply.started": "2021-10-24T06:27:39.269854Z"
    },
    "papermill": {
     "duration": 0.059733,
     "end_time": "2021-10-24T07:27:20.364512",
     "exception": false,
     "start_time": "2021-10-24T07:27:20.304779",
     "status": "completed"
    },
    "tags": []
   },
   "outputs": [
    {
     "data": {
      "text/html": [
       "<div>\n",
       "<style scoped>\n",
       "    .dataframe tbody tr th:only-of-type {\n",
       "        vertical-align: middle;\n",
       "    }\n",
       "\n",
       "    .dataframe tbody tr th {\n",
       "        vertical-align: top;\n",
       "    }\n",
       "\n",
       "    .dataframe thead th {\n",
       "        text-align: right;\n",
       "    }\n",
       "</style>\n",
       "<table border=\"1\" class=\"dataframe\">\n",
       "  <thead>\n",
       "    <tr style=\"text-align: right;\">\n",
       "      <th></th>\n",
       "      <th>0</th>\n",
       "      <th>1</th>\n",
       "      <th>2</th>\n",
       "      <th>3</th>\n",
       "    </tr>\n",
       "  </thead>\n",
       "  <tbody>\n",
       "    <tr>\n",
       "      <th>0</th>\n",
       "      <td>0.0</td>\n",
       "      <td>0.0</td>\n",
       "      <td>3.0</td>\n",
       "      <td>2.0</td>\n",
       "    </tr>\n",
       "    <tr>\n",
       "      <th>1</th>\n",
       "      <td>3.0</td>\n",
       "      <td>0.0</td>\n",
       "      <td>2.0</td>\n",
       "      <td>1.0</td>\n",
       "    </tr>\n",
       "    <tr>\n",
       "      <th>2</th>\n",
       "      <td>3.0</td>\n",
       "      <td>2.0</td>\n",
       "      <td>4.0</td>\n",
       "      <td>NaN</td>\n",
       "    </tr>\n",
       "    <tr>\n",
       "      <th>3</th>\n",
       "      <td>4.0</td>\n",
       "      <td>3.0</td>\n",
       "      <td>4.0</td>\n",
       "      <td>2.0</td>\n",
       "    </tr>\n",
       "  </tbody>\n",
       "</table>\n",
       "</div>"
      ],
      "text/plain": [
       "     0    1    2    3\n",
       "0  0.0  0.0  3.0  2.0\n",
       "1  3.0  0.0  2.0  1.0\n",
       "2  3.0  2.0  4.0  NaN\n",
       "3  4.0  3.0  4.0  2.0"
      ]
     },
     "execution_count": 4,
     "metadata": {},
     "output_type": "execute_result"
    }
   ],
   "source": [
    "np.random.seed(2)\n",
    "df = pd.DataFrame(np.random.randint(5, size=(4, 4)), dtype=float)\n",
    "df.iloc[2, 3] = np.nan\n",
    "df"
   ]
  },
  {
   "cell_type": "code",
   "execution_count": 5,
   "id": "2bb24c90",
   "metadata": {
    "execution": {
     "iopub.execute_input": "2021-10-24T07:27:20.449903Z",
     "iopub.status.busy": "2021-10-24T07:27:20.449297Z",
     "iopub.status.idle": "2021-10-24T07:27:20.459268Z",
     "shell.execute_reply": "2021-10-24T07:27:20.459778Z",
     "shell.execute_reply.started": "2021-10-24T06:27:45.467548Z"
    },
    "papermill": {
     "duration": 0.054203,
     "end_time": "2021-10-24T07:27:20.459936",
     "exception": false,
     "start_time": "2021-10-24T07:27:20.405733",
     "status": "completed"
    },
    "tags": []
   },
   "outputs": [
    {
     "data": {
      "text/plain": [
       "0    4\n",
       "1    4\n",
       "2    4\n",
       "3    3\n",
       "dtype: int64"
      ]
     },
     "execution_count": 5,
     "metadata": {},
     "output_type": "execute_result"
    }
   ],
   "source": [
    "df.count()"
   ]
  },
  {
   "cell_type": "markdown",
   "id": "3ab2b49d",
   "metadata": {
    "papermill": {
     "duration": 0.042217,
     "end_time": "2021-10-24T07:27:20.606598",
     "exception": false,
     "start_time": "2021-10-24T07:27:20.564381",
     "status": "completed"
    },
    "tags": []
   },
   "source": [
    "시리즈의 값이 정수, 문자열 카테고리인 값은 value_counts로 각각의 값이 나온 횟수를 셀 수 있다."
   ]
  },
  {
   "cell_type": "code",
   "execution_count": 6,
   "id": "3d84c860",
   "metadata": {
    "execution": {
     "iopub.execute_input": "2021-10-24T07:27:20.716344Z",
     "iopub.status.busy": "2021-10-24T07:27:20.713557Z",
     "iopub.status.idle": "2021-10-24T07:27:20.721211Z",
     "shell.execute_reply": "2021-10-24T07:27:20.721789Z",
     "shell.execute_reply.started": "2021-10-24T06:30:03.153486Z"
    },
    "papermill": {
     "duration": 0.064488,
     "end_time": "2021-10-24T07:27:20.721973",
     "exception": false,
     "start_time": "2021-10-24T07:27:20.657485",
     "status": "completed"
    },
    "tags": []
   },
   "outputs": [
    {
     "data": {
      "text/plain": [
       "95    4\n",
       "96    5\n",
       "97    2\n",
       "98    4\n",
       "99    3\n",
       "dtype: int64"
      ]
     },
     "execution_count": 6,
     "metadata": {},
     "output_type": "execute_result"
    }
   ],
   "source": [
    "np.random.seed(1)\n",
    "s2 = pd.Series(np.random.randint(6, size=100))\n",
    "s2.tail()\n"
   ]
  },
  {
   "cell_type": "code",
   "execution_count": 7,
   "id": "2086d170",
   "metadata": {
    "execution": {
     "iopub.execute_input": "2021-10-24T07:27:20.817030Z",
     "iopub.status.busy": "2021-10-24T07:27:20.816320Z",
     "iopub.status.idle": "2021-10-24T07:27:20.819079Z",
     "shell.execute_reply": "2021-10-24T07:27:20.819567Z",
     "shell.execute_reply.started": "2021-10-24T06:30:08.871457Z"
    },
    "papermill": {
     "duration": 0.05469,
     "end_time": "2021-10-24T07:27:20.819734",
     "exception": false,
     "start_time": "2021-10-24T07:27:20.765044",
     "status": "completed"
    },
    "tags": []
   },
   "outputs": [
    {
     "data": {
      "text/plain": [
       "1    22\n",
       "0    18\n",
       "4    17\n",
       "5    16\n",
       "3    14\n",
       "2    13\n",
       "dtype: int64"
      ]
     },
     "execution_count": 7,
     "metadata": {},
     "output_type": "execute_result"
    }
   ],
   "source": [
    "s2.value_counts()"
   ]
  },
  {
   "cell_type": "markdown",
   "id": "7549ce4e",
   "metadata": {
    "papermill": {
     "duration": 0.042069,
     "end_time": "2021-10-24T07:27:20.905058",
     "exception": false,
     "start_time": "2021-10-24T07:27:20.862989",
     "status": "completed"
    },
    "tags": []
   },
   "source": [
    "데이터 프레임에는 value_counts가 없으므로 각 열마다 따로 해주어야 한다."
   ]
  },
  {
   "cell_type": "code",
   "execution_count": 8,
   "id": "e07fb0f9",
   "metadata": {
    "execution": {
     "iopub.execute_input": "2021-10-24T07:27:20.992079Z",
     "iopub.status.busy": "2021-10-24T07:27:20.991108Z",
     "iopub.status.idle": "2021-10-24T07:27:21.001042Z",
     "shell.execute_reply": "2021-10-24T07:27:21.001498Z",
     "shell.execute_reply.started": "2021-10-24T06:32:35.224051Z"
    },
    "papermill": {
     "duration": 0.055196,
     "end_time": "2021-10-24T07:27:21.001666",
     "exception": false,
     "start_time": "2021-10-24T07:27:20.946470",
     "status": "completed"
    },
    "tags": []
   },
   "outputs": [
    {
     "data": {
      "text/plain": [
       "3.0    2\n",
       "0.0    1\n",
       "4.0    1\n",
       "Name: 0, dtype: int64"
      ]
     },
     "execution_count": 8,
     "metadata": {},
     "output_type": "execute_result"
    }
   ],
   "source": [
    "df[0].value_counts()"
   ]
  },
  {
   "cell_type": "markdown",
   "id": "ffce67cb",
   "metadata": {
    "papermill": {
     "duration": 0.043058,
     "end_time": "2021-10-24T07:27:21.087654",
     "exception": false,
     "start_time": "2021-10-24T07:27:21.044596",
     "status": "completed"
    },
    "tags": []
   },
   "source": [
    "정렬<br>\n",
    "sort_index, sort_values 사용.<br>\n",
    "인수에 ascending=False 써주면 큰거부터.<br>\n"
   ]
  },
  {
   "cell_type": "code",
   "execution_count": 9,
   "id": "0d2fc705",
   "metadata": {
    "execution": {
     "iopub.execute_input": "2021-10-24T07:27:21.184155Z",
     "iopub.status.busy": "2021-10-24T07:27:21.183318Z",
     "iopub.status.idle": "2021-10-24T07:27:21.186480Z",
     "shell.execute_reply": "2021-10-24T07:27:21.186928Z",
     "shell.execute_reply.started": "2021-10-24T06:34:43.036604Z"
    },
    "papermill": {
     "duration": 0.055893,
     "end_time": "2021-10-24T07:27:21.187096",
     "exception": false,
     "start_time": "2021-10-24T07:27:21.131203",
     "status": "completed"
    },
    "tags": []
   },
   "outputs": [
    {
     "data": {
      "text/plain": [
       "0    18\n",
       "1    22\n",
       "2    13\n",
       "3    14\n",
       "4    17\n",
       "5    16\n",
       "dtype: int64"
      ]
     },
     "execution_count": 9,
     "metadata": {},
     "output_type": "execute_result"
    }
   ],
   "source": [
    "s2.value_counts().sort_index()"
   ]
  },
  {
   "cell_type": "code",
   "execution_count": 10,
   "id": "f9bdd520",
   "metadata": {
    "execution": {
     "iopub.execute_input": "2021-10-24T07:27:21.279536Z",
     "iopub.status.busy": "2021-10-24T07:27:21.278615Z",
     "iopub.status.idle": "2021-10-24T07:27:21.282943Z",
     "shell.execute_reply": "2021-10-24T07:27:21.282460Z",
     "shell.execute_reply.started": "2021-10-24T06:34:58.737176Z"
    },
    "papermill": {
     "duration": 0.053996,
     "end_time": "2021-10-24T07:27:21.283095",
     "exception": false,
     "start_time": "2021-10-24T07:27:21.229099",
     "status": "completed"
    },
    "tags": []
   },
   "outputs": [
    {
     "data": {
      "text/plain": [
       "2    13\n",
       "3    14\n",
       "5    16\n",
       "4    17\n",
       "0    18\n",
       "1    22\n",
       "dtype: int64"
      ]
     },
     "execution_count": 10,
     "metadata": {},
     "output_type": "execute_result"
    }
   ],
   "source": [
    "s2.value_counts().sort_values()"
   ]
  },
  {
   "cell_type": "code",
   "execution_count": 11,
   "id": "e76bdf8d",
   "metadata": {
    "execution": {
     "iopub.execute_input": "2021-10-24T07:27:21.373706Z",
     "iopub.status.busy": "2021-10-24T07:27:21.373013Z",
     "iopub.status.idle": "2021-10-24T07:27:21.378530Z",
     "shell.execute_reply": "2021-10-24T07:27:21.379120Z",
     "shell.execute_reply.started": "2021-10-24T06:35:14.869885Z"
    },
    "papermill": {
     "duration": 0.053229,
     "end_time": "2021-10-24T07:27:21.379314",
     "exception": false,
     "start_time": "2021-10-24T07:27:21.326085",
     "status": "completed"
    },
    "tags": []
   },
   "outputs": [
    {
     "data": {
      "text/plain": [
       "0    0.0\n",
       "1    1.0\n",
       "2    2.0\n",
       "4    4.0\n",
       "5    5.0\n",
       "6    6.0\n",
       "7    7.0\n",
       "8    8.0\n",
       "9    9.0\n",
       "3    NaN\n",
       "dtype: float64"
      ]
     },
     "execution_count": 11,
     "metadata": {},
     "output_type": "execute_result"
    }
   ],
   "source": [
    "s.sort_values()"
   ]
  },
  {
   "cell_type": "code",
   "execution_count": 12,
   "id": "6d128155",
   "metadata": {
    "execution": {
     "iopub.execute_input": "2021-10-24T07:27:21.468787Z",
     "iopub.status.busy": "2021-10-24T07:27:21.468136Z",
     "iopub.status.idle": "2021-10-24T07:27:21.474746Z",
     "shell.execute_reply": "2021-10-24T07:27:21.475364Z",
     "shell.execute_reply.started": "2021-10-24T06:35:29.440970Z"
    },
    "papermill": {
     "duration": 0.052959,
     "end_time": "2021-10-24T07:27:21.475534",
     "exception": false,
     "start_time": "2021-10-24T07:27:21.422575",
     "status": "completed"
    },
    "tags": []
   },
   "outputs": [
    {
     "data": {
      "text/plain": [
       "9    9.0\n",
       "8    8.0\n",
       "7    7.0\n",
       "6    6.0\n",
       "5    5.0\n",
       "4    4.0\n",
       "2    2.0\n",
       "1    1.0\n",
       "0    0.0\n",
       "3    NaN\n",
       "dtype: float64"
      ]
     },
     "execution_count": 12,
     "metadata": {},
     "output_type": "execute_result"
    }
   ],
   "source": [
    "s.sort_values(ascending=False)"
   ]
  },
  {
   "cell_type": "markdown",
   "id": "8e8e9f4c",
   "metadata": {
    "papermill": {
     "duration": 0.043283,
     "end_time": "2021-10-24T07:27:21.562717",
     "exception": false,
     "start_time": "2021-10-24T07:27:21.519434",
     "status": "completed"
    },
    "tags": []
   },
   "source": [
    "데이터 프레임에서 sort_values를 사용하려면 by를 통해 정렬 기준이 되는 열을 지정해야 한다.<br>\n",
    "by의 인수에 list가 나오면 list에 해당하는 값들이 정렬 기준의 우선순위가 됨."
   ]
  },
  {
   "cell_type": "code",
   "execution_count": 13,
   "id": "215b2b30",
   "metadata": {
    "execution": {
     "iopub.execute_input": "2021-10-24T07:27:21.654149Z",
     "iopub.status.busy": "2021-10-24T07:27:21.653535Z",
     "iopub.status.idle": "2021-10-24T07:27:21.666769Z",
     "shell.execute_reply": "2021-10-24T07:27:21.666230Z",
     "shell.execute_reply.started": "2021-10-24T06:36:16.150069Z"
    },
    "papermill": {
     "duration": 0.060189,
     "end_time": "2021-10-24T07:27:21.666905",
     "exception": false,
     "start_time": "2021-10-24T07:27:21.606716",
     "status": "completed"
    },
    "tags": []
   },
   "outputs": [
    {
     "data": {
      "text/html": [
       "<div>\n",
       "<style scoped>\n",
       "    .dataframe tbody tr th:only-of-type {\n",
       "        vertical-align: middle;\n",
       "    }\n",
       "\n",
       "    .dataframe tbody tr th {\n",
       "        vertical-align: top;\n",
       "    }\n",
       "\n",
       "    .dataframe thead th {\n",
       "        text-align: right;\n",
       "    }\n",
       "</style>\n",
       "<table border=\"1\" class=\"dataframe\">\n",
       "  <thead>\n",
       "    <tr style=\"text-align: right;\">\n",
       "      <th></th>\n",
       "      <th>0</th>\n",
       "      <th>1</th>\n",
       "      <th>2</th>\n",
       "      <th>3</th>\n",
       "    </tr>\n",
       "  </thead>\n",
       "  <tbody>\n",
       "    <tr>\n",
       "      <th>0</th>\n",
       "      <td>0.0</td>\n",
       "      <td>0.0</td>\n",
       "      <td>3.0</td>\n",
       "      <td>2.0</td>\n",
       "    </tr>\n",
       "    <tr>\n",
       "      <th>1</th>\n",
       "      <td>3.0</td>\n",
       "      <td>0.0</td>\n",
       "      <td>2.0</td>\n",
       "      <td>1.0</td>\n",
       "    </tr>\n",
       "    <tr>\n",
       "      <th>2</th>\n",
       "      <td>3.0</td>\n",
       "      <td>2.0</td>\n",
       "      <td>4.0</td>\n",
       "      <td>NaN</td>\n",
       "    </tr>\n",
       "    <tr>\n",
       "      <th>3</th>\n",
       "      <td>4.0</td>\n",
       "      <td>3.0</td>\n",
       "      <td>4.0</td>\n",
       "      <td>2.0</td>\n",
       "    </tr>\n",
       "  </tbody>\n",
       "</table>\n",
       "</div>"
      ],
      "text/plain": [
       "     0    1    2    3\n",
       "0  0.0  0.0  3.0  2.0\n",
       "1  3.0  0.0  2.0  1.0\n",
       "2  3.0  2.0  4.0  NaN\n",
       "3  4.0  3.0  4.0  2.0"
      ]
     },
     "execution_count": 13,
     "metadata": {},
     "output_type": "execute_result"
    }
   ],
   "source": [
    "df.sort_values(by=1)"
   ]
  },
  {
   "cell_type": "code",
   "execution_count": 14,
   "id": "4d186465",
   "metadata": {
    "execution": {
     "iopub.execute_input": "2021-10-24T07:27:21.763732Z",
     "iopub.status.busy": "2021-10-24T07:27:21.763068Z",
     "iopub.status.idle": "2021-10-24T07:27:21.776659Z",
     "shell.execute_reply": "2021-10-24T07:27:21.776005Z",
     "shell.execute_reply.started": "2021-10-24T06:39:00.999541Z"
    },
    "papermill": {
     "duration": 0.065436,
     "end_time": "2021-10-24T07:27:21.776796",
     "exception": false,
     "start_time": "2021-10-24T07:27:21.711360",
     "status": "completed"
    },
    "tags": []
   },
   "outputs": [
    {
     "data": {
      "text/html": [
       "<div>\n",
       "<style scoped>\n",
       "    .dataframe tbody tr th:only-of-type {\n",
       "        vertical-align: middle;\n",
       "    }\n",
       "\n",
       "    .dataframe tbody tr th {\n",
       "        vertical-align: top;\n",
       "    }\n",
       "\n",
       "    .dataframe thead th {\n",
       "        text-align: right;\n",
       "    }\n",
       "</style>\n",
       "<table border=\"1\" class=\"dataframe\">\n",
       "  <thead>\n",
       "    <tr style=\"text-align: right;\">\n",
       "      <th></th>\n",
       "      <th>0</th>\n",
       "      <th>1</th>\n",
       "      <th>2</th>\n",
       "      <th>3</th>\n",
       "    </tr>\n",
       "  </thead>\n",
       "  <tbody>\n",
       "    <tr>\n",
       "      <th>1</th>\n",
       "      <td>3.0</td>\n",
       "      <td>0.0</td>\n",
       "      <td>2.0</td>\n",
       "      <td>1.0</td>\n",
       "    </tr>\n",
       "    <tr>\n",
       "      <th>0</th>\n",
       "      <td>0.0</td>\n",
       "      <td>0.0</td>\n",
       "      <td>3.0</td>\n",
       "      <td>2.0</td>\n",
       "    </tr>\n",
       "    <tr>\n",
       "      <th>2</th>\n",
       "      <td>3.0</td>\n",
       "      <td>2.0</td>\n",
       "      <td>4.0</td>\n",
       "      <td>NaN</td>\n",
       "    </tr>\n",
       "    <tr>\n",
       "      <th>3</th>\n",
       "      <td>4.0</td>\n",
       "      <td>3.0</td>\n",
       "      <td>4.0</td>\n",
       "      <td>2.0</td>\n",
       "    </tr>\n",
       "  </tbody>\n",
       "</table>\n",
       "</div>"
      ],
      "text/plain": [
       "     0    1    2    3\n",
       "1  3.0  0.0  2.0  1.0\n",
       "0  0.0  0.0  3.0  2.0\n",
       "2  3.0  2.0  4.0  NaN\n",
       "3  4.0  3.0  4.0  2.0"
      ]
     },
     "execution_count": 14,
     "metadata": {},
     "output_type": "execute_result"
    }
   ],
   "source": [
    "df.sort_values(by=[1, 2])"
   ]
  },
  {
   "cell_type": "markdown",
   "id": "b69bed69",
   "metadata": {
    "papermill": {
     "duration": 0.04402,
     "end_time": "2021-10-24T07:27:21.865549",
     "exception": false,
     "start_time": "2021-10-24T07:27:21.821529",
     "status": "completed"
    },
    "tags": []
   },
   "source": [
    "mean, sum<br>\n",
    "axis = 1 -> 행방향 합<br>\n",
    "axis = 0 -> 열방향 합<br>\n",
    "mean(평균) 함수도 똑같이 사용하면 된다."
   ]
  },
  {
   "cell_type": "code",
   "execution_count": 15,
   "id": "c5a5931c",
   "metadata": {
    "execution": {
     "iopub.execute_input": "2021-10-24T07:27:21.964464Z",
     "iopub.status.busy": "2021-10-24T07:27:21.956737Z",
     "iopub.status.idle": "2021-10-24T07:27:21.967712Z",
     "shell.execute_reply": "2021-10-24T07:27:21.968349Z",
     "shell.execute_reply.started": "2021-10-24T06:43:06.053615Z"
    },
    "papermill": {
     "duration": 0.059123,
     "end_time": "2021-10-24T07:27:21.968532",
     "exception": false,
     "start_time": "2021-10-24T07:27:21.909409",
     "status": "completed"
    },
    "tags": []
   },
   "outputs": [
    {
     "data": {
      "text/html": [
       "<div>\n",
       "<style scoped>\n",
       "    .dataframe tbody tr th:only-of-type {\n",
       "        vertical-align: middle;\n",
       "    }\n",
       "\n",
       "    .dataframe tbody tr th {\n",
       "        vertical-align: top;\n",
       "    }\n",
       "\n",
       "    .dataframe thead th {\n",
       "        text-align: right;\n",
       "    }\n",
       "</style>\n",
       "<table border=\"1\" class=\"dataframe\">\n",
       "  <thead>\n",
       "    <tr style=\"text-align: right;\">\n",
       "      <th></th>\n",
       "      <th>0</th>\n",
       "      <th>1</th>\n",
       "      <th>2</th>\n",
       "      <th>3</th>\n",
       "      <th>4</th>\n",
       "      <th>5</th>\n",
       "      <th>6</th>\n",
       "      <th>7</th>\n",
       "    </tr>\n",
       "  </thead>\n",
       "  <tbody>\n",
       "    <tr>\n",
       "      <th>0</th>\n",
       "      <td>5</td>\n",
       "      <td>8</td>\n",
       "      <td>9</td>\n",
       "      <td>5</td>\n",
       "      <td>0</td>\n",
       "      <td>0</td>\n",
       "      <td>1</td>\n",
       "      <td>7</td>\n",
       "    </tr>\n",
       "    <tr>\n",
       "      <th>1</th>\n",
       "      <td>6</td>\n",
       "      <td>9</td>\n",
       "      <td>2</td>\n",
       "      <td>4</td>\n",
       "      <td>5</td>\n",
       "      <td>2</td>\n",
       "      <td>4</td>\n",
       "      <td>2</td>\n",
       "    </tr>\n",
       "    <tr>\n",
       "      <th>2</th>\n",
       "      <td>4</td>\n",
       "      <td>7</td>\n",
       "      <td>7</td>\n",
       "      <td>9</td>\n",
       "      <td>1</td>\n",
       "      <td>7</td>\n",
       "      <td>0</td>\n",
       "      <td>6</td>\n",
       "    </tr>\n",
       "    <tr>\n",
       "      <th>3</th>\n",
       "      <td>9</td>\n",
       "      <td>9</td>\n",
       "      <td>7</td>\n",
       "      <td>6</td>\n",
       "      <td>9</td>\n",
       "      <td>1</td>\n",
       "      <td>0</td>\n",
       "      <td>1</td>\n",
       "    </tr>\n",
       "  </tbody>\n",
       "</table>\n",
       "</div>"
      ],
      "text/plain": [
       "   0  1  2  3  4  5  6  7\n",
       "0  5  8  9  5  0  0  1  7\n",
       "1  6  9  2  4  5  2  4  2\n",
       "2  4  7  7  9  1  7  0  6\n",
       "3  9  9  7  6  9  1  0  1"
      ]
     },
     "execution_count": 15,
     "metadata": {},
     "output_type": "execute_result"
    }
   ],
   "source": [
    "np.random.seed(1)\n",
    "df2 = pd.DataFrame(np.random.randint(10, size=(4, 8)))\n",
    "df2"
   ]
  },
  {
   "cell_type": "code",
   "execution_count": 16,
   "id": "1cafba54",
   "metadata": {
    "execution": {
     "iopub.execute_input": "2021-10-24T07:27:22.063583Z",
     "iopub.status.busy": "2021-10-24T07:27:22.062597Z",
     "iopub.status.idle": "2021-10-24T07:27:22.068842Z",
     "shell.execute_reply": "2021-10-24T07:27:22.069465Z",
     "shell.execute_reply.started": "2021-10-24T06:43:15.211425Z"
    },
    "papermill": {
     "duration": 0.05533,
     "end_time": "2021-10-24T07:27:22.069630",
     "exception": false,
     "start_time": "2021-10-24T07:27:22.014300",
     "status": "completed"
    },
    "tags": []
   },
   "outputs": [
    {
     "data": {
      "text/plain": [
       "0    35\n",
       "1    34\n",
       "2    41\n",
       "3    42\n",
       "dtype: int64"
      ]
     },
     "execution_count": 16,
     "metadata": {},
     "output_type": "execute_result"
    }
   ],
   "source": [
    "df2.sum(axis=1)"
   ]
  },
  {
   "cell_type": "code",
   "execution_count": 17,
   "id": "daac84c1",
   "metadata": {
    "execution": {
     "iopub.execute_input": "2021-10-24T07:27:22.163300Z",
     "iopub.status.busy": "2021-10-24T07:27:22.162370Z",
     "iopub.status.idle": "2021-10-24T07:27:22.172719Z",
     "shell.execute_reply": "2021-10-24T07:27:22.173323Z",
     "shell.execute_reply.started": "2021-10-24T06:43:26.274372Z"
    },
    "papermill": {
     "duration": 0.057986,
     "end_time": "2021-10-24T07:27:22.173486",
     "exception": false,
     "start_time": "2021-10-24T07:27:22.115500",
     "status": "completed"
    },
    "tags": []
   },
   "outputs": [
    {
     "data": {
      "text/html": [
       "<div>\n",
       "<style scoped>\n",
       "    .dataframe tbody tr th:only-of-type {\n",
       "        vertical-align: middle;\n",
       "    }\n",
       "\n",
       "    .dataframe tbody tr th {\n",
       "        vertical-align: top;\n",
       "    }\n",
       "\n",
       "    .dataframe thead th {\n",
       "        text-align: right;\n",
       "    }\n",
       "</style>\n",
       "<table border=\"1\" class=\"dataframe\">\n",
       "  <thead>\n",
       "    <tr style=\"text-align: right;\">\n",
       "      <th></th>\n",
       "      <th>0</th>\n",
       "      <th>1</th>\n",
       "      <th>2</th>\n",
       "      <th>3</th>\n",
       "      <th>4</th>\n",
       "      <th>5</th>\n",
       "      <th>6</th>\n",
       "      <th>7</th>\n",
       "      <th>RowSum</th>\n",
       "    </tr>\n",
       "  </thead>\n",
       "  <tbody>\n",
       "    <tr>\n",
       "      <th>0</th>\n",
       "      <td>5</td>\n",
       "      <td>8</td>\n",
       "      <td>9</td>\n",
       "      <td>5</td>\n",
       "      <td>0</td>\n",
       "      <td>0</td>\n",
       "      <td>1</td>\n",
       "      <td>7</td>\n",
       "      <td>35</td>\n",
       "    </tr>\n",
       "    <tr>\n",
       "      <th>1</th>\n",
       "      <td>6</td>\n",
       "      <td>9</td>\n",
       "      <td>2</td>\n",
       "      <td>4</td>\n",
       "      <td>5</td>\n",
       "      <td>2</td>\n",
       "      <td>4</td>\n",
       "      <td>2</td>\n",
       "      <td>34</td>\n",
       "    </tr>\n",
       "    <tr>\n",
       "      <th>2</th>\n",
       "      <td>4</td>\n",
       "      <td>7</td>\n",
       "      <td>7</td>\n",
       "      <td>9</td>\n",
       "      <td>1</td>\n",
       "      <td>7</td>\n",
       "      <td>0</td>\n",
       "      <td>6</td>\n",
       "      <td>41</td>\n",
       "    </tr>\n",
       "    <tr>\n",
       "      <th>3</th>\n",
       "      <td>9</td>\n",
       "      <td>9</td>\n",
       "      <td>7</td>\n",
       "      <td>6</td>\n",
       "      <td>9</td>\n",
       "      <td>1</td>\n",
       "      <td>0</td>\n",
       "      <td>1</td>\n",
       "      <td>42</td>\n",
       "    </tr>\n",
       "  </tbody>\n",
       "</table>\n",
       "</div>"
      ],
      "text/plain": [
       "   0  1  2  3  4  5  6  7  RowSum\n",
       "0  5  8  9  5  0  0  1  7      35\n",
       "1  6  9  2  4  5  2  4  2      34\n",
       "2  4  7  7  9  1  7  0  6      41\n",
       "3  9  9  7  6  9  1  0  1      42"
      ]
     },
     "execution_count": 17,
     "metadata": {},
     "output_type": "execute_result"
    }
   ],
   "source": [
    "df2[\"RowSum\"] = df2.sum(axis=1)\n",
    "df2"
   ]
  },
  {
   "cell_type": "code",
   "execution_count": 18,
   "id": "0e72c394",
   "metadata": {
    "execution": {
     "iopub.execute_input": "2021-10-24T07:27:22.267905Z",
     "iopub.status.busy": "2021-10-24T07:27:22.266949Z",
     "iopub.status.idle": "2021-10-24T07:27:22.273795Z",
     "shell.execute_reply": "2021-10-24T07:27:22.274303Z",
     "shell.execute_reply.started": "2021-10-24T06:43:38.107060Z"
    },
    "papermill": {
     "duration": 0.056331,
     "end_time": "2021-10-24T07:27:22.274471",
     "exception": false,
     "start_time": "2021-10-24T07:27:22.218140",
     "status": "completed"
    },
    "tags": []
   },
   "outputs": [
    {
     "data": {
      "text/plain": [
       "0          24\n",
       "1          33\n",
       "2          25\n",
       "3          24\n",
       "4          15\n",
       "5          10\n",
       "6           5\n",
       "7          16\n",
       "RowSum    152\n",
       "dtype: int64"
      ]
     },
     "execution_count": 18,
     "metadata": {},
     "output_type": "execute_result"
    }
   ],
   "source": [
    "df2.sum()"
   ]
  },
  {
   "cell_type": "code",
   "execution_count": 19,
   "id": "1d9f51a4",
   "metadata": {
    "execution": {
     "iopub.execute_input": "2021-10-24T07:27:22.388015Z",
     "iopub.status.busy": "2021-10-24T07:27:22.387179Z",
     "iopub.status.idle": "2021-10-24T07:27:22.390526Z",
     "shell.execute_reply": "2021-10-24T07:27:22.391019Z",
     "shell.execute_reply.started": "2021-10-24T06:43:43.975526Z"
    },
    "papermill": {
     "duration": 0.07192,
     "end_time": "2021-10-24T07:27:22.391209",
     "exception": false,
     "start_time": "2021-10-24T07:27:22.319289",
     "status": "completed"
    },
    "tags": []
   },
   "outputs": [
    {
     "data": {
      "text/html": [
       "<div>\n",
       "<style scoped>\n",
       "    .dataframe tbody tr th:only-of-type {\n",
       "        vertical-align: middle;\n",
       "    }\n",
       "\n",
       "    .dataframe tbody tr th {\n",
       "        vertical-align: top;\n",
       "    }\n",
       "\n",
       "    .dataframe thead th {\n",
       "        text-align: right;\n",
       "    }\n",
       "</style>\n",
       "<table border=\"1\" class=\"dataframe\">\n",
       "  <thead>\n",
       "    <tr style=\"text-align: right;\">\n",
       "      <th></th>\n",
       "      <th>0</th>\n",
       "      <th>1</th>\n",
       "      <th>2</th>\n",
       "      <th>3</th>\n",
       "      <th>4</th>\n",
       "      <th>5</th>\n",
       "      <th>6</th>\n",
       "      <th>7</th>\n",
       "      <th>RowSum</th>\n",
       "    </tr>\n",
       "  </thead>\n",
       "  <tbody>\n",
       "    <tr>\n",
       "      <th>0</th>\n",
       "      <td>5.0</td>\n",
       "      <td>8.0</td>\n",
       "      <td>9.0</td>\n",
       "      <td>5.0</td>\n",
       "      <td>0.0</td>\n",
       "      <td>0.0</td>\n",
       "      <td>1.0</td>\n",
       "      <td>7.0</td>\n",
       "      <td>35.0</td>\n",
       "    </tr>\n",
       "    <tr>\n",
       "      <th>1</th>\n",
       "      <td>6.0</td>\n",
       "      <td>9.0</td>\n",
       "      <td>2.0</td>\n",
       "      <td>4.0</td>\n",
       "      <td>5.0</td>\n",
       "      <td>2.0</td>\n",
       "      <td>4.0</td>\n",
       "      <td>2.0</td>\n",
       "      <td>34.0</td>\n",
       "    </tr>\n",
       "    <tr>\n",
       "      <th>2</th>\n",
       "      <td>4.0</td>\n",
       "      <td>7.0</td>\n",
       "      <td>7.0</td>\n",
       "      <td>9.0</td>\n",
       "      <td>1.0</td>\n",
       "      <td>7.0</td>\n",
       "      <td>0.0</td>\n",
       "      <td>6.0</td>\n",
       "      <td>41.0</td>\n",
       "    </tr>\n",
       "    <tr>\n",
       "      <th>3</th>\n",
       "      <td>9.0</td>\n",
       "      <td>9.0</td>\n",
       "      <td>7.0</td>\n",
       "      <td>6.0</td>\n",
       "      <td>9.0</td>\n",
       "      <td>1.0</td>\n",
       "      <td>0.0</td>\n",
       "      <td>1.0</td>\n",
       "      <td>42.0</td>\n",
       "    </tr>\n",
       "    <tr>\n",
       "      <th>ColTotal</th>\n",
       "      <td>24.0</td>\n",
       "      <td>33.0</td>\n",
       "      <td>25.0</td>\n",
       "      <td>24.0</td>\n",
       "      <td>15.0</td>\n",
       "      <td>10.0</td>\n",
       "      <td>5.0</td>\n",
       "      <td>16.0</td>\n",
       "      <td>152.0</td>\n",
       "    </tr>\n",
       "  </tbody>\n",
       "</table>\n",
       "</div>"
      ],
      "text/plain": [
       "             0     1     2     3     4     5    6     7  RowSum\n",
       "0          5.0   8.0   9.0   5.0   0.0   0.0  1.0   7.0    35.0\n",
       "1          6.0   9.0   2.0   4.0   5.0   2.0  4.0   2.0    34.0\n",
       "2          4.0   7.0   7.0   9.0   1.0   7.0  0.0   6.0    41.0\n",
       "3          9.0   9.0   7.0   6.0   9.0   1.0  0.0   1.0    42.0\n",
       "ColTotal  24.0  33.0  25.0  24.0  15.0  10.0  5.0  16.0   152.0"
      ]
     },
     "execution_count": 19,
     "metadata": {},
     "output_type": "execute_result"
    }
   ],
   "source": [
    "df2.loc[\"ColTotal\", :] = df2.sum()\n",
    "df2"
   ]
  },
  {
   "cell_type": "markdown",
   "id": "c146a892",
   "metadata": {
    "papermill": {
     "duration": 0.046651,
     "end_time": "2021-10-24T07:27:22.485437",
     "exception": false,
     "start_time": "2021-10-24T07:27:22.438786",
     "status": "completed"
    },
    "tags": []
   },
   "source": [
    "Apply method<br>\n",
    "행이나 열 단위로 반복해서 계산하고 싶을때, apply를 사용하면 편함.\n",
    "기본값은 열이고, axis=1하면 행."
   ]
  },
  {
   "cell_type": "code",
   "execution_count": 20,
   "id": "5f374354",
   "metadata": {
    "execution": {
     "iopub.execute_input": "2021-10-24T07:27:22.582445Z",
     "iopub.status.busy": "2021-10-24T07:27:22.581759Z",
     "iopub.status.idle": "2021-10-24T07:27:22.591243Z",
     "shell.execute_reply": "2021-10-24T07:27:22.591834Z",
     "shell.execute_reply.started": "2021-10-24T06:54:22.979079Z"
    },
    "papermill": {
     "duration": 0.059656,
     "end_time": "2021-10-24T07:27:22.591998",
     "exception": false,
     "start_time": "2021-10-24T07:27:22.532342",
     "status": "completed"
    },
    "tags": []
   },
   "outputs": [
    {
     "data": {
      "text/html": [
       "<div>\n",
       "<style scoped>\n",
       "    .dataframe tbody tr th:only-of-type {\n",
       "        vertical-align: middle;\n",
       "    }\n",
       "\n",
       "    .dataframe tbody tr th {\n",
       "        vertical-align: top;\n",
       "    }\n",
       "\n",
       "    .dataframe thead th {\n",
       "        text-align: right;\n",
       "    }\n",
       "</style>\n",
       "<table border=\"1\" class=\"dataframe\">\n",
       "  <thead>\n",
       "    <tr style=\"text-align: right;\">\n",
       "      <th></th>\n",
       "      <th>A</th>\n",
       "      <th>B</th>\n",
       "      <th>C</th>\n",
       "    </tr>\n",
       "  </thead>\n",
       "  <tbody>\n",
       "    <tr>\n",
       "      <th>0</th>\n",
       "      <td>1</td>\n",
       "      <td>2</td>\n",
       "      <td>1</td>\n",
       "    </tr>\n",
       "    <tr>\n",
       "      <th>1</th>\n",
       "      <td>3</td>\n",
       "      <td>3</td>\n",
       "      <td>5</td>\n",
       "    </tr>\n",
       "    <tr>\n",
       "      <th>2</th>\n",
       "      <td>4</td>\n",
       "      <td>1</td>\n",
       "      <td>2</td>\n",
       "    </tr>\n",
       "    <tr>\n",
       "      <th>3</th>\n",
       "      <td>3</td>\n",
       "      <td>2</td>\n",
       "      <td>4</td>\n",
       "    </tr>\n",
       "    <tr>\n",
       "      <th>4</th>\n",
       "      <td>4</td>\n",
       "      <td>3</td>\n",
       "      <td>4</td>\n",
       "    </tr>\n",
       "  </tbody>\n",
       "</table>\n",
       "</div>"
      ],
      "text/plain": [
       "   A  B  C\n",
       "0  1  2  1\n",
       "1  3  3  5\n",
       "2  4  1  2\n",
       "3  3  2  4\n",
       "4  4  3  4"
      ]
     },
     "execution_count": 20,
     "metadata": {},
     "output_type": "execute_result"
    }
   ],
   "source": [
    "df3 = pd.DataFrame({\n",
    "    'A': [1, 3, 4, 3, 4],\n",
    "    'B': [2, 3, 1, 2, 3],\n",
    "    'C': [1, 5, 2, 4, 4]\n",
    "})\n",
    "df3"
   ]
  },
  {
   "cell_type": "code",
   "execution_count": 21,
   "id": "ad7a0685",
   "metadata": {
    "execution": {
     "iopub.execute_input": "2021-10-24T07:27:22.695515Z",
     "iopub.status.busy": "2021-10-24T07:27:22.694718Z",
     "iopub.status.idle": "2021-10-24T07:27:22.697733Z",
     "shell.execute_reply": "2021-10-24T07:27:22.698194Z",
     "shell.execute_reply.started": "2021-10-24T06:54:41.284138Z"
    },
    "papermill": {
     "duration": 0.058502,
     "end_time": "2021-10-24T07:27:22.698386",
     "exception": false,
     "start_time": "2021-10-24T07:27:22.639884",
     "status": "completed"
    },
    "tags": []
   },
   "outputs": [
    {
     "data": {
      "text/plain": [
       "A    3\n",
       "B    2\n",
       "C    4\n",
       "dtype: int64"
      ]
     },
     "execution_count": 21,
     "metadata": {},
     "output_type": "execute_result"
    }
   ],
   "source": [
    "df3.apply(lambda x : x.max() - x.min())"
   ]
  },
  {
   "cell_type": "code",
   "execution_count": 22,
   "id": "b0bba89e",
   "metadata": {
    "execution": {
     "iopub.execute_input": "2021-10-24T07:27:22.802813Z",
     "iopub.status.busy": "2021-10-24T07:27:22.802020Z",
     "iopub.status.idle": "2021-10-24T07:27:22.805582Z",
     "shell.execute_reply": "2021-10-24T07:27:22.804932Z",
     "shell.execute_reply.started": "2021-10-24T07:01:06.087202Z"
    },
    "papermill": {
     "duration": 0.059449,
     "end_time": "2021-10-24T07:27:22.805733",
     "exception": false,
     "start_time": "2021-10-24T07:27:22.746284",
     "status": "completed"
    },
    "tags": []
   },
   "outputs": [
    {
     "data": {
      "text/plain": [
       "0    1\n",
       "1    2\n",
       "2    3\n",
       "3    2\n",
       "4    1\n",
       "dtype: int64"
      ]
     },
     "execution_count": 22,
     "metadata": {},
     "output_type": "execute_result"
    }
   ],
   "source": [
    "df3.apply(lambda x : x.max() - x.min(), axis=1)"
   ]
  },
  {
   "cell_type": "markdown",
   "id": "8d7dbdf5",
   "metadata": {
    "papermill": {
     "duration": 0.047749,
     "end_time": "2021-10-24T07:27:22.902252",
     "exception": false,
     "start_time": "2021-10-24T07:27:22.854503",
     "status": "completed"
    },
    "tags": []
   },
   "source": [
    "각 열에 어떤 값이 얼마나 사용되었는지 알고싶다면 밑에처럼."
   ]
  },
  {
   "cell_type": "code",
   "execution_count": 23,
   "id": "54a1cdc1",
   "metadata": {
    "execution": {
     "iopub.execute_input": "2021-10-24T07:27:23.000823Z",
     "iopub.status.busy": "2021-10-24T07:27:23.000191Z",
     "iopub.status.idle": "2021-10-24T07:27:23.013480Z",
     "shell.execute_reply": "2021-10-24T07:27:23.013940Z",
     "shell.execute_reply.started": "2021-10-24T07:02:47.088230Z"
    },
    "papermill": {
     "duration": 0.063791,
     "end_time": "2021-10-24T07:27:23.014128",
     "exception": false,
     "start_time": "2021-10-24T07:27:22.950337",
     "status": "completed"
    },
    "tags": []
   },
   "outputs": [
    {
     "data": {
      "text/html": [
       "<div>\n",
       "<style scoped>\n",
       "    .dataframe tbody tr th:only-of-type {\n",
       "        vertical-align: middle;\n",
       "    }\n",
       "\n",
       "    .dataframe tbody tr th {\n",
       "        vertical-align: top;\n",
       "    }\n",
       "\n",
       "    .dataframe thead th {\n",
       "        text-align: right;\n",
       "    }\n",
       "</style>\n",
       "<table border=\"1\" class=\"dataframe\">\n",
       "  <thead>\n",
       "    <tr style=\"text-align: right;\">\n",
       "      <th></th>\n",
       "      <th>A</th>\n",
       "      <th>B</th>\n",
       "      <th>C</th>\n",
       "    </tr>\n",
       "  </thead>\n",
       "  <tbody>\n",
       "    <tr>\n",
       "      <th>1</th>\n",
       "      <td>1.0</td>\n",
       "      <td>1.0</td>\n",
       "      <td>1.0</td>\n",
       "    </tr>\n",
       "    <tr>\n",
       "      <th>2</th>\n",
       "      <td>NaN</td>\n",
       "      <td>2.0</td>\n",
       "      <td>1.0</td>\n",
       "    </tr>\n",
       "    <tr>\n",
       "      <th>3</th>\n",
       "      <td>2.0</td>\n",
       "      <td>2.0</td>\n",
       "      <td>NaN</td>\n",
       "    </tr>\n",
       "    <tr>\n",
       "      <th>4</th>\n",
       "      <td>2.0</td>\n",
       "      <td>NaN</td>\n",
       "      <td>2.0</td>\n",
       "    </tr>\n",
       "    <tr>\n",
       "      <th>5</th>\n",
       "      <td>NaN</td>\n",
       "      <td>NaN</td>\n",
       "      <td>1.0</td>\n",
       "    </tr>\n",
       "  </tbody>\n",
       "</table>\n",
       "</div>"
      ],
      "text/plain": [
       "     A    B    C\n",
       "1  1.0  1.0  1.0\n",
       "2  NaN  2.0  1.0\n",
       "3  2.0  2.0  NaN\n",
       "4  2.0  NaN  2.0\n",
       "5  NaN  NaN  1.0"
      ]
     },
     "execution_count": 23,
     "metadata": {},
     "output_type": "execute_result"
    }
   ],
   "source": [
    "df3.apply(pd.value_counts)"
   ]
  },
  {
   "cell_type": "markdown",
   "id": "426a005a",
   "metadata": {
    "papermill": {
     "duration": 0.048454,
     "end_time": "2021-10-24T07:27:23.110815",
     "exception": false,
     "start_time": "2021-10-24T07:27:23.062361",
     "status": "completed"
    },
    "tags": []
   },
   "source": [
    "fillna method<br>\n",
    "NaN값을 원하는 값으로 바꿀 수 있음."
   ]
  },
  {
   "cell_type": "code",
   "execution_count": 24,
   "id": "3bf01a2c",
   "metadata": {
    "execution": {
     "iopub.execute_input": "2021-10-24T07:27:23.210521Z",
     "iopub.status.busy": "2021-10-24T07:27:23.209838Z",
     "iopub.status.idle": "2021-10-24T07:27:23.223077Z",
     "shell.execute_reply": "2021-10-24T07:27:23.223617Z",
     "shell.execute_reply.started": "2021-10-24T07:03:41.466769Z"
    },
    "papermill": {
     "duration": 0.064795,
     "end_time": "2021-10-24T07:27:23.223790",
     "exception": false,
     "start_time": "2021-10-24T07:27:23.158995",
     "status": "completed"
    },
    "tags": []
   },
   "outputs": [
    {
     "data": {
      "text/html": [
       "<div>\n",
       "<style scoped>\n",
       "    .dataframe tbody tr th:only-of-type {\n",
       "        vertical-align: middle;\n",
       "    }\n",
       "\n",
       "    .dataframe tbody tr th {\n",
       "        vertical-align: top;\n",
       "    }\n",
       "\n",
       "    .dataframe thead th {\n",
       "        text-align: right;\n",
       "    }\n",
       "</style>\n",
       "<table border=\"1\" class=\"dataframe\">\n",
       "  <thead>\n",
       "    <tr style=\"text-align: right;\">\n",
       "      <th></th>\n",
       "      <th>A</th>\n",
       "      <th>B</th>\n",
       "      <th>C</th>\n",
       "    </tr>\n",
       "  </thead>\n",
       "  <tbody>\n",
       "    <tr>\n",
       "      <th>1</th>\n",
       "      <td>1.0</td>\n",
       "      <td>1.0</td>\n",
       "      <td>1.0</td>\n",
       "    </tr>\n",
       "    <tr>\n",
       "      <th>2</th>\n",
       "      <td>0.0</td>\n",
       "      <td>2.0</td>\n",
       "      <td>1.0</td>\n",
       "    </tr>\n",
       "    <tr>\n",
       "      <th>3</th>\n",
       "      <td>2.0</td>\n",
       "      <td>2.0</td>\n",
       "      <td>0.0</td>\n",
       "    </tr>\n",
       "    <tr>\n",
       "      <th>4</th>\n",
       "      <td>2.0</td>\n",
       "      <td>0.0</td>\n",
       "      <td>2.0</td>\n",
       "    </tr>\n",
       "    <tr>\n",
       "      <th>5</th>\n",
       "      <td>0.0</td>\n",
       "      <td>0.0</td>\n",
       "      <td>1.0</td>\n",
       "    </tr>\n",
       "  </tbody>\n",
       "</table>\n",
       "</div>"
      ],
      "text/plain": [
       "     A    B    C\n",
       "1  1.0  1.0  1.0\n",
       "2  0.0  2.0  1.0\n",
       "3  2.0  2.0  0.0\n",
       "4  2.0  0.0  2.0\n",
       "5  0.0  0.0  1.0"
      ]
     },
     "execution_count": 24,
     "metadata": {},
     "output_type": "execute_result"
    }
   ],
   "source": [
    "df3.apply(pd.value_counts).fillna(0.0)"
   ]
  },
  {
   "cell_type": "markdown",
   "id": "70aba040",
   "metadata": {
    "papermill": {
     "duration": 0.048746,
     "end_time": "2021-10-24T07:27:23.321588",
     "exception": false,
     "start_time": "2021-10-24T07:27:23.272842",
     "status": "completed"
    },
    "tags": []
   },
   "source": [
    "astype method<br>\n",
    "전체 데이터의 자료형 바꾸기"
   ]
  },
  {
   "cell_type": "code",
   "execution_count": 25,
   "id": "e5e2046d",
   "metadata": {
    "execution": {
     "iopub.execute_input": "2021-10-24T07:27:23.425487Z",
     "iopub.status.busy": "2021-10-24T07:27:23.424490Z",
     "iopub.status.idle": "2021-10-24T07:27:23.432425Z",
     "shell.execute_reply": "2021-10-24T07:27:23.433073Z",
     "shell.execute_reply.started": "2021-10-24T07:04:32.695209Z"
    },
    "papermill": {
     "duration": 0.064815,
     "end_time": "2021-10-24T07:27:23.433261",
     "exception": false,
     "start_time": "2021-10-24T07:27:23.368446",
     "status": "completed"
    },
    "tags": []
   },
   "outputs": [
    {
     "data": {
      "text/html": [
       "<div>\n",
       "<style scoped>\n",
       "    .dataframe tbody tr th:only-of-type {\n",
       "        vertical-align: middle;\n",
       "    }\n",
       "\n",
       "    .dataframe tbody tr th {\n",
       "        vertical-align: top;\n",
       "    }\n",
       "\n",
       "    .dataframe thead th {\n",
       "        text-align: right;\n",
       "    }\n",
       "</style>\n",
       "<table border=\"1\" class=\"dataframe\">\n",
       "  <thead>\n",
       "    <tr style=\"text-align: right;\">\n",
       "      <th></th>\n",
       "      <th>A</th>\n",
       "      <th>B</th>\n",
       "      <th>C</th>\n",
       "    </tr>\n",
       "  </thead>\n",
       "  <tbody>\n",
       "    <tr>\n",
       "      <th>1</th>\n",
       "      <td>1</td>\n",
       "      <td>1</td>\n",
       "      <td>1</td>\n",
       "    </tr>\n",
       "    <tr>\n",
       "      <th>2</th>\n",
       "      <td>0</td>\n",
       "      <td>2</td>\n",
       "      <td>1</td>\n",
       "    </tr>\n",
       "    <tr>\n",
       "      <th>3</th>\n",
       "      <td>2</td>\n",
       "      <td>2</td>\n",
       "      <td>0</td>\n",
       "    </tr>\n",
       "    <tr>\n",
       "      <th>4</th>\n",
       "      <td>2</td>\n",
       "      <td>0</td>\n",
       "      <td>2</td>\n",
       "    </tr>\n",
       "    <tr>\n",
       "      <th>5</th>\n",
       "      <td>0</td>\n",
       "      <td>0</td>\n",
       "      <td>1</td>\n",
       "    </tr>\n",
       "  </tbody>\n",
       "</table>\n",
       "</div>"
      ],
      "text/plain": [
       "   A  B  C\n",
       "1  1  1  1\n",
       "2  0  2  1\n",
       "3  2  2  0\n",
       "4  2  0  2\n",
       "5  0  0  1"
      ]
     },
     "execution_count": 25,
     "metadata": {},
     "output_type": "execute_result"
    }
   ],
   "source": [
    "df3.apply(pd.value_counts).fillna(0).astype(int)"
   ]
  },
  {
   "cell_type": "markdown",
   "id": "7f3ecdd3",
   "metadata": {
    "papermill": {
     "duration": 0.049137,
     "end_time": "2021-10-24T07:27:23.531838",
     "exception": false,
     "start_time": "2021-10-24T07:27:23.482701",
     "status": "completed"
    },
    "tags": []
   },
   "source": [
    "<h3>실수 값을 카테고리 값으로 변환</h3>\n"
   ]
  },
  {
   "cell_type": "code",
   "execution_count": 26,
   "id": "f8a860b2",
   "metadata": {
    "execution": {
     "iopub.execute_input": "2021-10-24T07:27:23.634952Z",
     "iopub.status.busy": "2021-10-24T07:27:23.634297Z",
     "iopub.status.idle": "2021-10-24T07:27:23.637833Z",
     "shell.execute_reply": "2021-10-24T07:27:23.638321Z",
     "shell.execute_reply.started": "2021-10-24T07:07:16.485267Z"
    },
    "papermill": {
     "duration": 0.057539,
     "end_time": "2021-10-24T07:27:23.638497",
     "exception": false,
     "start_time": "2021-10-24T07:27:23.580958",
     "status": "completed"
    },
    "tags": []
   },
   "outputs": [],
   "source": [
    "ages = [0, 2, 10, 21, 23, 37, 31, 61, 20, 41, 32, 101]\n"
   ]
  },
  {
   "cell_type": "markdown",
   "id": "b387b9ec",
   "metadata": {
    "papermill": {
     "duration": 0.049336,
     "end_time": "2021-10-24T07:27:23.737148",
     "exception": false,
     "start_time": "2021-10-24T07:27:23.687812",
     "status": "completed"
    },
    "tags": []
   },
   "source": [
    "bins는 카테고리를 나누는 기준값, labels는 기준값에 따라서 변경 결과가 되는 카테고리이다. 영역을 넘는 값은 NaN처리가 된다."
   ]
  },
  {
   "cell_type": "code",
   "execution_count": 27,
   "id": "6a32396e",
   "metadata": {
    "execution": {
     "iopub.execute_input": "2021-10-24T07:27:23.840543Z",
     "iopub.status.busy": "2021-10-24T07:27:23.839837Z",
     "iopub.status.idle": "2021-10-24T07:27:23.848045Z",
     "shell.execute_reply": "2021-10-24T07:27:23.848514Z",
     "shell.execute_reply.started": "2021-10-24T07:07:27.269779Z"
    },
    "papermill": {
     "duration": 0.061404,
     "end_time": "2021-10-24T07:27:23.848689",
     "exception": false,
     "start_time": "2021-10-24T07:27:23.787285",
     "status": "completed"
    },
    "tags": []
   },
   "outputs": [
    {
     "data": {
      "text/plain": [
       "[NaN, '미성년자', '미성년자', '청년', '청년', ..., '장년', '미성년자', '중년', '중년', NaN]\n",
       "Length: 12\n",
       "Categories (5, object): ['미성년자' < '청년' < '중년' < '장년' < '노년']"
      ]
     },
     "execution_count": 27,
     "metadata": {},
     "output_type": "execute_result"
    }
   ],
   "source": [
    "bins = [1, 20, 30, 50, 70, 100]\n",
    "labels = [\"미성년자\", \"청년\", \"중년\", \"장년\", \"노년\"]\n",
    "cats = pd.cut(ages, bins, labels=labels)\n",
    "cats"
   ]
  },
  {
   "cell_type": "markdown",
   "id": "b65de954",
   "metadata": {
    "papermill": {
     "duration": 0.049498,
     "end_time": "2021-10-24T07:27:23.948096",
     "exception": false,
     "start_time": "2021-10-24T07:27:23.898598",
     "status": "completed"
    },
    "tags": []
   },
   "source": [
    "cut이 반환하는 값은 Categorical 클래스 객체이므로, categories 속성으로 라벨문자열을, codes 속성으로 정수로 인코딩 한 카테고리 값을 가진다."
   ]
  },
  {
   "cell_type": "code",
   "execution_count": 28,
   "id": "7ab7acf4",
   "metadata": {
    "execution": {
     "iopub.execute_input": "2021-10-24T07:27:24.050655Z",
     "iopub.status.busy": "2021-10-24T07:27:24.049983Z",
     "iopub.status.idle": "2021-10-24T07:27:24.054105Z",
     "shell.execute_reply": "2021-10-24T07:27:24.054613Z",
     "shell.execute_reply.started": "2021-10-24T07:09:17.344221Z"
    },
    "papermill": {
     "duration": 0.057192,
     "end_time": "2021-10-24T07:27:24.054780",
     "exception": false,
     "start_time": "2021-10-24T07:27:23.997588",
     "status": "completed"
    },
    "tags": []
   },
   "outputs": [
    {
     "data": {
      "text/plain": [
       "pandas.core.arrays.categorical.Categorical"
      ]
     },
     "execution_count": 28,
     "metadata": {},
     "output_type": "execute_result"
    }
   ],
   "source": [
    "type(cats)"
   ]
  },
  {
   "cell_type": "code",
   "execution_count": 29,
   "id": "8128a5f7",
   "metadata": {
    "execution": {
     "iopub.execute_input": "2021-10-24T07:27:24.158834Z",
     "iopub.status.busy": "2021-10-24T07:27:24.158157Z",
     "iopub.status.idle": "2021-10-24T07:27:24.162369Z",
     "shell.execute_reply": "2021-10-24T07:27:24.162816Z",
     "shell.execute_reply.started": "2021-10-24T07:09:23.437331Z"
    },
    "papermill": {
     "duration": 0.057888,
     "end_time": "2021-10-24T07:27:24.162999",
     "exception": false,
     "start_time": "2021-10-24T07:27:24.105111",
     "status": "completed"
    },
    "tags": []
   },
   "outputs": [
    {
     "data": {
      "text/plain": [
       "Index(['미성년자', '청년', '중년', '장년', '노년'], dtype='object')"
      ]
     },
     "execution_count": 29,
     "metadata": {},
     "output_type": "execute_result"
    }
   ],
   "source": [
    "cats.categories"
   ]
  },
  {
   "cell_type": "code",
   "execution_count": 30,
   "id": "e80431b2",
   "metadata": {
    "execution": {
     "iopub.execute_input": "2021-10-24T07:27:24.267012Z",
     "iopub.status.busy": "2021-10-24T07:27:24.266373Z",
     "iopub.status.idle": "2021-10-24T07:27:24.270727Z",
     "shell.execute_reply": "2021-10-24T07:27:24.271261Z",
     "shell.execute_reply.started": "2021-10-24T07:09:28.923077Z"
    },
    "papermill": {
     "duration": 0.058133,
     "end_time": "2021-10-24T07:27:24.271427",
     "exception": false,
     "start_time": "2021-10-24T07:27:24.213294",
     "status": "completed"
    },
    "tags": []
   },
   "outputs": [
    {
     "data": {
      "text/plain": [
       "array([-1,  0,  0,  1,  1,  2,  2,  3,  0,  2,  2, -1], dtype=int8)"
      ]
     },
     "execution_count": 30,
     "metadata": {},
     "output_type": "execute_result"
    }
   ],
   "source": [
    "cats.codes"
   ]
  },
  {
   "cell_type": "code",
   "execution_count": 31,
   "id": "7f5a9586",
   "metadata": {
    "execution": {
     "iopub.execute_input": "2021-10-24T07:27:24.377610Z",
     "iopub.status.busy": "2021-10-24T07:27:24.376638Z",
     "iopub.status.idle": "2021-10-24T07:27:24.389327Z",
     "shell.execute_reply": "2021-10-24T07:27:24.389889Z",
     "shell.execute_reply.started": "2021-10-24T07:10:34.500654Z"
    },
    "papermill": {
     "duration": 0.067593,
     "end_time": "2021-10-24T07:27:24.390062",
     "exception": false,
     "start_time": "2021-10-24T07:27:24.322469",
     "status": "completed"
    },
    "tags": []
   },
   "outputs": [
    {
     "data": {
      "text/html": [
       "<div>\n",
       "<style scoped>\n",
       "    .dataframe tbody tr th:only-of-type {\n",
       "        vertical-align: middle;\n",
       "    }\n",
       "\n",
       "    .dataframe tbody tr th {\n",
       "        vertical-align: top;\n",
       "    }\n",
       "\n",
       "    .dataframe thead th {\n",
       "        text-align: right;\n",
       "    }\n",
       "</style>\n",
       "<table border=\"1\" class=\"dataframe\">\n",
       "  <thead>\n",
       "    <tr style=\"text-align: right;\">\n",
       "      <th></th>\n",
       "      <th>ages</th>\n",
       "      <th>age_cat</th>\n",
       "    </tr>\n",
       "  </thead>\n",
       "  <tbody>\n",
       "    <tr>\n",
       "      <th>0</th>\n",
       "      <td>0</td>\n",
       "      <td>NaN</td>\n",
       "    </tr>\n",
       "    <tr>\n",
       "      <th>1</th>\n",
       "      <td>2</td>\n",
       "      <td>미성년자</td>\n",
       "    </tr>\n",
       "    <tr>\n",
       "      <th>2</th>\n",
       "      <td>10</td>\n",
       "      <td>미성년자</td>\n",
       "    </tr>\n",
       "    <tr>\n",
       "      <th>3</th>\n",
       "      <td>21</td>\n",
       "      <td>청년</td>\n",
       "    </tr>\n",
       "    <tr>\n",
       "      <th>4</th>\n",
       "      <td>23</td>\n",
       "      <td>청년</td>\n",
       "    </tr>\n",
       "    <tr>\n",
       "      <th>5</th>\n",
       "      <td>37</td>\n",
       "      <td>중년</td>\n",
       "    </tr>\n",
       "    <tr>\n",
       "      <th>6</th>\n",
       "      <td>31</td>\n",
       "      <td>중년</td>\n",
       "    </tr>\n",
       "    <tr>\n",
       "      <th>7</th>\n",
       "      <td>61</td>\n",
       "      <td>장년</td>\n",
       "    </tr>\n",
       "    <tr>\n",
       "      <th>8</th>\n",
       "      <td>20</td>\n",
       "      <td>미성년자</td>\n",
       "    </tr>\n",
       "    <tr>\n",
       "      <th>9</th>\n",
       "      <td>41</td>\n",
       "      <td>중년</td>\n",
       "    </tr>\n",
       "    <tr>\n",
       "      <th>10</th>\n",
       "      <td>32</td>\n",
       "      <td>중년</td>\n",
       "    </tr>\n",
       "    <tr>\n",
       "      <th>11</th>\n",
       "      <td>101</td>\n",
       "      <td>NaN</td>\n",
       "    </tr>\n",
       "  </tbody>\n",
       "</table>\n",
       "</div>"
      ],
      "text/plain": [
       "    ages age_cat\n",
       "0      0     NaN\n",
       "1      2    미성년자\n",
       "2     10    미성년자\n",
       "3     21      청년\n",
       "4     23      청년\n",
       "5     37      중년\n",
       "6     31      중년\n",
       "7     61      장년\n",
       "8     20    미성년자\n",
       "9     41      중년\n",
       "10    32      중년\n",
       "11   101     NaN"
      ]
     },
     "execution_count": 31,
     "metadata": {},
     "output_type": "execute_result"
    }
   ],
   "source": [
    "df4 = pd.DataFrame(ages, columns=[\"ages\"])\n",
    "df4[\"age_cat\"] = pd.cut(df4.ages, bins, labels=labels)\n",
    "df4"
   ]
  },
  {
   "cell_type": "markdown",
   "id": "f14d643c",
   "metadata": {
    "papermill": {
     "duration": 0.051261,
     "end_time": "2021-10-24T07:27:24.493578",
     "exception": false,
     "start_time": "2021-10-24T07:27:24.442317",
     "status": "completed"
    },
    "tags": []
   },
   "source": [
    "그러므로 age_cat의 열값은 문자열이 아님. 이거 바꾸려면 astype 메서드 사용해야되는데 위의 강의에서 하는건 이거 바꾸는건지 잘 모르겠음; 일단 밑에 써놓긴 하는데 나중에 다른거 찾아보면서 참고하기."
   ]
  },
  {
   "cell_type": "code",
   "execution_count": 32,
   "id": "384664e1",
   "metadata": {
    "execution": {
     "iopub.execute_input": "2021-10-24T07:27:24.604953Z",
     "iopub.status.busy": "2021-10-24T07:27:24.604141Z",
     "iopub.status.idle": "2021-10-24T07:27:24.607287Z",
     "shell.execute_reply": "2021-10-24T07:27:24.607781Z",
     "shell.execute_reply.started": "2021-10-24T07:12:13.156530Z"
    },
    "papermill": {
     "duration": 0.062869,
     "end_time": "2021-10-24T07:27:24.607946",
     "exception": false,
     "start_time": "2021-10-24T07:27:24.545077",
     "status": "completed"
    },
    "tags": []
   },
   "outputs": [
    {
     "data": {
      "text/plain": [
       "0       nan0\n",
       "1      미성년자2\n",
       "2     미성년자10\n",
       "3       청년21\n",
       "4       청년23\n",
       "5       중년37\n",
       "6       중년31\n",
       "7       장년61\n",
       "8     미성년자20\n",
       "9       중년41\n",
       "10      중년32\n",
       "11    nan101\n",
       "dtype: object"
      ]
     },
     "execution_count": 32,
     "metadata": {},
     "output_type": "execute_result"
    }
   ],
   "source": [
    "df4.age_cat.astype(str) + df4.ages.astype(str)"
   ]
  },
  {
   "cell_type": "markdown",
   "id": "a29bbebf",
   "metadata": {
    "papermill": {
     "duration": 0.051038,
     "end_time": "2021-10-24T07:27:24.711677",
     "exception": false,
     "start_time": "2021-10-24T07:27:24.660639",
     "status": "completed"
    },
    "tags": []
   },
   "source": [
    "qcut은 경계선 지정하지 않고 데이터 개수가 같도록 지정."
   ]
  },
  {
   "cell_type": "code",
   "execution_count": 33,
   "id": "a9a968bf",
   "metadata": {
    "execution": {
     "iopub.execute_input": "2021-10-24T07:27:24.819384Z",
     "iopub.status.busy": "2021-10-24T07:27:24.818601Z",
     "iopub.status.idle": "2021-10-24T07:27:24.826679Z",
     "shell.execute_reply": "2021-10-24T07:27:24.827241Z",
     "shell.execute_reply.started": "2021-10-24T07:12:44.865061Z"
    },
    "papermill": {
     "duration": 0.064147,
     "end_time": "2021-10-24T07:27:24.827414",
     "exception": false,
     "start_time": "2021-10-24T07:27:24.763267",
     "status": "completed"
    },
    "tags": []
   },
   "outputs": [
    {
     "data": {
      "text/plain": [
       "['Q2', 'Q1', 'Q2', 'Q3', 'Q1', ..., 'Q1', 'Q1', 'Q4', 'Q4', 'Q2']\n",
       "Length: 1000\n",
       "Categories (4, object): ['Q1' < 'Q2' < 'Q3' < 'Q4']"
      ]
     },
     "execution_count": 33,
     "metadata": {},
     "output_type": "execute_result"
    }
   ],
   "source": [
    "data = np.random.randn(1000)\n",
    "cats = pd.qcut(data, 4, labels=[\"Q1\", \"Q2\", \"Q3\", \"Q4\"])\n",
    "cats"
   ]
  },
  {
   "cell_type": "code",
   "execution_count": 34,
   "id": "ffbe2176",
   "metadata": {
    "execution": {
     "iopub.execute_input": "2021-10-24T07:27:24.935325Z",
     "iopub.status.busy": "2021-10-24T07:27:24.934608Z",
     "iopub.status.idle": "2021-10-24T07:27:24.942044Z",
     "shell.execute_reply": "2021-10-24T07:27:24.942604Z",
     "shell.execute_reply.started": "2021-10-24T07:13:04.306359Z"
    },
    "papermill": {
     "duration": 0.063662,
     "end_time": "2021-10-24T07:27:24.942778",
     "exception": false,
     "start_time": "2021-10-24T07:27:24.879116",
     "status": "completed"
    },
    "tags": []
   },
   "outputs": [
    {
     "data": {
      "text/plain": [
       "Q1    250\n",
       "Q2    250\n",
       "Q3    250\n",
       "Q4    250\n",
       "dtype: int64"
      ]
     },
     "execution_count": 34,
     "metadata": {},
     "output_type": "execute_result"
    }
   ],
   "source": [
    "pd.value_counts(cats)"
   ]
  },
  {
   "cell_type": "markdown",
   "id": "8394680d",
   "metadata": {
    "papermill": {
     "duration": 0.052514,
     "end_time": "2021-10-24T07:27:25.048349",
     "exception": false,
     "start_time": "2021-10-24T07:27:24.995835",
     "status": "completed"
    },
    "tags": []
   },
   "source": [
    "<h3>인덱스 조작</h3>\n",
    "인덱스에 들어가야 할 데이터가 일반 데이터 열에 들어가 있거나, 혹은 이 반대로 들어가 있는 경우가 종종 발생. 이떄 사용하는 함수들"
   ]
  },
  {
   "cell_type": "markdown",
   "id": "2142c830",
   "metadata": {
    "papermill": {
     "duration": 0.052371,
     "end_time": "2021-10-24T07:27:25.153363",
     "exception": false,
     "start_time": "2021-10-24T07:27:25.100992",
     "status": "completed"
    },
    "tags": []
   },
   "source": [
    "set_index -> 기존의 행 인덱스를 제거하고 데이터 열 중 하나를 인덱스로 설정.<br>\n",
    "reset_index -> 기존의 행 인덱스를 제거하고 인덱스를 데이터 열로 추가."
   ]
  },
  {
   "cell_type": "code",
   "execution_count": 35,
   "id": "76876e31",
   "metadata": {
    "execution": {
     "iopub.execute_input": "2021-10-24T07:27:25.261647Z",
     "iopub.status.busy": "2021-10-24T07:27:25.261015Z",
     "iopub.status.idle": "2021-10-24T07:27:25.272392Z",
     "shell.execute_reply": "2021-10-24T07:27:25.272991Z",
     "shell.execute_reply.started": "2021-10-24T07:23:23.807541Z"
    },
    "papermill": {
     "duration": 0.06751,
     "end_time": "2021-10-24T07:27:25.273158",
     "exception": false,
     "start_time": "2021-10-24T07:27:25.205648",
     "status": "completed"
    },
    "tags": []
   },
   "outputs": [
    {
     "data": {
      "text/html": [
       "<div>\n",
       "<style scoped>\n",
       "    .dataframe tbody tr th:only-of-type {\n",
       "        vertical-align: middle;\n",
       "    }\n",
       "\n",
       "    .dataframe tbody tr th {\n",
       "        vertical-align: top;\n",
       "    }\n",
       "\n",
       "    .dataframe thead th {\n",
       "        text-align: right;\n",
       "    }\n",
       "</style>\n",
       "<table border=\"1\" class=\"dataframe\">\n",
       "  <thead>\n",
       "    <tr style=\"text-align: right;\">\n",
       "      <th></th>\n",
       "      <th>C1</th>\n",
       "      <th>C2</th>\n",
       "      <th>C3</th>\n",
       "      <th>C4</th>\n",
       "    </tr>\n",
       "  </thead>\n",
       "  <tbody>\n",
       "    <tr>\n",
       "      <th>0</th>\n",
       "      <td>A</td>\n",
       "      <td>0.55</td>\n",
       "      <td>0.65</td>\n",
       "      <td>0.79</td>\n",
       "    </tr>\n",
       "    <tr>\n",
       "      <th>1</th>\n",
       "      <td>B</td>\n",
       "      <td>0.72</td>\n",
       "      <td>0.44</td>\n",
       "      <td>0.53</td>\n",
       "    </tr>\n",
       "    <tr>\n",
       "      <th>2</th>\n",
       "      <td>C</td>\n",
       "      <td>0.6</td>\n",
       "      <td>0.89</td>\n",
       "      <td>0.57</td>\n",
       "    </tr>\n",
       "    <tr>\n",
       "      <th>3</th>\n",
       "      <td>D</td>\n",
       "      <td>0.54</td>\n",
       "      <td>0.96</td>\n",
       "      <td>0.93</td>\n",
       "    </tr>\n",
       "    <tr>\n",
       "      <th>4</th>\n",
       "      <td>E</td>\n",
       "      <td>0.42</td>\n",
       "      <td>0.38</td>\n",
       "      <td>0.07</td>\n",
       "    </tr>\n",
       "  </tbody>\n",
       "</table>\n",
       "</div>"
      ],
      "text/plain": [
       "  C1    C2    C3    C4\n",
       "0  A  0.55  0.65  0.79\n",
       "1  B  0.72  0.44  0.53\n",
       "2  C   0.6  0.89  0.57\n",
       "3  D  0.54  0.96  0.93\n",
       "4  E  0.42  0.38  0.07"
      ]
     },
     "execution_count": 35,
     "metadata": {},
     "output_type": "execute_result"
    }
   ],
   "source": [
    "np.random.seed(0)\n",
    "df1 = pd.DataFrame(np.vstack([list('ABCDE'),\n",
    "                              np.round(np.random.rand(3, 5), 2)]).T,\n",
    "                   columns=[\"C1\", \"C2\", \"C3\", \"C4\"])\n",
    "df1"
   ]
  },
  {
   "cell_type": "code",
   "execution_count": 36,
   "id": "d1173aaa",
   "metadata": {
    "execution": {
     "iopub.execute_input": "2021-10-24T07:27:25.381964Z",
     "iopub.status.busy": "2021-10-24T07:27:25.381329Z",
     "iopub.status.idle": "2021-10-24T07:27:25.390861Z",
     "shell.execute_reply": "2021-10-24T07:27:25.391498Z",
     "shell.execute_reply.started": "2021-10-24T07:24:04.714786Z"
    },
    "papermill": {
     "duration": 0.06562,
     "end_time": "2021-10-24T07:27:25.391663",
     "exception": false,
     "start_time": "2021-10-24T07:27:25.326043",
     "status": "completed"
    },
    "tags": []
   },
   "outputs": [
    {
     "data": {
      "text/html": [
       "<div>\n",
       "<style scoped>\n",
       "    .dataframe tbody tr th:only-of-type {\n",
       "        vertical-align: middle;\n",
       "    }\n",
       "\n",
       "    .dataframe tbody tr th {\n",
       "        vertical-align: top;\n",
       "    }\n",
       "\n",
       "    .dataframe thead th {\n",
       "        text-align: right;\n",
       "    }\n",
       "</style>\n",
       "<table border=\"1\" class=\"dataframe\">\n",
       "  <thead>\n",
       "    <tr style=\"text-align: right;\">\n",
       "      <th></th>\n",
       "      <th>C2</th>\n",
       "      <th>C3</th>\n",
       "      <th>C4</th>\n",
       "    </tr>\n",
       "    <tr>\n",
       "      <th>C1</th>\n",
       "      <th></th>\n",
       "      <th></th>\n",
       "      <th></th>\n",
       "    </tr>\n",
       "  </thead>\n",
       "  <tbody>\n",
       "    <tr>\n",
       "      <th>A</th>\n",
       "      <td>0.55</td>\n",
       "      <td>0.65</td>\n",
       "      <td>0.79</td>\n",
       "    </tr>\n",
       "    <tr>\n",
       "      <th>B</th>\n",
       "      <td>0.72</td>\n",
       "      <td>0.44</td>\n",
       "      <td>0.53</td>\n",
       "    </tr>\n",
       "    <tr>\n",
       "      <th>C</th>\n",
       "      <td>0.6</td>\n",
       "      <td>0.89</td>\n",
       "      <td>0.57</td>\n",
       "    </tr>\n",
       "    <tr>\n",
       "      <th>D</th>\n",
       "      <td>0.54</td>\n",
       "      <td>0.96</td>\n",
       "      <td>0.93</td>\n",
       "    </tr>\n",
       "    <tr>\n",
       "      <th>E</th>\n",
       "      <td>0.42</td>\n",
       "      <td>0.38</td>\n",
       "      <td>0.07</td>\n",
       "    </tr>\n",
       "  </tbody>\n",
       "</table>\n",
       "</div>"
      ],
      "text/plain": [
       "      C2    C3    C4\n",
       "C1                  \n",
       "A   0.55  0.65  0.79\n",
       "B   0.72  0.44  0.53\n",
       "C    0.6  0.89  0.57\n",
       "D   0.54  0.96  0.93\n",
       "E   0.42  0.38  0.07"
      ]
     },
     "execution_count": 36,
     "metadata": {},
     "output_type": "execute_result"
    }
   ],
   "source": [
    "df2 = df1.set_index(\"C1\")\n",
    "df2"
   ]
  },
  {
   "cell_type": "code",
   "execution_count": 37,
   "id": "3d1cea0b",
   "metadata": {
    "execution": {
     "iopub.execute_input": "2021-10-24T07:27:25.502162Z",
     "iopub.status.busy": "2021-10-24T07:27:25.501510Z",
     "iopub.status.idle": "2021-10-24T07:27:25.511298Z",
     "shell.execute_reply": "2021-10-24T07:27:25.511896Z",
     "shell.execute_reply.started": "2021-10-24T07:24:39.854898Z"
    },
    "papermill": {
     "duration": 0.066269,
     "end_time": "2021-10-24T07:27:25.512063",
     "exception": false,
     "start_time": "2021-10-24T07:27:25.445794",
     "status": "completed"
    },
    "tags": []
   },
   "outputs": [
    {
     "data": {
      "text/html": [
       "<div>\n",
       "<style scoped>\n",
       "    .dataframe tbody tr th:only-of-type {\n",
       "        vertical-align: middle;\n",
       "    }\n",
       "\n",
       "    .dataframe tbody tr th {\n",
       "        vertical-align: top;\n",
       "    }\n",
       "\n",
       "    .dataframe thead th {\n",
       "        text-align: right;\n",
       "    }\n",
       "</style>\n",
       "<table border=\"1\" class=\"dataframe\">\n",
       "  <thead>\n",
       "    <tr style=\"text-align: right;\">\n",
       "      <th></th>\n",
       "      <th>C1</th>\n",
       "      <th>C2</th>\n",
       "      <th>C3</th>\n",
       "      <th>C4</th>\n",
       "    </tr>\n",
       "  </thead>\n",
       "  <tbody>\n",
       "    <tr>\n",
       "      <th>0</th>\n",
       "      <td>A</td>\n",
       "      <td>0.55</td>\n",
       "      <td>0.65</td>\n",
       "      <td>0.79</td>\n",
       "    </tr>\n",
       "    <tr>\n",
       "      <th>1</th>\n",
       "      <td>B</td>\n",
       "      <td>0.72</td>\n",
       "      <td>0.44</td>\n",
       "      <td>0.53</td>\n",
       "    </tr>\n",
       "    <tr>\n",
       "      <th>2</th>\n",
       "      <td>C</td>\n",
       "      <td>0.6</td>\n",
       "      <td>0.89</td>\n",
       "      <td>0.57</td>\n",
       "    </tr>\n",
       "    <tr>\n",
       "      <th>3</th>\n",
       "      <td>D</td>\n",
       "      <td>0.54</td>\n",
       "      <td>0.96</td>\n",
       "      <td>0.93</td>\n",
       "    </tr>\n",
       "    <tr>\n",
       "      <th>4</th>\n",
       "      <td>E</td>\n",
       "      <td>0.42</td>\n",
       "      <td>0.38</td>\n",
       "      <td>0.07</td>\n",
       "    </tr>\n",
       "  </tbody>\n",
       "</table>\n",
       "</div>"
      ],
      "text/plain": [
       "  C1    C2    C3    C4\n",
       "0  A  0.55  0.65  0.79\n",
       "1  B  0.72  0.44  0.53\n",
       "2  C   0.6  0.89  0.57\n",
       "3  D  0.54  0.96  0.93\n",
       "4  E  0.42  0.38  0.07"
      ]
     },
     "execution_count": 37,
     "metadata": {},
     "output_type": "execute_result"
    }
   ],
   "source": [
    "df2.reset_index()"
   ]
  },
  {
   "cell_type": "markdown",
   "id": "a8904e44",
   "metadata": {
    "papermill": {
     "duration": 0.068107,
     "end_time": "2021-10-24T07:27:25.634808",
     "exception": false,
     "start_time": "2021-10-24T07:27:25.566701",
     "status": "completed"
    },
    "tags": []
   },
   "source": [
    "reset 인수에서 drop=true를 하면 그냥 데이터를 버린다."
   ]
  },
  {
   "cell_type": "code",
   "execution_count": 38,
   "id": "2a124947",
   "metadata": {
    "execution": {
     "iopub.execute_input": "2021-10-24T07:27:25.761153Z",
     "iopub.status.busy": "2021-10-24T07:27:25.760454Z",
     "iopub.status.idle": "2021-10-24T07:27:25.773266Z",
     "shell.execute_reply": "2021-10-24T07:27:25.773838Z",
     "shell.execute_reply.started": "2021-10-24T07:25:16.261476Z"
    },
    "papermill": {
     "duration": 0.079582,
     "end_time": "2021-10-24T07:27:25.774049",
     "exception": false,
     "start_time": "2021-10-24T07:27:25.694467",
     "status": "completed"
    },
    "tags": []
   },
   "outputs": [
    {
     "data": {
      "text/html": [
       "<div>\n",
       "<style scoped>\n",
       "    .dataframe tbody tr th:only-of-type {\n",
       "        vertical-align: middle;\n",
       "    }\n",
       "\n",
       "    .dataframe tbody tr th {\n",
       "        vertical-align: top;\n",
       "    }\n",
       "\n",
       "    .dataframe thead th {\n",
       "        text-align: right;\n",
       "    }\n",
       "</style>\n",
       "<table border=\"1\" class=\"dataframe\">\n",
       "  <thead>\n",
       "    <tr style=\"text-align: right;\">\n",
       "      <th></th>\n",
       "      <th>C2</th>\n",
       "      <th>C3</th>\n",
       "      <th>C4</th>\n",
       "    </tr>\n",
       "  </thead>\n",
       "  <tbody>\n",
       "    <tr>\n",
       "      <th>0</th>\n",
       "      <td>0.55</td>\n",
       "      <td>0.65</td>\n",
       "      <td>0.79</td>\n",
       "    </tr>\n",
       "    <tr>\n",
       "      <th>1</th>\n",
       "      <td>0.72</td>\n",
       "      <td>0.44</td>\n",
       "      <td>0.53</td>\n",
       "    </tr>\n",
       "    <tr>\n",
       "      <th>2</th>\n",
       "      <td>0.6</td>\n",
       "      <td>0.89</td>\n",
       "      <td>0.57</td>\n",
       "    </tr>\n",
       "    <tr>\n",
       "      <th>3</th>\n",
       "      <td>0.54</td>\n",
       "      <td>0.96</td>\n",
       "      <td>0.93</td>\n",
       "    </tr>\n",
       "    <tr>\n",
       "      <th>4</th>\n",
       "      <td>0.42</td>\n",
       "      <td>0.38</td>\n",
       "      <td>0.07</td>\n",
       "    </tr>\n",
       "  </tbody>\n",
       "</table>\n",
       "</div>"
      ],
      "text/plain": [
       "     C2    C3    C4\n",
       "0  0.55  0.65  0.79\n",
       "1  0.72  0.44  0.53\n",
       "2   0.6  0.89  0.57\n",
       "3  0.54  0.96  0.93\n",
       "4  0.42  0.38  0.07"
      ]
     },
     "execution_count": 38,
     "metadata": {},
     "output_type": "execute_result"
    }
   ],
   "source": [
    "df2.reset_index(drop = True)"
   ]
  },
  {
   "cell_type": "markdown",
   "id": "54283863",
   "metadata": {
    "papermill": {
     "duration": 0.058213,
     "end_time": "2021-10-24T07:27:25.889955",
     "exception": false,
     "start_time": "2021-10-24T07:27:25.831742",
     "status": "completed"
    },
    "tags": []
   },
   "source": [
    "다중 인덱스는 링크보고 다시하기; "
   ]
  },
  {
   "cell_type": "code",
   "execution_count": null,
   "id": "64e8c329",
   "metadata": {
    "papermill": {
     "duration": 0.054429,
     "end_time": "2021-10-24T07:27:26.008369",
     "exception": false,
     "start_time": "2021-10-24T07:27:25.953940",
     "status": "completed"
    },
    "tags": []
   },
   "outputs": [],
   "source": []
  }
 ],
 "metadata": {
  "kernelspec": {
   "display_name": "Python 3",
   "language": "python",
   "name": "python3"
  },
  "language_info": {
   "codemirror_mode": {
    "name": "ipython",
    "version": 3
   },
   "file_extension": ".py",
   "mimetype": "text/x-python",
   "name": "python",
   "nbconvert_exporter": "python",
   "pygments_lexer": "ipython3",
   "version": "3.7.10"
  },
  "papermill": {
   "default_parameters": {},
   "duration": 15.624856,
   "end_time": "2021-10-24T07:27:26.672919",
   "environment_variables": {},
   "exception": null,
   "input_path": "__notebook__.ipynb",
   "output_path": "__notebook__.ipynb",
   "parameters": {},
   "start_time": "2021-10-24T07:27:11.048063",
   "version": "2.3.3"
  }
 },
 "nbformat": 4,
 "nbformat_minor": 5
}
