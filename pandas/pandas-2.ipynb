{
 "cells": [
  {
   "cell_type": "code",
   "execution_count": 1,
   "id": "f969de96",
   "metadata": {
    "execution": {
     "iopub.execute_input": "2021-10-24T08:02:20.560492Z",
     "iopub.status.busy": "2021-10-24T08:02:20.557870Z",
     "iopub.status.idle": "2021-10-24T08:02:20.564081Z",
     "shell.execute_reply": "2021-10-24T08:02:20.564732Z",
     "shell.execute_reply.started": "2021-10-24T06:26:05.766390Z"
    },
    "papermill": {
     "duration": 0.085474,
     "end_time": "2021-10-24T08:02:20.565041",
     "exception": false,
     "start_time": "2021-10-24T08:02:20.479567",
     "status": "completed"
    },
    "tags": []
   },
   "outputs": [],
   "source": [
    "import pandas as pd\n",
    "import numpy as np"
   ]
  },
  {
   "cell_type": "markdown",
   "id": "1214206b",
   "metadata": {
    "papermill": {
     "duration": 0.068999,
     "end_time": "2021-10-24T08:02:20.702030",
     "exception": false,
     "start_time": "2021-10-24T08:02:20.633031",
     "status": "completed"
    },
    "tags": []
   },
   "source": [
    "데이터 개수 세기<br>\n",
    "count 사용, NaN은 세지 않는다."
   ]
  },
  {
   "cell_type": "code",
   "execution_count": 2,
   "id": "86832e5c",
   "metadata": {
    "execution": {
     "iopub.execute_input": "2021-10-24T08:02:20.898986Z",
     "iopub.status.busy": "2021-10-24T08:02:20.898309Z",
     "iopub.status.idle": "2021-10-24T08:02:20.914706Z",
     "shell.execute_reply": "2021-10-24T08:02:20.915191Z",
     "shell.execute_reply.started": "2021-10-24T06:26:49.780317Z"
    },
    "papermill": {
     "duration": 0.087046,
     "end_time": "2021-10-24T08:02:20.915366",
     "exception": false,
     "start_time": "2021-10-24T08:02:20.828320",
     "status": "completed"
    },
    "tags": []
   },
   "outputs": [
    {
     "data": {
      "text/plain": [
       "0    0.0\n",
       "1    1.0\n",
       "2    2.0\n",
       "3    NaN\n",
       "4    4.0\n",
       "5    5.0\n",
       "6    6.0\n",
       "7    7.0\n",
       "8    8.0\n",
       "9    9.0\n",
       "dtype: float64"
      ]
     },
     "execution_count": 2,
     "metadata": {},
     "output_type": "execute_result"
    }
   ],
   "source": [
    "s = pd.Series(range(10))\n",
    "s[3] = np.nan\n",
    "s"
   ]
  },
  {
   "cell_type": "code",
   "execution_count": 3,
   "id": "7b8c3203",
   "metadata": {
    "execution": {
     "iopub.execute_input": "2021-10-24T08:02:21.058762Z",
     "iopub.status.busy": "2021-10-24T08:02:21.057638Z",
     "iopub.status.idle": "2021-10-24T08:02:21.062728Z",
     "shell.execute_reply": "2021-10-24T08:02:21.063461Z",
     "shell.execute_reply.started": "2021-10-24T06:26:56.425579Z"
    },
    "papermill": {
     "duration": 0.080495,
     "end_time": "2021-10-24T08:02:21.063699",
     "exception": false,
     "start_time": "2021-10-24T08:02:20.983204",
     "status": "completed"
    },
    "tags": []
   },
   "outputs": [
    {
     "data": {
      "text/plain": [
       "9"
      ]
     },
     "execution_count": 3,
     "metadata": {},
     "output_type": "execute_result"
    }
   ],
   "source": [
    "s.count()"
   ]
  },
  {
   "cell_type": "markdown",
   "id": "80974318",
   "metadata": {
    "papermill": {
     "duration": 0.068263,
     "end_time": "2021-10-24T08:02:21.202152",
     "exception": false,
     "start_time": "2021-10-24T08:02:21.133889",
     "status": "completed"
    },
    "tags": []
   },
   "source": [
    "데이터프레임에서는 각 열마다 별도로 데이터 개수를 세어준다. 데이터 누락 찾기 편리하다."
   ]
  },
  {
   "cell_type": "code",
   "execution_count": 4,
   "id": "7b5837f0",
   "metadata": {
    "execution": {
     "iopub.execute_input": "2021-10-24T08:02:21.339548Z",
     "iopub.status.busy": "2021-10-24T08:02:21.338902Z",
     "iopub.status.idle": "2021-10-24T08:02:21.356202Z",
     "shell.execute_reply": "2021-10-24T08:02:21.355568Z",
     "shell.execute_reply.started": "2021-10-24T06:27:39.269854Z"
    },
    "papermill": {
     "duration": 0.087028,
     "end_time": "2021-10-24T08:02:21.356351",
     "exception": false,
     "start_time": "2021-10-24T08:02:21.269323",
     "status": "completed"
    },
    "tags": []
   },
   "outputs": [
    {
     "data": {
      "text/html": [
       "<div>\n",
       "<style scoped>\n",
       "    .dataframe tbody tr th:only-of-type {\n",
       "        vertical-align: middle;\n",
       "    }\n",
       "\n",
       "    .dataframe tbody tr th {\n",
       "        vertical-align: top;\n",
       "    }\n",
       "\n",
       "    .dataframe thead th {\n",
       "        text-align: right;\n",
       "    }\n",
       "</style>\n",
       "<table border=\"1\" class=\"dataframe\">\n",
       "  <thead>\n",
       "    <tr style=\"text-align: right;\">\n",
       "      <th></th>\n",
       "      <th>0</th>\n",
       "      <th>1</th>\n",
       "      <th>2</th>\n",
       "      <th>3</th>\n",
       "    </tr>\n",
       "  </thead>\n",
       "  <tbody>\n",
       "    <tr>\n",
       "      <th>0</th>\n",
       "      <td>0.0</td>\n",
       "      <td>0.0</td>\n",
       "      <td>3.0</td>\n",
       "      <td>2.0</td>\n",
       "    </tr>\n",
       "    <tr>\n",
       "      <th>1</th>\n",
       "      <td>3.0</td>\n",
       "      <td>0.0</td>\n",
       "      <td>2.0</td>\n",
       "      <td>1.0</td>\n",
       "    </tr>\n",
       "    <tr>\n",
       "      <th>2</th>\n",
       "      <td>3.0</td>\n",
       "      <td>2.0</td>\n",
       "      <td>4.0</td>\n",
       "      <td>NaN</td>\n",
       "    </tr>\n",
       "    <tr>\n",
       "      <th>3</th>\n",
       "      <td>4.0</td>\n",
       "      <td>3.0</td>\n",
       "      <td>4.0</td>\n",
       "      <td>2.0</td>\n",
       "    </tr>\n",
       "  </tbody>\n",
       "</table>\n",
       "</div>"
      ],
      "text/plain": [
       "     0    1    2    3\n",
       "0  0.0  0.0  3.0  2.0\n",
       "1  3.0  0.0  2.0  1.0\n",
       "2  3.0  2.0  4.0  NaN\n",
       "3  4.0  3.0  4.0  2.0"
      ]
     },
     "execution_count": 4,
     "metadata": {},
     "output_type": "execute_result"
    }
   ],
   "source": [
    "np.random.seed(2)\n",
    "df = pd.DataFrame(np.random.randint(5, size=(4, 4)), dtype=float)\n",
    "df.iloc[2, 3] = np.nan\n",
    "df"
   ]
  },
  {
   "cell_type": "code",
   "execution_count": 5,
   "id": "c4643e4a",
   "metadata": {
    "execution": {
     "iopub.execute_input": "2021-10-24T08:02:21.500940Z",
     "iopub.status.busy": "2021-10-24T08:02:21.500112Z",
     "iopub.status.idle": "2021-10-24T08:02:21.506251Z",
     "shell.execute_reply": "2021-10-24T08:02:21.506875Z",
     "shell.execute_reply.started": "2021-10-24T06:27:45.467548Z"
    },
    "papermill": {
     "duration": 0.081497,
     "end_time": "2021-10-24T08:02:21.507046",
     "exception": false,
     "start_time": "2021-10-24T08:02:21.425549",
     "status": "completed"
    },
    "tags": []
   },
   "outputs": [
    {
     "data": {
      "text/plain": [
       "0    4\n",
       "1    4\n",
       "2    4\n",
       "3    3\n",
       "dtype: int64"
      ]
     },
     "execution_count": 5,
     "metadata": {},
     "output_type": "execute_result"
    }
   ],
   "source": [
    "df.count()"
   ]
  },
  {
   "cell_type": "markdown",
   "id": "bd85d210",
   "metadata": {
    "papermill": {
     "duration": 0.069292,
     "end_time": "2021-10-24T08:02:21.644646",
     "exception": false,
     "start_time": "2021-10-24T08:02:21.575354",
     "status": "completed"
    },
    "tags": []
   },
   "source": [
    "시리즈의 값이 정수, 문자열 카테고리인 값은 value_counts로 각각의 값이 나온 횟수를 셀 수 있다."
   ]
  },
  {
   "cell_type": "code",
   "execution_count": 6,
   "id": "38c1dbbf",
   "metadata": {
    "execution": {
     "iopub.execute_input": "2021-10-24T08:02:21.788074Z",
     "iopub.status.busy": "2021-10-24T08:02:21.787167Z",
     "iopub.status.idle": "2021-10-24T08:02:21.790229Z",
     "shell.execute_reply": "2021-10-24T08:02:21.790846Z",
     "shell.execute_reply.started": "2021-10-24T06:30:03.153486Z"
    },
    "papermill": {
     "duration": 0.078342,
     "end_time": "2021-10-24T08:02:21.791035",
     "exception": false,
     "start_time": "2021-10-24T08:02:21.712693",
     "status": "completed"
    },
    "tags": []
   },
   "outputs": [
    {
     "data": {
      "text/plain": [
       "95    4\n",
       "96    5\n",
       "97    2\n",
       "98    4\n",
       "99    3\n",
       "dtype: int64"
      ]
     },
     "execution_count": 6,
     "metadata": {},
     "output_type": "execute_result"
    }
   ],
   "source": [
    "np.random.seed(1)\n",
    "s2 = pd.Series(np.random.randint(6, size=100))\n",
    "s2.tail()\n"
   ]
  },
  {
   "cell_type": "code",
   "execution_count": 7,
   "id": "80455aa0",
   "metadata": {
    "execution": {
     "iopub.execute_input": "2021-10-24T08:02:21.932820Z",
     "iopub.status.busy": "2021-10-24T08:02:21.932123Z",
     "iopub.status.idle": "2021-10-24T08:02:21.939836Z",
     "shell.execute_reply": "2021-10-24T08:02:21.940423Z",
     "shell.execute_reply.started": "2021-10-24T06:30:08.871457Z"
    },
    "papermill": {
     "duration": 0.080436,
     "end_time": "2021-10-24T08:02:21.940608",
     "exception": false,
     "start_time": "2021-10-24T08:02:21.860172",
     "status": "completed"
    },
    "tags": []
   },
   "outputs": [
    {
     "data": {
      "text/plain": [
       "1    22\n",
       "0    18\n",
       "4    17\n",
       "5    16\n",
       "3    14\n",
       "2    13\n",
       "dtype: int64"
      ]
     },
     "execution_count": 7,
     "metadata": {},
     "output_type": "execute_result"
    }
   ],
   "source": [
    "s2.value_counts()"
   ]
  },
  {
   "cell_type": "markdown",
   "id": "583a95e1",
   "metadata": {
    "papermill": {
     "duration": 0.068892,
     "end_time": "2021-10-24T08:02:22.081641",
     "exception": false,
     "start_time": "2021-10-24T08:02:22.012749",
     "status": "completed"
    },
    "tags": []
   },
   "source": [
    "데이터 프레임에는 value_counts가 없으므로 각 열마다 따로 해주어야 한다."
   ]
  },
  {
   "cell_type": "code",
   "execution_count": 8,
   "id": "3d95c96a",
   "metadata": {
    "execution": {
     "iopub.execute_input": "2021-10-24T08:02:22.223139Z",
     "iopub.status.busy": "2021-10-24T08:02:22.222500Z",
     "iopub.status.idle": "2021-10-24T08:02:22.232752Z",
     "shell.execute_reply": "2021-10-24T08:02:22.232129Z",
     "shell.execute_reply.started": "2021-10-24T06:32:35.224051Z"
    },
    "papermill": {
     "duration": 0.082201,
     "end_time": "2021-10-24T08:02:22.232900",
     "exception": false,
     "start_time": "2021-10-24T08:02:22.150699",
     "status": "completed"
    },
    "tags": []
   },
   "outputs": [
    {
     "data": {
      "text/plain": [
       "3.0    2\n",
       "0.0    1\n",
       "4.0    1\n",
       "Name: 0, dtype: int64"
      ]
     },
     "execution_count": 8,
     "metadata": {},
     "output_type": "execute_result"
    }
   ],
   "source": [
    "df[0].value_counts()"
   ]
  },
  {
   "cell_type": "markdown",
   "id": "88ff276b",
   "metadata": {
    "papermill": {
     "duration": 0.069091,
     "end_time": "2021-10-24T08:02:22.371550",
     "exception": false,
     "start_time": "2021-10-24T08:02:22.302459",
     "status": "completed"
    },
    "tags": []
   },
   "source": [
    "정렬<br>\n",
    "sort_index, sort_values 사용.<br>\n",
    "인수에 ascending=False 써주면 큰거부터.<br>\n"
   ]
  },
  {
   "cell_type": "code",
   "execution_count": 9,
   "id": "588cc64a",
   "metadata": {
    "execution": {
     "iopub.execute_input": "2021-10-24T08:02:22.521583Z",
     "iopub.status.busy": "2021-10-24T08:02:22.520757Z",
     "iopub.status.idle": "2021-10-24T08:02:22.523984Z",
     "shell.execute_reply": "2021-10-24T08:02:22.524500Z",
     "shell.execute_reply.started": "2021-10-24T06:34:43.036604Z"
    },
    "papermill": {
     "duration": 0.083522,
     "end_time": "2021-10-24T08:02:22.524667",
     "exception": false,
     "start_time": "2021-10-24T08:02:22.441145",
     "status": "completed"
    },
    "tags": []
   },
   "outputs": [
    {
     "data": {
      "text/plain": [
       "0    18\n",
       "1    22\n",
       "2    13\n",
       "3    14\n",
       "4    17\n",
       "5    16\n",
       "dtype: int64"
      ]
     },
     "execution_count": 9,
     "metadata": {},
     "output_type": "execute_result"
    }
   ],
   "source": [
    "s2.value_counts().sort_index()"
   ]
  },
  {
   "cell_type": "code",
   "execution_count": 10,
   "id": "d82cced3",
   "metadata": {
    "execution": {
     "iopub.execute_input": "2021-10-24T08:02:22.668207Z",
     "iopub.status.busy": "2021-10-24T08:02:22.667205Z",
     "iopub.status.idle": "2021-10-24T08:02:22.674499Z",
     "shell.execute_reply": "2021-10-24T08:02:22.675041Z",
     "shell.execute_reply.started": "2021-10-24T06:34:58.737176Z"
    },
    "papermill": {
     "duration": 0.08107,
     "end_time": "2021-10-24T08:02:22.675223",
     "exception": false,
     "start_time": "2021-10-24T08:02:22.594153",
     "status": "completed"
    },
    "tags": []
   },
   "outputs": [
    {
     "data": {
      "text/plain": [
       "2    13\n",
       "3    14\n",
       "5    16\n",
       "4    17\n",
       "0    18\n",
       "1    22\n",
       "dtype: int64"
      ]
     },
     "execution_count": 10,
     "metadata": {},
     "output_type": "execute_result"
    }
   ],
   "source": [
    "s2.value_counts().sort_values()"
   ]
  },
  {
   "cell_type": "code",
   "execution_count": 11,
   "id": "6808fd33",
   "metadata": {
    "execution": {
     "iopub.execute_input": "2021-10-24T08:02:22.818651Z",
     "iopub.status.busy": "2021-10-24T08:02:22.818024Z",
     "iopub.status.idle": "2021-10-24T08:02:22.824485Z",
     "shell.execute_reply": "2021-10-24T08:02:22.824984Z",
     "shell.execute_reply.started": "2021-10-24T06:35:14.869885Z"
    },
    "papermill": {
     "duration": 0.079893,
     "end_time": "2021-10-24T08:02:22.825153",
     "exception": false,
     "start_time": "2021-10-24T08:02:22.745260",
     "status": "completed"
    },
    "tags": []
   },
   "outputs": [
    {
     "data": {
      "text/plain": [
       "0    0.0\n",
       "1    1.0\n",
       "2    2.0\n",
       "4    4.0\n",
       "5    5.0\n",
       "6    6.0\n",
       "7    7.0\n",
       "8    8.0\n",
       "9    9.0\n",
       "3    NaN\n",
       "dtype: float64"
      ]
     },
     "execution_count": 11,
     "metadata": {},
     "output_type": "execute_result"
    }
   ],
   "source": [
    "s.sort_values()"
   ]
  },
  {
   "cell_type": "code",
   "execution_count": 12,
   "id": "78e4b401",
   "metadata": {
    "execution": {
     "iopub.execute_input": "2021-10-24T08:02:22.969623Z",
     "iopub.status.busy": "2021-10-24T08:02:22.968951Z",
     "iopub.status.idle": "2021-10-24T08:02:22.977252Z",
     "shell.execute_reply": "2021-10-24T08:02:22.976720Z",
     "shell.execute_reply.started": "2021-10-24T06:35:29.440970Z"
    },
    "papermill": {
     "duration": 0.081829,
     "end_time": "2021-10-24T08:02:22.977399",
     "exception": false,
     "start_time": "2021-10-24T08:02:22.895570",
     "status": "completed"
    },
    "tags": []
   },
   "outputs": [
    {
     "data": {
      "text/plain": [
       "9    9.0\n",
       "8    8.0\n",
       "7    7.0\n",
       "6    6.0\n",
       "5    5.0\n",
       "4    4.0\n",
       "2    2.0\n",
       "1    1.0\n",
       "0    0.0\n",
       "3    NaN\n",
       "dtype: float64"
      ]
     },
     "execution_count": 12,
     "metadata": {},
     "output_type": "execute_result"
    }
   ],
   "source": [
    "s.sort_values(ascending=False)"
   ]
  },
  {
   "cell_type": "markdown",
   "id": "986bfb5d",
   "metadata": {
    "papermill": {
     "duration": 0.071112,
     "end_time": "2021-10-24T08:02:23.120170",
     "exception": false,
     "start_time": "2021-10-24T08:02:23.049058",
     "status": "completed"
    },
    "tags": []
   },
   "source": [
    "데이터 프레임에서 sort_values를 사용하려면 by를 통해 정렬 기준이 되는 열을 지정해야 한다.<br>\n",
    "by의 인수에 list가 나오면 list에 해당하는 값들이 정렬 기준의 우선순위가 됨."
   ]
  },
  {
   "cell_type": "code",
   "execution_count": 13,
   "id": "a8024a79",
   "metadata": {
    "execution": {
     "iopub.execute_input": "2021-10-24T08:02:23.267312Z",
     "iopub.status.busy": "2021-10-24T08:02:23.266596Z",
     "iopub.status.idle": "2021-10-24T08:02:23.279746Z",
     "shell.execute_reply": "2021-10-24T08:02:23.280278Z",
     "shell.execute_reply.started": "2021-10-24T06:36:16.150069Z"
    },
    "papermill": {
     "duration": 0.088689,
     "end_time": "2021-10-24T08:02:23.280472",
     "exception": false,
     "start_time": "2021-10-24T08:02:23.191783",
     "status": "completed"
    },
    "tags": []
   },
   "outputs": [
    {
     "data": {
      "text/html": [
       "<div>\n",
       "<style scoped>\n",
       "    .dataframe tbody tr th:only-of-type {\n",
       "        vertical-align: middle;\n",
       "    }\n",
       "\n",
       "    .dataframe tbody tr th {\n",
       "        vertical-align: top;\n",
       "    }\n",
       "\n",
       "    .dataframe thead th {\n",
       "        text-align: right;\n",
       "    }\n",
       "</style>\n",
       "<table border=\"1\" class=\"dataframe\">\n",
       "  <thead>\n",
       "    <tr style=\"text-align: right;\">\n",
       "      <th></th>\n",
       "      <th>0</th>\n",
       "      <th>1</th>\n",
       "      <th>2</th>\n",
       "      <th>3</th>\n",
       "    </tr>\n",
       "  </thead>\n",
       "  <tbody>\n",
       "    <tr>\n",
       "      <th>0</th>\n",
       "      <td>0.0</td>\n",
       "      <td>0.0</td>\n",
       "      <td>3.0</td>\n",
       "      <td>2.0</td>\n",
       "    </tr>\n",
       "    <tr>\n",
       "      <th>1</th>\n",
       "      <td>3.0</td>\n",
       "      <td>0.0</td>\n",
       "      <td>2.0</td>\n",
       "      <td>1.0</td>\n",
       "    </tr>\n",
       "    <tr>\n",
       "      <th>2</th>\n",
       "      <td>3.0</td>\n",
       "      <td>2.0</td>\n",
       "      <td>4.0</td>\n",
       "      <td>NaN</td>\n",
       "    </tr>\n",
       "    <tr>\n",
       "      <th>3</th>\n",
       "      <td>4.0</td>\n",
       "      <td>3.0</td>\n",
       "      <td>4.0</td>\n",
       "      <td>2.0</td>\n",
       "    </tr>\n",
       "  </tbody>\n",
       "</table>\n",
       "</div>"
      ],
      "text/plain": [
       "     0    1    2    3\n",
       "0  0.0  0.0  3.0  2.0\n",
       "1  3.0  0.0  2.0  1.0\n",
       "2  3.0  2.0  4.0  NaN\n",
       "3  4.0  3.0  4.0  2.0"
      ]
     },
     "execution_count": 13,
     "metadata": {},
     "output_type": "execute_result"
    }
   ],
   "source": [
    "df.sort_values(by=1)"
   ]
  },
  {
   "cell_type": "code",
   "execution_count": 14,
   "id": "eb2ae44a",
   "metadata": {
    "execution": {
     "iopub.execute_input": "2021-10-24T08:02:23.429597Z",
     "iopub.status.busy": "2021-10-24T08:02:23.428895Z",
     "iopub.status.idle": "2021-10-24T08:02:23.442562Z",
     "shell.execute_reply": "2021-10-24T08:02:23.443148Z",
     "shell.execute_reply.started": "2021-10-24T06:39:00.999541Z"
    },
    "papermill": {
     "duration": 0.090523,
     "end_time": "2021-10-24T08:02:23.443328",
     "exception": false,
     "start_time": "2021-10-24T08:02:23.352805",
     "status": "completed"
    },
    "tags": []
   },
   "outputs": [
    {
     "data": {
      "text/html": [
       "<div>\n",
       "<style scoped>\n",
       "    .dataframe tbody tr th:only-of-type {\n",
       "        vertical-align: middle;\n",
       "    }\n",
       "\n",
       "    .dataframe tbody tr th {\n",
       "        vertical-align: top;\n",
       "    }\n",
       "\n",
       "    .dataframe thead th {\n",
       "        text-align: right;\n",
       "    }\n",
       "</style>\n",
       "<table border=\"1\" class=\"dataframe\">\n",
       "  <thead>\n",
       "    <tr style=\"text-align: right;\">\n",
       "      <th></th>\n",
       "      <th>0</th>\n",
       "      <th>1</th>\n",
       "      <th>2</th>\n",
       "      <th>3</th>\n",
       "    </tr>\n",
       "  </thead>\n",
       "  <tbody>\n",
       "    <tr>\n",
       "      <th>1</th>\n",
       "      <td>3.0</td>\n",
       "      <td>0.0</td>\n",
       "      <td>2.0</td>\n",
       "      <td>1.0</td>\n",
       "    </tr>\n",
       "    <tr>\n",
       "      <th>0</th>\n",
       "      <td>0.0</td>\n",
       "      <td>0.0</td>\n",
       "      <td>3.0</td>\n",
       "      <td>2.0</td>\n",
       "    </tr>\n",
       "    <tr>\n",
       "      <th>2</th>\n",
       "      <td>3.0</td>\n",
       "      <td>2.0</td>\n",
       "      <td>4.0</td>\n",
       "      <td>NaN</td>\n",
       "    </tr>\n",
       "    <tr>\n",
       "      <th>3</th>\n",
       "      <td>4.0</td>\n",
       "      <td>3.0</td>\n",
       "      <td>4.0</td>\n",
       "      <td>2.0</td>\n",
       "    </tr>\n",
       "  </tbody>\n",
       "</table>\n",
       "</div>"
      ],
      "text/plain": [
       "     0    1    2    3\n",
       "1  3.0  0.0  2.0  1.0\n",
       "0  0.0  0.0  3.0  2.0\n",
       "2  3.0  2.0  4.0  NaN\n",
       "3  4.0  3.0  4.0  2.0"
      ]
     },
     "execution_count": 14,
     "metadata": {},
     "output_type": "execute_result"
    }
   ],
   "source": [
    "df.sort_values(by=[1, 2])"
   ]
  },
  {
   "cell_type": "markdown",
   "id": "e20ea30a",
   "metadata": {
    "papermill": {
     "duration": 0.071427,
     "end_time": "2021-10-24T08:02:23.587047",
     "exception": false,
     "start_time": "2021-10-24T08:02:23.515620",
     "status": "completed"
    },
    "tags": []
   },
   "source": [
    "mean, sum<br>\n",
    "axis = 1 -> 행방향 합<br>\n",
    "axis = 0 -> 열방향 합<br>\n",
    "mean(평균) 함수도 똑같이 사용하면 된다."
   ]
  },
  {
   "cell_type": "code",
   "execution_count": 15,
   "id": "00cd9f4e",
   "metadata": {
    "execution": {
     "iopub.execute_input": "2021-10-24T08:02:23.735853Z",
     "iopub.status.busy": "2021-10-24T08:02:23.735163Z",
     "iopub.status.idle": "2021-10-24T08:02:23.745490Z",
     "shell.execute_reply": "2021-10-24T08:02:23.746120Z",
     "shell.execute_reply.started": "2021-10-24T06:43:06.053615Z"
    },
    "papermill": {
     "duration": 0.08623,
     "end_time": "2021-10-24T08:02:23.746302",
     "exception": false,
     "start_time": "2021-10-24T08:02:23.660072",
     "status": "completed"
    },
    "tags": []
   },
   "outputs": [
    {
     "data": {
      "text/html": [
       "<div>\n",
       "<style scoped>\n",
       "    .dataframe tbody tr th:only-of-type {\n",
       "        vertical-align: middle;\n",
       "    }\n",
       "\n",
       "    .dataframe tbody tr th {\n",
       "        vertical-align: top;\n",
       "    }\n",
       "\n",
       "    .dataframe thead th {\n",
       "        text-align: right;\n",
       "    }\n",
       "</style>\n",
       "<table border=\"1\" class=\"dataframe\">\n",
       "  <thead>\n",
       "    <tr style=\"text-align: right;\">\n",
       "      <th></th>\n",
       "      <th>0</th>\n",
       "      <th>1</th>\n",
       "      <th>2</th>\n",
       "      <th>3</th>\n",
       "      <th>4</th>\n",
       "      <th>5</th>\n",
       "      <th>6</th>\n",
       "      <th>7</th>\n",
       "    </tr>\n",
       "  </thead>\n",
       "  <tbody>\n",
       "    <tr>\n",
       "      <th>0</th>\n",
       "      <td>5</td>\n",
       "      <td>8</td>\n",
       "      <td>9</td>\n",
       "      <td>5</td>\n",
       "      <td>0</td>\n",
       "      <td>0</td>\n",
       "      <td>1</td>\n",
       "      <td>7</td>\n",
       "    </tr>\n",
       "    <tr>\n",
       "      <th>1</th>\n",
       "      <td>6</td>\n",
       "      <td>9</td>\n",
       "      <td>2</td>\n",
       "      <td>4</td>\n",
       "      <td>5</td>\n",
       "      <td>2</td>\n",
       "      <td>4</td>\n",
       "      <td>2</td>\n",
       "    </tr>\n",
       "    <tr>\n",
       "      <th>2</th>\n",
       "      <td>4</td>\n",
       "      <td>7</td>\n",
       "      <td>7</td>\n",
       "      <td>9</td>\n",
       "      <td>1</td>\n",
       "      <td>7</td>\n",
       "      <td>0</td>\n",
       "      <td>6</td>\n",
       "    </tr>\n",
       "    <tr>\n",
       "      <th>3</th>\n",
       "      <td>9</td>\n",
       "      <td>9</td>\n",
       "      <td>7</td>\n",
       "      <td>6</td>\n",
       "      <td>9</td>\n",
       "      <td>1</td>\n",
       "      <td>0</td>\n",
       "      <td>1</td>\n",
       "    </tr>\n",
       "  </tbody>\n",
       "</table>\n",
       "</div>"
      ],
      "text/plain": [
       "   0  1  2  3  4  5  6  7\n",
       "0  5  8  9  5  0  0  1  7\n",
       "1  6  9  2  4  5  2  4  2\n",
       "2  4  7  7  9  1  7  0  6\n",
       "3  9  9  7  6  9  1  0  1"
      ]
     },
     "execution_count": 15,
     "metadata": {},
     "output_type": "execute_result"
    }
   ],
   "source": [
    "np.random.seed(1)\n",
    "df2 = pd.DataFrame(np.random.randint(10, size=(4, 8)))\n",
    "df2"
   ]
  },
  {
   "cell_type": "code",
   "execution_count": 16,
   "id": "65290a96",
   "metadata": {
    "execution": {
     "iopub.execute_input": "2021-10-24T08:02:23.898074Z",
     "iopub.status.busy": "2021-10-24T08:02:23.897335Z",
     "iopub.status.idle": "2021-10-24T08:02:23.900029Z",
     "shell.execute_reply": "2021-10-24T08:02:23.900505Z",
     "shell.execute_reply.started": "2021-10-24T06:43:15.211425Z"
    },
    "papermill": {
     "duration": 0.081555,
     "end_time": "2021-10-24T08:02:23.900676",
     "exception": false,
     "start_time": "2021-10-24T08:02:23.819121",
     "status": "completed"
    },
    "tags": []
   },
   "outputs": [
    {
     "data": {
      "text/plain": [
       "0    35\n",
       "1    34\n",
       "2    41\n",
       "3    42\n",
       "dtype: int64"
      ]
     },
     "execution_count": 16,
     "metadata": {},
     "output_type": "execute_result"
    }
   ],
   "source": [
    "df2.sum(axis=1)"
   ]
  },
  {
   "cell_type": "code",
   "execution_count": 17,
   "id": "bfa045a6",
   "metadata": {
    "execution": {
     "iopub.execute_input": "2021-10-24T08:02:24.061479Z",
     "iopub.status.busy": "2021-10-24T08:02:24.057568Z",
     "iopub.status.idle": "2021-10-24T08:02:24.064733Z",
     "shell.execute_reply": "2021-10-24T08:02:24.065201Z",
     "shell.execute_reply.started": "2021-10-24T06:43:26.274372Z"
    },
    "papermill": {
     "duration": 0.090171,
     "end_time": "2021-10-24T08:02:24.065375",
     "exception": false,
     "start_time": "2021-10-24T08:02:23.975204",
     "status": "completed"
    },
    "tags": []
   },
   "outputs": [
    {
     "data": {
      "text/html": [
       "<div>\n",
       "<style scoped>\n",
       "    .dataframe tbody tr th:only-of-type {\n",
       "        vertical-align: middle;\n",
       "    }\n",
       "\n",
       "    .dataframe tbody tr th {\n",
       "        vertical-align: top;\n",
       "    }\n",
       "\n",
       "    .dataframe thead th {\n",
       "        text-align: right;\n",
       "    }\n",
       "</style>\n",
       "<table border=\"1\" class=\"dataframe\">\n",
       "  <thead>\n",
       "    <tr style=\"text-align: right;\">\n",
       "      <th></th>\n",
       "      <th>0</th>\n",
       "      <th>1</th>\n",
       "      <th>2</th>\n",
       "      <th>3</th>\n",
       "      <th>4</th>\n",
       "      <th>5</th>\n",
       "      <th>6</th>\n",
       "      <th>7</th>\n",
       "      <th>RowSum</th>\n",
       "    </tr>\n",
       "  </thead>\n",
       "  <tbody>\n",
       "    <tr>\n",
       "      <th>0</th>\n",
       "      <td>5</td>\n",
       "      <td>8</td>\n",
       "      <td>9</td>\n",
       "      <td>5</td>\n",
       "      <td>0</td>\n",
       "      <td>0</td>\n",
       "      <td>1</td>\n",
       "      <td>7</td>\n",
       "      <td>35</td>\n",
       "    </tr>\n",
       "    <tr>\n",
       "      <th>1</th>\n",
       "      <td>6</td>\n",
       "      <td>9</td>\n",
       "      <td>2</td>\n",
       "      <td>4</td>\n",
       "      <td>5</td>\n",
       "      <td>2</td>\n",
       "      <td>4</td>\n",
       "      <td>2</td>\n",
       "      <td>34</td>\n",
       "    </tr>\n",
       "    <tr>\n",
       "      <th>2</th>\n",
       "      <td>4</td>\n",
       "      <td>7</td>\n",
       "      <td>7</td>\n",
       "      <td>9</td>\n",
       "      <td>1</td>\n",
       "      <td>7</td>\n",
       "      <td>0</td>\n",
       "      <td>6</td>\n",
       "      <td>41</td>\n",
       "    </tr>\n",
       "    <tr>\n",
       "      <th>3</th>\n",
       "      <td>9</td>\n",
       "      <td>9</td>\n",
       "      <td>7</td>\n",
       "      <td>6</td>\n",
       "      <td>9</td>\n",
       "      <td>1</td>\n",
       "      <td>0</td>\n",
       "      <td>1</td>\n",
       "      <td>42</td>\n",
       "    </tr>\n",
       "  </tbody>\n",
       "</table>\n",
       "</div>"
      ],
      "text/plain": [
       "   0  1  2  3  4  5  6  7  RowSum\n",
       "0  5  8  9  5  0  0  1  7      35\n",
       "1  6  9  2  4  5  2  4  2      34\n",
       "2  4  7  7  9  1  7  0  6      41\n",
       "3  9  9  7  6  9  1  0  1      42"
      ]
     },
     "execution_count": 17,
     "metadata": {},
     "output_type": "execute_result"
    }
   ],
   "source": [
    "df2[\"RowSum\"] = df2.sum(axis=1)\n",
    "df2"
   ]
  },
  {
   "cell_type": "code",
   "execution_count": 18,
   "id": "0d304394",
   "metadata": {
    "execution": {
     "iopub.execute_input": "2021-10-24T08:02:24.214266Z",
     "iopub.status.busy": "2021-10-24T08:02:24.213571Z",
     "iopub.status.idle": "2021-10-24T08:02:24.219818Z",
     "shell.execute_reply": "2021-10-24T08:02:24.220277Z",
     "shell.execute_reply.started": "2021-10-24T06:43:38.107060Z"
    },
    "papermill": {
     "duration": 0.08223,
     "end_time": "2021-10-24T08:02:24.220486",
     "exception": false,
     "start_time": "2021-10-24T08:02:24.138256",
     "status": "completed"
    },
    "tags": []
   },
   "outputs": [
    {
     "data": {
      "text/plain": [
       "0          24\n",
       "1          33\n",
       "2          25\n",
       "3          24\n",
       "4          15\n",
       "5          10\n",
       "6           5\n",
       "7          16\n",
       "RowSum    152\n",
       "dtype: int64"
      ]
     },
     "execution_count": 18,
     "metadata": {},
     "output_type": "execute_result"
    }
   ],
   "source": [
    "df2.sum()"
   ]
  },
  {
   "cell_type": "code",
   "execution_count": 19,
   "id": "aa5b87af",
   "metadata": {
    "execution": {
     "iopub.execute_input": "2021-10-24T08:02:24.370462Z",
     "iopub.status.busy": "2021-10-24T08:02:24.369791Z",
     "iopub.status.idle": "2021-10-24T08:02:24.389787Z",
     "shell.execute_reply": "2021-10-24T08:02:24.390301Z",
     "shell.execute_reply.started": "2021-10-24T06:43:43.975526Z"
    },
    "papermill": {
     "duration": 0.096514,
     "end_time": "2021-10-24T08:02:24.390510",
     "exception": false,
     "start_time": "2021-10-24T08:02:24.293996",
     "status": "completed"
    },
    "tags": []
   },
   "outputs": [
    {
     "data": {
      "text/html": [
       "<div>\n",
       "<style scoped>\n",
       "    .dataframe tbody tr th:only-of-type {\n",
       "        vertical-align: middle;\n",
       "    }\n",
       "\n",
       "    .dataframe tbody tr th {\n",
       "        vertical-align: top;\n",
       "    }\n",
       "\n",
       "    .dataframe thead th {\n",
       "        text-align: right;\n",
       "    }\n",
       "</style>\n",
       "<table border=\"1\" class=\"dataframe\">\n",
       "  <thead>\n",
       "    <tr style=\"text-align: right;\">\n",
       "      <th></th>\n",
       "      <th>0</th>\n",
       "      <th>1</th>\n",
       "      <th>2</th>\n",
       "      <th>3</th>\n",
       "      <th>4</th>\n",
       "      <th>5</th>\n",
       "      <th>6</th>\n",
       "      <th>7</th>\n",
       "      <th>RowSum</th>\n",
       "    </tr>\n",
       "  </thead>\n",
       "  <tbody>\n",
       "    <tr>\n",
       "      <th>0</th>\n",
       "      <td>5.0</td>\n",
       "      <td>8.0</td>\n",
       "      <td>9.0</td>\n",
       "      <td>5.0</td>\n",
       "      <td>0.0</td>\n",
       "      <td>0.0</td>\n",
       "      <td>1.0</td>\n",
       "      <td>7.0</td>\n",
       "      <td>35.0</td>\n",
       "    </tr>\n",
       "    <tr>\n",
       "      <th>1</th>\n",
       "      <td>6.0</td>\n",
       "      <td>9.0</td>\n",
       "      <td>2.0</td>\n",
       "      <td>4.0</td>\n",
       "      <td>5.0</td>\n",
       "      <td>2.0</td>\n",
       "      <td>4.0</td>\n",
       "      <td>2.0</td>\n",
       "      <td>34.0</td>\n",
       "    </tr>\n",
       "    <tr>\n",
       "      <th>2</th>\n",
       "      <td>4.0</td>\n",
       "      <td>7.0</td>\n",
       "      <td>7.0</td>\n",
       "      <td>9.0</td>\n",
       "      <td>1.0</td>\n",
       "      <td>7.0</td>\n",
       "      <td>0.0</td>\n",
       "      <td>6.0</td>\n",
       "      <td>41.0</td>\n",
       "    </tr>\n",
       "    <tr>\n",
       "      <th>3</th>\n",
       "      <td>9.0</td>\n",
       "      <td>9.0</td>\n",
       "      <td>7.0</td>\n",
       "      <td>6.0</td>\n",
       "      <td>9.0</td>\n",
       "      <td>1.0</td>\n",
       "      <td>0.0</td>\n",
       "      <td>1.0</td>\n",
       "      <td>42.0</td>\n",
       "    </tr>\n",
       "    <tr>\n",
       "      <th>ColTotal</th>\n",
       "      <td>24.0</td>\n",
       "      <td>33.0</td>\n",
       "      <td>25.0</td>\n",
       "      <td>24.0</td>\n",
       "      <td>15.0</td>\n",
       "      <td>10.0</td>\n",
       "      <td>5.0</td>\n",
       "      <td>16.0</td>\n",
       "      <td>152.0</td>\n",
       "    </tr>\n",
       "  </tbody>\n",
       "</table>\n",
       "</div>"
      ],
      "text/plain": [
       "             0     1     2     3     4     5    6     7  RowSum\n",
       "0          5.0   8.0   9.0   5.0   0.0   0.0  1.0   7.0    35.0\n",
       "1          6.0   9.0   2.0   4.0   5.0   2.0  4.0   2.0    34.0\n",
       "2          4.0   7.0   7.0   9.0   1.0   7.0  0.0   6.0    41.0\n",
       "3          9.0   9.0   7.0   6.0   9.0   1.0  0.0   1.0    42.0\n",
       "ColTotal  24.0  33.0  25.0  24.0  15.0  10.0  5.0  16.0   152.0"
      ]
     },
     "execution_count": 19,
     "metadata": {},
     "output_type": "execute_result"
    }
   ],
   "source": [
    "df2.loc[\"ColTotal\", :] = df2.sum()\n",
    "df2"
   ]
  },
  {
   "cell_type": "markdown",
   "id": "2e93e58a",
   "metadata": {
    "papermill": {
     "duration": 0.074131,
     "end_time": "2021-10-24T08:02:24.539446",
     "exception": false,
     "start_time": "2021-10-24T08:02:24.465315",
     "status": "completed"
    },
    "tags": []
   },
   "source": [
    "Apply method<br>\n",
    "행이나 열 단위로 반복해서 계산하고 싶을때, apply를 사용하면 편함.\n",
    "기본값은 열이고, axis=1하면 행."
   ]
  },
  {
   "cell_type": "code",
   "execution_count": 20,
   "id": "fb0a509a",
   "metadata": {
    "execution": {
     "iopub.execute_input": "2021-10-24T08:02:24.690704Z",
     "iopub.status.busy": "2021-10-24T08:02:24.690013Z",
     "iopub.status.idle": "2021-10-24T08:02:24.699444Z",
     "shell.execute_reply": "2021-10-24T08:02:24.699961Z",
     "shell.execute_reply.started": "2021-10-24T06:54:22.979079Z"
    },
    "papermill": {
     "duration": 0.087248,
     "end_time": "2021-10-24T08:02:24.700132",
     "exception": false,
     "start_time": "2021-10-24T08:02:24.612884",
     "status": "completed"
    },
    "tags": []
   },
   "outputs": [
    {
     "data": {
      "text/html": [
       "<div>\n",
       "<style scoped>\n",
       "    .dataframe tbody tr th:only-of-type {\n",
       "        vertical-align: middle;\n",
       "    }\n",
       "\n",
       "    .dataframe tbody tr th {\n",
       "        vertical-align: top;\n",
       "    }\n",
       "\n",
       "    .dataframe thead th {\n",
       "        text-align: right;\n",
       "    }\n",
       "</style>\n",
       "<table border=\"1\" class=\"dataframe\">\n",
       "  <thead>\n",
       "    <tr style=\"text-align: right;\">\n",
       "      <th></th>\n",
       "      <th>A</th>\n",
       "      <th>B</th>\n",
       "      <th>C</th>\n",
       "    </tr>\n",
       "  </thead>\n",
       "  <tbody>\n",
       "    <tr>\n",
       "      <th>0</th>\n",
       "      <td>1</td>\n",
       "      <td>2</td>\n",
       "      <td>1</td>\n",
       "    </tr>\n",
       "    <tr>\n",
       "      <th>1</th>\n",
       "      <td>3</td>\n",
       "      <td>3</td>\n",
       "      <td>5</td>\n",
       "    </tr>\n",
       "    <tr>\n",
       "      <th>2</th>\n",
       "      <td>4</td>\n",
       "      <td>1</td>\n",
       "      <td>2</td>\n",
       "    </tr>\n",
       "    <tr>\n",
       "      <th>3</th>\n",
       "      <td>3</td>\n",
       "      <td>2</td>\n",
       "      <td>4</td>\n",
       "    </tr>\n",
       "    <tr>\n",
       "      <th>4</th>\n",
       "      <td>4</td>\n",
       "      <td>3</td>\n",
       "      <td>4</td>\n",
       "    </tr>\n",
       "  </tbody>\n",
       "</table>\n",
       "</div>"
      ],
      "text/plain": [
       "   A  B  C\n",
       "0  1  2  1\n",
       "1  3  3  5\n",
       "2  4  1  2\n",
       "3  3  2  4\n",
       "4  4  3  4"
      ]
     },
     "execution_count": 20,
     "metadata": {},
     "output_type": "execute_result"
    }
   ],
   "source": [
    "df3 = pd.DataFrame({\n",
    "    'A': [1, 3, 4, 3, 4],\n",
    "    'B': [2, 3, 1, 2, 3],\n",
    "    'C': [1, 5, 2, 4, 4]\n",
    "})\n",
    "df3"
   ]
  },
  {
   "cell_type": "code",
   "execution_count": 21,
   "id": "cfe21fb1",
   "metadata": {
    "execution": {
     "iopub.execute_input": "2021-10-24T08:02:24.851441Z",
     "iopub.status.busy": "2021-10-24T08:02:24.850788Z",
     "iopub.status.idle": "2021-10-24T08:02:24.856879Z",
     "shell.execute_reply": "2021-10-24T08:02:24.857364Z",
     "shell.execute_reply.started": "2021-10-24T06:54:41.284138Z"
    },
    "papermill": {
     "duration": 0.083326,
     "end_time": "2021-10-24T08:02:24.857550",
     "exception": false,
     "start_time": "2021-10-24T08:02:24.774224",
     "status": "completed"
    },
    "tags": []
   },
   "outputs": [
    {
     "data": {
      "text/plain": [
       "A    3\n",
       "B    2\n",
       "C    4\n",
       "dtype: int64"
      ]
     },
     "execution_count": 21,
     "metadata": {},
     "output_type": "execute_result"
    }
   ],
   "source": [
    "df3.apply(lambda x : x.max() - x.min())"
   ]
  },
  {
   "cell_type": "code",
   "execution_count": 22,
   "id": "16f92003",
   "metadata": {
    "execution": {
     "iopub.execute_input": "2021-10-24T08:02:25.009698Z",
     "iopub.status.busy": "2021-10-24T08:02:25.008985Z",
     "iopub.status.idle": "2021-10-24T08:02:25.016141Z",
     "shell.execute_reply": "2021-10-24T08:02:25.016640Z",
     "shell.execute_reply.started": "2021-10-24T07:01:06.087202Z"
    },
    "papermill": {
     "duration": 0.084693,
     "end_time": "2021-10-24T08:02:25.016822",
     "exception": false,
     "start_time": "2021-10-24T08:02:24.932129",
     "status": "completed"
    },
    "tags": []
   },
   "outputs": [
    {
     "data": {
      "text/plain": [
       "0    1\n",
       "1    2\n",
       "2    3\n",
       "3    2\n",
       "4    1\n",
       "dtype: int64"
      ]
     },
     "execution_count": 22,
     "metadata": {},
     "output_type": "execute_result"
    }
   ],
   "source": [
    "df3.apply(lambda x : x.max() - x.min(), axis=1)"
   ]
  },
  {
   "cell_type": "markdown",
   "id": "69d140f4",
   "metadata": {
    "papermill": {
     "duration": 0.075067,
     "end_time": "2021-10-24T08:02:25.167603",
     "exception": false,
     "start_time": "2021-10-24T08:02:25.092536",
     "status": "completed"
    },
    "tags": []
   },
   "source": [
    "각 열에 어떤 값이 얼마나 사용되었는지 알고싶다면 밑에처럼."
   ]
  },
  {
   "cell_type": "code",
   "execution_count": 23,
   "id": "ded0b6fe",
   "metadata": {
    "execution": {
     "iopub.execute_input": "2021-10-24T08:02:25.321920Z",
     "iopub.status.busy": "2021-10-24T08:02:25.320900Z",
     "iopub.status.idle": "2021-10-24T08:02:25.334580Z",
     "shell.execute_reply": "2021-10-24T08:02:25.335173Z",
     "shell.execute_reply.started": "2021-10-24T07:02:47.088230Z"
    },
    "papermill": {
     "duration": 0.093053,
     "end_time": "2021-10-24T08:02:25.335357",
     "exception": false,
     "start_time": "2021-10-24T08:02:25.242304",
     "status": "completed"
    },
    "tags": []
   },
   "outputs": [
    {
     "data": {
      "text/html": [
       "<div>\n",
       "<style scoped>\n",
       "    .dataframe tbody tr th:only-of-type {\n",
       "        vertical-align: middle;\n",
       "    }\n",
       "\n",
       "    .dataframe tbody tr th {\n",
       "        vertical-align: top;\n",
       "    }\n",
       "\n",
       "    .dataframe thead th {\n",
       "        text-align: right;\n",
       "    }\n",
       "</style>\n",
       "<table border=\"1\" class=\"dataframe\">\n",
       "  <thead>\n",
       "    <tr style=\"text-align: right;\">\n",
       "      <th></th>\n",
       "      <th>A</th>\n",
       "      <th>B</th>\n",
       "      <th>C</th>\n",
       "    </tr>\n",
       "  </thead>\n",
       "  <tbody>\n",
       "    <tr>\n",
       "      <th>1</th>\n",
       "      <td>1.0</td>\n",
       "      <td>1.0</td>\n",
       "      <td>1.0</td>\n",
       "    </tr>\n",
       "    <tr>\n",
       "      <th>2</th>\n",
       "      <td>NaN</td>\n",
       "      <td>2.0</td>\n",
       "      <td>1.0</td>\n",
       "    </tr>\n",
       "    <tr>\n",
       "      <th>3</th>\n",
       "      <td>2.0</td>\n",
       "      <td>2.0</td>\n",
       "      <td>NaN</td>\n",
       "    </tr>\n",
       "    <tr>\n",
       "      <th>4</th>\n",
       "      <td>2.0</td>\n",
       "      <td>NaN</td>\n",
       "      <td>2.0</td>\n",
       "    </tr>\n",
       "    <tr>\n",
       "      <th>5</th>\n",
       "      <td>NaN</td>\n",
       "      <td>NaN</td>\n",
       "      <td>1.0</td>\n",
       "    </tr>\n",
       "  </tbody>\n",
       "</table>\n",
       "</div>"
      ],
      "text/plain": [
       "     A    B    C\n",
       "1  1.0  1.0  1.0\n",
       "2  NaN  2.0  1.0\n",
       "3  2.0  2.0  NaN\n",
       "4  2.0  NaN  2.0\n",
       "5  NaN  NaN  1.0"
      ]
     },
     "execution_count": 23,
     "metadata": {},
     "output_type": "execute_result"
    }
   ],
   "source": [
    "df3.apply(pd.value_counts)"
   ]
  },
  {
   "cell_type": "markdown",
   "id": "1cff382c",
   "metadata": {
    "papermill": {
     "duration": 0.075369,
     "end_time": "2021-10-24T08:02:25.486208",
     "exception": false,
     "start_time": "2021-10-24T08:02:25.410839",
     "status": "completed"
    },
    "tags": []
   },
   "source": [
    "fillna method<br>\n",
    "NaN값을 원하는 값으로 바꿀 수 있음."
   ]
  },
  {
   "cell_type": "code",
   "execution_count": 24,
   "id": "7d55b142",
   "metadata": {
    "execution": {
     "iopub.execute_input": "2021-10-24T08:02:25.642334Z",
     "iopub.status.busy": "2021-10-24T08:02:25.641313Z",
     "iopub.status.idle": "2021-10-24T08:02:25.655854Z",
     "shell.execute_reply": "2021-10-24T08:02:25.656415Z",
     "shell.execute_reply.started": "2021-10-24T07:03:41.466769Z"
    },
    "papermill": {
     "duration": 0.094608,
     "end_time": "2021-10-24T08:02:25.656592",
     "exception": false,
     "start_time": "2021-10-24T08:02:25.561984",
     "status": "completed"
    },
    "tags": []
   },
   "outputs": [
    {
     "data": {
      "text/html": [
       "<div>\n",
       "<style scoped>\n",
       "    .dataframe tbody tr th:only-of-type {\n",
       "        vertical-align: middle;\n",
       "    }\n",
       "\n",
       "    .dataframe tbody tr th {\n",
       "        vertical-align: top;\n",
       "    }\n",
       "\n",
       "    .dataframe thead th {\n",
       "        text-align: right;\n",
       "    }\n",
       "</style>\n",
       "<table border=\"1\" class=\"dataframe\">\n",
       "  <thead>\n",
       "    <tr style=\"text-align: right;\">\n",
       "      <th></th>\n",
       "      <th>A</th>\n",
       "      <th>B</th>\n",
       "      <th>C</th>\n",
       "    </tr>\n",
       "  </thead>\n",
       "  <tbody>\n",
       "    <tr>\n",
       "      <th>1</th>\n",
       "      <td>1.0</td>\n",
       "      <td>1.0</td>\n",
       "      <td>1.0</td>\n",
       "    </tr>\n",
       "    <tr>\n",
       "      <th>2</th>\n",
       "      <td>0.0</td>\n",
       "      <td>2.0</td>\n",
       "      <td>1.0</td>\n",
       "    </tr>\n",
       "    <tr>\n",
       "      <th>3</th>\n",
       "      <td>2.0</td>\n",
       "      <td>2.0</td>\n",
       "      <td>0.0</td>\n",
       "    </tr>\n",
       "    <tr>\n",
       "      <th>4</th>\n",
       "      <td>2.0</td>\n",
       "      <td>0.0</td>\n",
       "      <td>2.0</td>\n",
       "    </tr>\n",
       "    <tr>\n",
       "      <th>5</th>\n",
       "      <td>0.0</td>\n",
       "      <td>0.0</td>\n",
       "      <td>1.0</td>\n",
       "    </tr>\n",
       "  </tbody>\n",
       "</table>\n",
       "</div>"
      ],
      "text/plain": [
       "     A    B    C\n",
       "1  1.0  1.0  1.0\n",
       "2  0.0  2.0  1.0\n",
       "3  2.0  2.0  0.0\n",
       "4  2.0  0.0  2.0\n",
       "5  0.0  0.0  1.0"
      ]
     },
     "execution_count": 24,
     "metadata": {},
     "output_type": "execute_result"
    }
   ],
   "source": [
    "df3.apply(pd.value_counts).fillna(0.0)"
   ]
  },
  {
   "cell_type": "markdown",
   "id": "53d04782",
   "metadata": {
    "papermill": {
     "duration": 0.075463,
     "end_time": "2021-10-24T08:02:25.808285",
     "exception": false,
     "start_time": "2021-10-24T08:02:25.732822",
     "status": "completed"
    },
    "tags": []
   },
   "source": [
    "astype method<br>\n",
    "전체 데이터의 자료형 바꾸기"
   ]
  },
  {
   "cell_type": "code",
   "execution_count": 25,
   "id": "b2a4352d",
   "metadata": {
    "execution": {
     "iopub.execute_input": "2021-10-24T08:02:25.966101Z",
     "iopub.status.busy": "2021-10-24T08:02:25.965119Z",
     "iopub.status.idle": "2021-10-24T08:02:25.976891Z",
     "shell.execute_reply": "2021-10-24T08:02:25.977450Z",
     "shell.execute_reply.started": "2021-10-24T07:04:32.695209Z"
    },
    "papermill": {
     "duration": 0.093271,
     "end_time": "2021-10-24T08:02:25.977623",
     "exception": false,
     "start_time": "2021-10-24T08:02:25.884352",
     "status": "completed"
    },
    "tags": []
   },
   "outputs": [
    {
     "data": {
      "text/html": [
       "<div>\n",
       "<style scoped>\n",
       "    .dataframe tbody tr th:only-of-type {\n",
       "        vertical-align: middle;\n",
       "    }\n",
       "\n",
       "    .dataframe tbody tr th {\n",
       "        vertical-align: top;\n",
       "    }\n",
       "\n",
       "    .dataframe thead th {\n",
       "        text-align: right;\n",
       "    }\n",
       "</style>\n",
       "<table border=\"1\" class=\"dataframe\">\n",
       "  <thead>\n",
       "    <tr style=\"text-align: right;\">\n",
       "      <th></th>\n",
       "      <th>A</th>\n",
       "      <th>B</th>\n",
       "      <th>C</th>\n",
       "    </tr>\n",
       "  </thead>\n",
       "  <tbody>\n",
       "    <tr>\n",
       "      <th>1</th>\n",
       "      <td>1</td>\n",
       "      <td>1</td>\n",
       "      <td>1</td>\n",
       "    </tr>\n",
       "    <tr>\n",
       "      <th>2</th>\n",
       "      <td>0</td>\n",
       "      <td>2</td>\n",
       "      <td>1</td>\n",
       "    </tr>\n",
       "    <tr>\n",
       "      <th>3</th>\n",
       "      <td>2</td>\n",
       "      <td>2</td>\n",
       "      <td>0</td>\n",
       "    </tr>\n",
       "    <tr>\n",
       "      <th>4</th>\n",
       "      <td>2</td>\n",
       "      <td>0</td>\n",
       "      <td>2</td>\n",
       "    </tr>\n",
       "    <tr>\n",
       "      <th>5</th>\n",
       "      <td>0</td>\n",
       "      <td>0</td>\n",
       "      <td>1</td>\n",
       "    </tr>\n",
       "  </tbody>\n",
       "</table>\n",
       "</div>"
      ],
      "text/plain": [
       "   A  B  C\n",
       "1  1  1  1\n",
       "2  0  2  1\n",
       "3  2  2  0\n",
       "4  2  0  2\n",
       "5  0  0  1"
      ]
     },
     "execution_count": 25,
     "metadata": {},
     "output_type": "execute_result"
    }
   ],
   "source": [
    "df3.apply(pd.value_counts).fillna(0).astype(int)"
   ]
  },
  {
   "cell_type": "markdown",
   "id": "49854329",
   "metadata": {
    "papermill": {
     "duration": 0.075594,
     "end_time": "2021-10-24T08:02:26.129969",
     "exception": false,
     "start_time": "2021-10-24T08:02:26.054375",
     "status": "completed"
    },
    "tags": []
   },
   "source": [
    "<h3>실수 값을 카테고리 값으로 변환</h3>\n"
   ]
  },
  {
   "cell_type": "code",
   "execution_count": 26,
   "id": "20f54dc0",
   "metadata": {
    "execution": {
     "iopub.execute_input": "2021-10-24T08:02:26.285896Z",
     "iopub.status.busy": "2021-10-24T08:02:26.284863Z",
     "iopub.status.idle": "2021-10-24T08:02:26.289284Z",
     "shell.execute_reply": "2021-10-24T08:02:26.289890Z",
     "shell.execute_reply.started": "2021-10-24T07:07:16.485267Z"
    },
    "papermill": {
     "duration": 0.083986,
     "end_time": "2021-10-24T08:02:26.290076",
     "exception": false,
     "start_time": "2021-10-24T08:02:26.206090",
     "status": "completed"
    },
    "tags": []
   },
   "outputs": [],
   "source": [
    "ages = [0, 2, 10, 21, 23, 37, 31, 61, 20, 41, 32, 101]\n"
   ]
  },
  {
   "cell_type": "markdown",
   "id": "afd457ea",
   "metadata": {
    "papermill": {
     "duration": 0.076409,
     "end_time": "2021-10-24T08:02:26.444638",
     "exception": false,
     "start_time": "2021-10-24T08:02:26.368229",
     "status": "completed"
    },
    "tags": []
   },
   "source": [
    "bins는 카테고리를 나누는 기준값, labels는 기준값에 따라서 변경 결과가 되는 카테고리이다. 영역을 넘는 값은 NaN처리가 된다."
   ]
  },
  {
   "cell_type": "code",
   "execution_count": 27,
   "id": "ababe4e4",
   "metadata": {
    "execution": {
     "iopub.execute_input": "2021-10-24T08:02:26.601306Z",
     "iopub.status.busy": "2021-10-24T08:02:26.600244Z",
     "iopub.status.idle": "2021-10-24T08:02:26.609739Z",
     "shell.execute_reply": "2021-10-24T08:02:26.610289Z",
     "shell.execute_reply.started": "2021-10-24T07:07:27.269779Z"
    },
    "papermill": {
     "duration": 0.089498,
     "end_time": "2021-10-24T08:02:26.610481",
     "exception": false,
     "start_time": "2021-10-24T08:02:26.520983",
     "status": "completed"
    },
    "tags": []
   },
   "outputs": [
    {
     "data": {
      "text/plain": [
       "[NaN, '미성년자', '미성년자', '청년', '청년', ..., '장년', '미성년자', '중년', '중년', NaN]\n",
       "Length: 12\n",
       "Categories (5, object): ['미성년자' < '청년' < '중년' < '장년' < '노년']"
      ]
     },
     "execution_count": 27,
     "metadata": {},
     "output_type": "execute_result"
    }
   ],
   "source": [
    "bins = [1, 20, 30, 50, 70, 100]\n",
    "labels = [\"미성년자\", \"청년\", \"중년\", \"장년\", \"노년\"]\n",
    "cats = pd.cut(ages, bins, labels=labels)\n",
    "cats"
   ]
  },
  {
   "cell_type": "markdown",
   "id": "eef1e96f",
   "metadata": {
    "papermill": {
     "duration": 0.076446,
     "end_time": "2021-10-24T08:02:26.764580",
     "exception": false,
     "start_time": "2021-10-24T08:02:26.688134",
     "status": "completed"
    },
    "tags": []
   },
   "source": [
    "cut이 반환하는 값은 Categorical 클래스 객체이므로, categories 속성으로 라벨문자열을, codes 속성으로 정수로 인코딩 한 카테고리 값을 가진다."
   ]
  },
  {
   "cell_type": "code",
   "execution_count": 28,
   "id": "0aa6de35",
   "metadata": {
    "execution": {
     "iopub.execute_input": "2021-10-24T08:02:26.921490Z",
     "iopub.status.busy": "2021-10-24T08:02:26.920458Z",
     "iopub.status.idle": "2021-10-24T08:02:26.926028Z",
     "shell.execute_reply": "2021-10-24T08:02:26.926595Z",
     "shell.execute_reply.started": "2021-10-24T07:09:17.344221Z"
    },
    "papermill": {
     "duration": 0.085731,
     "end_time": "2021-10-24T08:02:26.926769",
     "exception": false,
     "start_time": "2021-10-24T08:02:26.841038",
     "status": "completed"
    },
    "tags": []
   },
   "outputs": [
    {
     "data": {
      "text/plain": [
       "pandas.core.arrays.categorical.Categorical"
      ]
     },
     "execution_count": 28,
     "metadata": {},
     "output_type": "execute_result"
    }
   ],
   "source": [
    "type(cats)"
   ]
  },
  {
   "cell_type": "code",
   "execution_count": 29,
   "id": "2c545be1",
   "metadata": {
    "execution": {
     "iopub.execute_input": "2021-10-24T08:02:27.086954Z",
     "iopub.status.busy": "2021-10-24T08:02:27.084226Z",
     "iopub.status.idle": "2021-10-24T08:02:27.089943Z",
     "shell.execute_reply": "2021-10-24T08:02:27.090537Z",
     "shell.execute_reply.started": "2021-10-24T07:09:23.437331Z"
    },
    "papermill": {
     "duration": 0.086919,
     "end_time": "2021-10-24T08:02:27.090707",
     "exception": false,
     "start_time": "2021-10-24T08:02:27.003788",
     "status": "completed"
    },
    "tags": []
   },
   "outputs": [
    {
     "data": {
      "text/plain": [
       "Index(['미성년자', '청년', '중년', '장년', '노년'], dtype='object')"
      ]
     },
     "execution_count": 29,
     "metadata": {},
     "output_type": "execute_result"
    }
   ],
   "source": [
    "cats.categories"
   ]
  },
  {
   "cell_type": "code",
   "execution_count": 30,
   "id": "dae5eea1",
   "metadata": {
    "execution": {
     "iopub.execute_input": "2021-10-24T08:02:27.249829Z",
     "iopub.status.busy": "2021-10-24T08:02:27.248860Z",
     "iopub.status.idle": "2021-10-24T08:02:27.254049Z",
     "shell.execute_reply": "2021-10-24T08:02:27.254674Z",
     "shell.execute_reply.started": "2021-10-24T07:09:28.923077Z"
    },
    "papermill": {
     "duration": 0.086352,
     "end_time": "2021-10-24T08:02:27.254864",
     "exception": false,
     "start_time": "2021-10-24T08:02:27.168512",
     "status": "completed"
    },
    "tags": []
   },
   "outputs": [
    {
     "data": {
      "text/plain": [
       "array([-1,  0,  0,  1,  1,  2,  2,  3,  0,  2,  2, -1], dtype=int8)"
      ]
     },
     "execution_count": 30,
     "metadata": {},
     "output_type": "execute_result"
    }
   ],
   "source": [
    "cats.codes"
   ]
  },
  {
   "cell_type": "code",
   "execution_count": 31,
   "id": "59ff416d",
   "metadata": {
    "execution": {
     "iopub.execute_input": "2021-10-24T08:02:27.417466Z",
     "iopub.status.busy": "2021-10-24T08:02:27.416480Z",
     "iopub.status.idle": "2021-10-24T08:02:27.427210Z",
     "shell.execute_reply": "2021-10-24T08:02:27.427831Z",
     "shell.execute_reply.started": "2021-10-24T07:10:34.500654Z"
    },
    "papermill": {
     "duration": 0.095269,
     "end_time": "2021-10-24T08:02:27.428007",
     "exception": false,
     "start_time": "2021-10-24T08:02:27.332738",
     "status": "completed"
    },
    "tags": []
   },
   "outputs": [
    {
     "data": {
      "text/html": [
       "<div>\n",
       "<style scoped>\n",
       "    .dataframe tbody tr th:only-of-type {\n",
       "        vertical-align: middle;\n",
       "    }\n",
       "\n",
       "    .dataframe tbody tr th {\n",
       "        vertical-align: top;\n",
       "    }\n",
       "\n",
       "    .dataframe thead th {\n",
       "        text-align: right;\n",
       "    }\n",
       "</style>\n",
       "<table border=\"1\" class=\"dataframe\">\n",
       "  <thead>\n",
       "    <tr style=\"text-align: right;\">\n",
       "      <th></th>\n",
       "      <th>ages</th>\n",
       "      <th>age_cat</th>\n",
       "    </tr>\n",
       "  </thead>\n",
       "  <tbody>\n",
       "    <tr>\n",
       "      <th>0</th>\n",
       "      <td>0</td>\n",
       "      <td>NaN</td>\n",
       "    </tr>\n",
       "    <tr>\n",
       "      <th>1</th>\n",
       "      <td>2</td>\n",
       "      <td>미성년자</td>\n",
       "    </tr>\n",
       "    <tr>\n",
       "      <th>2</th>\n",
       "      <td>10</td>\n",
       "      <td>미성년자</td>\n",
       "    </tr>\n",
       "    <tr>\n",
       "      <th>3</th>\n",
       "      <td>21</td>\n",
       "      <td>청년</td>\n",
       "    </tr>\n",
       "    <tr>\n",
       "      <th>4</th>\n",
       "      <td>23</td>\n",
       "      <td>청년</td>\n",
       "    </tr>\n",
       "    <tr>\n",
       "      <th>5</th>\n",
       "      <td>37</td>\n",
       "      <td>중년</td>\n",
       "    </tr>\n",
       "    <tr>\n",
       "      <th>6</th>\n",
       "      <td>31</td>\n",
       "      <td>중년</td>\n",
       "    </tr>\n",
       "    <tr>\n",
       "      <th>7</th>\n",
       "      <td>61</td>\n",
       "      <td>장년</td>\n",
       "    </tr>\n",
       "    <tr>\n",
       "      <th>8</th>\n",
       "      <td>20</td>\n",
       "      <td>미성년자</td>\n",
       "    </tr>\n",
       "    <tr>\n",
       "      <th>9</th>\n",
       "      <td>41</td>\n",
       "      <td>중년</td>\n",
       "    </tr>\n",
       "    <tr>\n",
       "      <th>10</th>\n",
       "      <td>32</td>\n",
       "      <td>중년</td>\n",
       "    </tr>\n",
       "    <tr>\n",
       "      <th>11</th>\n",
       "      <td>101</td>\n",
       "      <td>NaN</td>\n",
       "    </tr>\n",
       "  </tbody>\n",
       "</table>\n",
       "</div>"
      ],
      "text/plain": [
       "    ages age_cat\n",
       "0      0     NaN\n",
       "1      2    미성년자\n",
       "2     10    미성년자\n",
       "3     21      청년\n",
       "4     23      청년\n",
       "5     37      중년\n",
       "6     31      중년\n",
       "7     61      장년\n",
       "8     20    미성년자\n",
       "9     41      중년\n",
       "10    32      중년\n",
       "11   101     NaN"
      ]
     },
     "execution_count": 31,
     "metadata": {},
     "output_type": "execute_result"
    }
   ],
   "source": [
    "df4 = pd.DataFrame(ages, columns=[\"ages\"])\n",
    "df4[\"age_cat\"] = pd.cut(df4.ages, bins, labels=labels)\n",
    "df4"
   ]
  },
  {
   "cell_type": "markdown",
   "id": "f02710ef",
   "metadata": {
    "papermill": {
     "duration": 0.0791,
     "end_time": "2021-10-24T08:02:27.586229",
     "exception": false,
     "start_time": "2021-10-24T08:02:27.507129",
     "status": "completed"
    },
    "tags": []
   },
   "source": [
    "그러므로 age_cat의 열값은 문자열이 아님. 이거 바꾸려면 astype 메서드 사용해야되는데 위의 강의에서 하는건 이거 바꾸는건지 잘 모르겠음; 일단 밑에 써놓긴 하는데 나중에 다른거 찾아보면서 참고하기."
   ]
  },
  {
   "cell_type": "code",
   "execution_count": 32,
   "id": "0d5bd744",
   "metadata": {
    "execution": {
     "iopub.execute_input": "2021-10-24T08:02:27.751119Z",
     "iopub.status.busy": "2021-10-24T08:02:27.750429Z",
     "iopub.status.idle": "2021-10-24T08:02:27.753004Z",
     "shell.execute_reply": "2021-10-24T08:02:27.753497Z",
     "shell.execute_reply.started": "2021-10-24T07:12:13.156530Z"
    },
    "papermill": {
     "duration": 0.088712,
     "end_time": "2021-10-24T08:02:27.753663",
     "exception": false,
     "start_time": "2021-10-24T08:02:27.664951",
     "status": "completed"
    },
    "tags": []
   },
   "outputs": [
    {
     "data": {
      "text/plain": [
       "0       nan0\n",
       "1      미성년자2\n",
       "2     미성년자10\n",
       "3       청년21\n",
       "4       청년23\n",
       "5       중년37\n",
       "6       중년31\n",
       "7       장년61\n",
       "8     미성년자20\n",
       "9       중년41\n",
       "10      중년32\n",
       "11    nan101\n",
       "dtype: object"
      ]
     },
     "execution_count": 32,
     "metadata": {},
     "output_type": "execute_result"
    }
   ],
   "source": [
    "df4.age_cat.astype(str) + df4.ages.astype(str)"
   ]
  },
  {
   "cell_type": "markdown",
   "id": "8db6d8a6",
   "metadata": {
    "papermill": {
     "duration": 0.079167,
     "end_time": "2021-10-24T08:02:27.912087",
     "exception": false,
     "start_time": "2021-10-24T08:02:27.832920",
     "status": "completed"
    },
    "tags": []
   },
   "source": [
    "qcut은 경계선 지정하지 않고 데이터 개수가 같도록 지정."
   ]
  },
  {
   "cell_type": "code",
   "execution_count": 33,
   "id": "da86895c",
   "metadata": {
    "execution": {
     "iopub.execute_input": "2021-10-24T08:02:28.077777Z",
     "iopub.status.busy": "2021-10-24T08:02:28.076754Z",
     "iopub.status.idle": "2021-10-24T08:02:28.085877Z",
     "shell.execute_reply": "2021-10-24T08:02:28.086440Z",
     "shell.execute_reply.started": "2021-10-24T07:12:44.865061Z"
    },
    "papermill": {
     "duration": 0.094548,
     "end_time": "2021-10-24T08:02:28.086615",
     "exception": false,
     "start_time": "2021-10-24T08:02:27.992067",
     "status": "completed"
    },
    "tags": []
   },
   "outputs": [
    {
     "data": {
      "text/plain": [
       "['Q2', 'Q1', 'Q2', 'Q3', 'Q1', ..., 'Q1', 'Q1', 'Q4', 'Q4', 'Q2']\n",
       "Length: 1000\n",
       "Categories (4, object): ['Q1' < 'Q2' < 'Q3' < 'Q4']"
      ]
     },
     "execution_count": 33,
     "metadata": {},
     "output_type": "execute_result"
    }
   ],
   "source": [
    "data = np.random.randn(1000)\n",
    "cats = pd.qcut(data, 4, labels=[\"Q1\", \"Q2\", \"Q3\", \"Q4\"])\n",
    "cats"
   ]
  },
  {
   "cell_type": "code",
   "execution_count": 34,
   "id": "37a7dd50",
   "metadata": {
    "execution": {
     "iopub.execute_input": "2021-10-24T08:02:28.251191Z",
     "iopub.status.busy": "2021-10-24T08:02:28.250187Z",
     "iopub.status.idle": "2021-10-24T08:02:28.256157Z",
     "shell.execute_reply": "2021-10-24T08:02:28.256777Z",
     "shell.execute_reply.started": "2021-10-24T07:13:04.306359Z"
    },
    "papermill": {
     "duration": 0.090405,
     "end_time": "2021-10-24T08:02:28.256948",
     "exception": false,
     "start_time": "2021-10-24T08:02:28.166543",
     "status": "completed"
    },
    "tags": []
   },
   "outputs": [
    {
     "data": {
      "text/plain": [
       "Q1    250\n",
       "Q2    250\n",
       "Q3    250\n",
       "Q4    250\n",
       "dtype: int64"
      ]
     },
     "execution_count": 34,
     "metadata": {},
     "output_type": "execute_result"
    }
   ],
   "source": [
    "pd.value_counts(cats)"
   ]
  },
  {
   "cell_type": "markdown",
   "id": "c78fb7da",
   "metadata": {
    "papermill": {
     "duration": 0.083845,
     "end_time": "2021-10-24T08:02:28.420065",
     "exception": false,
     "start_time": "2021-10-24T08:02:28.336220",
     "status": "completed"
    },
    "tags": []
   },
   "source": [
    "<h3>인덱스 조작</h3>\n",
    "인덱스에 들어가야 할 데이터가 일반 데이터 열에 들어가 있거나, 혹은 이 반대로 들어가 있는 경우가 종종 발생. 이떄 사용하는 함수들"
   ]
  },
  {
   "cell_type": "markdown",
   "id": "289d1f53",
   "metadata": {
    "papermill": {
     "duration": 0.083066,
     "end_time": "2021-10-24T08:02:28.583125",
     "exception": false,
     "start_time": "2021-10-24T08:02:28.500059",
     "status": "completed"
    },
    "tags": []
   },
   "source": [
    "set_index -> 기존의 행 인덱스를 제거하고 데이터 열 중 하나를 인덱스로 설정.<br>\n",
    "reset_index -> 기존의 행 인덱스를 제거하고 인덱스를 데이터 열로 추가."
   ]
  },
  {
   "cell_type": "code",
   "execution_count": 35,
   "id": "cd4e42d7",
   "metadata": {
    "execution": {
     "iopub.execute_input": "2021-10-24T08:02:28.751621Z",
     "iopub.status.busy": "2021-10-24T08:02:28.750590Z",
     "iopub.status.idle": "2021-10-24T08:02:28.761536Z",
     "shell.execute_reply": "2021-10-24T08:02:28.760982Z",
     "shell.execute_reply.started": "2021-10-24T07:23:23.807541Z"
    },
    "papermill": {
     "duration": 0.095983,
     "end_time": "2021-10-24T08:02:28.761686",
     "exception": false,
     "start_time": "2021-10-24T08:02:28.665703",
     "status": "completed"
    },
    "tags": []
   },
   "outputs": [
    {
     "data": {
      "text/html": [
       "<div>\n",
       "<style scoped>\n",
       "    .dataframe tbody tr th:only-of-type {\n",
       "        vertical-align: middle;\n",
       "    }\n",
       "\n",
       "    .dataframe tbody tr th {\n",
       "        vertical-align: top;\n",
       "    }\n",
       "\n",
       "    .dataframe thead th {\n",
       "        text-align: right;\n",
       "    }\n",
       "</style>\n",
       "<table border=\"1\" class=\"dataframe\">\n",
       "  <thead>\n",
       "    <tr style=\"text-align: right;\">\n",
       "      <th></th>\n",
       "      <th>C1</th>\n",
       "      <th>C2</th>\n",
       "      <th>C3</th>\n",
       "      <th>C4</th>\n",
       "    </tr>\n",
       "  </thead>\n",
       "  <tbody>\n",
       "    <tr>\n",
       "      <th>0</th>\n",
       "      <td>A</td>\n",
       "      <td>0.55</td>\n",
       "      <td>0.65</td>\n",
       "      <td>0.79</td>\n",
       "    </tr>\n",
       "    <tr>\n",
       "      <th>1</th>\n",
       "      <td>B</td>\n",
       "      <td>0.72</td>\n",
       "      <td>0.44</td>\n",
       "      <td>0.53</td>\n",
       "    </tr>\n",
       "    <tr>\n",
       "      <th>2</th>\n",
       "      <td>C</td>\n",
       "      <td>0.6</td>\n",
       "      <td>0.89</td>\n",
       "      <td>0.57</td>\n",
       "    </tr>\n",
       "    <tr>\n",
       "      <th>3</th>\n",
       "      <td>D</td>\n",
       "      <td>0.54</td>\n",
       "      <td>0.96</td>\n",
       "      <td>0.93</td>\n",
       "    </tr>\n",
       "    <tr>\n",
       "      <th>4</th>\n",
       "      <td>E</td>\n",
       "      <td>0.42</td>\n",
       "      <td>0.38</td>\n",
       "      <td>0.07</td>\n",
       "    </tr>\n",
       "  </tbody>\n",
       "</table>\n",
       "</div>"
      ],
      "text/plain": [
       "  C1    C2    C3    C4\n",
       "0  A  0.55  0.65  0.79\n",
       "1  B  0.72  0.44  0.53\n",
       "2  C   0.6  0.89  0.57\n",
       "3  D  0.54  0.96  0.93\n",
       "4  E  0.42  0.38  0.07"
      ]
     },
     "execution_count": 35,
     "metadata": {},
     "output_type": "execute_result"
    }
   ],
   "source": [
    "np.random.seed(0)\n",
    "df1 = pd.DataFrame(np.vstack([list('ABCDE'),\n",
    "                              np.round(np.random.rand(3, 5), 2)]).T,\n",
    "                   columns=[\"C1\", \"C2\", \"C3\", \"C4\"])\n",
    "df1"
   ]
  },
  {
   "cell_type": "code",
   "execution_count": 36,
   "id": "2fa9bb1f",
   "metadata": {
    "execution": {
     "iopub.execute_input": "2021-10-24T08:02:28.928370Z",
     "iopub.status.busy": "2021-10-24T08:02:28.927272Z",
     "iopub.status.idle": "2021-10-24T08:02:28.936942Z",
     "shell.execute_reply": "2021-10-24T08:02:28.936290Z",
     "shell.execute_reply.started": "2021-10-24T07:24:04.714786Z"
    },
    "papermill": {
     "duration": 0.095688,
     "end_time": "2021-10-24T08:02:28.937082",
     "exception": false,
     "start_time": "2021-10-24T08:02:28.841394",
     "status": "completed"
    },
    "tags": []
   },
   "outputs": [
    {
     "data": {
      "text/html": [
       "<div>\n",
       "<style scoped>\n",
       "    .dataframe tbody tr th:only-of-type {\n",
       "        vertical-align: middle;\n",
       "    }\n",
       "\n",
       "    .dataframe tbody tr th {\n",
       "        vertical-align: top;\n",
       "    }\n",
       "\n",
       "    .dataframe thead th {\n",
       "        text-align: right;\n",
       "    }\n",
       "</style>\n",
       "<table border=\"1\" class=\"dataframe\">\n",
       "  <thead>\n",
       "    <tr style=\"text-align: right;\">\n",
       "      <th></th>\n",
       "      <th>C2</th>\n",
       "      <th>C3</th>\n",
       "      <th>C4</th>\n",
       "    </tr>\n",
       "    <tr>\n",
       "      <th>C1</th>\n",
       "      <th></th>\n",
       "      <th></th>\n",
       "      <th></th>\n",
       "    </tr>\n",
       "  </thead>\n",
       "  <tbody>\n",
       "    <tr>\n",
       "      <th>A</th>\n",
       "      <td>0.55</td>\n",
       "      <td>0.65</td>\n",
       "      <td>0.79</td>\n",
       "    </tr>\n",
       "    <tr>\n",
       "      <th>B</th>\n",
       "      <td>0.72</td>\n",
       "      <td>0.44</td>\n",
       "      <td>0.53</td>\n",
       "    </tr>\n",
       "    <tr>\n",
       "      <th>C</th>\n",
       "      <td>0.6</td>\n",
       "      <td>0.89</td>\n",
       "      <td>0.57</td>\n",
       "    </tr>\n",
       "    <tr>\n",
       "      <th>D</th>\n",
       "      <td>0.54</td>\n",
       "      <td>0.96</td>\n",
       "      <td>0.93</td>\n",
       "    </tr>\n",
       "    <tr>\n",
       "      <th>E</th>\n",
       "      <td>0.42</td>\n",
       "      <td>0.38</td>\n",
       "      <td>0.07</td>\n",
       "    </tr>\n",
       "  </tbody>\n",
       "</table>\n",
       "</div>"
      ],
      "text/plain": [
       "      C2    C3    C4\n",
       "C1                  \n",
       "A   0.55  0.65  0.79\n",
       "B   0.72  0.44  0.53\n",
       "C    0.6  0.89  0.57\n",
       "D   0.54  0.96  0.93\n",
       "E   0.42  0.38  0.07"
      ]
     },
     "execution_count": 36,
     "metadata": {},
     "output_type": "execute_result"
    }
   ],
   "source": [
    "df2 = df1.set_index(\"C1\")\n",
    "df2"
   ]
  },
  {
   "cell_type": "code",
   "execution_count": 37,
   "id": "e6ff0b91",
   "metadata": {
    "execution": {
     "iopub.execute_input": "2021-10-24T08:02:29.113030Z",
     "iopub.status.busy": "2021-10-24T08:02:29.112094Z",
     "iopub.status.idle": "2021-10-24T08:02:29.115424Z",
     "shell.execute_reply": "2021-10-24T08:02:29.115920Z",
     "shell.execute_reply.started": "2021-10-24T07:24:39.854898Z"
    },
    "papermill": {
     "duration": 0.096636,
     "end_time": "2021-10-24T08:02:29.116090",
     "exception": false,
     "start_time": "2021-10-24T08:02:29.019454",
     "status": "completed"
    },
    "tags": []
   },
   "outputs": [
    {
     "data": {
      "text/html": [
       "<div>\n",
       "<style scoped>\n",
       "    .dataframe tbody tr th:only-of-type {\n",
       "        vertical-align: middle;\n",
       "    }\n",
       "\n",
       "    .dataframe tbody tr th {\n",
       "        vertical-align: top;\n",
       "    }\n",
       "\n",
       "    .dataframe thead th {\n",
       "        text-align: right;\n",
       "    }\n",
       "</style>\n",
       "<table border=\"1\" class=\"dataframe\">\n",
       "  <thead>\n",
       "    <tr style=\"text-align: right;\">\n",
       "      <th></th>\n",
       "      <th>C1</th>\n",
       "      <th>C2</th>\n",
       "      <th>C3</th>\n",
       "      <th>C4</th>\n",
       "    </tr>\n",
       "  </thead>\n",
       "  <tbody>\n",
       "    <tr>\n",
       "      <th>0</th>\n",
       "      <td>A</td>\n",
       "      <td>0.55</td>\n",
       "      <td>0.65</td>\n",
       "      <td>0.79</td>\n",
       "    </tr>\n",
       "    <tr>\n",
       "      <th>1</th>\n",
       "      <td>B</td>\n",
       "      <td>0.72</td>\n",
       "      <td>0.44</td>\n",
       "      <td>0.53</td>\n",
       "    </tr>\n",
       "    <tr>\n",
       "      <th>2</th>\n",
       "      <td>C</td>\n",
       "      <td>0.6</td>\n",
       "      <td>0.89</td>\n",
       "      <td>0.57</td>\n",
       "    </tr>\n",
       "    <tr>\n",
       "      <th>3</th>\n",
       "      <td>D</td>\n",
       "      <td>0.54</td>\n",
       "      <td>0.96</td>\n",
       "      <td>0.93</td>\n",
       "    </tr>\n",
       "    <tr>\n",
       "      <th>4</th>\n",
       "      <td>E</td>\n",
       "      <td>0.42</td>\n",
       "      <td>0.38</td>\n",
       "      <td>0.07</td>\n",
       "    </tr>\n",
       "  </tbody>\n",
       "</table>\n",
       "</div>"
      ],
      "text/plain": [
       "  C1    C2    C3    C4\n",
       "0  A  0.55  0.65  0.79\n",
       "1  B  0.72  0.44  0.53\n",
       "2  C   0.6  0.89  0.57\n",
       "3  D  0.54  0.96  0.93\n",
       "4  E  0.42  0.38  0.07"
      ]
     },
     "execution_count": 37,
     "metadata": {},
     "output_type": "execute_result"
    }
   ],
   "source": [
    "df2.reset_index()"
   ]
  },
  {
   "cell_type": "markdown",
   "id": "293c3507",
   "metadata": {
    "papermill": {
     "duration": 0.079987,
     "end_time": "2021-10-24T08:02:29.276887",
     "exception": false,
     "start_time": "2021-10-24T08:02:29.196900",
     "status": "completed"
    },
    "tags": []
   },
   "source": [
    "reset 인수에서 drop=true를 하면 그냥 데이터를 버린다."
   ]
  },
  {
   "cell_type": "code",
   "execution_count": 38,
   "id": "3d7607bc",
   "metadata": {
    "execution": {
     "iopub.execute_input": "2021-10-24T08:02:29.445903Z",
     "iopub.status.busy": "2021-10-24T08:02:29.441457Z",
     "iopub.status.idle": "2021-10-24T08:02:29.453045Z",
     "shell.execute_reply": "2021-10-24T08:02:29.452464Z",
     "shell.execute_reply.started": "2021-10-24T07:25:16.261476Z"
    },
    "papermill": {
     "duration": 0.095567,
     "end_time": "2021-10-24T08:02:29.453187",
     "exception": false,
     "start_time": "2021-10-24T08:02:29.357620",
     "status": "completed"
    },
    "tags": []
   },
   "outputs": [
    {
     "data": {
      "text/html": [
       "<div>\n",
       "<style scoped>\n",
       "    .dataframe tbody tr th:only-of-type {\n",
       "        vertical-align: middle;\n",
       "    }\n",
       "\n",
       "    .dataframe tbody tr th {\n",
       "        vertical-align: top;\n",
       "    }\n",
       "\n",
       "    .dataframe thead th {\n",
       "        text-align: right;\n",
       "    }\n",
       "</style>\n",
       "<table border=\"1\" class=\"dataframe\">\n",
       "  <thead>\n",
       "    <tr style=\"text-align: right;\">\n",
       "      <th></th>\n",
       "      <th>C2</th>\n",
       "      <th>C3</th>\n",
       "      <th>C4</th>\n",
       "    </tr>\n",
       "  </thead>\n",
       "  <tbody>\n",
       "    <tr>\n",
       "      <th>0</th>\n",
       "      <td>0.55</td>\n",
       "      <td>0.65</td>\n",
       "      <td>0.79</td>\n",
       "    </tr>\n",
       "    <tr>\n",
       "      <th>1</th>\n",
       "      <td>0.72</td>\n",
       "      <td>0.44</td>\n",
       "      <td>0.53</td>\n",
       "    </tr>\n",
       "    <tr>\n",
       "      <th>2</th>\n",
       "      <td>0.6</td>\n",
       "      <td>0.89</td>\n",
       "      <td>0.57</td>\n",
       "    </tr>\n",
       "    <tr>\n",
       "      <th>3</th>\n",
       "      <td>0.54</td>\n",
       "      <td>0.96</td>\n",
       "      <td>0.93</td>\n",
       "    </tr>\n",
       "    <tr>\n",
       "      <th>4</th>\n",
       "      <td>0.42</td>\n",
       "      <td>0.38</td>\n",
       "      <td>0.07</td>\n",
       "    </tr>\n",
       "  </tbody>\n",
       "</table>\n",
       "</div>"
      ],
      "text/plain": [
       "     C2    C3    C4\n",
       "0  0.55  0.65  0.79\n",
       "1  0.72  0.44  0.53\n",
       "2   0.6  0.89  0.57\n",
       "3  0.54  0.96  0.93\n",
       "4  0.42  0.38  0.07"
      ]
     },
     "execution_count": 38,
     "metadata": {},
     "output_type": "execute_result"
    }
   ],
   "source": [
    "df2.reset_index(drop = True)"
   ]
  },
  {
   "cell_type": "markdown",
   "id": "28eb5680",
   "metadata": {
    "papermill": {
     "duration": 0.080697,
     "end_time": "2021-10-24T08:02:29.615709",
     "exception": false,
     "start_time": "2021-10-24T08:02:29.535012",
     "status": "completed"
    },
    "tags": []
   },
   "source": [
    "다중 인덱스는 링크보고 다시하기; "
   ]
  },
  {
   "cell_type": "markdown",
   "id": "a51fd4cb",
   "metadata": {
    "papermill": {
     "duration": 0.080265,
     "end_time": "2021-10-24T08:02:29.777488",
     "exception": false,
     "start_time": "2021-10-24T08:02:29.697223",
     "status": "completed"
    },
    "tags": []
   },
   "source": [
    "<h3>데이터프레임 합성</h3>"
   ]
  },
  {
   "cell_type": "markdown",
   "id": "004816c1",
   "metadata": {
    "papermill": {
     "duration": 0.097684,
     "end_time": "2021-10-24T08:02:29.956532",
     "exception": false,
     "start_time": "2021-10-24T08:02:29.858848",
     "status": "completed"
    },
    "tags": []
   },
   "source": [
    "merge는 두 데이터프레임의 공통 열 혹은 인덱스를 기준으로 두개의 테이블을 합침.\n",
    "join써도 똑같음.\n"
   ]
  },
  {
   "cell_type": "code",
   "execution_count": 39,
   "id": "bf0de2ae",
   "metadata": {
    "execution": {
     "iopub.execute_input": "2021-10-24T08:02:30.141537Z",
     "iopub.status.busy": "2021-10-24T08:02:30.140394Z",
     "iopub.status.idle": "2021-10-24T08:02:30.146280Z",
     "shell.execute_reply": "2021-10-24T08:02:30.147096Z",
     "shell.execute_reply.started": "2021-10-24T07:50:47.002383Z"
    },
    "papermill": {
     "duration": 0.102902,
     "end_time": "2021-10-24T08:02:30.147323",
     "exception": false,
     "start_time": "2021-10-24T08:02:30.044421",
     "status": "completed"
    },
    "tags": []
   },
   "outputs": [
    {
     "data": {
      "text/html": [
       "<div>\n",
       "<style scoped>\n",
       "    .dataframe tbody tr th:only-of-type {\n",
       "        vertical-align: middle;\n",
       "    }\n",
       "\n",
       "    .dataframe tbody tr th {\n",
       "        vertical-align: top;\n",
       "    }\n",
       "\n",
       "    .dataframe thead th {\n",
       "        text-align: right;\n",
       "    }\n",
       "</style>\n",
       "<table border=\"1\" class=\"dataframe\">\n",
       "  <thead>\n",
       "    <tr style=\"text-align: right;\">\n",
       "      <th></th>\n",
       "      <th>고객번호</th>\n",
       "      <th>이름</th>\n",
       "    </tr>\n",
       "  </thead>\n",
       "  <tbody>\n",
       "    <tr>\n",
       "      <th>0</th>\n",
       "      <td>1001</td>\n",
       "      <td>둘리</td>\n",
       "    </tr>\n",
       "    <tr>\n",
       "      <th>1</th>\n",
       "      <td>1002</td>\n",
       "      <td>도우너</td>\n",
       "    </tr>\n",
       "    <tr>\n",
       "      <th>2</th>\n",
       "      <td>1003</td>\n",
       "      <td>또치</td>\n",
       "    </tr>\n",
       "    <tr>\n",
       "      <th>3</th>\n",
       "      <td>1004</td>\n",
       "      <td>길동</td>\n",
       "    </tr>\n",
       "    <tr>\n",
       "      <th>4</th>\n",
       "      <td>1005</td>\n",
       "      <td>희동</td>\n",
       "    </tr>\n",
       "    <tr>\n",
       "      <th>5</th>\n",
       "      <td>1006</td>\n",
       "      <td>마이콜</td>\n",
       "    </tr>\n",
       "    <tr>\n",
       "      <th>6</th>\n",
       "      <td>1007</td>\n",
       "      <td>영희</td>\n",
       "    </tr>\n",
       "  </tbody>\n",
       "</table>\n",
       "</div>"
      ],
      "text/plain": [
       "   고객번호   이름\n",
       "0  1001   둘리\n",
       "1  1002  도우너\n",
       "2  1003   또치\n",
       "3  1004   길동\n",
       "4  1005   희동\n",
       "5  1006  마이콜\n",
       "6  1007   영희"
      ]
     },
     "execution_count": 39,
     "metadata": {},
     "output_type": "execute_result"
    }
   ],
   "source": [
    "df1 = pd.DataFrame({\n",
    "    '고객번호': [1001, 1002, 1003, 1004, 1005, 1006, 1007],\n",
    "    '이름': ['둘리', '도우너', '또치', '길동', '희동', '마이콜', '영희']\n",
    "}, columns=['고객번호', '이름'])\n",
    "df1"
   ]
  },
  {
   "cell_type": "code",
   "execution_count": 40,
   "id": "aa531962",
   "metadata": {
    "execution": {
     "iopub.execute_input": "2021-10-24T08:02:30.324608Z",
     "iopub.status.busy": "2021-10-24T08:02:30.323524Z",
     "iopub.status.idle": "2021-10-24T08:02:30.336368Z",
     "shell.execute_reply": "2021-10-24T08:02:30.335667Z",
     "shell.execute_reply.started": "2021-10-24T07:50:52.886763Z"
    },
    "papermill": {
     "duration": 0.099399,
     "end_time": "2021-10-24T08:02:30.336534",
     "exception": false,
     "start_time": "2021-10-24T08:02:30.237135",
     "status": "completed"
    },
    "tags": []
   },
   "outputs": [
    {
     "data": {
      "text/html": [
       "<div>\n",
       "<style scoped>\n",
       "    .dataframe tbody tr th:only-of-type {\n",
       "        vertical-align: middle;\n",
       "    }\n",
       "\n",
       "    .dataframe tbody tr th {\n",
       "        vertical-align: top;\n",
       "    }\n",
       "\n",
       "    .dataframe thead th {\n",
       "        text-align: right;\n",
       "    }\n",
       "</style>\n",
       "<table border=\"1\" class=\"dataframe\">\n",
       "  <thead>\n",
       "    <tr style=\"text-align: right;\">\n",
       "      <th></th>\n",
       "      <th>고객번호</th>\n",
       "      <th>금액</th>\n",
       "    </tr>\n",
       "  </thead>\n",
       "  <tbody>\n",
       "    <tr>\n",
       "      <th>0</th>\n",
       "      <td>1001</td>\n",
       "      <td>10000</td>\n",
       "    </tr>\n",
       "    <tr>\n",
       "      <th>1</th>\n",
       "      <td>1001</td>\n",
       "      <td>20000</td>\n",
       "    </tr>\n",
       "    <tr>\n",
       "      <th>2</th>\n",
       "      <td>1005</td>\n",
       "      <td>15000</td>\n",
       "    </tr>\n",
       "    <tr>\n",
       "      <th>3</th>\n",
       "      <td>1006</td>\n",
       "      <td>5000</td>\n",
       "    </tr>\n",
       "    <tr>\n",
       "      <th>4</th>\n",
       "      <td>1008</td>\n",
       "      <td>100000</td>\n",
       "    </tr>\n",
       "    <tr>\n",
       "      <th>5</th>\n",
       "      <td>1001</td>\n",
       "      <td>30000</td>\n",
       "    </tr>\n",
       "  </tbody>\n",
       "</table>\n",
       "</div>"
      ],
      "text/plain": [
       "   고객번호      금액\n",
       "0  1001   10000\n",
       "1  1001   20000\n",
       "2  1005   15000\n",
       "3  1006    5000\n",
       "4  1008  100000\n",
       "5  1001   30000"
      ]
     },
     "execution_count": 40,
     "metadata": {},
     "output_type": "execute_result"
    }
   ],
   "source": [
    "df2 = pd.DataFrame({\n",
    "    '고객번호': [1001, 1001, 1005, 1006, 1008, 1001],\n",
    "    '금액': [10000, 20000, 15000, 5000, 100000, 30000]\n",
    "}, columns=['고객번호', '금액'])\n",
    "df2"
   ]
  },
  {
   "cell_type": "markdown",
   "id": "c5696b90",
   "metadata": {
    "papermill": {
     "duration": 0.083294,
     "end_time": "2021-10-24T08:02:30.511178",
     "exception": false,
     "start_time": "2021-10-24T08:02:30.427884",
     "status": "completed"
    },
    "tags": []
   },
   "source": [
    "여기서는 공통열인 고객번호 열을 기준으로 데이터를 찾아 합친다."
   ]
  },
  {
   "cell_type": "markdown",
   "id": "9d2f9909",
   "metadata": {
    "papermill": {
     "duration": 0.084258,
     "end_time": "2021-10-24T08:02:30.679921",
     "exception": false,
     "start_time": "2021-10-24T08:02:30.595663",
     "status": "completed"
    },
    "tags": []
   },
   "source": [
    "inner join은 값이 없는거는 안보여준다."
   ]
  },
  {
   "cell_type": "code",
   "execution_count": 41,
   "id": "36c134ae",
   "metadata": {
    "execution": {
     "iopub.execute_input": "2021-10-24T08:02:30.850585Z",
     "iopub.status.busy": "2021-10-24T08:02:30.849850Z",
     "iopub.status.idle": "2021-10-24T08:02:30.865311Z",
     "shell.execute_reply": "2021-10-24T08:02:30.865872Z",
     "shell.execute_reply.started": "2021-10-24T07:51:23.612444Z"
    },
    "papermill": {
     "duration": 0.101491,
     "end_time": "2021-10-24T08:02:30.866047",
     "exception": false,
     "start_time": "2021-10-24T08:02:30.764556",
     "status": "completed"
    },
    "tags": []
   },
   "outputs": [
    {
     "data": {
      "text/html": [
       "<div>\n",
       "<style scoped>\n",
       "    .dataframe tbody tr th:only-of-type {\n",
       "        vertical-align: middle;\n",
       "    }\n",
       "\n",
       "    .dataframe tbody tr th {\n",
       "        vertical-align: top;\n",
       "    }\n",
       "\n",
       "    .dataframe thead th {\n",
       "        text-align: right;\n",
       "    }\n",
       "</style>\n",
       "<table border=\"1\" class=\"dataframe\">\n",
       "  <thead>\n",
       "    <tr style=\"text-align: right;\">\n",
       "      <th></th>\n",
       "      <th>고객번호</th>\n",
       "      <th>이름</th>\n",
       "      <th>금액</th>\n",
       "    </tr>\n",
       "  </thead>\n",
       "  <tbody>\n",
       "    <tr>\n",
       "      <th>0</th>\n",
       "      <td>1001</td>\n",
       "      <td>둘리</td>\n",
       "      <td>10000</td>\n",
       "    </tr>\n",
       "    <tr>\n",
       "      <th>1</th>\n",
       "      <td>1001</td>\n",
       "      <td>둘리</td>\n",
       "      <td>20000</td>\n",
       "    </tr>\n",
       "    <tr>\n",
       "      <th>2</th>\n",
       "      <td>1001</td>\n",
       "      <td>둘리</td>\n",
       "      <td>30000</td>\n",
       "    </tr>\n",
       "    <tr>\n",
       "      <th>3</th>\n",
       "      <td>1005</td>\n",
       "      <td>희동</td>\n",
       "      <td>15000</td>\n",
       "    </tr>\n",
       "    <tr>\n",
       "      <th>4</th>\n",
       "      <td>1006</td>\n",
       "      <td>마이콜</td>\n",
       "      <td>5000</td>\n",
       "    </tr>\n",
       "  </tbody>\n",
       "</table>\n",
       "</div>"
      ],
      "text/plain": [
       "   고객번호   이름     금액\n",
       "0  1001   둘리  10000\n",
       "1  1001   둘리  20000\n",
       "2  1001   둘리  30000\n",
       "3  1005   희동  15000\n",
       "4  1006  마이콜   5000"
      ]
     },
     "execution_count": 41,
     "metadata": {},
     "output_type": "execute_result"
    }
   ],
   "source": [
    "pd.merge(df1,df2)"
   ]
  },
  {
   "cell_type": "markdown",
   "id": "83c0c643",
   "metadata": {
    "papermill": {
     "duration": 0.082725,
     "end_time": "2021-10-24T08:02:31.033072",
     "exception": false,
     "start_time": "2021-10-24T08:02:30.950347",
     "status": "completed"
    },
    "tags": []
   },
   "source": [
    "outer join은 값이 한쪽만 있어도 보여준다."
   ]
  },
  {
   "cell_type": "code",
   "execution_count": 42,
   "id": "6f63bbce",
   "metadata": {
    "execution": {
     "iopub.execute_input": "2021-10-24T08:02:31.202567Z",
     "iopub.status.busy": "2021-10-24T08:02:31.201677Z",
     "iopub.status.idle": "2021-10-24T08:02:31.215025Z",
     "shell.execute_reply": "2021-10-24T08:02:31.215570Z",
     "shell.execute_reply.started": "2021-10-24T07:52:25.554599Z"
    },
    "papermill": {
     "duration": 0.099376,
     "end_time": "2021-10-24T08:02:31.215742",
     "exception": false,
     "start_time": "2021-10-24T08:02:31.116366",
     "status": "completed"
    },
    "tags": []
   },
   "outputs": [
    {
     "data": {
      "text/html": [
       "<div>\n",
       "<style scoped>\n",
       "    .dataframe tbody tr th:only-of-type {\n",
       "        vertical-align: middle;\n",
       "    }\n",
       "\n",
       "    .dataframe tbody tr th {\n",
       "        vertical-align: top;\n",
       "    }\n",
       "\n",
       "    .dataframe thead th {\n",
       "        text-align: right;\n",
       "    }\n",
       "</style>\n",
       "<table border=\"1\" class=\"dataframe\">\n",
       "  <thead>\n",
       "    <tr style=\"text-align: right;\">\n",
       "      <th></th>\n",
       "      <th>고객번호</th>\n",
       "      <th>이름</th>\n",
       "      <th>금액</th>\n",
       "    </tr>\n",
       "  </thead>\n",
       "  <tbody>\n",
       "    <tr>\n",
       "      <th>0</th>\n",
       "      <td>1001</td>\n",
       "      <td>둘리</td>\n",
       "      <td>10000.0</td>\n",
       "    </tr>\n",
       "    <tr>\n",
       "      <th>1</th>\n",
       "      <td>1001</td>\n",
       "      <td>둘리</td>\n",
       "      <td>20000.0</td>\n",
       "    </tr>\n",
       "    <tr>\n",
       "      <th>2</th>\n",
       "      <td>1001</td>\n",
       "      <td>둘리</td>\n",
       "      <td>30000.0</td>\n",
       "    </tr>\n",
       "    <tr>\n",
       "      <th>3</th>\n",
       "      <td>1002</td>\n",
       "      <td>도우너</td>\n",
       "      <td>NaN</td>\n",
       "    </tr>\n",
       "    <tr>\n",
       "      <th>4</th>\n",
       "      <td>1003</td>\n",
       "      <td>또치</td>\n",
       "      <td>NaN</td>\n",
       "    </tr>\n",
       "    <tr>\n",
       "      <th>5</th>\n",
       "      <td>1004</td>\n",
       "      <td>길동</td>\n",
       "      <td>NaN</td>\n",
       "    </tr>\n",
       "    <tr>\n",
       "      <th>6</th>\n",
       "      <td>1005</td>\n",
       "      <td>희동</td>\n",
       "      <td>15000.0</td>\n",
       "    </tr>\n",
       "    <tr>\n",
       "      <th>7</th>\n",
       "      <td>1006</td>\n",
       "      <td>마이콜</td>\n",
       "      <td>5000.0</td>\n",
       "    </tr>\n",
       "    <tr>\n",
       "      <th>8</th>\n",
       "      <td>1007</td>\n",
       "      <td>영희</td>\n",
       "      <td>NaN</td>\n",
       "    </tr>\n",
       "    <tr>\n",
       "      <th>9</th>\n",
       "      <td>1008</td>\n",
       "      <td>NaN</td>\n",
       "      <td>100000.0</td>\n",
       "    </tr>\n",
       "  </tbody>\n",
       "</table>\n",
       "</div>"
      ],
      "text/plain": [
       "   고객번호   이름        금액\n",
       "0  1001   둘리   10000.0\n",
       "1  1001   둘리   20000.0\n",
       "2  1001   둘리   30000.0\n",
       "3  1002  도우너       NaN\n",
       "4  1003   또치       NaN\n",
       "5  1004   길동       NaN\n",
       "6  1005   희동   15000.0\n",
       "7  1006  마이콜    5000.0\n",
       "8  1007   영희       NaN\n",
       "9  1008  NaN  100000.0"
      ]
     },
     "execution_count": 42,
     "metadata": {},
     "output_type": "execute_result"
    }
   ],
   "source": [
    "pd.merge(df1, df2, how=\"outer\")"
   ]
  },
  {
   "cell_type": "code",
   "execution_count": 43,
   "id": "d9626fbb",
   "metadata": {
    "execution": {
     "iopub.execute_input": "2021-10-24T08:02:31.384208Z",
     "iopub.status.busy": "2021-10-24T08:02:31.383568Z",
     "iopub.status.idle": "2021-10-24T08:02:31.405295Z",
     "shell.execute_reply": "2021-10-24T08:02:31.406097Z",
     "shell.execute_reply.started": "2021-10-24T07:52:42.734925Z"
    },
    "papermill": {
     "duration": 0.107944,
     "end_time": "2021-10-24T08:02:31.406334",
     "exception": false,
     "start_time": "2021-10-24T08:02:31.298390",
     "status": "completed"
    },
    "tags": []
   },
   "outputs": [
    {
     "data": {
      "text/html": [
       "<div>\n",
       "<style scoped>\n",
       "    .dataframe tbody tr th:only-of-type {\n",
       "        vertical-align: middle;\n",
       "    }\n",
       "\n",
       "    .dataframe tbody tr th {\n",
       "        vertical-align: top;\n",
       "    }\n",
       "\n",
       "    .dataframe thead th {\n",
       "        text-align: right;\n",
       "    }\n",
       "</style>\n",
       "<table border=\"1\" class=\"dataframe\">\n",
       "  <thead>\n",
       "    <tr style=\"text-align: right;\">\n",
       "      <th></th>\n",
       "      <th>고객번호</th>\n",
       "      <th>이름</th>\n",
       "      <th>금액</th>\n",
       "    </tr>\n",
       "  </thead>\n",
       "  <tbody>\n",
       "    <tr>\n",
       "      <th>0</th>\n",
       "      <td>1001</td>\n",
       "      <td>둘리</td>\n",
       "      <td>10000.0</td>\n",
       "    </tr>\n",
       "    <tr>\n",
       "      <th>1</th>\n",
       "      <td>1001</td>\n",
       "      <td>둘리</td>\n",
       "      <td>20000.0</td>\n",
       "    </tr>\n",
       "    <tr>\n",
       "      <th>2</th>\n",
       "      <td>1001</td>\n",
       "      <td>둘리</td>\n",
       "      <td>30000.0</td>\n",
       "    </tr>\n",
       "    <tr>\n",
       "      <th>3</th>\n",
       "      <td>1002</td>\n",
       "      <td>도우너</td>\n",
       "      <td>NaN</td>\n",
       "    </tr>\n",
       "    <tr>\n",
       "      <th>4</th>\n",
       "      <td>1003</td>\n",
       "      <td>또치</td>\n",
       "      <td>NaN</td>\n",
       "    </tr>\n",
       "    <tr>\n",
       "      <th>5</th>\n",
       "      <td>1004</td>\n",
       "      <td>길동</td>\n",
       "      <td>NaN</td>\n",
       "    </tr>\n",
       "    <tr>\n",
       "      <th>6</th>\n",
       "      <td>1005</td>\n",
       "      <td>희동</td>\n",
       "      <td>15000.0</td>\n",
       "    </tr>\n",
       "    <tr>\n",
       "      <th>7</th>\n",
       "      <td>1006</td>\n",
       "      <td>마이콜</td>\n",
       "      <td>5000.0</td>\n",
       "    </tr>\n",
       "    <tr>\n",
       "      <th>8</th>\n",
       "      <td>1007</td>\n",
       "      <td>영희</td>\n",
       "      <td>NaN</td>\n",
       "    </tr>\n",
       "  </tbody>\n",
       "</table>\n",
       "</div>"
      ],
      "text/plain": [
       "   고객번호   이름       금액\n",
       "0  1001   둘리  10000.0\n",
       "1  1001   둘리  20000.0\n",
       "2  1001   둘리  30000.0\n",
       "3  1002  도우너      NaN\n",
       "4  1003   또치      NaN\n",
       "5  1004   길동      NaN\n",
       "6  1005   희동  15000.0\n",
       "7  1006  마이콜   5000.0\n",
       "8  1007   영희      NaN"
      ]
     },
     "execution_count": 43,
     "metadata": {},
     "output_type": "execute_result"
    }
   ],
   "source": [
    "pd.merge(df1, df2, how=\"left\")"
   ]
  },
  {
   "cell_type": "code",
   "execution_count": 44,
   "id": "4fa8f3a2",
   "metadata": {
    "execution": {
     "iopub.execute_input": "2021-10-24T08:02:31.599806Z",
     "iopub.status.busy": "2021-10-24T08:02:31.598775Z",
     "iopub.status.idle": "2021-10-24T08:02:31.611597Z",
     "shell.execute_reply": "2021-10-24T08:02:31.612063Z",
     "shell.execute_reply.started": "2021-10-24T07:53:21.680310Z"
    },
    "papermill": {
     "duration": 0.100418,
     "end_time": "2021-10-24T08:02:31.612241",
     "exception": false,
     "start_time": "2021-10-24T08:02:31.511823",
     "status": "completed"
    },
    "tags": []
   },
   "outputs": [
    {
     "data": {
      "text/html": [
       "<div>\n",
       "<style scoped>\n",
       "    .dataframe tbody tr th:only-of-type {\n",
       "        vertical-align: middle;\n",
       "    }\n",
       "\n",
       "    .dataframe tbody tr th {\n",
       "        vertical-align: top;\n",
       "    }\n",
       "\n",
       "    .dataframe thead th {\n",
       "        text-align: right;\n",
       "    }\n",
       "</style>\n",
       "<table border=\"1\" class=\"dataframe\">\n",
       "  <thead>\n",
       "    <tr style=\"text-align: right;\">\n",
       "      <th></th>\n",
       "      <th>고객번호</th>\n",
       "      <th>이름</th>\n",
       "      <th>금액</th>\n",
       "    </tr>\n",
       "  </thead>\n",
       "  <tbody>\n",
       "    <tr>\n",
       "      <th>0</th>\n",
       "      <td>1001</td>\n",
       "      <td>둘리</td>\n",
       "      <td>10000</td>\n",
       "    </tr>\n",
       "    <tr>\n",
       "      <th>1</th>\n",
       "      <td>1001</td>\n",
       "      <td>둘리</td>\n",
       "      <td>20000</td>\n",
       "    </tr>\n",
       "    <tr>\n",
       "      <th>2</th>\n",
       "      <td>1005</td>\n",
       "      <td>희동</td>\n",
       "      <td>15000</td>\n",
       "    </tr>\n",
       "    <tr>\n",
       "      <th>3</th>\n",
       "      <td>1006</td>\n",
       "      <td>마이콜</td>\n",
       "      <td>5000</td>\n",
       "    </tr>\n",
       "    <tr>\n",
       "      <th>4</th>\n",
       "      <td>1008</td>\n",
       "      <td>NaN</td>\n",
       "      <td>100000</td>\n",
       "    </tr>\n",
       "    <tr>\n",
       "      <th>5</th>\n",
       "      <td>1001</td>\n",
       "      <td>둘리</td>\n",
       "      <td>30000</td>\n",
       "    </tr>\n",
       "  </tbody>\n",
       "</table>\n",
       "</div>"
      ],
      "text/plain": [
       "   고객번호   이름      금액\n",
       "0  1001   둘리   10000\n",
       "1  1001   둘리   20000\n",
       "2  1005   희동   15000\n",
       "3  1006  마이콜    5000\n",
       "4  1008  NaN  100000\n",
       "5  1001   둘리   30000"
      ]
     },
     "execution_count": 44,
     "metadata": {},
     "output_type": "execute_result"
    }
   ],
   "source": [
    "pd.merge(df1, df2, how=\"right\")"
   ]
  },
  {
   "cell_type": "markdown",
   "id": "0c08544d",
   "metadata": {
    "papermill": {
     "duration": 0.08498,
     "end_time": "2021-10-24T08:02:31.781140",
     "exception": false,
     "start_time": "2021-10-24T08:02:31.696160",
     "status": "completed"
    },
    "tags": []
   },
   "source": [
    "만약 키 값이 같은 데이터가 여러개 있으면 모든 경우의 수를 따져 조합을 만들어낸다."
   ]
  },
  {
   "cell_type": "code",
   "execution_count": 45,
   "id": "837a08e4",
   "metadata": {
    "execution": {
     "iopub.execute_input": "2021-10-24T08:02:31.962156Z",
     "iopub.status.busy": "2021-10-24T08:02:31.961248Z",
     "iopub.status.idle": "2021-10-24T08:02:31.965318Z",
     "shell.execute_reply": "2021-10-24T08:02:31.964691Z",
     "shell.execute_reply.started": "2021-10-24T07:53:53.484485Z"
    },
    "papermill": {
     "duration": 0.099669,
     "end_time": "2021-10-24T08:02:31.965488",
     "exception": false,
     "start_time": "2021-10-24T08:02:31.865819",
     "status": "completed"
    },
    "tags": []
   },
   "outputs": [
    {
     "data": {
      "text/html": [
       "<div>\n",
       "<style scoped>\n",
       "    .dataframe tbody tr th:only-of-type {\n",
       "        vertical-align: middle;\n",
       "    }\n",
       "\n",
       "    .dataframe tbody tr th {\n",
       "        vertical-align: top;\n",
       "    }\n",
       "\n",
       "    .dataframe thead th {\n",
       "        text-align: right;\n",
       "    }\n",
       "</style>\n",
       "<table border=\"1\" class=\"dataframe\">\n",
       "  <thead>\n",
       "    <tr style=\"text-align: right;\">\n",
       "      <th></th>\n",
       "      <th>품종</th>\n",
       "      <th>꽃잎길이</th>\n",
       "    </tr>\n",
       "  </thead>\n",
       "  <tbody>\n",
       "    <tr>\n",
       "      <th>0</th>\n",
       "      <td>setosa</td>\n",
       "      <td>1.4</td>\n",
       "    </tr>\n",
       "    <tr>\n",
       "      <th>1</th>\n",
       "      <td>setosa</td>\n",
       "      <td>1.3</td>\n",
       "    </tr>\n",
       "    <tr>\n",
       "      <th>2</th>\n",
       "      <td>virginica</td>\n",
       "      <td>1.5</td>\n",
       "    </tr>\n",
       "    <tr>\n",
       "      <th>3</th>\n",
       "      <td>virginica</td>\n",
       "      <td>1.3</td>\n",
       "    </tr>\n",
       "  </tbody>\n",
       "</table>\n",
       "</div>"
      ],
      "text/plain": [
       "          품종  꽃잎길이\n",
       "0     setosa   1.4\n",
       "1     setosa   1.3\n",
       "2  virginica   1.5\n",
       "3  virginica   1.3"
      ]
     },
     "execution_count": 45,
     "metadata": {},
     "output_type": "execute_result"
    }
   ],
   "source": [
    "df1 = pd.DataFrame({\n",
    "    '품종': ['setosa', 'setosa', 'virginica', 'virginica'],\n",
    "    '꽃잎길이': [1.4, 1.3, 1.5, 1.3]},\n",
    "    columns=['품종', '꽃잎길이'])\n",
    "df1"
   ]
  },
  {
   "cell_type": "code",
   "execution_count": 46,
   "id": "8fcc8582",
   "metadata": {
    "execution": {
     "iopub.execute_input": "2021-10-24T08:02:32.144077Z",
     "iopub.status.busy": "2021-10-24T08:02:32.143305Z",
     "iopub.status.idle": "2021-10-24T08:02:32.148823Z",
     "shell.execute_reply": "2021-10-24T08:02:32.149323Z",
     "shell.execute_reply.started": "2021-10-24T07:54:02.411934Z"
    },
    "papermill": {
     "duration": 0.099936,
     "end_time": "2021-10-24T08:02:32.149513",
     "exception": false,
     "start_time": "2021-10-24T08:02:32.049577",
     "status": "completed"
    },
    "tags": []
   },
   "outputs": [
    {
     "data": {
      "text/html": [
       "<div>\n",
       "<style scoped>\n",
       "    .dataframe tbody tr th:only-of-type {\n",
       "        vertical-align: middle;\n",
       "    }\n",
       "\n",
       "    .dataframe tbody tr th {\n",
       "        vertical-align: top;\n",
       "    }\n",
       "\n",
       "    .dataframe thead th {\n",
       "        text-align: right;\n",
       "    }\n",
       "</style>\n",
       "<table border=\"1\" class=\"dataframe\">\n",
       "  <thead>\n",
       "    <tr style=\"text-align: right;\">\n",
       "      <th></th>\n",
       "      <th>품종</th>\n",
       "      <th>꽃잎너비</th>\n",
       "    </tr>\n",
       "  </thead>\n",
       "  <tbody>\n",
       "    <tr>\n",
       "      <th>0</th>\n",
       "      <td>setosa</td>\n",
       "      <td>0.4</td>\n",
       "    </tr>\n",
       "    <tr>\n",
       "      <th>1</th>\n",
       "      <td>virginica</td>\n",
       "      <td>0.3</td>\n",
       "    </tr>\n",
       "    <tr>\n",
       "      <th>2</th>\n",
       "      <td>virginica</td>\n",
       "      <td>0.5</td>\n",
       "    </tr>\n",
       "    <tr>\n",
       "      <th>3</th>\n",
       "      <td>versicolor</td>\n",
       "      <td>0.3</td>\n",
       "    </tr>\n",
       "  </tbody>\n",
       "</table>\n",
       "</div>"
      ],
      "text/plain": [
       "           품종  꽃잎너비\n",
       "0      setosa   0.4\n",
       "1   virginica   0.3\n",
       "2   virginica   0.5\n",
       "3  versicolor   0.3"
      ]
     },
     "execution_count": 46,
     "metadata": {},
     "output_type": "execute_result"
    }
   ],
   "source": [
    "df2 = pd.DataFrame({\n",
    "    '품종': ['setosa', 'virginica', 'virginica', 'versicolor'],\n",
    "    '꽃잎너비': [0.4, 0.3, 0.5, 0.3]},\n",
    "    columns=['품종', '꽃잎너비'])\n",
    "df2"
   ]
  },
  {
   "cell_type": "code",
   "execution_count": 47,
   "id": "40b87a6d",
   "metadata": {
    "execution": {
     "iopub.execute_input": "2021-10-24T08:02:32.322465Z",
     "iopub.status.busy": "2021-10-24T08:02:32.321749Z",
     "iopub.status.idle": "2021-10-24T08:02:32.334584Z",
     "shell.execute_reply": "2021-10-24T08:02:32.335043Z",
     "shell.execute_reply.started": "2021-10-24T07:54:13.516811Z"
    },
    "papermill": {
     "duration": 0.101066,
     "end_time": "2021-10-24T08:02:32.335217",
     "exception": false,
     "start_time": "2021-10-24T08:02:32.234151",
     "status": "completed"
    },
    "tags": []
   },
   "outputs": [
    {
     "data": {
      "text/html": [
       "<div>\n",
       "<style scoped>\n",
       "    .dataframe tbody tr th:only-of-type {\n",
       "        vertical-align: middle;\n",
       "    }\n",
       "\n",
       "    .dataframe tbody tr th {\n",
       "        vertical-align: top;\n",
       "    }\n",
       "\n",
       "    .dataframe thead th {\n",
       "        text-align: right;\n",
       "    }\n",
       "</style>\n",
       "<table border=\"1\" class=\"dataframe\">\n",
       "  <thead>\n",
       "    <tr style=\"text-align: right;\">\n",
       "      <th></th>\n",
       "      <th>품종</th>\n",
       "      <th>꽃잎길이</th>\n",
       "      <th>꽃잎너비</th>\n",
       "    </tr>\n",
       "  </thead>\n",
       "  <tbody>\n",
       "    <tr>\n",
       "      <th>0</th>\n",
       "      <td>setosa</td>\n",
       "      <td>1.4</td>\n",
       "      <td>0.4</td>\n",
       "    </tr>\n",
       "    <tr>\n",
       "      <th>1</th>\n",
       "      <td>setosa</td>\n",
       "      <td>1.3</td>\n",
       "      <td>0.4</td>\n",
       "    </tr>\n",
       "    <tr>\n",
       "      <th>2</th>\n",
       "      <td>virginica</td>\n",
       "      <td>1.5</td>\n",
       "      <td>0.3</td>\n",
       "    </tr>\n",
       "    <tr>\n",
       "      <th>3</th>\n",
       "      <td>virginica</td>\n",
       "      <td>1.5</td>\n",
       "      <td>0.5</td>\n",
       "    </tr>\n",
       "    <tr>\n",
       "      <th>4</th>\n",
       "      <td>virginica</td>\n",
       "      <td>1.3</td>\n",
       "      <td>0.3</td>\n",
       "    </tr>\n",
       "    <tr>\n",
       "      <th>5</th>\n",
       "      <td>virginica</td>\n",
       "      <td>1.3</td>\n",
       "      <td>0.5</td>\n",
       "    </tr>\n",
       "  </tbody>\n",
       "</table>\n",
       "</div>"
      ],
      "text/plain": [
       "          품종  꽃잎길이  꽃잎너비\n",
       "0     setosa   1.4   0.4\n",
       "1     setosa   1.3   0.4\n",
       "2  virginica   1.5   0.3\n",
       "3  virginica   1.5   0.5\n",
       "4  virginica   1.3   0.3\n",
       "5  virginica   1.3   0.5"
      ]
     },
     "execution_count": 47,
     "metadata": {},
     "output_type": "execute_result"
    }
   ],
   "source": [
    "pd.merge(df1, df2)"
   ]
  },
  {
   "cell_type": "markdown",
   "id": "c44aaf68",
   "metadata": {
    "papermill": {
     "duration": 0.085122,
     "end_time": "2021-10-24T08:02:32.506263",
     "exception": false,
     "start_time": "2021-10-24T08:02:32.421141",
     "status": "completed"
    },
    "tags": []
   },
   "source": [
    "두 데이터프레임에서 이름이 같은 열은 모두 키가 된다. 그러므로 계좌의 금액과 같이 이름이 같아도 키가 되서는 안되는 열들은 on 인수로 기준열을 명시하여 제외해야 한다."
   ]
  },
  {
   "cell_type": "code",
   "execution_count": 48,
   "id": "11fd3080",
   "metadata": {
    "execution": {
     "iopub.execute_input": "2021-10-24T08:02:32.679591Z",
     "iopub.status.busy": "2021-10-24T08:02:32.678896Z",
     "iopub.status.idle": "2021-10-24T08:02:32.690134Z",
     "shell.execute_reply": "2021-10-24T08:02:32.689611Z",
     "shell.execute_reply.started": "2021-10-24T07:55:30.954028Z"
    },
    "papermill": {
     "duration": 0.098853,
     "end_time": "2021-10-24T08:02:32.690285",
     "exception": false,
     "start_time": "2021-10-24T08:02:32.591432",
     "status": "completed"
    },
    "tags": []
   },
   "outputs": [
    {
     "data": {
      "text/html": [
       "<div>\n",
       "<style scoped>\n",
       "    .dataframe tbody tr th:only-of-type {\n",
       "        vertical-align: middle;\n",
       "    }\n",
       "\n",
       "    .dataframe tbody tr th {\n",
       "        vertical-align: top;\n",
       "    }\n",
       "\n",
       "    .dataframe thead th {\n",
       "        text-align: right;\n",
       "    }\n",
       "</style>\n",
       "<table border=\"1\" class=\"dataframe\">\n",
       "  <thead>\n",
       "    <tr style=\"text-align: right;\">\n",
       "      <th></th>\n",
       "      <th>고객명</th>\n",
       "      <th>날짜</th>\n",
       "      <th>데이터</th>\n",
       "    </tr>\n",
       "  </thead>\n",
       "  <tbody>\n",
       "    <tr>\n",
       "      <th>0</th>\n",
       "      <td>춘향</td>\n",
       "      <td>2018-01-01</td>\n",
       "      <td>20000</td>\n",
       "    </tr>\n",
       "    <tr>\n",
       "      <th>1</th>\n",
       "      <td>춘향</td>\n",
       "      <td>2018-01-02</td>\n",
       "      <td>30000</td>\n",
       "    </tr>\n",
       "    <tr>\n",
       "      <th>2</th>\n",
       "      <td>몽룡</td>\n",
       "      <td>2018-01-01</td>\n",
       "      <td>100000</td>\n",
       "    </tr>\n",
       "  </tbody>\n",
       "</table>\n",
       "</div>"
      ],
      "text/plain": [
       "  고객명          날짜     데이터\n",
       "0  춘향  2018-01-01   20000\n",
       "1  춘향  2018-01-02   30000\n",
       "2  몽룡  2018-01-01  100000"
      ]
     },
     "execution_count": 48,
     "metadata": {},
     "output_type": "execute_result"
    }
   ],
   "source": [
    "df1 = pd.DataFrame({\n",
    "    '고객명': ['춘향', '춘향', '몽룡'],\n",
    "    '날짜': ['2018-01-01', '2018-01-02', '2018-01-01'],\n",
    "    '데이터': ['20000', '30000', '100000']})\n",
    "df1"
   ]
  },
  {
   "cell_type": "code",
   "execution_count": 49,
   "id": "872b817b",
   "metadata": {
    "execution": {
     "iopub.execute_input": "2021-10-24T08:02:32.874287Z",
     "iopub.status.busy": "2021-10-24T08:02:32.873516Z",
     "iopub.status.idle": "2021-10-24T08:02:32.876151Z",
     "shell.execute_reply": "2021-10-24T08:02:32.876645Z",
     "shell.execute_reply.started": "2021-10-24T07:55:36.418424Z"
    },
    "papermill": {
     "duration": 0.098644,
     "end_time": "2021-10-24T08:02:32.876820",
     "exception": false,
     "start_time": "2021-10-24T08:02:32.778176",
     "status": "completed"
    },
    "tags": []
   },
   "outputs": [
    {
     "data": {
      "text/html": [
       "<div>\n",
       "<style scoped>\n",
       "    .dataframe tbody tr th:only-of-type {\n",
       "        vertical-align: middle;\n",
       "    }\n",
       "\n",
       "    .dataframe tbody tr th {\n",
       "        vertical-align: top;\n",
       "    }\n",
       "\n",
       "    .dataframe thead th {\n",
       "        text-align: right;\n",
       "    }\n",
       "</style>\n",
       "<table border=\"1\" class=\"dataframe\">\n",
       "  <thead>\n",
       "    <tr style=\"text-align: right;\">\n",
       "      <th></th>\n",
       "      <th>고객명</th>\n",
       "      <th>데이터</th>\n",
       "    </tr>\n",
       "  </thead>\n",
       "  <tbody>\n",
       "    <tr>\n",
       "      <th>0</th>\n",
       "      <td>춘향</td>\n",
       "      <td>여자</td>\n",
       "    </tr>\n",
       "    <tr>\n",
       "      <th>1</th>\n",
       "      <td>몽룡</td>\n",
       "      <td>남자</td>\n",
       "    </tr>\n",
       "  </tbody>\n",
       "</table>\n",
       "</div>"
      ],
      "text/plain": [
       "  고객명 데이터\n",
       "0  춘향  여자\n",
       "1  몽룡  남자"
      ]
     },
     "execution_count": 49,
     "metadata": {},
     "output_type": "execute_result"
    }
   ],
   "source": [
    "df2 = pd.DataFrame({\n",
    "    '고객명': ['춘향', '몽룡'],\n",
    "    '데이터': ['여자', '남자']})\n",
    "df2"
   ]
  },
  {
   "cell_type": "markdown",
   "id": "2521e156",
   "metadata": {
    "papermill": {
     "duration": 0.088824,
     "end_time": "2021-10-24T08:02:33.051706",
     "exception": false,
     "start_time": "2021-10-24T08:02:32.962882",
     "status": "completed"
    },
    "tags": []
   },
   "source": [
    "기준열이 아니면서 열 이름이 같으므로 _x, _y와 같은 접미사가 붙음."
   ]
  },
  {
   "cell_type": "code",
   "execution_count": 50,
   "id": "d92b6e62",
   "metadata": {
    "execution": {
     "iopub.execute_input": "2021-10-24T08:02:33.229157Z",
     "iopub.status.busy": "2021-10-24T08:02:33.226451Z",
     "iopub.status.idle": "2021-10-24T08:02:33.238543Z",
     "shell.execute_reply": "2021-10-24T08:02:33.239087Z",
     "shell.execute_reply.started": "2021-10-24T07:55:41.403876Z"
    },
    "papermill": {
     "duration": 0.10159,
     "end_time": "2021-10-24T08:02:33.239251",
     "exception": false,
     "start_time": "2021-10-24T08:02:33.137661",
     "status": "completed"
    },
    "tags": []
   },
   "outputs": [
    {
     "data": {
      "text/html": [
       "<div>\n",
       "<style scoped>\n",
       "    .dataframe tbody tr th:only-of-type {\n",
       "        vertical-align: middle;\n",
       "    }\n",
       "\n",
       "    .dataframe tbody tr th {\n",
       "        vertical-align: top;\n",
       "    }\n",
       "\n",
       "    .dataframe thead th {\n",
       "        text-align: right;\n",
       "    }\n",
       "</style>\n",
       "<table border=\"1\" class=\"dataframe\">\n",
       "  <thead>\n",
       "    <tr style=\"text-align: right;\">\n",
       "      <th></th>\n",
       "      <th>고객명</th>\n",
       "      <th>날짜</th>\n",
       "      <th>데이터_x</th>\n",
       "      <th>데이터_y</th>\n",
       "    </tr>\n",
       "  </thead>\n",
       "  <tbody>\n",
       "    <tr>\n",
       "      <th>0</th>\n",
       "      <td>춘향</td>\n",
       "      <td>2018-01-01</td>\n",
       "      <td>20000</td>\n",
       "      <td>여자</td>\n",
       "    </tr>\n",
       "    <tr>\n",
       "      <th>1</th>\n",
       "      <td>춘향</td>\n",
       "      <td>2018-01-02</td>\n",
       "      <td>30000</td>\n",
       "      <td>여자</td>\n",
       "    </tr>\n",
       "    <tr>\n",
       "      <th>2</th>\n",
       "      <td>몽룡</td>\n",
       "      <td>2018-01-01</td>\n",
       "      <td>100000</td>\n",
       "      <td>남자</td>\n",
       "    </tr>\n",
       "  </tbody>\n",
       "</table>\n",
       "</div>"
      ],
      "text/plain": [
       "  고객명          날짜   데이터_x 데이터_y\n",
       "0  춘향  2018-01-01   20000    여자\n",
       "1  춘향  2018-01-02   30000    여자\n",
       "2  몽룡  2018-01-01  100000    남자"
      ]
     },
     "execution_count": 50,
     "metadata": {},
     "output_type": "execute_result"
    }
   ],
   "source": [
    "pd.merge(df1, df2, on='고객명')"
   ]
  },
  {
   "cell_type": "markdown",
   "id": "48e9a825",
   "metadata": {
    "papermill": {
     "duration": 0.085878,
     "end_time": "2021-10-24T08:02:33.411601",
     "exception": false,
     "start_time": "2021-10-24T08:02:33.325723",
     "status": "completed"
    },
    "tags": []
   },
   "source": [
    "반대로 기준열의 이름이 두 데이터프레임에서 다르다면 left_on, right_on을 사용해 기준열을 명시해야 한다."
   ]
  },
  {
   "cell_type": "code",
   "execution_count": 51,
   "id": "1a7a678f",
   "metadata": {
    "execution": {
     "iopub.execute_input": "2021-10-24T08:02:33.592065Z",
     "iopub.status.busy": "2021-10-24T08:02:33.591359Z",
     "iopub.status.idle": "2021-10-24T08:02:33.600938Z",
     "shell.execute_reply": "2021-10-24T08:02:33.601527Z",
     "shell.execute_reply.started": "2021-10-24T07:56:55.394387Z"
    },
    "papermill": {
     "duration": 0.103153,
     "end_time": "2021-10-24T08:02:33.601706",
     "exception": false,
     "start_time": "2021-10-24T08:02:33.498553",
     "status": "completed"
    },
    "tags": []
   },
   "outputs": [
    {
     "data": {
      "text/html": [
       "<div>\n",
       "<style scoped>\n",
       "    .dataframe tbody tr th:only-of-type {\n",
       "        vertical-align: middle;\n",
       "    }\n",
       "\n",
       "    .dataframe tbody tr th {\n",
       "        vertical-align: top;\n",
       "    }\n",
       "\n",
       "    .dataframe thead th {\n",
       "        text-align: right;\n",
       "    }\n",
       "</style>\n",
       "<table border=\"1\" class=\"dataframe\">\n",
       "  <thead>\n",
       "    <tr style=\"text-align: right;\">\n",
       "      <th></th>\n",
       "      <th>이름</th>\n",
       "      <th>성적</th>\n",
       "    </tr>\n",
       "  </thead>\n",
       "  <tbody>\n",
       "    <tr>\n",
       "      <th>0</th>\n",
       "      <td>영희</td>\n",
       "      <td>1</td>\n",
       "    </tr>\n",
       "    <tr>\n",
       "      <th>1</th>\n",
       "      <td>철수</td>\n",
       "      <td>2</td>\n",
       "    </tr>\n",
       "    <tr>\n",
       "      <th>2</th>\n",
       "      <td>철수</td>\n",
       "      <td>3</td>\n",
       "    </tr>\n",
       "  </tbody>\n",
       "</table>\n",
       "</div>"
      ],
      "text/plain": [
       "   이름  성적\n",
       "0  영희   1\n",
       "1  철수   2\n",
       "2  철수   3"
      ]
     },
     "execution_count": 51,
     "metadata": {},
     "output_type": "execute_result"
    }
   ],
   "source": [
    "df1 = pd.DataFrame({\n",
    "    '이름': ['영희', '철수', '철수'],\n",
    "    '성적': [1, 2, 3]})\n",
    "df1"
   ]
  },
  {
   "cell_type": "code",
   "execution_count": 52,
   "id": "136c9ca0",
   "metadata": {
    "execution": {
     "iopub.execute_input": "2021-10-24T08:02:33.787766Z",
     "iopub.status.busy": "2021-10-24T08:02:33.787028Z",
     "iopub.status.idle": "2021-10-24T08:02:33.789757Z",
     "shell.execute_reply": "2021-10-24T08:02:33.790254Z",
     "shell.execute_reply.started": "2021-10-24T07:56:59.678288Z"
    },
    "papermill": {
     "duration": 0.101383,
     "end_time": "2021-10-24T08:02:33.790449",
     "exception": false,
     "start_time": "2021-10-24T08:02:33.689066",
     "status": "completed"
    },
    "tags": []
   },
   "outputs": [
    {
     "data": {
      "text/html": [
       "<div>\n",
       "<style scoped>\n",
       "    .dataframe tbody tr th:only-of-type {\n",
       "        vertical-align: middle;\n",
       "    }\n",
       "\n",
       "    .dataframe tbody tr th {\n",
       "        vertical-align: top;\n",
       "    }\n",
       "\n",
       "    .dataframe thead th {\n",
       "        text-align: right;\n",
       "    }\n",
       "</style>\n",
       "<table border=\"1\" class=\"dataframe\">\n",
       "  <thead>\n",
       "    <tr style=\"text-align: right;\">\n",
       "      <th></th>\n",
       "      <th>성명</th>\n",
       "      <th>성적2</th>\n",
       "    </tr>\n",
       "  </thead>\n",
       "  <tbody>\n",
       "    <tr>\n",
       "      <th>0</th>\n",
       "      <td>영희</td>\n",
       "      <td>4</td>\n",
       "    </tr>\n",
       "    <tr>\n",
       "      <th>1</th>\n",
       "      <td>영희</td>\n",
       "      <td>5</td>\n",
       "    </tr>\n",
       "    <tr>\n",
       "      <th>2</th>\n",
       "      <td>철수</td>\n",
       "      <td>6</td>\n",
       "    </tr>\n",
       "  </tbody>\n",
       "</table>\n",
       "</div>"
      ],
      "text/plain": [
       "   성명  성적2\n",
       "0  영희    4\n",
       "1  영희    5\n",
       "2  철수    6"
      ]
     },
     "execution_count": 52,
     "metadata": {},
     "output_type": "execute_result"
    }
   ],
   "source": [
    "df2 = pd.DataFrame({\n",
    "    '성명': ['영희', '영희', '철수'],\n",
    "    '성적2': [4, 5, 6]})\n",
    "df2"
   ]
  },
  {
   "cell_type": "code",
   "execution_count": 53,
   "id": "f585b511",
   "metadata": {
    "execution": {
     "iopub.execute_input": "2021-10-24T08:02:33.971566Z",
     "iopub.status.busy": "2021-10-24T08:02:33.970863Z",
     "iopub.status.idle": "2021-10-24T08:02:33.981514Z",
     "shell.execute_reply": "2021-10-24T08:02:33.982023Z",
     "shell.execute_reply.started": "2021-10-24T07:57:17.185486Z"
    },
    "papermill": {
     "duration": 0.103421,
     "end_time": "2021-10-24T08:02:33.982221",
     "exception": false,
     "start_time": "2021-10-24T08:02:33.878800",
     "status": "completed"
    },
    "tags": []
   },
   "outputs": [
    {
     "data": {
      "text/html": [
       "<div>\n",
       "<style scoped>\n",
       "    .dataframe tbody tr th:only-of-type {\n",
       "        vertical-align: middle;\n",
       "    }\n",
       "\n",
       "    .dataframe tbody tr th {\n",
       "        vertical-align: top;\n",
       "    }\n",
       "\n",
       "    .dataframe thead th {\n",
       "        text-align: right;\n",
       "    }\n",
       "</style>\n",
       "<table border=\"1\" class=\"dataframe\">\n",
       "  <thead>\n",
       "    <tr style=\"text-align: right;\">\n",
       "      <th></th>\n",
       "      <th>이름</th>\n",
       "      <th>성적</th>\n",
       "      <th>성명</th>\n",
       "      <th>성적2</th>\n",
       "    </tr>\n",
       "  </thead>\n",
       "  <tbody>\n",
       "    <tr>\n",
       "      <th>0</th>\n",
       "      <td>영희</td>\n",
       "      <td>1</td>\n",
       "      <td>영희</td>\n",
       "      <td>4</td>\n",
       "    </tr>\n",
       "    <tr>\n",
       "      <th>1</th>\n",
       "      <td>영희</td>\n",
       "      <td>1</td>\n",
       "      <td>영희</td>\n",
       "      <td>5</td>\n",
       "    </tr>\n",
       "    <tr>\n",
       "      <th>2</th>\n",
       "      <td>철수</td>\n",
       "      <td>2</td>\n",
       "      <td>철수</td>\n",
       "      <td>6</td>\n",
       "    </tr>\n",
       "    <tr>\n",
       "      <th>3</th>\n",
       "      <td>철수</td>\n",
       "      <td>3</td>\n",
       "      <td>철수</td>\n",
       "      <td>6</td>\n",
       "    </tr>\n",
       "  </tbody>\n",
       "</table>\n",
       "</div>"
      ],
      "text/plain": [
       "   이름  성적  성명  성적2\n",
       "0  영희   1  영희    4\n",
       "1  영희   1  영희    5\n",
       "2  철수   2  철수    6\n",
       "3  철수   3  철수    6"
      ]
     },
     "execution_count": 53,
     "metadata": {},
     "output_type": "execute_result"
    }
   ],
   "source": [
    "pd.merge(df1, df2, left_on='이름', right_on=\"성명\")"
   ]
  },
  {
   "cell_type": "markdown",
   "id": "72ee9b07",
   "metadata": {
    "papermill": {
     "duration": 0.088608,
     "end_time": "2021-10-24T08:02:34.159981",
     "exception": false,
     "start_time": "2021-10-24T08:02:34.071373",
     "status": "completed"
    },
    "tags": []
   },
   "source": [
    "일반 데이터 열이 아닌 인덱스를 기준열로 사용하려면 ieft_index 또는 right_index를 True로 사용해야 한다.(일반 데이터열과 아닌거는 열 이름 붙은게 차이인가? 다시 알아보기.)"
   ]
  },
  {
   "cell_type": "code",
   "execution_count": 54,
   "id": "83afb372",
   "metadata": {
    "execution": {
     "iopub.execute_input": "2021-10-24T08:02:34.338783Z",
     "iopub.status.busy": "2021-10-24T08:02:34.338119Z",
     "iopub.status.idle": "2021-10-24T08:02:34.348307Z",
     "shell.execute_reply": "2021-10-24T08:02:34.348815Z",
     "shell.execute_reply.started": "2021-10-24T07:58:26.366819Z"
    },
    "papermill": {
     "duration": 0.101371,
     "end_time": "2021-10-24T08:02:34.348996",
     "exception": false,
     "start_time": "2021-10-24T08:02:34.247625",
     "status": "completed"
    },
    "tags": []
   },
   "outputs": [
    {
     "data": {
      "text/html": [
       "<div>\n",
       "<style scoped>\n",
       "    .dataframe tbody tr th:only-of-type {\n",
       "        vertical-align: middle;\n",
       "    }\n",
       "\n",
       "    .dataframe tbody tr th {\n",
       "        vertical-align: top;\n",
       "    }\n",
       "\n",
       "    .dataframe thead th {\n",
       "        text-align: right;\n",
       "    }\n",
       "</style>\n",
       "<table border=\"1\" class=\"dataframe\">\n",
       "  <thead>\n",
       "    <tr style=\"text-align: right;\">\n",
       "      <th></th>\n",
       "      <th>도시</th>\n",
       "      <th>연도</th>\n",
       "      <th>인구</th>\n",
       "    </tr>\n",
       "  </thead>\n",
       "  <tbody>\n",
       "    <tr>\n",
       "      <th>0</th>\n",
       "      <td>서울</td>\n",
       "      <td>2000</td>\n",
       "      <td>9853972</td>\n",
       "    </tr>\n",
       "    <tr>\n",
       "      <th>1</th>\n",
       "      <td>서울</td>\n",
       "      <td>2005</td>\n",
       "      <td>9762546</td>\n",
       "    </tr>\n",
       "    <tr>\n",
       "      <th>2</th>\n",
       "      <td>서울</td>\n",
       "      <td>2010</td>\n",
       "      <td>9631482</td>\n",
       "    </tr>\n",
       "    <tr>\n",
       "      <th>3</th>\n",
       "      <td>부산</td>\n",
       "      <td>2000</td>\n",
       "      <td>3655437</td>\n",
       "    </tr>\n",
       "    <tr>\n",
       "      <th>4</th>\n",
       "      <td>부산</td>\n",
       "      <td>2005</td>\n",
       "      <td>3512547</td>\n",
       "    </tr>\n",
       "  </tbody>\n",
       "</table>\n",
       "</div>"
      ],
      "text/plain": [
       "   도시    연도       인구\n",
       "0  서울  2000  9853972\n",
       "1  서울  2005  9762546\n",
       "2  서울  2010  9631482\n",
       "3  부산  2000  3655437\n",
       "4  부산  2005  3512547"
      ]
     },
     "execution_count": 54,
     "metadata": {},
     "output_type": "execute_result"
    }
   ],
   "source": [
    "df1 = pd.DataFrame({\n",
    "    '도시': ['서울', '서울', '서울', '부산', '부산'],\n",
    "    '연도': [2000, 2005, 2010, 2000, 2005],\n",
    "    '인구': [9853972, 9762546, 9631482, 3655437, 3512547]})\n",
    "df1"
   ]
  },
  {
   "cell_type": "code",
   "execution_count": 55,
   "id": "5de31051",
   "metadata": {
    "execution": {
     "iopub.execute_input": "2021-10-24T08:02:34.531182Z",
     "iopub.status.busy": "2021-10-24T08:02:34.530504Z",
     "iopub.status.idle": "2021-10-24T08:02:34.541981Z",
     "shell.execute_reply": "2021-10-24T08:02:34.541467Z",
     "shell.execute_reply.started": "2021-10-24T07:58:31.772209Z"
    },
    "papermill": {
     "duration": 0.104246,
     "end_time": "2021-10-24T08:02:34.542124",
     "exception": false,
     "start_time": "2021-10-24T08:02:34.437878",
     "status": "completed"
    },
    "tags": []
   },
   "outputs": [
    {
     "data": {
      "text/html": [
       "<div>\n",
       "<style scoped>\n",
       "    .dataframe tbody tr th:only-of-type {\n",
       "        vertical-align: middle;\n",
       "    }\n",
       "\n",
       "    .dataframe tbody tr th {\n",
       "        vertical-align: top;\n",
       "    }\n",
       "\n",
       "    .dataframe thead th {\n",
       "        text-align: right;\n",
       "    }\n",
       "</style>\n",
       "<table border=\"1\" class=\"dataframe\">\n",
       "  <thead>\n",
       "    <tr style=\"text-align: right;\">\n",
       "      <th></th>\n",
       "      <th></th>\n",
       "      <th>데이터1</th>\n",
       "      <th>데이터2</th>\n",
       "    </tr>\n",
       "  </thead>\n",
       "  <tbody>\n",
       "    <tr>\n",
       "      <th rowspan=\"2\" valign=\"top\">부산</th>\n",
       "      <th>2000</th>\n",
       "      <td>0</td>\n",
       "      <td>1</td>\n",
       "    </tr>\n",
       "    <tr>\n",
       "      <th>2005</th>\n",
       "      <td>2</td>\n",
       "      <td>3</td>\n",
       "    </tr>\n",
       "    <tr>\n",
       "      <th rowspan=\"4\" valign=\"top\">서울</th>\n",
       "      <th>2000</th>\n",
       "      <td>4</td>\n",
       "      <td>5</td>\n",
       "    </tr>\n",
       "    <tr>\n",
       "      <th>2005</th>\n",
       "      <td>6</td>\n",
       "      <td>7</td>\n",
       "    </tr>\n",
       "    <tr>\n",
       "      <th>2010</th>\n",
       "      <td>8</td>\n",
       "      <td>9</td>\n",
       "    </tr>\n",
       "    <tr>\n",
       "      <th>2015</th>\n",
       "      <td>10</td>\n",
       "      <td>11</td>\n",
       "    </tr>\n",
       "  </tbody>\n",
       "</table>\n",
       "</div>"
      ],
      "text/plain": [
       "         데이터1  데이터2\n",
       "부산 2000     0     1\n",
       "   2005     2     3\n",
       "서울 2000     4     5\n",
       "   2005     6     7\n",
       "   2010     8     9\n",
       "   2015    10    11"
      ]
     },
     "execution_count": 55,
     "metadata": {},
     "output_type": "execute_result"
    }
   ],
   "source": [
    "df2 = pd.DataFrame(\n",
    "    np.arange(12).reshape((6, 2)),\n",
    "    index=[['부산', '부산', '서울', '서울', '서울', '서울'],\n",
    "           [2000, 2005, 2000, 2005, 2010, 2015]],\n",
    "    columns=['데이터1', '데이터2'])\n",
    "df2"
   ]
  },
  {
   "cell_type": "code",
   "execution_count": 56,
   "id": "71c4d479",
   "metadata": {
    "execution": {
     "iopub.execute_input": "2021-10-24T08:02:34.723688Z",
     "iopub.status.busy": "2021-10-24T08:02:34.722983Z",
     "iopub.status.idle": "2021-10-24T08:02:34.734316Z",
     "shell.execute_reply": "2021-10-24T08:02:34.735238Z",
     "shell.execute_reply.started": "2021-10-24T07:58:37.093184Z"
    },
    "papermill": {
     "duration": 0.104298,
     "end_time": "2021-10-24T08:02:34.735541",
     "exception": false,
     "start_time": "2021-10-24T08:02:34.631243",
     "status": "completed"
    },
    "tags": []
   },
   "outputs": [
    {
     "data": {
      "text/html": [
       "<div>\n",
       "<style scoped>\n",
       "    .dataframe tbody tr th:only-of-type {\n",
       "        vertical-align: middle;\n",
       "    }\n",
       "\n",
       "    .dataframe tbody tr th {\n",
       "        vertical-align: top;\n",
       "    }\n",
       "\n",
       "    .dataframe thead th {\n",
       "        text-align: right;\n",
       "    }\n",
       "</style>\n",
       "<table border=\"1\" class=\"dataframe\">\n",
       "  <thead>\n",
       "    <tr style=\"text-align: right;\">\n",
       "      <th></th>\n",
       "      <th>도시</th>\n",
       "      <th>연도</th>\n",
       "      <th>인구</th>\n",
       "      <th>데이터1</th>\n",
       "      <th>데이터2</th>\n",
       "    </tr>\n",
       "  </thead>\n",
       "  <tbody>\n",
       "    <tr>\n",
       "      <th>0</th>\n",
       "      <td>서울</td>\n",
       "      <td>2000</td>\n",
       "      <td>9853972</td>\n",
       "      <td>4</td>\n",
       "      <td>5</td>\n",
       "    </tr>\n",
       "    <tr>\n",
       "      <th>1</th>\n",
       "      <td>서울</td>\n",
       "      <td>2005</td>\n",
       "      <td>9762546</td>\n",
       "      <td>6</td>\n",
       "      <td>7</td>\n",
       "    </tr>\n",
       "    <tr>\n",
       "      <th>2</th>\n",
       "      <td>서울</td>\n",
       "      <td>2010</td>\n",
       "      <td>9631482</td>\n",
       "      <td>8</td>\n",
       "      <td>9</td>\n",
       "    </tr>\n",
       "    <tr>\n",
       "      <th>3</th>\n",
       "      <td>부산</td>\n",
       "      <td>2000</td>\n",
       "      <td>3655437</td>\n",
       "      <td>0</td>\n",
       "      <td>1</td>\n",
       "    </tr>\n",
       "    <tr>\n",
       "      <th>4</th>\n",
       "      <td>부산</td>\n",
       "      <td>2005</td>\n",
       "      <td>3512547</td>\n",
       "      <td>2</td>\n",
       "      <td>3</td>\n",
       "    </tr>\n",
       "  </tbody>\n",
       "</table>\n",
       "</div>"
      ],
      "text/plain": [
       "   도시    연도       인구  데이터1  데이터2\n",
       "0  서울  2000  9853972     4     5\n",
       "1  서울  2005  9762546     6     7\n",
       "2  서울  2010  9631482     8     9\n",
       "3  부산  2000  3655437     0     1\n",
       "4  부산  2005  3512547     2     3"
      ]
     },
     "execution_count": 56,
     "metadata": {},
     "output_type": "execute_result"
    }
   ],
   "source": [
    "pd.merge(df1, df2, left_on=['도시', '연도'], right_index=True)"
   ]
  },
  {
   "cell_type": "code",
   "execution_count": 57,
   "id": "4fe42bd8",
   "metadata": {
    "execution": {
     "iopub.execute_input": "2021-10-24T08:02:34.927870Z",
     "iopub.status.busy": "2021-10-24T08:02:34.927003Z",
     "iopub.status.idle": "2021-10-24T08:02:34.930303Z",
     "shell.execute_reply": "2021-10-24T08:02:34.930825Z",
     "shell.execute_reply.started": "2021-10-24T07:59:08.787365Z"
    },
    "papermill": {
     "duration": 0.104384,
     "end_time": "2021-10-24T08:02:34.930999",
     "exception": false,
     "start_time": "2021-10-24T08:02:34.826615",
     "status": "completed"
    },
    "tags": []
   },
   "outputs": [
    {
     "data": {
      "text/html": [
       "<div>\n",
       "<style scoped>\n",
       "    .dataframe tbody tr th:only-of-type {\n",
       "        vertical-align: middle;\n",
       "    }\n",
       "\n",
       "    .dataframe tbody tr th {\n",
       "        vertical-align: top;\n",
       "    }\n",
       "\n",
       "    .dataframe thead th {\n",
       "        text-align: right;\n",
       "    }\n",
       "</style>\n",
       "<table border=\"1\" class=\"dataframe\">\n",
       "  <thead>\n",
       "    <tr style=\"text-align: right;\">\n",
       "      <th></th>\n",
       "      <th>서울</th>\n",
       "      <th>부산</th>\n",
       "    </tr>\n",
       "  </thead>\n",
       "  <tbody>\n",
       "    <tr>\n",
       "      <th>a</th>\n",
       "      <td>1.0</td>\n",
       "      <td>2.0</td>\n",
       "    </tr>\n",
       "    <tr>\n",
       "      <th>c</th>\n",
       "      <td>3.0</td>\n",
       "      <td>4.0</td>\n",
       "    </tr>\n",
       "    <tr>\n",
       "      <th>e</th>\n",
       "      <td>5.0</td>\n",
       "      <td>6.0</td>\n",
       "    </tr>\n",
       "  </tbody>\n",
       "</table>\n",
       "</div>"
      ],
      "text/plain": [
       "    서울   부산\n",
       "a  1.0  2.0\n",
       "c  3.0  4.0\n",
       "e  5.0  6.0"
      ]
     },
     "execution_count": 57,
     "metadata": {},
     "output_type": "execute_result"
    }
   ],
   "source": [
    "df1 = pd.DataFrame(\n",
    "    [[1., 2.], [3., 4.], [5., 6.]],\n",
    "    index=['a', 'c', 'e'],\n",
    "    columns=['서울', '부산'])\n",
    "df1"
   ]
  },
  {
   "cell_type": "code",
   "execution_count": 58,
   "id": "cc8acc2c",
   "metadata": {
    "execution": {
     "iopub.execute_input": "2021-10-24T08:02:35.114488Z",
     "iopub.status.busy": "2021-10-24T08:02:35.113793Z",
     "iopub.status.idle": "2021-10-24T08:02:35.125055Z",
     "shell.execute_reply": "2021-10-24T08:02:35.125560Z",
     "shell.execute_reply.started": "2021-10-24T07:59:21.257890Z"
    },
    "papermill": {
     "duration": 0.1048,
     "end_time": "2021-10-24T08:02:35.125729",
     "exception": false,
     "start_time": "2021-10-24T08:02:35.020929",
     "status": "completed"
    },
    "tags": []
   },
   "outputs": [
    {
     "data": {
      "text/html": [
       "<div>\n",
       "<style scoped>\n",
       "    .dataframe tbody tr th:only-of-type {\n",
       "        vertical-align: middle;\n",
       "    }\n",
       "\n",
       "    .dataframe tbody tr th {\n",
       "        vertical-align: top;\n",
       "    }\n",
       "\n",
       "    .dataframe thead th {\n",
       "        text-align: right;\n",
       "    }\n",
       "</style>\n",
       "<table border=\"1\" class=\"dataframe\">\n",
       "  <thead>\n",
       "    <tr style=\"text-align: right;\">\n",
       "      <th></th>\n",
       "      <th>대구</th>\n",
       "      <th>광주</th>\n",
       "    </tr>\n",
       "  </thead>\n",
       "  <tbody>\n",
       "    <tr>\n",
       "      <th>b</th>\n",
       "      <td>7.0</td>\n",
       "      <td>8.0</td>\n",
       "    </tr>\n",
       "    <tr>\n",
       "      <th>c</th>\n",
       "      <td>9.0</td>\n",
       "      <td>10.0</td>\n",
       "    </tr>\n",
       "    <tr>\n",
       "      <th>d</th>\n",
       "      <td>11.0</td>\n",
       "      <td>12.0</td>\n",
       "    </tr>\n",
       "    <tr>\n",
       "      <th>e</th>\n",
       "      <td>13.0</td>\n",
       "      <td>14.0</td>\n",
       "    </tr>\n",
       "  </tbody>\n",
       "</table>\n",
       "</div>"
      ],
      "text/plain": [
       "     대구    광주\n",
       "b   7.0   8.0\n",
       "c   9.0  10.0\n",
       "d  11.0  12.0\n",
       "e  13.0  14.0"
      ]
     },
     "execution_count": 58,
     "metadata": {},
     "output_type": "execute_result"
    }
   ],
   "source": [
    "df2 = pd.DataFrame(\n",
    "    [[7., 8.], [9., 10.], [11., 12.], [13, 14]],\n",
    "    index=['b', 'c', 'd', 'e'],\n",
    "    columns=['대구', '광주'])\n",
    "df2"
   ]
  },
  {
   "cell_type": "code",
   "execution_count": 59,
   "id": "3dca330a",
   "metadata": {
    "execution": {
     "iopub.execute_input": "2021-10-24T08:02:35.309067Z",
     "iopub.status.busy": "2021-10-24T08:02:35.308424Z",
     "iopub.status.idle": "2021-10-24T08:02:35.325681Z",
     "shell.execute_reply": "2021-10-24T08:02:35.324977Z",
     "shell.execute_reply.started": "2021-10-24T07:59:31.759417Z"
    },
    "papermill": {
     "duration": 0.109924,
     "end_time": "2021-10-24T08:02:35.325848",
     "exception": false,
     "start_time": "2021-10-24T08:02:35.215924",
     "status": "completed"
    },
    "tags": []
   },
   "outputs": [
    {
     "data": {
      "text/html": [
       "<div>\n",
       "<style scoped>\n",
       "    .dataframe tbody tr th:only-of-type {\n",
       "        vertical-align: middle;\n",
       "    }\n",
       "\n",
       "    .dataframe tbody tr th {\n",
       "        vertical-align: top;\n",
       "    }\n",
       "\n",
       "    .dataframe thead th {\n",
       "        text-align: right;\n",
       "    }\n",
       "</style>\n",
       "<table border=\"1\" class=\"dataframe\">\n",
       "  <thead>\n",
       "    <tr style=\"text-align: right;\">\n",
       "      <th></th>\n",
       "      <th>서울</th>\n",
       "      <th>부산</th>\n",
       "      <th>대구</th>\n",
       "      <th>광주</th>\n",
       "    </tr>\n",
       "  </thead>\n",
       "  <tbody>\n",
       "    <tr>\n",
       "      <th>a</th>\n",
       "      <td>1.0</td>\n",
       "      <td>2.0</td>\n",
       "      <td>NaN</td>\n",
       "      <td>NaN</td>\n",
       "    </tr>\n",
       "    <tr>\n",
       "      <th>b</th>\n",
       "      <td>NaN</td>\n",
       "      <td>NaN</td>\n",
       "      <td>7.0</td>\n",
       "      <td>8.0</td>\n",
       "    </tr>\n",
       "    <tr>\n",
       "      <th>c</th>\n",
       "      <td>3.0</td>\n",
       "      <td>4.0</td>\n",
       "      <td>9.0</td>\n",
       "      <td>10.0</td>\n",
       "    </tr>\n",
       "    <tr>\n",
       "      <th>d</th>\n",
       "      <td>NaN</td>\n",
       "      <td>NaN</td>\n",
       "      <td>11.0</td>\n",
       "      <td>12.0</td>\n",
       "    </tr>\n",
       "    <tr>\n",
       "      <th>e</th>\n",
       "      <td>5.0</td>\n",
       "      <td>6.0</td>\n",
       "      <td>13.0</td>\n",
       "      <td>14.0</td>\n",
       "    </tr>\n",
       "  </tbody>\n",
       "</table>\n",
       "</div>"
      ],
      "text/plain": [
       "    서울   부산    대구    광주\n",
       "a  1.0  2.0   NaN   NaN\n",
       "b  NaN  NaN   7.0   8.0\n",
       "c  3.0  4.0   9.0  10.0\n",
       "d  NaN  NaN  11.0  12.0\n",
       "e  5.0  6.0  13.0  14.0"
      ]
     },
     "execution_count": 59,
     "metadata": {},
     "output_type": "execute_result"
    }
   ],
   "source": [
    "pd.merge(df1, df2, how='outer', left_index=True, right_index=True)"
   ]
  },
  {
   "cell_type": "markdown",
   "id": "c342e1ba",
   "metadata": {
    "papermill": {
     "duration": 0.090205,
     "end_time": "2021-10-24T08:02:35.507174",
     "exception": false,
     "start_time": "2021-10-24T08:02:35.416969",
     "status": "completed"
    },
    "tags": []
   },
   "source": [
    "<h3>concat</h3>\n",
    "얜 그냥 합친다. 기본은 세로로 합치는거고, axis=1하면 가로로 합친다."
   ]
  },
  {
   "cell_type": "code",
   "execution_count": 60,
   "id": "4ae93ac2",
   "metadata": {
    "execution": {
     "iopub.execute_input": "2021-10-24T08:02:35.692328Z",
     "iopub.status.busy": "2021-10-24T08:02:35.691704Z",
     "iopub.status.idle": "2021-10-24T08:02:35.696515Z",
     "shell.execute_reply": "2021-10-24T08:02:35.697011Z",
     "shell.execute_reply.started": "2021-10-24T08:00:55.986401Z"
    },
    "papermill": {
     "duration": 0.099191,
     "end_time": "2021-10-24T08:02:35.697175",
     "exception": false,
     "start_time": "2021-10-24T08:02:35.597984",
     "status": "completed"
    },
    "tags": []
   },
   "outputs": [],
   "source": [
    "s1 = pd.Series([0, 1], index=['A', 'B'])\n",
    "s2 = pd.Series([2, 3, 4], index=['A', 'B', 'C'])"
   ]
  },
  {
   "cell_type": "code",
   "execution_count": 61,
   "id": "1758573f",
   "metadata": {
    "execution": {
     "iopub.execute_input": "2021-10-24T08:02:35.887223Z",
     "iopub.status.busy": "2021-10-24T08:02:35.886563Z",
     "iopub.status.idle": "2021-10-24T08:02:35.888995Z",
     "shell.execute_reply": "2021-10-24T08:02:35.889490Z",
     "shell.execute_reply.started": "2021-10-24T08:01:00.728201Z"
    },
    "papermill": {
     "duration": 0.10014,
     "end_time": "2021-10-24T08:02:35.889661",
     "exception": false,
     "start_time": "2021-10-24T08:02:35.789521",
     "status": "completed"
    },
    "tags": []
   },
   "outputs": [
    {
     "data": {
      "text/plain": [
       "A    0\n",
       "B    1\n",
       "dtype: int64"
      ]
     },
     "execution_count": 61,
     "metadata": {},
     "output_type": "execute_result"
    }
   ],
   "source": [
    "s1"
   ]
  },
  {
   "cell_type": "code",
   "execution_count": 62,
   "id": "58bf3345",
   "metadata": {
    "execution": {
     "iopub.execute_input": "2021-10-24T08:02:36.076133Z",
     "iopub.status.busy": "2021-10-24T08:02:36.075509Z",
     "iopub.status.idle": "2021-10-24T08:02:36.081010Z",
     "shell.execute_reply": "2021-10-24T08:02:36.081581Z",
     "shell.execute_reply.started": "2021-10-24T08:01:02.139672Z"
    },
    "papermill": {
     "duration": 0.10096,
     "end_time": "2021-10-24T08:02:36.081754",
     "exception": false,
     "start_time": "2021-10-24T08:02:35.980794",
     "status": "completed"
    },
    "tags": []
   },
   "outputs": [
    {
     "data": {
      "text/plain": [
       "A    2\n",
       "B    3\n",
       "C    4\n",
       "dtype: int64"
      ]
     },
     "execution_count": 62,
     "metadata": {},
     "output_type": "execute_result"
    }
   ],
   "source": [
    "s2"
   ]
  },
  {
   "cell_type": "code",
   "execution_count": 63,
   "id": "5c6ce22e",
   "metadata": {
    "execution": {
     "iopub.execute_input": "2021-10-24T08:02:36.270830Z",
     "iopub.status.busy": "2021-10-24T08:02:36.270155Z",
     "iopub.status.idle": "2021-10-24T08:02:36.278063Z",
     "shell.execute_reply": "2021-10-24T08:02:36.277424Z",
     "shell.execute_reply.started": "2021-10-24T08:01:11.897020Z"
    },
    "papermill": {
     "duration": 0.103311,
     "end_time": "2021-10-24T08:02:36.278196",
     "exception": false,
     "start_time": "2021-10-24T08:02:36.174885",
     "status": "completed"
    },
    "tags": []
   },
   "outputs": [
    {
     "data": {
      "text/plain": [
       "A    0\n",
       "B    1\n",
       "A    2\n",
       "B    3\n",
       "C    4\n",
       "dtype: int64"
      ]
     },
     "execution_count": 63,
     "metadata": {},
     "output_type": "execute_result"
    }
   ],
   "source": [
    "pd.concat([s1,s2])"
   ]
  },
  {
   "cell_type": "code",
   "execution_count": 64,
   "id": "34b2ec72",
   "metadata": {
    "execution": {
     "iopub.execute_input": "2021-10-24T08:02:36.467199Z",
     "iopub.status.busy": "2021-10-24T08:02:36.466192Z",
     "iopub.status.idle": "2021-10-24T08:02:36.475964Z",
     "shell.execute_reply": "2021-10-24T08:02:36.476547Z",
     "shell.execute_reply.started": "2021-10-24T08:01:35.020572Z"
    },
    "papermill": {
     "duration": 0.106784,
     "end_time": "2021-10-24T08:02:36.476727",
     "exception": false,
     "start_time": "2021-10-24T08:02:36.369943",
     "status": "completed"
    },
    "tags": []
   },
   "outputs": [
    {
     "data": {
      "text/html": [
       "<div>\n",
       "<style scoped>\n",
       "    .dataframe tbody tr th:only-of-type {\n",
       "        vertical-align: middle;\n",
       "    }\n",
       "\n",
       "    .dataframe tbody tr th {\n",
       "        vertical-align: top;\n",
       "    }\n",
       "\n",
       "    .dataframe thead th {\n",
       "        text-align: right;\n",
       "    }\n",
       "</style>\n",
       "<table border=\"1\" class=\"dataframe\">\n",
       "  <thead>\n",
       "    <tr style=\"text-align: right;\">\n",
       "      <th></th>\n",
       "      <th>데이터1</th>\n",
       "      <th>데이터2</th>\n",
       "    </tr>\n",
       "  </thead>\n",
       "  <tbody>\n",
       "    <tr>\n",
       "      <th>a</th>\n",
       "      <td>0</td>\n",
       "      <td>1</td>\n",
       "    </tr>\n",
       "    <tr>\n",
       "      <th>b</th>\n",
       "      <td>2</td>\n",
       "      <td>3</td>\n",
       "    </tr>\n",
       "    <tr>\n",
       "      <th>c</th>\n",
       "      <td>4</td>\n",
       "      <td>5</td>\n",
       "    </tr>\n",
       "  </tbody>\n",
       "</table>\n",
       "</div>"
      ],
      "text/plain": [
       "   데이터1  데이터2\n",
       "a     0     1\n",
       "b     2     3\n",
       "c     4     5"
      ]
     },
     "execution_count": 64,
     "metadata": {},
     "output_type": "execute_result"
    }
   ],
   "source": [
    "df1 = pd.DataFrame(\n",
    "    np.arange(6).reshape(3, 2),\n",
    "    index=['a', 'b', 'c'],\n",
    "    columns=['데이터1', '데이터2'])\n",
    "df1"
   ]
  },
  {
   "cell_type": "code",
   "execution_count": 65,
   "id": "ebdd1386",
   "metadata": {
    "execution": {
     "iopub.execute_input": "2021-10-24T08:02:36.670929Z",
     "iopub.status.busy": "2021-10-24T08:02:36.670105Z",
     "iopub.status.idle": "2021-10-24T08:02:36.673309Z",
     "shell.execute_reply": "2021-10-24T08:02:36.673812Z",
     "shell.execute_reply.started": "2021-10-24T08:01:49.283914Z"
    },
    "papermill": {
     "duration": 0.105302,
     "end_time": "2021-10-24T08:02:36.673976",
     "exception": false,
     "start_time": "2021-10-24T08:02:36.568674",
     "status": "completed"
    },
    "tags": []
   },
   "outputs": [
    {
     "data": {
      "text/html": [
       "<div>\n",
       "<style scoped>\n",
       "    .dataframe tbody tr th:only-of-type {\n",
       "        vertical-align: middle;\n",
       "    }\n",
       "\n",
       "    .dataframe tbody tr th {\n",
       "        vertical-align: top;\n",
       "    }\n",
       "\n",
       "    .dataframe thead th {\n",
       "        text-align: right;\n",
       "    }\n",
       "</style>\n",
       "<table border=\"1\" class=\"dataframe\">\n",
       "  <thead>\n",
       "    <tr style=\"text-align: right;\">\n",
       "      <th></th>\n",
       "      <th>데이터3</th>\n",
       "      <th>데이터4</th>\n",
       "    </tr>\n",
       "  </thead>\n",
       "  <tbody>\n",
       "    <tr>\n",
       "      <th>a</th>\n",
       "      <td>5</td>\n",
       "      <td>6</td>\n",
       "    </tr>\n",
       "    <tr>\n",
       "      <th>c</th>\n",
       "      <td>7</td>\n",
       "      <td>8</td>\n",
       "    </tr>\n",
       "  </tbody>\n",
       "</table>\n",
       "</div>"
      ],
      "text/plain": [
       "   데이터3  데이터4\n",
       "a     5     6\n",
       "c     7     8"
      ]
     },
     "execution_count": 65,
     "metadata": {},
     "output_type": "execute_result"
    }
   ],
   "source": [
    "df2 = pd.DataFrame(\n",
    "    5 + np.arange(4).reshape(2, 2),\n",
    "    index=['a', 'c'],\n",
    "    columns=['데이터3', '데이터4'])\n",
    "df2"
   ]
  },
  {
   "cell_type": "code",
   "execution_count": 66,
   "id": "29bab9b8",
   "metadata": {
    "execution": {
     "iopub.execute_input": "2021-10-24T08:02:36.872595Z",
     "iopub.status.busy": "2021-10-24T08:02:36.871718Z",
     "iopub.status.idle": "2021-10-24T08:02:36.875053Z",
     "shell.execute_reply": "2021-10-24T08:02:36.875575Z",
     "shell.execute_reply.started": "2021-10-24T08:01:56.278136Z"
    },
    "papermill": {
     "duration": 0.108259,
     "end_time": "2021-10-24T08:02:36.875753",
     "exception": false,
     "start_time": "2021-10-24T08:02:36.767494",
     "status": "completed"
    },
    "tags": []
   },
   "outputs": [
    {
     "data": {
      "text/html": [
       "<div>\n",
       "<style scoped>\n",
       "    .dataframe tbody tr th:only-of-type {\n",
       "        vertical-align: middle;\n",
       "    }\n",
       "\n",
       "    .dataframe tbody tr th {\n",
       "        vertical-align: top;\n",
       "    }\n",
       "\n",
       "    .dataframe thead th {\n",
       "        text-align: right;\n",
       "    }\n",
       "</style>\n",
       "<table border=\"1\" class=\"dataframe\">\n",
       "  <thead>\n",
       "    <tr style=\"text-align: right;\">\n",
       "      <th></th>\n",
       "      <th>데이터1</th>\n",
       "      <th>데이터2</th>\n",
       "      <th>데이터3</th>\n",
       "      <th>데이터4</th>\n",
       "    </tr>\n",
       "  </thead>\n",
       "  <tbody>\n",
       "    <tr>\n",
       "      <th>a</th>\n",
       "      <td>0</td>\n",
       "      <td>1</td>\n",
       "      <td>5.0</td>\n",
       "      <td>6.0</td>\n",
       "    </tr>\n",
       "    <tr>\n",
       "      <th>b</th>\n",
       "      <td>2</td>\n",
       "      <td>3</td>\n",
       "      <td>NaN</td>\n",
       "      <td>NaN</td>\n",
       "    </tr>\n",
       "    <tr>\n",
       "      <th>c</th>\n",
       "      <td>4</td>\n",
       "      <td>5</td>\n",
       "      <td>7.0</td>\n",
       "      <td>8.0</td>\n",
       "    </tr>\n",
       "  </tbody>\n",
       "</table>\n",
       "</div>"
      ],
      "text/plain": [
       "   데이터1  데이터2  데이터3  데이터4\n",
       "a     0     1   5.0   6.0\n",
       "b     2     3   NaN   NaN\n",
       "c     4     5   7.0   8.0"
      ]
     },
     "execution_count": 66,
     "metadata": {},
     "output_type": "execute_result"
    }
   ],
   "source": [
    "pd.concat([df1, df2], axis=1)"
   ]
  },
  {
   "cell_type": "code",
   "execution_count": null,
   "id": "35a787a4",
   "metadata": {
    "papermill": {
     "duration": 0.094013,
     "end_time": "2021-10-24T08:02:37.064072",
     "exception": false,
     "start_time": "2021-10-24T08:02:36.970059",
     "status": "completed"
    },
    "tags": []
   },
   "outputs": [],
   "source": []
  }
 ],
 "metadata": {
  "kernelspec": {
   "display_name": "Python 3",
   "language": "python",
   "name": "python3"
  },
  "language_info": {
   "codemirror_mode": {
    "name": "ipython",
    "version": 3
   },
   "file_extension": ".py",
   "mimetype": "text/x-python",
   "name": "python",
   "nbconvert_exporter": "python",
   "pygments_lexer": "ipython3",
   "version": "3.7.10"
  },
  "papermill": {
   "default_parameters": {},
   "duration": 26.919072,
   "end_time": "2021-10-24T08:02:37.766932",
   "environment_variables": {},
   "exception": null,
   "input_path": "__notebook__.ipynb",
   "output_path": "__notebook__.ipynb",
   "parameters": {},
   "start_time": "2021-10-24T08:02:10.847860",
   "version": "2.3.3"
  }
 },
 "nbformat": 4,
 "nbformat_minor": 5
}
